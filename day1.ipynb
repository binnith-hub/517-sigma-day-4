{
 "cells": [
  {
   "cell_type": "code",
   "execution_count": null,
   "id": "4fa8f665-ca0a-41cd-9552-6a0c1b115826",
   "metadata": {},
   "outputs": [],
   "source": [
    "\n",
    "integer_var = 10            \n",
    "float_var = 3.14            \n",
    "string_var = \"Hello, World!\" \n",
    "boolean_var = True         \n",
    "print(\"Variable: \", integer_var, \"Type: \", type(integer_var))\n",
    "print(\"Variable: \", float_var, \"Type: \", type(float_var))\n",
    "print(\"Variable: \", string_var, \"Type: \", type(string_var))\n",
    "print(\"Variable: \", boolean_var, \"Type: \", type(boolean_var))\n"
   ]
  }
 ],
 "metadata": {
  "kernelspec": {
   "display_name": "Python 3 (ipykernel)",
   "language": "python",
   "name": "python3"
  },
  "language_info": {
   "codemirror_mode": {
    "name": "ipython",
    "version": 3
   },
   "file_extension": ".py",
   "mimetype": "text/x-python",
   "name": "python",
   "nbconvert_exporter": "python",
   "pygments_lexer": "ipython3",
   "version": "3.12.7"
  }
 },
 "nbformat": 4,
 "nbformat_minor": 5
}
