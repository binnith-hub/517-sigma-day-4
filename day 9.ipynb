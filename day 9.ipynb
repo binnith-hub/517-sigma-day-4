{
 "cells": [
  {
   "cell_type": "code",
   "execution_count": 1,
   "id": "f07b4fed-6c92-49b5-bf0f-512fd40a4cbf",
   "metadata": {},
   "outputs": [
    {
     "name": "stdout",
     "output_type": "stream",
     "text": [
      "9\n"
     ]
    }
   ],
   "source": [
    "a = 4\n",
    "b = 5\n",
    "c = a+b\n",
    "print(c)\n"
   ]
  },
  {
   "cell_type": "code",
   "execution_count": 4,
   "id": "4f38a227-8aa5-4f40-99f4-2f2320b8ad78",
   "metadata": {},
   "outputs": [
    {
     "name": "stdout",
     "output_type": "stream",
     "text": [
      "binnith reddy\n"
     ]
    }
   ],
   "source": [
    "a = \"binnith \"\n",
    "b = \"reddy\"\n",
    "c = a + b\n",
    "print(c)"
   ]
  },
  {
   "cell_type": "code",
   "execution_count": 9,
   "id": "381c0ed9-78eb-4ce9-bbb8-3e9672908d8e",
   "metadata": {},
   "outputs": [
    {
     "data": {
      "text/plain": [
       "35"
      ]
     },
     "execution_count": 9,
     "metadata": {},
     "output_type": "execute_result"
    }
   ],
   "source": [
    "a = False\n",
    "type(a)\n",
    "False + 35"
   ]
  },
  {
   "cell_type": "code",
   "execution_count": null,
   "id": "f8257ed2-93a9-45f1-a2ae-fc5ab53808b8",
   "metadata": {},
   "outputs": [],
   "source": [
    "a = 50.9+69\n",
    "print(a)"
   ]
  },
  {
   "cell_type": "code",
   "execution_count": null,
   "id": "84b8463c-5301-4881-9cc1-b31bc08d8da5",
   "metadata": {},
   "outputs": [],
   "source": []
  }
 ],
 "metadata": {
  "kernelspec": {
   "display_name": "Python 3 (ipykernel)",
   "language": "python",
   "name": "python3"
  },
  "language_info": {
   "codemirror_mode": {
    "name": "ipython",
    "version": 3
   },
   "file_extension": ".py",
   "mimetype": "text/x-python",
   "name": "python",
   "nbconvert_exporter": "python",
   "pygments_lexer": "ipython3",
   "version": "3.12.7"
  }
 },
 "nbformat": 4,
 "nbformat_minor": 5
}
