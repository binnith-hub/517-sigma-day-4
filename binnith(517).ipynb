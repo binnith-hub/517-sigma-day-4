{
 "cells": [
  {
   "cell_type": "code",
   "execution_count": 1,
   "id": "cc46d8a4-ece5-4cee-8845-3b4a31e55e87",
   "metadata": {},
   "outputs": [
    {
     "name": "stdout",
     "output_type": "stream",
     "text": [
      "81\n"
     ]
    }
   ],
   "source": [
    "a =3\n",
    "b = 4\n",
    "c = a**b\n",
    "print(c)"
   ]
  },
  {
   "cell_type": "markdown",
   "id": "6180eece-2bce-4b70-83aa-6669523347c2",
   "metadata": {},
   "source": [
    "# addition +\n",
    "# multiplication *\n",
    "# substraction -\n",
    "# division /\n",
    "# remainder %\n",
    "# power **\n",
    "# floor division //"
   ]
  },
  {
   "cell_type": "markdown",
   "id": "a0425e1a-a8ca-476c-bf4b-5863ef7ec284",
   "metadata": {},
   "source": [
    "a + b\n"
   ]
  },
  {
   "cell_type": "code",
   "execution_count": 4,
   "id": "75858069-c032-4f23-a79f-67caed7f0457",
   "metadata": {},
   "outputs": [
    {
     "name": "stdout",
     "output_type": "stream",
     "text": [
      "-1\n"
     ]
    }
   ],
   "source": [
    "r =  a - b\n",
    "print (r)"
   ]
  },
  {
   "cell_type": "code",
   "execution_count": 6,
   "id": "a44b1c71-5495-4fef-9c6a-cae6159f6697",
   "metadata": {},
   "outputs": [
    {
     "name": "stdout",
     "output_type": "stream",
     "text": [
      "3\n"
     ]
    }
   ],
   "source": [
    "z = a % b\n",
    "print(z)"
   ]
  },
  {
   "cell_type": "code",
   "execution_count": 7,
   "id": "ace906c0-9da8-4c86-b857-b2c38840e722",
   "metadata": {},
   "outputs": [
    {
     "data": {
      "text/plain": [
       "81"
      ]
     },
     "execution_count": 7,
     "metadata": {},
     "output_type": "execute_result"
    }
   ],
   "source": [
    "a ** b"
   ]
  },
  {
   "cell_type": "code",
   "execution_count": 8,
   "id": "335729d3-8e20-4fca-bf25-ed3f28c9c079",
   "metadata": {},
   "outputs": [
    {
     "data": {
      "text/plain": [
       "0"
      ]
     },
     "execution_count": 8,
     "metadata": {},
     "output_type": "execute_result"
    }
   ],
   "source": [
    "a // b\n"
   ]
  },
  {
   "cell_type": "code",
   "execution_count": 9,
   "id": "1c008e19-327b-4ee9-aaf1-1e68ed6bc6a6",
   "metadata": {},
   "outputs": [
    {
     "name": "stdout",
     "output_type": "stream",
     "text": [
      "19498772380737955855029406086015905908179064742141477879768789357285222141704467212293032116224\n"
     ]
    }
   ],
   "source": [
    " i = 52\n",
    " j = 56\n",
    "k = 64\n",
    "m = i ** j // k\n",
    "print(m)"
   ]
  },
  {
   "cell_type": "code",
   "execution_count": 10,
   "id": "9f8b6cba-bec2-4543-9efa-68a64d8dfc40",
   "metadata": {},
   "outputs": [
    {
     "data": {
      "text/plain": [
       "0"
      ]
     },
     "execution_count": 10,
     "metadata": {},
     "output_type": "execute_result"
    }
   ],
   "source": [
    "i // k * k"
   ]
  },
  {
   "cell_type": "code",
   "execution_count": 12,
   "id": "29760f89-37a2-45e4-a7ac-69d0927c3874",
   "metadata": {},
   "outputs": [
    {
     "name": "stdout",
     "output_type": "stream",
     "text": [
      "binnith reddy\n"
     ]
    }
   ],
   "source": [
    "a = \"binnith \"\n",
    "b = \"reddy\"\n",
    "c = a + b\n",
    "print(c) "
   ]
  },
  {
   "cell_type": "code",
   "execution_count": 13,
   "id": "9b63b748-7ef7-4f56-bb9b-8889fce03383",
   "metadata": {},
   "outputs": [
    {
     "data": {
      "text/plain": [
       "int"
      ]
     },
     "execution_count": 13,
     "metadata": {},
     "output_type": "execute_result"
    }
   ],
   "source": [
    "type(z)\n"
   ]
  },
  {
   "cell_type": "code",
   "execution_count": 18,
   "id": "9e9e6613-4ead-4f21-9006-cbb10d6a4d89",
   "metadata": {},
   "outputs": [
    {
     "name": "stdout",
     "output_type": "stream",
     "text": [
      "-1\n"
     ]
    }
   ],
   "source": [
    "m = (i-j)//\n",
    "print(m)"
   ]
  },
  {
   "cell_type": "code",
   "execution_count": 26,
   "id": "3b9e9929-1e32-4ef3-9664-fc080d41c5d4",
   "metadata": {},
   "outputs": [
    {
     "data": {
      "text/plain": [
       "False"
      ]
     },
     "execution_count": 26,
     "metadata": {},
     "output_type": "execute_result"
    }
   ],
   "source": [
    "a = 45\n",
    "b = 25\n",
    "a < b"
   ]
  },
  {
   "cell_type": "code",
   "execution_count": 27,
   "id": "41b4b6c2-1c23-487b-9b15-2919c50c7df0",
   "metadata": {},
   "outputs": [
    {
     "data": {
      "text/plain": [
       "True"
      ]
     },
     "execution_count": 27,
     "metadata": {},
     "output_type": "execute_result"
    }
   ],
   "source": [
    "a > b\n"
   ]
  },
  {
   "cell_type": "code",
   "execution_count": 28,
   "id": "48a99f00-2bf0-487c-a9a8-0c07c0871507",
   "metadata": {},
   "outputs": [
    {
     "data": {
      "text/plain": [
       "False"
      ]
     },
     "execution_count": 28,
     "metadata": {},
     "output_type": "execute_result"
    }
   ],
   "source": [
    "4 > 6"
   ]
  },
  {
   "cell_type": "code",
   "execution_count": 35,
   "id": "9ab18d85-9cdd-43fd-9388-403b02c2eefb",
   "metadata": {},
   "outputs": [
    {
     "name": "stdout",
     "output_type": "stream",
     "text": [
      "68\n"
     ]
    }
   ],
   "source": [
    "x = 34\n",
    "y = 34\n",
    "c = x + y\n",
    "print(c)"
   ]
  },
  {
   "cell_type": "code",
   "execution_count": 38,
   "id": "6c342f57-ef97-413e-9c95-37b1069cea25",
   "metadata": {},
   "outputs": [
    {
     "data": {
      "text/plain": [
       "False"
      ]
     },
     "execution_count": 38,
     "metadata": {},
     "output_type": "execute_result"
    }
   ],
   "source": [
    "x != y"
   ]
  },
  {
   "cell_type": "code",
   "execution_count": 39,
   "id": "3a123200-9069-48c3-befe-bbff4a4375e7",
   "metadata": {},
   "outputs": [
    {
     "data": {
      "text/plain": [
       "True"
      ]
     },
     "execution_count": 39,
     "metadata": {},
     "output_type": "execute_result"
    }
   ],
   "source": [
    "x == y"
   ]
  },
  {
   "cell_type": "code",
   "execution_count": 40,
   "id": "818755e6-8e49-4c1e-908d-93083d07c516",
   "metadata": {},
   "outputs": [],
   "source": [
    "x = y"
   ]
  },
  {
   "cell_type": "code",
   "execution_count": 41,
   "id": "469a677f-ee2c-496e-83cb-09204101f30c",
   "metadata": {},
   "outputs": [],
   "source": [
    "h = 56\n",
    "g = \"wet\"\n"
   ]
  },
  {
   "cell_type": "code",
   "execution_count": 42,
   "id": "c758057b-751f-49ad-afab-13eeba22a0e5",
   "metadata": {},
   "outputs": [
    {
     "data": {
      "text/plain": [
       "False"
      ]
     },
     "execution_count": 42,
     "metadata": {},
     "output_type": "execute_result"
    }
   ],
   "source": [
    "h == g"
   ]
  },
  {
   "cell_type": "code",
   "execution_count": 43,
   "id": "3572b461-e901-4836-a179-ddf27c7064e1",
   "metadata": {},
   "outputs": [
    {
     "data": {
      "text/plain": [
       "False"
      ]
     },
     "execution_count": 43,
     "metadata": {},
     "output_type": "execute_result"
    }
   ],
   "source": [
    " (a>b) and (b>a)"
   ]
  },
  {
   "cell_type": "code",
   "execution_count": 44,
   "id": "c380de74-675e-4b18-b71d-def85515fe5a",
   "metadata": {},
   "outputs": [
    {
     "data": {
      "text/plain": [
       "True"
      ]
     },
     "execution_count": 44,
     "metadata": {},
     "output_type": "execute_result"
    }
   ],
   "source": [
    "(a>b) or (b>a)"
   ]
  },
  {
   "cell_type": "code",
   "execution_count": null,
   "id": "d61cc5bc-a898-44f8-be34-4f19536a92ba",
   "metadata": {},
   "outputs": [],
   "source": [
    "t & t = t\n",
    "t & f = f\n",
    "f & t = f\n",
    "f & t = f"
   ]
  },
  {
   "cell_type": "code",
   "execution_count": null,
   "id": "a7604322-fbba-43f7-b391-675b2d6d7551",
   "metadata": {},
   "outputs": [],
   "source": [
    "t or t = t\n",
    "t or f = t\n",
    "f or t = t\n",
    "f or t = f"
   ]
  }
 ],
 "metadata": {
  "kernelspec": {
   "display_name": "Python 3 (ipykernel)",
   "language": "python",
   "name": "python3"
  },
  "language_info": {
   "codemirror_mode": {
    "name": "ipython",
    "version": 3
   },
   "file_extension": ".py",
   "mimetype": "text/x-python",
   "name": "python",
   "nbconvert_exporter": "python",
   "pygments_lexer": "ipython3",
   "version": "3.12.7"
  }
 },
 "nbformat": 4,
 "nbformat_minor": 5
}
