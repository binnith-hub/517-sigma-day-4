{
 "cells": [
  {
   "cell_type": "code",
   "execution_count": 1,
   "id": "cc46d8a4-ece5-4cee-8845-3b4a31e55e87",
   "metadata": {},
   "outputs": [
    {
     "name": "stdout",
     "output_type": "stream",
     "text": [
      "81\n"
     ]
    }
   ],
   "source": [
    "a =3\n",
    "b = 4\n",
    "c = a**b\n",
    "print(c)"
   ]
  },
  {
   "cell_type": "code",
   "execution_count": null,
   "id": "8cbca0aa-4bd9-42e6-ba04-5b4d12e1d075",
   "metadata": {},
   "outputs": [],
   "source": []
  },
  {
   "cell_type": "markdown",
   "id": "6180eece-2bce-4b70-83aa-6669523347c2",
   "metadata": {},
   "source": [
    "# addition +\n",
    "# multiplication *\n",
    "# substraction -\n",
    "# division /\n",
    "# remainder %\n",
    "# power **\n",
    "# floor division //"
   ]
  },
  {
   "cell_type": "markdown",
   "id": "a0425e1a-a8ca-476c-bf4b-5863ef7ec284",
   "metadata": {},
   "source": [
    "a + b\n"
   ]
  },
  {
   "cell_type": "code",
   "execution_count": 4,
   "id": "75858069-c032-4f23-a79f-67caed7f0457",
   "metadata": {},
   "outputs": [
    {
     "name": "stdout",
     "output_type": "stream",
     "text": [
      "-1\n"
     ]
    }
   ],
   "source": [
    "r =  a - b\n",
    "print (r)"
   ]
  },
  {
   "cell_type": "code",
   "execution_count": 6,
   "id": "a44b1c71-5495-4fef-9c6a-cae6159f6697",
   "metadata": {},
   "outputs": [
    {
     "name": "stdout",
     "output_type": "stream",
     "text": [
      "3\n"
     ]
    }
   ],
   "source": [
    "z = a % b\n",
    "print(z)"
   ]
  },
  {
   "cell_type": "code",
   "execution_count": 7,
   "id": "ace906c0-9da8-4c86-b857-b2c38840e722",
   "metadata": {},
   "outputs": [
    {
     "data": {
      "text/plain": [
       "81"
      ]
     },
     "execution_count": 7,
     "metadata": {},
     "output_type": "execute_result"
    }
   ],
   "source": [
    "a ** b"
   ]
  },
  {
   "cell_type": "code",
   "execution_count": 8,
   "id": "335729d3-8e20-4fca-bf25-ed3f28c9c079",
   "metadata": {},
   "outputs": [
    {
     "data": {
      "text/plain": [
       "0"
      ]
     },
     "execution_count": 8,
     "metadata": {},
     "output_type": "execute_result"
    }
   ],
   "source": [
    "a // b\n"
   ]
  },
  {
   "cell_type": "code",
   "execution_count": 9,
   "id": "1c008e19-327b-4ee9-aaf1-1e68ed6bc6a6",
   "metadata": {},
   "outputs": [
    {
     "name": "stdout",
     "output_type": "stream",
     "text": [
      "19498772380737955855029406086015905908179064742141477879768789357285222141704467212293032116224\n"
     ]
    }
   ],
   "source": [
    " i = 52\n",
    " j = 56\n",
    "k = 64\n",
    "m = i ** j // k\n",
    "print(m)"
   ]
  },
  {
   "cell_type": "code",
   "execution_count": 10,
   "id": "9f8b6cba-bec2-4543-9efa-68a64d8dfc40",
   "metadata": {},
   "outputs": [
    {
     "data": {
      "text/plain": [
       "0"
      ]
     },
     "execution_count": 10,
     "metadata": {},
     "output_type": "execute_result"
    }
   ],
   "source": [
    "i // k * k"
   ]
  },
  {
   "cell_type": "code",
   "execution_count": 12,
   "id": "29760f89-37a2-45e4-a7ac-69d0927c3874",
   "metadata": {},
   "outputs": [
    {
     "name": "stdout",
     "output_type": "stream",
     "text": [
      "binnith reddy\n"
     ]
    }
   ],
   "source": [
    "a = \"binnith \"\n",
    "b = \"reddy\"\n",
    "c = a + b\n",
    "print(c) "
   ]
  },
  {
   "cell_type": "code",
   "execution_count": 13,
   "id": "9b63b748-7ef7-4f56-bb9b-8889fce03383",
   "metadata": {},
   "outputs": [
    {
     "data": {
      "text/plain": [
       "int"
      ]
     },
     "execution_count": 13,
     "metadata": {},
     "output_type": "execute_result"
    }
   ],
   "source": [
    "type(z)\n"
   ]
  },
  {
   "cell_type": "code",
   "execution_count": 18,
   "id": "9e9e6613-4ead-4f21-9006-cbb10d6a4d89",
   "metadata": {},
   "outputs": [
    {
     "name": "stdout",
     "output_type": "stream",
     "text": [
      "-1\n"
     ]
    }
   ],
   "source": [
    "m = (i-j)//\n",
    "print(m)"
   ]
  },
  {
   "cell_type": "code",
   "execution_count": 26,
   "id": "3b9e9929-1e32-4ef3-9664-fc080d41c5d4",
   "metadata": {},
   "outputs": [
    {
     "data": {
      "text/plain": [
       "False"
      ]
     },
     "execution_count": 26,
     "metadata": {},
     "output_type": "execute_result"
    }
   ],
   "source": [
    "a = 45\n",
    "b = 25\n",
    "a < b"
   ]
  },
  {
   "cell_type": "code",
   "execution_count": 27,
   "id": "41b4b6c2-1c23-487b-9b15-2919c50c7df0",
   "metadata": {},
   "outputs": [
    {
     "data": {
      "text/plain": [
       "True"
      ]
     },
     "execution_count": 27,
     "metadata": {},
     "output_type": "execute_result"
    }
   ],
   "source": [
    "a > b\n"
   ]
  },
  {
   "cell_type": "code",
   "execution_count": 28,
   "id": "48a99f00-2bf0-487c-a9a8-0c07c0871507",
   "metadata": {},
   "outputs": [
    {
     "data": {
      "text/plain": [
       "False"
      ]
     },
     "execution_count": 28,
     "metadata": {},
     "output_type": "execute_result"
    }
   ],
   "source": [
    "4 > 6"
   ]
  },
  {
   "cell_type": "code",
   "execution_count": 35,
   "id": "9ab18d85-9cdd-43fd-9388-403b02c2eefb",
   "metadata": {},
   "outputs": [
    {
     "name": "stdout",
     "output_type": "stream",
     "text": [
      "68\n"
     ]
    }
   ],
   "source": [
    "x = 34\n",
    "y = 34\n",
    "c = x + y\n",
    "print(c)"
   ]
  },
  {
   "cell_type": "code",
   "execution_count": 38,
   "id": "6c342f57-ef97-413e-9c95-37b1069cea25",
   "metadata": {},
   "outputs": [
    {
     "data": {
      "text/plain": [
       "False"
      ]
     },
     "execution_count": 38,
     "metadata": {},
     "output_type": "execute_result"
    }
   ],
   "source": [
    "x != y"
   ]
  },
  {
   "cell_type": "code",
   "execution_count": 39,
   "id": "3a123200-9069-48c3-befe-bbff4a4375e7",
   "metadata": {},
   "outputs": [
    {
     "data": {
      "text/plain": [
       "True"
      ]
     },
     "execution_count": 39,
     "metadata": {},
     "output_type": "execute_result"
    }
   ],
   "source": [
    "x == y"
   ]
  },
  {
   "cell_type": "code",
   "execution_count": 40,
   "id": "818755e6-8e49-4c1e-908d-93083d07c516",
   "metadata": {},
   "outputs": [],
   "source": [
    "x = y"
   ]
  },
  {
   "cell_type": "code",
   "execution_count": 41,
   "id": "469a677f-ee2c-496e-83cb-09204101f30c",
   "metadata": {},
   "outputs": [],
   "source": [
    "h = 56\n",
    "g = \"wet\"\n"
   ]
  },
  {
   "cell_type": "code",
   "execution_count": 42,
   "id": "c758057b-751f-49ad-afab-13eeba22a0e5",
   "metadata": {},
   "outputs": [
    {
     "data": {
      "text/plain": [
       "False"
      ]
     },
     "execution_count": 42,
     "metadata": {},
     "output_type": "execute_result"
    }
   ],
   "source": [
    "h == g"
   ]
  },
  {
   "cell_type": "code",
   "execution_count": 43,
   "id": "3572b461-e901-4836-a179-ddf27c7064e1",
   "metadata": {},
   "outputs": [
    {
     "data": {
      "text/plain": [
       "False"
      ]
     },
     "execution_count": 43,
     "metadata": {},
     "output_type": "execute_result"
    }
   ],
   "source": [
    " (a>b) and (b>a)"
   ]
  },
  {
   "cell_type": "code",
   "execution_count": 44,
   "id": "c380de74-675e-4b18-b71d-def85515fe5a",
   "metadata": {},
   "outputs": [
    {
     "data": {
      "text/plain": [
       "True"
      ]
     },
     "execution_count": 44,
     "metadata": {},
     "output_type": "execute_result"
    }
   ],
   "source": [
    "(a>b) or (b>a)"
   ]
  },
  {
   "cell_type": "code",
   "execution_count": null,
   "id": "d61cc5bc-a898-44f8-be34-4f19536a92ba",
   "metadata": {},
   "outputs": [],
   "source": [
    "t & t = t\n",
    "t & f = f\n",
    "f & t = f\n",
    "f & t = f"
   ]
  },
  {
   "cell_type": "code",
   "execution_count": null,
   "id": "a7604322-fbba-43f7-b391-675b2d6d7551",
   "metadata": {},
   "outputs": [],
   "source": [
    "t or t = t\n",
    "t or f = t\n",
    "f or t = t\n",
    "f or t = f"
   ]
  },
  {
   "cell_type": "code",
   "execution_count": null,
   "id": "6ebaed1c-6513-4f2a-a11f-85e059e96b67",
   "metadata": {},
   "outputs": [],
   "source": [
    "s\n"
   ]
  },
  {
   "cell_type": "code",
   "execution_count": 1,
   "id": "3f736291-6211-4490-89bf-7adfef6710b8",
   "metadata": {},
   "outputs": [
    {
     "data": {
      "text/plain": [
       "{40, 60, 70, 77, 80}"
      ]
     },
     "execution_count": 1,
     "metadata": {},
     "output_type": "execute_result"
    }
   ],
   "source": [
    "{40, 60, 70, 77, 80}"
   ]
  },
  {
   "cell_type": "code",
   "execution_count": 2,
   "id": "02bab938-6f75-42a3-bdd2-04182e2a0ff6",
   "metadata": {},
   "outputs": [
    {
     "ename": "NameError",
     "evalue": "name 's' is not defined",
     "output_type": "error",
     "traceback": [
      "\u001b[1;31m---------------------------------------------------------------------------\u001b[0m",
      "\u001b[1;31mNameError\u001b[0m                                 Traceback (most recent call last)",
      "Cell \u001b[1;32mIn[2], line 1\u001b[0m\n\u001b[1;32m----> 1\u001b[0m s\u001b[38;5;241m.\u001b[39mdifference(y)\n",
      "\u001b[1;31mNameError\u001b[0m: name 's' is not defined"
     ]
    }
   ],
   "source": [
    "s.difference(y)"
   ]
  },
  {
   "cell_type": "code",
   "execution_count": 3,
   "id": "021e3b29-9e8c-493c-8de7-e6cb510446e1",
   "metadata": {},
   "outputs": [],
   "source": [
    "s = {40, 60, 70, 77, 80}"
   ]
  },
  {
   "cell_type": "code",
   "execution_count": 4,
   "id": "ae620c96-2cb4-4bab-b578-ec1ac58a09ca",
   "metadata": {},
   "outputs": [
    {
     "ename": "NameError",
     "evalue": "name 'y' is not defined",
     "output_type": "error",
     "traceback": [
      "\u001b[1;31m---------------------------------------------------------------------------\u001b[0m",
      "\u001b[1;31mNameError\u001b[0m                                 Traceback (most recent call last)",
      "Cell \u001b[1;32mIn[4], line 1\u001b[0m\n\u001b[1;32m----> 1\u001b[0m s\u001b[38;5;241m.\u001b[39mdifference(y)\n",
      "\u001b[1;31mNameError\u001b[0m: name 'y' is not defined"
     ]
    }
   ],
   "source": [
    "s.difference(y)"
   ]
  },
  {
   "cell_type": "code",
   "execution_count": 5,
   "id": "c48d90f7-17fb-479f-929a-44466d478336",
   "metadata": {},
   "outputs": [],
   "source": [
    "y = {80, 60, 77, 70, 68}"
   ]
  },
  {
   "cell_type": "code",
   "execution_count": 6,
   "id": "38b5ed2c-93c6-440c-8e44-99ab49b03cb9",
   "metadata": {},
   "outputs": [
    {
     "data": {
      "text/plain": [
       "{40}"
      ]
     },
     "execution_count": 6,
     "metadata": {},
     "output_type": "execute_result"
    }
   ],
   "source": [
    "s.difference(y)"
   ]
  },
  {
   "cell_type": "code",
   "execution_count": 7,
   "id": "f8dbb688-abf4-4d23-978c-2ddab6b02a14",
   "metadata": {},
   "outputs": [
    {
     "data": {
      "text/plain": [
       "{60, 70, 77, 80}"
      ]
     },
     "execution_count": 7,
     "metadata": {},
     "output_type": "execute_result"
    }
   ],
   "source": [
    "y.intersection(s)"
   ]
  },
  {
   "cell_type": "code",
   "execution_count": 8,
   "id": "0bb77c06-d303-49f4-ae50-ca02f7116cbc",
   "metadata": {},
   "outputs": [
    {
     "data": {
      "text/plain": [
       "{40, 60, 68, 70, 77, 80}"
      ]
     },
     "execution_count": 8,
     "metadata": {},
     "output_type": "execute_result"
    }
   ],
   "source": [
    "s.union(y)"
   ]
  },
  {
   "cell_type": "code",
   "execution_count": 9,
   "id": "0773d4b4-8de2-4b18-b7b2-7d917e3b7019",
   "metadata": {},
   "outputs": [],
   "source": [
    "x = {54, 65, 78, 48}\n"
   ]
  },
  {
   "cell_type": "code",
   "execution_count": 10,
   "id": "65eec5bb-eb3b-46c3-93dd-33fffaba3b13",
   "metadata": {},
   "outputs": [
    {
     "data": {
      "text/plain": [
       "{40, 48, 54, 60, 65, 70, 77, 78, 80}"
      ]
     },
     "execution_count": 10,
     "metadata": {},
     "output_type": "execute_result"
    }
   ],
   "source": [
    "s.union(x)"
   ]
  },
  {
   "cell_type": "code",
   "execution_count": 19,
   "id": "a9bd64a2-4075-4230-b5bc-5e0a2846a00a",
   "metadata": {},
   "outputs": [
    {
     "name": "stdout",
     "output_type": "stream",
     "text": [
      "gradeA\n"
     ]
    }
   ],
   "source": [
    "x=90\n",
    "if x>=90:\n",
    "    print('gradeA')\n",
    "elif x>=80:\n",
    "    print(\"grade B\")"
   ]
  },
  {
   "cell_type": "code",
   "execution_count": 1,
   "id": "f970a130-7fd0-447b-b378-04fb015a2f68",
   "metadata": {},
   "outputs": [
    {
     "data": {
      "text/plain": [
       "{'a': 85, 'b': 7, 'c': 87}"
      ]
     },
     "execution_count": 1,
     "metadata": {},
     "output_type": "execute_result"
    }
   ],
   "source": [
    "d = {'a':85,'b':7,'c':87}\n",
    "d"
   ]
  },
  {
   "cell_type": "code",
   "execution_count": 3,
   "id": "0c13c325-2927-4153-82d9-78bc58208927",
   "metadata": {},
   "outputs": [
    {
     "ename": "SyntaxError",
     "evalue": "invalid syntax (2890821718.py, line 2)",
     "output_type": "error",
     "traceback": [
      "\u001b[1;36m  Cell \u001b[1;32mIn[3], line 2\u001b[1;36m\u001b[0m\n\u001b[1;33m    dictionary are mutuable objects\u001b[0m\n\u001b[1;37m               ^\u001b[0m\n\u001b[1;31mSyntaxError\u001b[0m\u001b[1;31m:\u001b[0m invalid syntax\n"
     ]
    }
   ],
   "source": [
    "type(d)\n",
    "dictionary are mutuable objects\n"
   ]
  },
  {
   "cell_type": "code",
   "execution_count": 5,
   "id": "64469dd8-41ae-4e18-87b5-36c0e937e036",
   "metadata": {},
   "outputs": [
    {
     "data": {
      "text/plain": [
       "85"
      ]
     },
     "execution_count": 5,
     "metadata": {},
     "output_type": "execute_result"
    }
   ],
   "source": [
    "d['a']"
   ]
  },
  {
   "cell_type": "code",
   "execution_count": 10,
   "id": "fa16cf1b-e56f-443b-b502-d491fc1c1555",
   "metadata": {},
   "outputs": [],
   "source": [
    "d = {'104':9,'105':1,'106':5}"
   ]
  },
  {
   "cell_type": "code",
   "execution_count": 14,
   "id": "5397ed5e-ace1-405e-8c9c-923aa5fa65ec",
   "metadata": {},
   "outputs": [],
   "source": [
    "d.update({10:8})"
   ]
  },
  {
   "cell_type": "code",
   "execution_count": 15,
   "id": "4ff99369-adea-46e5-a8a3-287ad416af50",
   "metadata": {},
   "outputs": [
    {
     "data": {
      "text/plain": [
       "{'104': 9, '105': 1, '106': 5, 10: 8}"
      ]
     },
     "execution_count": 15,
     "metadata": {},
     "output_type": "execute_result"
    }
   ],
   "source": [
    "d"
   ]
  },
  {
   "cell_type": "code",
   "execution_count": 22,
   "id": "64fbbee3-a96e-4331-892a-d558179a21d4",
   "metadata": {},
   "outputs": [
    {
     "ename": "SyntaxError",
     "evalue": "invalid syntax. Perhaps you forgot a comma? (3926429651.py, line 1)",
     "output_type": "error",
     "traceback": [
      "\u001b[1;36m  Cell \u001b[1;32mIn[22], line 1\u001b[1;36m\u001b[0m\n\u001b[1;33m    del d[('104'9)]\u001b[0m\n\u001b[1;37m           ^\u001b[0m\n\u001b[1;31mSyntaxError\u001b[0m\u001b[1;31m:\u001b[0m invalid syntax. Perhaps you forgot a comma?\n"
     ]
    }
   ],
   "source": [
    "del d[('104'9)]"
   ]
  },
  {
   "cell_type": "code",
   "execution_count": 23,
   "id": "14a63d7a-49b3-422e-9e97-72055ff31085",
   "metadata": {},
   "outputs": [],
   "source": [
    "d.update({'104': 5000})"
   ]
  },
  {
   "cell_type": "code",
   "execution_count": 24,
   "id": "726ab29c-0fcc-4296-b964-48f81f641d64",
   "metadata": {},
   "outputs": [
    {
     "data": {
      "text/plain": [
       "{'105': 1, '106': 5, 10: 8, '104': 5000}"
      ]
     },
     "execution_count": 24,
     "metadata": {},
     "output_type": "execute_result"
    }
   ],
   "source": [
    "d"
   ]
  },
  {
   "cell_type": "code",
   "execution_count": 28,
   "id": "bf1b1926-2963-43d8-a564-7c5a81759d8b",
   "metadata": {},
   "outputs": [
    {
     "ename": "KeyError",
     "evalue": "'105'",
     "output_type": "error",
     "traceback": [
      "\u001b[1;31m---------------------------------------------------------------------------\u001b[0m",
      "\u001b[1;31mKeyError\u001b[0m                                  Traceback (most recent call last)",
      "Cell \u001b[1;32mIn[28], line 1\u001b[0m\n\u001b[1;32m----> 1\u001b[0m \u001b[38;5;28;01mdel\u001b[39;00m d[\u001b[38;5;124m'\u001b[39m\u001b[38;5;124m105\u001b[39m\u001b[38;5;124m'\u001b[39m]\n",
      "\u001b[1;31mKeyError\u001b[0m: '105'"
     ]
    }
   ],
   "source": [
    "del d['105']"
   ]
  },
  {
   "cell_type": "code",
   "execution_count": 29,
   "id": "5773aeff-b64a-4aa4-9edf-c6bf9bb10593",
   "metadata": {},
   "outputs": [],
   "source": [
    "d.get(105)"
   ]
  },
  {
   "cell_type": "code",
   "execution_count": 31,
   "id": "265e9602-854b-4634-aeaa-fd669a8f03c4",
   "metadata": {},
   "outputs": [
    {
     "data": {
      "text/plain": [
       "{'106': 5, 10: 8, '104': 5000}"
      ]
     },
     "execution_count": 31,
     "metadata": {},
     "output_type": "execute_result"
    }
   ],
   "source": [
    "d"
   ]
  },
  {
   "cell_type": "code",
   "execution_count": 32,
   "id": "f8731135-916c-4b9e-be08-10dc60d55c9e",
   "metadata": {},
   "outputs": [
    {
     "data": {
      "text/plain": [
       "{'106': 5, 10: 8, '104': 5000}"
      ]
     },
     "execution_count": 32,
     "metadata": {},
     "output_type": "execute_result"
    }
   ],
   "source": [
    "d"
   ]
  },
  {
   "cell_type": "code",
   "execution_count": 33,
   "id": "35c20366-5797-4b13-b9fc-32e7e237cb31",
   "metadata": {},
   "outputs": [],
   "source": [
    "d ={'101':7,'102':8,'103':9}\n"
   ]
  },
  {
   "cell_type": "code",
   "execution_count": 34,
   "id": "c6248cc1-ba60-4be3-be5f-01ee76150121",
   "metadata": {},
   "outputs": [
    {
     "data": {
      "text/plain": [
       "dict"
      ]
     },
     "execution_count": 34,
     "metadata": {},
     "output_type": "execute_result"
    }
   ],
   "source": [
    "type(d)"
   ]
  },
  {
   "cell_type": "code",
   "execution_count": 38,
   "id": "166b8da0-4be7-42a5-9cef-5f226f9a17e9",
   "metadata": {},
   "outputs": [],
   "source": [
    "d.update({'101': 80})"
   ]
  },
  {
   "cell_type": "code",
   "execution_count": 39,
   "id": "673413f5-b751-4124-9294-22b1ed60ed95",
   "metadata": {},
   "outputs": [
    {
     "data": {
      "text/plain": [
       "{'101': 80, '102': 8, '103': 9, 101: 80}"
      ]
     },
     "execution_count": 39,
     "metadata": {},
     "output_type": "execute_result"
    }
   ],
   "source": [
    "d"
   ]
  },
  {
   "cell_type": "code",
   "execution_count": 40,
   "id": "a5642d6d-902e-4cc4-b265-9e22ccbc322d",
   "metadata": {},
   "outputs": [
    {
     "data": {
      "text/plain": [
       "80"
      ]
     },
     "execution_count": 40,
     "metadata": {},
     "output_type": "execute_result"
    }
   ],
   "source": [
    "d.get('101')"
   ]
  },
  {
   "cell_type": "code",
   "execution_count": 41,
   "id": "17255fa8-1978-43c4-b3d6-d1bf2c2722ac",
   "metadata": {},
   "outputs": [],
   "source": [
    "del d['101']"
   ]
  },
  {
   "cell_type": "code",
   "execution_count": 42,
   "id": "2d807b62-1a69-47f4-9590-dfc7ebdbfbb1",
   "metadata": {},
   "outputs": [
    {
     "data": {
      "text/plain": [
       "{'102': 8, '103': 9, 101: 80}"
      ]
     },
     "execution_count": 42,
     "metadata": {},
     "output_type": "execute_result"
    }
   ],
   "source": [
    "d"
   ]
  },
  {
   "cell_type": "code",
   "execution_count": 43,
   "id": "a9f75549-c593-4558-9249-21578d0175c4",
   "metadata": {},
   "outputs": [],
   "source": [
    "d[103] = [1000,2000,6000]"
   ]
  },
  {
   "cell_type": "code",
   "execution_count": 44,
   "id": "428fcbb0-aadb-40c6-b78b-fc71b526d90c",
   "metadata": {},
   "outputs": [
    {
     "data": {
      "text/plain": [
       "{'102': 8, '103': 9, 101: 80, 103: [1000, 2000, 6000]}"
      ]
     },
     "execution_count": 44,
     "metadata": {},
     "output_type": "execute_result"
    }
   ],
   "source": [
    "d"
   ]
  },
  {
   "cell_type": "code",
   "execution_count": 49,
   "id": "792e18f7-f084-47b1-a9ed-d86f9fd60c3d",
   "metadata": {},
   "outputs": [
    {
     "data": {
      "text/plain": [
       "[1000, 2000, 6000]"
      ]
     },
     "execution_count": 49,
     "metadata": {},
     "output_type": "execute_result"
    }
   ],
   "source": [
    "d.get(103)"
   ]
  },
  {
   "cell_type": "code",
   "execution_count": 6,
   "id": "8466ce1a-c6e4-4b40-b92b-9ce112ed6550",
   "metadata": {},
   "outputs": [
    {
     "ename": "NameError",
     "evalue": "name 'd' is not defined",
     "output_type": "error",
     "traceback": [
      "\u001b[1;31m---------------------------------------------------------------------------\u001b[0m",
      "\u001b[1;31mNameError\u001b[0m                                 Traceback (most recent call last)",
      "Cell \u001b[1;32mIn[6], line 1\u001b[0m\n\u001b[1;32m----> 1\u001b[0m d[\u001b[38;5;241m103\u001b[39m][\u001b[38;5;241m0\u001b[39m]\n",
      "\u001b[1;31mNameError\u001b[0m: name 'd' is not defined"
     ]
    }
   ],
   "source": [
    "d[103][0]"
   ]
  },
  {
   "cell_type": "code",
   "execution_count": 5,
   "id": "faeec2bb-1cfb-4c25-8dc4-d80832d8eb90",
   "metadata": {},
   "outputs": [
    {
     "ename": "NameError",
     "evalue": "name 'd' is not defined",
     "output_type": "error",
     "traceback": [
      "\u001b[1;31m---------------------------------------------------------------------------\u001b[0m",
      "\u001b[1;31mNameError\u001b[0m                                 Traceback (most recent call last)",
      "Cell \u001b[1;32mIn[5], line 1\u001b[0m\n\u001b[1;32m----> 1\u001b[0m d[\u001b[38;5;241m103\u001b[39m][\u001b[38;5;241m1\u001b[39m]\n",
      "\u001b[1;31mNameError\u001b[0m: name 'd' is not defined"
     ]
    }
   ],
   "source": [
    "d[103][1]"
   ]
  },
  {
   "cell_type": "code",
   "execution_count": 8,
   "id": "e9b163de-30b2-48a9-b79f-b6b0d64f7663",
   "metadata": {},
   "outputs": [
    {
     "ename": "NameError",
     "evalue": "name 'd' is not defined",
     "output_type": "error",
     "traceback": [
      "\u001b[1;31m---------------------------------------------------------------------------\u001b[0m",
      "\u001b[1;31mNameError\u001b[0m                                 Traceback (most recent call last)",
      "Cell \u001b[1;32mIn[8], line 1\u001b[0m\n\u001b[1;32m----> 1\u001b[0m d[\u001b[38;5;241m103\u001b[39m][\u001b[38;5;241m0\u001b[39m:\u001b[38;5;241m3\u001b[39m]\n",
      "\u001b[1;31mNameError\u001b[0m: name 'd' is not defined"
     ]
    }
   ],
   "source": [
    "d[103][0:3]"
   ]
  },
  {
   "cell_type": "code",
   "execution_count": 10,
   "id": "a1baa78a-1d70-4703-931a-da0dbacc434e",
   "metadata": {},
   "outputs": [
    {
     "ename": "NameError",
     "evalue": "name 'd' is not defined",
     "output_type": "error",
     "traceback": [
      "\u001b[1;31m---------------------------------------------------------------------------\u001b[0m",
      "\u001b[1;31mNameError\u001b[0m                                 Traceback (most recent call last)",
      "Cell \u001b[1;32mIn[10], line 1\u001b[0m\n\u001b[1;32m----> 1\u001b[0m d\u001b[38;5;241m.\u001b[39mupdate({\u001b[38;5;241m104\u001b[39m:[\u001b[38;5;241m7000\u001b[39m,\u001b[38;5;241m8000\u001b[39m,\u001b[38;5;241m9000\u001b[39m]})\n",
      "\u001b[1;31mNameError\u001b[0m: name 'd' is not defined"
     ]
    }
   ],
   "source": [
    "d.update({104:[7000,8000,9000]})"
   ]
  },
  {
   "cell_type": "code",
   "execution_count": 11,
   "id": "35bc09bc-b69c-4078-8b97-a098b64b01b4",
   "metadata": {},
   "outputs": [
    {
     "ename": "NameError",
     "evalue": "name 'd' is not defined",
     "output_type": "error",
     "traceback": [
      "\u001b[1;31m---------------------------------------------------------------------------\u001b[0m",
      "\u001b[1;31mNameError\u001b[0m                                 Traceback (most recent call last)",
      "Cell \u001b[1;32mIn[11], line 1\u001b[0m\n\u001b[1;32m----> 1\u001b[0m d\n",
      "\u001b[1;31mNameError\u001b[0m: name 'd' is not defined"
     ]
    }
   ],
   "source": [
    "d"
   ]
  },
  {
   "cell_type": "code",
   "execution_count": 12,
   "id": "889f2de0-def2-41ed-8e0f-1dbf06cd634d",
   "metadata": {},
   "outputs": [],
   "source": [
    "d = {'105': 1, '106': 5, 10: 8, '104': 5000}\n"
   ]
  },
  {
   "cell_type": "code",
   "execution_count": 15,
   "id": "45bbcf3b-3b33-423a-bf1a-5c93604b95c2",
   "metadata": {},
   "outputs": [],
   "source": [
    "d.update({'104':[7000,8000,9000]})"
   ]
  },
  {
   "cell_type": "code",
   "execution_count": 16,
   "id": "825e407d-b73a-4219-a251-4dba657a2b5d",
   "metadata": {},
   "outputs": [
    {
     "data": {
      "text/plain": [
       "{'105': 1, '106': 5, 10: 8, '104': [7000, 8000, 9000], 104: [7000, 8000, 9000]}"
      ]
     },
     "execution_count": 16,
     "metadata": {},
     "output_type": "execute_result"
    }
   ],
   "source": [
    "d"
   ]
  },
  {
   "cell_type": "code",
   "execution_count": 19,
   "id": "25912671-f804-4896-bde5-b7dfdd84e1aa",
   "metadata": {},
   "outputs": [],
   "source": [
    "d[101]={50:[7,8,9,10],'apple':(20,10,70,[90,180,270])}"
   ]
  },
  {
   "cell_type": "code",
   "execution_count": 20,
   "id": "ccf4f52d-0075-4130-b0ea-21d1323f6e80",
   "metadata": {},
   "outputs": [
    {
     "data": {
      "text/plain": [
       "{'105': 1,\n",
       " '106': 5,\n",
       " 10: 8,\n",
       " '104': [7000, 8000, 9000],\n",
       " 104: [7000, 8000, 9000],\n",
       " 101: {50: [7, 8, 9, 10], 'apple': (20, 10, 70, [90, 180, 270])}}"
      ]
     },
     "execution_count": 20,
     "metadata": {},
     "output_type": "execute_result"
    }
   ],
   "source": [
    "d"
   ]
  },
  {
   "cell_type": "code",
   "execution_count": 21,
   "id": "fa68c884-637a-44b7-b1e9-a568a3adc3f1",
   "metadata": {},
   "outputs": [],
   "source": [
    "d[105]={'a':{30,50,70},'b':(1000,5000,7000,9000),'c':['k',{'L':[11,22],'M':(77,88)},'N']}"
   ]
  },
  {
   "cell_type": "code",
   "execution_count": 22,
   "id": "9511c438-bbf6-4ddf-921b-fe12c1ecaea5",
   "metadata": {},
   "outputs": [
    {
     "data": {
      "text/plain": [
       "{'105': 1,\n",
       " '106': 5,\n",
       " 10: 8,\n",
       " '104': [7000, 8000, 9000],\n",
       " 104: [7000, 8000, 9000],\n",
       " 101: {50: [7, 8, 9, 10], 'apple': (20, 10, 70, [90, 180, 270])},\n",
       " 105: {'a': {30, 50, 70},\n",
       "  'b': (1000, 5000, 7000, 9000),\n",
       "  'c': ['k', {'L': [11, 22], 'M': (77, 88)}, 'N']}}"
      ]
     },
     "execution_count": 22,
     "metadata": {},
     "output_type": "execute_result"
    }
   ],
   "source": [
    "d"
   ]
  },
  {
   "cell_type": "code",
   "execution_count": 31,
   "id": "09c46776-a23f-449f-a72e-ab31fb66f7f2",
   "metadata": {},
   "outputs": [
    {
     "data": {
      "text/plain": [
       "90"
      ]
     },
     "execution_count": 31,
     "metadata": {},
     "output_type": "execute_result"
    }
   ],
   "source": [
    "d[101]['apple'][3][0]"
   ]
  },
  {
   "cell_type": "code",
   "execution_count": null,
   "id": "e1d30a56-d4dc-4914-9cc8-e591b3cb37e5",
   "metadata": {},
   "outputs": [],
   "source": [
    "d[101]"
   ]
  },
  {
   "cell_type": "code",
   "execution_count": null,
   "id": "77c57017-7d50-4fab-8281-9765d3e30ab8",
   "metadata": {},
   "outputs": [],
   "source": [
    "if condition:\n",
    "    task1 block of code \n",
    "elif condition2:\n",
    "    task2 block of code\n",
    "elif condition3:\n",
    "    task3 block of code\n",
    "else:\n",
    "    task4 block of code\n",
    "    "
   ]
  },
  {
   "cell_type": "code",
   "execution_count": 1,
   "id": "1f9e52ed-e3cf-4a7e-a464-c6876b5d62f8",
   "metadata": {},
   "outputs": [
    {
     "name": "stdout",
     "output_type": "stream",
     "text": [
      "odd\n"
     ]
    }
   ],
   "source": [
    "x=9\n",
    "if x%2==0:\n",
    "    print(\"even\")\n",
    "else:\n",
    "    print(\"odd\")"
   ]
  },
  {
   "cell_type": "code",
   "execution_count": 8,
   "id": "19cac487-c4a9-4369-afe3-1d1667014117",
   "metadata": {},
   "outputs": [
    {
     "data": {
      "text/plain": [
       "'india'"
      ]
     },
     "execution_count": 8,
     "metadata": {},
     "output_type": "execute_result"
    }
   ],
   "source": [
    "y= 'india'\n",
    "y"
   ]
  },
  {
   "cell_type": "code",
   "execution_count": 9,
   "id": "faad8f1f-1517-46a5-afc0-c3331ab31905",
   "metadata": {},
   "outputs": [
    {
     "data": {
      "text/plain": [
       "False"
      ]
     },
     "execution_count": 9,
     "metadata": {},
     "output_type": "execute_result"
    }
   ],
   "source": [
    "y.isdigit()"
   ]
  },
  {
   "cell_type": "code",
   "execution_count": 7,
   "id": "1bddf8ed-0cd8-4cf2-8a7c-0bc345d7e832",
   "metadata": {},
   "outputs": [
    {
     "data": {
      "text/plain": [
       "True"
      ]
     },
     "execution_count": 7,
     "metadata": {},
     "output_type": "execute_result"
    }
   ],
   "source": [
    "y.isalpha()"
   ]
  },
  {
   "cell_type": "code",
   "execution_count": 16,
   "id": "ec5f7852-3514-4818-9b4b-63208ceb64ff",
   "metadata": {},
   "outputs": [],
   "source": [
    "name='reddy'"
   ]
  },
  {
   "cell_type": "code",
   "execution_count": 20,
   "id": "3fbfe0d6-93fa-4fcf-8406-2241872e1c71",
   "metadata": {},
   "outputs": [
    {
     "name": "stdout",
     "output_type": "stream",
     "text": [
      "Accept\n"
     ]
    }
   ],
   "source": [
    "if name.isalpha()==True:\n",
    "    print('Accept')\n",
    "else:\n",
    "    print('name should not contain digits and symbols')"
   ]
  },
  {
   "cell_type": "code",
   "execution_count": 22,
   "id": "55e8210d-5694-40ca-98f4-109747df8f5c",
   "metadata": {},
   "outputs": [
    {
     "data": {
      "text/plain": [
       "True"
      ]
     },
     "execution_count": 22,
     "metadata": {},
     "output_type": "execute_result"
    }
   ],
   "source": [
    "name.isalpha()"
   ]
  },
  {
   "cell_type": "code",
   "execution_count": 23,
   "id": "3973238d-8b9f-4764-8b7d-83c4c047ff72",
   "metadata": {},
   "outputs": [
    {
     "data": {
      "text/plain": [
       "'reddy'"
      ]
     },
     "execution_count": 23,
     "metadata": {},
     "output_type": "execute_result"
    }
   ],
   "source": [
    "name.lower()\n"
   ]
  },
  {
   "cell_type": "code",
   "execution_count": 41,
   "id": "f57370e5-3f10-4e3c-93b0-723e46c8cb60",
   "metadata": {},
   "outputs": [
    {
     "name": "stdout",
     "output_type": "stream",
     "text": [
      "Yes\n"
     ]
    }
   ],
   "source": [
    "x='Telangana'\n",
    "if x[0]=='T':\n",
    "    print('Yes')\n",
    "else:\n",
    "    print('No')"
   ]
  },
  {
   "cell_type": "code",
   "execution_count": 43,
   "id": "cb94fab6-a458-4fcf-86ca-d11a3ecbfc1c",
   "metadata": {},
   "outputs": [
    {
     "data": {
      "text/plain": [
       "'Telangana'"
      ]
     },
     "execution_count": 43,
     "metadata": {},
     "output_type": "execute_result"
    }
   ],
   "source": [
    "x"
   ]
  },
  {
   "cell_type": "code",
   "execution_count": 44,
   "id": "a13c4c90-18d1-4250-9ff3-beee4587a642",
   "metadata": {},
   "outputs": [
    {
     "data": {
      "text/plain": [
       "True"
      ]
     },
     "execution_count": 44,
     "metadata": {},
     "output_type": "execute_result"
    }
   ],
   "source": [
    "x[0].lower()=='t'"
   ]
  },
  {
   "cell_type": "code",
   "execution_count": 50,
   "id": "831f02a8-a09c-46bf-a9a9-d2d9965748aa",
   "metadata": {},
   "outputs": [
    {
     "name": "stdin",
     "output_type": "stream",
     "text": [
      "enter any word lion\n"
     ]
    },
    {
     "name": "stdout",
     "output_type": "stream",
     "text": [
      "False\n"
     ]
    }
   ],
   "source": [
    "x = input(\"enter any word\")\n",
    "if x[0].lower() == 't' or x[0].lower()=='s' or x[0].lower()=='h':\n",
    "    print(\"True\")\n",
    "else:\n",
    "    print(\"False\")\n",
    "    "
   ]
  },
  {
   "cell_type": "code",
   "execution_count": 1,
   "id": "32ddf9d8-e112-4641-8c67-6bbec771da18",
   "metadata": {},
   "outputs": [
    {
     "ename": "SyntaxError",
     "evalue": "incomplete input (3368511227.py, line 4)",
     "output_type": "error",
     "traceback": [
      "\u001b[1;36m  Cell \u001b[1;32mIn[1], line 4\u001b[1;36m\u001b[0m\n\u001b[1;33m    print('no'\u001b[0m\n\u001b[1;37m              ^\u001b[0m\n\u001b[1;31mSyntaxError\u001b[0m\u001b[1;31m:\u001b[0m incomplete input\n"
     ]
    }
   ],
   "source": [
    "if x[0].lower() in ('s','h','m'):\n",
    "    print('yes')\n",
    "else: \n",
    "    print('no'"
   ]
  },
  {
   "cell_type": "code",
   "execution_count": null,
   "id": "cdc008ec-0af7-4bf0-90d4-7ff9e6cc3ebb",
   "metadata": {},
   "outputs": [],
   "source": [
    "x=5\n",
    "while x<35:\n",
    "    print('yes')\n",
    "    "
   ]
  },
  {
   "cell_type": "code",
   "execution_count": null,
   "id": "43d296b5-058d-4858-b610-4a5dd4a3b65f",
   "metadata": {},
   "outputs": [],
   "source": [
    "x=3\n",
    "while x<10:\n",
    "    print('yes',x)\n",
    "    x=x-5"
   ]
  },
  {
   "cell_type": "code",
   "execution_count": 2,
   "id": "4af9be89-cf54-448f-8bc3-8c5ce009ee04",
   "metadata": {},
   "outputs": [
    {
     "name": "stdout",
     "output_type": "stream",
     "text": [
      "yes 35\n",
      "yes 30\n",
      "yes 25\n",
      "yes 20\n",
      "yes 15\n"
     ]
    }
   ],
   "source": [
    "x=35\n",
    "while x>10:\n",
    "    print('yes',x)\n",
    "    x=x-5"
   ]
  },
  {
   "cell_type": "code",
   "execution_count": 3,
   "id": "fd66e7a8-4b80-4c50-9285-0c8e91f463ac",
   "metadata": {},
   "outputs": [
    {
     "name": "stdout",
     "output_type": "stream",
     "text": [
      "yes 40\n",
      "yes 41\n",
      "yes 42\n",
      "yes 43\n",
      "yes 44\n",
      "yes 45\n"
     ]
    }
   ],
   "source": [
    "x=40\n",
    "while x<46:\n",
    "    print('yes',x)\n",
    "    x=x+1"
   ]
  },
  {
   "cell_type": "code",
   "execution_count": 4,
   "id": "f05ef8b8-9825-43f5-87ec-483b3dfb720b",
   "metadata": {},
   "outputs": [
    {
     "data": {
      "text/plain": [
       "[40, 20, 80, 50, 30, 60, 90]"
      ]
     },
     "execution_count": 4,
     "metadata": {},
     "output_type": "execute_result"
    }
   ],
   "source": [
    "y=[40,20,80,50,30,60,90]\n",
    "y"
   ]
  },
  {
   "cell_type": "code",
   "execution_count": 5,
   "id": "852a25d6-612f-4af0-b387-3d1c7ecc85c0",
   "metadata": {},
   "outputs": [
    {
     "data": {
      "text/plain": [
       "55"
      ]
     },
     "execution_count": 5,
     "metadata": {},
     "output_type": "execute_result"
    }
   ],
   "source": [
    "50+5\n"
   ]
  },
  {
   "cell_type": "markdown",
   "id": "5fca4a6d-b53d-4132-af02-468acc529e2c",
   "metadata": {},
   "source": [
    "# day 8"
   ]
  },
  {
   "cell_type": "code",
   "execution_count": 3,
   "id": "8a49e01e-67dd-43d5-9649-d4e69e28fdc7",
   "metadata": {},
   "outputs": [],
   "source": [
    "def function(parameter):\n",
    "    #block of code\n",
    "    return output"
   ]
  },
  {
   "cell_type": "code",
   "execution_count": 4,
   "id": "7cd38740-f2e6-4605-9667-7e028741d3c4",
   "metadata": {},
   "outputs": [],
   "source": [
    "def calArea(r):\n",
    "    a=3.14*r*r\n",
    "    return a"
   ]
  },
  {
   "cell_type": "code",
   "execution_count": 5,
   "id": "dee018fb-fda9-4028-9cf7-1be1cb51f10b",
   "metadata": {},
   "outputs": [
    {
     "data": {
      "text/plain": [
       "314.0"
      ]
     },
     "execution_count": 5,
     "metadata": {},
     "output_type": "execute_result"
    }
   ],
   "source": [
    "calArea(r=10)"
   ]
  },
  {
   "cell_type": "code",
   "execution_count": 7,
   "id": "e858ae6a-b1bc-4da1-9d69-01195a8fa8d8",
   "metadata": {},
   "outputs": [
    {
     "data": {
      "text/plain": [
       "314.0"
      ]
     },
     "execution_count": 7,
     "metadata": {},
     "output_type": "execute_result"
    }
   ],
   "source": [
    "w=calArea(r=10)\n",
    "w"
   ]
  },
  {
   "cell_type": "code",
   "execution_count": 8,
   "id": "b031ad4c-b502-4046-97a5-fb7b34967893",
   "metadata": {},
   "outputs": [
    {
     "data": {
      "text/plain": [
       "float"
      ]
     },
     "execution_count": 8,
     "metadata": {},
     "output_type": "execute_result"
    }
   ],
   "source": [
    "type(w)"
   ]
  },
  {
   "cell_type": "code",
   "execution_count": 21,
   "id": "7d6c394a-8c4f-4e41-a5a8-dcc79ceafc26",
   "metadata": {},
   "outputs": [],
   "source": [
    "def d_to_inr(x):\n",
    "    return(x*85)"
   ]
  },
  {
   "cell_type": "code",
   "execution_count": 22,
   "id": "1bfb318a-9b57-40f2-ad92-e03ff35557b0",
   "metadata": {},
   "outputs": [
    {
     "data": {
      "text/plain": [
       "1275"
      ]
     },
     "execution_count": 22,
     "metadata": {},
     "output_type": "execute_result"
    }
   ],
   "source": [
    "a=d_to_inr(15)\n",
    "a"
   ]
  },
  {
   "cell_type": "code",
   "execution_count": 23,
   "id": "7aca290b-b50a-4c73-b424-18c599308e02",
   "metadata": {},
   "outputs": [
    {
     "data": {
      "text/plain": [
       "1700"
      ]
     },
     "execution_count": 23,
     "metadata": {},
     "output_type": "execute_result"
    }
   ],
   "source": [
    "b=d_to_inr(20)\n",
    "b"
   ]
  },
  {
   "cell_type": "code",
   "execution_count": 24,
   "id": "73e4f137-014a-4d71-aa83-6493fe076ce1",
   "metadata": {},
   "outputs": [
    {
     "data": {
      "text/plain": [
       "2975"
      ]
     },
     "execution_count": 24,
     "metadata": {},
     "output_type": "execute_result"
    }
   ],
   "source": [
    "b+a"
   ]
  },
  {
   "cell_type": "code",
   "execution_count": 25,
   "id": "2ce9fa74-8624-4191-8fe9-e3b5c6e38ae0",
   "metadata": {},
   "outputs": [
    {
     "data": {
      "text/plain": [
       "int"
      ]
     },
     "execution_count": 25,
     "metadata": {},
     "output_type": "execute_result"
    }
   ],
   "source": [
    "type(b)"
   ]
  },
  {
   "cell_type": "code",
   "execution_count": 32,
   "id": "cf0c64c8-9a58-4d37-a394-0c3c7713a9ea",
   "metadata": {},
   "outputs": [],
   "source": [
    "def aor(l,w):\n",
    "    area=l*w\n",
    "    return area"
   ]
  },
  {
   "cell_type": "raw",
   "id": "8b868b16-4c5e-4818-bb67-2f1e63d793b4",
   "metadata": {},
   "source": [
    "aor(20,15)"
   ]
  },
  {
   "cell_type": "raw",
   "id": "8d97d271-9ba1-428e-8559-2cdd2a833279",
   "metadata": {},
   "source": []
  },
  {
   "cell_type": "code",
   "execution_count": 43,
   "id": "1f8d2ce0-a1ec-463e-9d06-0b065e41210f",
   "metadata": {},
   "outputs": [],
   "source": [
    "def area(radius,length,width):\n",
    "    aoc=3.14*radius*radius\n",
    "    aor= length*width\n",
    "    return aor,aoc"
   ]
  },
  {
   "cell_type": "code",
   "execution_count": 45,
   "id": "aa42a70c-0d00-4bab-a678-84cf6d144fda",
   "metadata": {},
   "outputs": [],
   "source": [
    "d=area(radius=10,length=20,width=5)"
   ]
  },
  {
   "cell_type": "code",
   "execution_count": 46,
   "id": "52e45769-02c9-485d-bd28-1b1824a62e98",
   "metadata": {},
   "outputs": [
    {
     "name": "stdout",
     "output_type": "stream",
     "text": [
      "(100, 314.0)\n"
     ]
    }
   ],
   "source": [
    "print(d)"
   ]
  },
  {
   "cell_type": "code",
   "execution_count": 47,
   "id": "c22c7abe-451a-4155-9622-eb28f71bf045",
   "metadata": {},
   "outputs": [
    {
     "data": {
      "text/plain": [
       "tuple"
      ]
     },
     "execution_count": 47,
     "metadata": {},
     "output_type": "execute_result"
    }
   ],
   "source": [
    "type(d)"
   ]
  },
  {
   "cell_type": "code",
   "execution_count": 48,
   "id": "6d821c37-6f64-4242-a9a2-ee6f59e85a93",
   "metadata": {},
   "outputs": [
    {
     "data": {
      "text/plain": [
       "314.0"
      ]
     },
     "execution_count": 48,
     "metadata": {},
     "output_type": "execute_result"
    }
   ],
   "source": [
    "d[1]"
   ]
  },
  {
   "cell_type": "code",
   "execution_count": 49,
   "id": "959eda74-6629-4fb2-9042-582e8b4b37f1",
   "metadata": {},
   "outputs": [
    {
     "data": {
      "text/plain": [
       "tuple"
      ]
     },
     "execution_count": 49,
     "metadata": {},
     "output_type": "execute_result"
    }
   ],
   "source": [
    "s=area(radius=10,length=20,width=5)\n",
    "type(s)"
   ]
  },
  {
   "cell_type": "code",
   "execution_count": 50,
   "id": "309d631a-fc05-4efa-bad5-2b80c9ef5d53",
   "metadata": {},
   "outputs": [
    {
     "data": {
      "text/plain": [
       "'HyderabAAd 500008 Telangana'"
      ]
     },
     "execution_count": 50,
     "metadata": {},
     "output_type": "execute_result"
    }
   ],
   "source": [
    "t='HyderabAAd 500008 Telangana'\n",
    "t"
   ]
  },
  {
   "cell_type": "code",
   "execution_count": 58,
   "id": "9dc52c2a-da7d-411e-8211-91a1f9b3084a",
   "metadata": {},
   "outputs": [
    {
     "ename": "AttributeError",
     "evalue": "'str' object has no attribute 'isaplha'",
     "output_type": "error",
     "traceback": [
      "\u001b[1;31m---------------------------------------------------------------------------\u001b[0m",
      "\u001b[1;31mAttributeError\u001b[0m                            Traceback (most recent call last)",
      "Cell \u001b[1;32mIn[58], line 1\u001b[0m\n\u001b[1;32m----> 1\u001b[0m alpha_count \u001b[38;5;241m=\u001b[39m \u001b[38;5;28msum\u001b[39m(c\u001b[38;5;241m.\u001b[39misaplha() \u001b[38;5;28;01mfor\u001b[39;00m c \u001b[38;5;129;01min\u001b[39;00m t)\n\u001b[0;32m      2\u001b[0m digit_count \u001b[38;5;241m=\u001b[39m \u001b[38;5;28msum\u001b[39m(c\u001b[38;5;241m.\u001b[39misdigit() \u001b[38;5;28;01mfor\u001b[39;00m c \u001b[38;5;129;01min\u001b[39;00m t)\n\u001b[0;32m      3\u001b[0m \u001b[38;5;28mprint\u001b[39m(\u001b[38;5;124mf\u001b[39m\u001b[38;5;124m\"\u001b[39m\u001b[38;5;124mAlphabetic characters: \u001b[39m\u001b[38;5;132;01m{\u001b[39;00malpha_count\u001b[38;5;132;01m}\u001b[39;00m\u001b[38;5;124m\"\u001b[39m)\n",
      "Cell \u001b[1;32mIn[58], line 1\u001b[0m, in \u001b[0;36m<genexpr>\u001b[1;34m(.0)\u001b[0m\n\u001b[1;32m----> 1\u001b[0m alpha_count \u001b[38;5;241m=\u001b[39m \u001b[38;5;28msum\u001b[39m(c\u001b[38;5;241m.\u001b[39misaplha() \u001b[38;5;28;01mfor\u001b[39;00m c \u001b[38;5;129;01min\u001b[39;00m t)\n\u001b[0;32m      2\u001b[0m digit_count \u001b[38;5;241m=\u001b[39m \u001b[38;5;28msum\u001b[39m(c\u001b[38;5;241m.\u001b[39misdigit() \u001b[38;5;28;01mfor\u001b[39;00m c \u001b[38;5;129;01min\u001b[39;00m t)\n\u001b[0;32m      3\u001b[0m \u001b[38;5;28mprint\u001b[39m(\u001b[38;5;124mf\u001b[39m\u001b[38;5;124m\"\u001b[39m\u001b[38;5;124mAlphabetic characters: \u001b[39m\u001b[38;5;132;01m{\u001b[39;00malpha_count\u001b[38;5;132;01m}\u001b[39;00m\u001b[38;5;124m\"\u001b[39m)\n",
      "\u001b[1;31mAttributeError\u001b[0m: 'str' object has no attribute 'isaplha'"
     ]
    }
   ],
   "source": [
    "alpha_count = sum(c.isaplha() for c in t)\n",
    "digit_count = sum(c.isdigit() for c in t)\n",
    "print(f\"Alphabetic characters: {alpha_count}\")\n",
    "print(f\"Numeric characters: {digit_count}\")"
   ]
  },
  {
   "cell_type": "code",
   "execution_count": 53,
   "id": "ecf584e2-5a05-4fe7-bb59-969bbc5d39a3",
   "metadata": {},
   "outputs": [],
   "source": [
    "def count_num_alpha(x):\n",
    "    c=0\n",
    "    d=0\n",
    "    for i in x:\n",
    "        if i.isalpha():\n",
    "            c+=1\n",
    "        elif i.isnumeric():\n",
    "            d+=1\n",
    "    return {'Number of alphabets':c,'Number of digits':d}"
   ]
  },
  {
   "cell_type": "code",
   "execution_count": 57,
   "id": "41370063-5ae3-4ca3-9d89-bba345a7a706",
   "metadata": {},
   "outputs": [
    {
     "data": {
      "text/plain": [
       "{'Number of alphabets': 19, 'Number of digits': 6}"
      ]
     },
     "execution_count": 57,
     "metadata": {},
     "output_type": "execute_result"
    }
   ],
   "source": [
    "count_num_alpha(t)"
   ]
  },
  {
   "cell_type": "code",
   "execution_count": 62,
   "id": "37699ed2-b404-4d01-8ec8-22ebfbc276af",
   "metadata": {},
   "outputs": [],
   "source": [
    "x='Hyderabad 500008 telangana '\n",
    "def remove_num(x):\n",
    "\n",
    "    y=''\n",
    "    for i in x:\n",
    "        if i.isdigit()==False:\n",
    "            y+=i\n",
    "        return y"
   ]
  },
  {
   "cell_type": "code",
   "execution_count": null,
   "id": "27236f89-a7a6-4f10-932c-1ba4e08cfa3d",
   "metadata": {},
   "outputs": [],
   "source": []
  },
  {
   "cell_type": "code",
   "execution_count": 63,
   "id": "c06393e3-7be9-4aba-8763-3d6d84a7ec3b",
   "metadata": {},
   "outputs": [
    {
     "data": {
      "text/plain": [
       "'H'"
      ]
     },
     "execution_count": 63,
     "metadata": {},
     "output_type": "execute_result"
    }
   ],
   "source": [
    "remove_num(t)"
   ]
  },
  {
   "cell_type": "markdown",
   "id": "eb185ce6-7018-416b-b285-3bcef3cec164",
   "metadata": {},
   "source": [
    "# Day 9 "
   ]
  },
  {
   "cell_type": "code",
   "execution_count": 4,
   "id": "1933bc15-1f5b-483d-8e9d-5335e10db44e",
   "metadata": {},
   "outputs": [
    {
     "data": {
      "text/plain": [
       "list"
      ]
     },
     "execution_count": 4,
     "metadata": {},
     "output_type": "execute_result"
    }
   ],
   "source": [
    "import numpy as np\n",
    "j=[4,6,5,1,2]\n",
    "type(j)\n"
   ]
  },
  {
   "cell_type": "markdown",
   "id": "68bc7ce3-5208-4b0b-8e50-b9ed08abfc8f",
   "metadata": {},
   "source": [
    "numpy is used for array operations \n",
    "pandas is used for Data manipulation and analysis\n",
    "matplotlib and Seaborn are used in Graphical Analysis\n",
    "sklearn is used in machine learning algorithms and techniques\n",
    "stat models is used in  statistical analysis\n",
    "scipy  is used in statistical analysis"
   ]
  },
  {
   "cell_type": "code",
   "execution_count": 4,
   "id": "5d5e913d-e178-466b-b7fd-c7a69421647d",
   "metadata": {},
   "outputs": [
    {
     "data": {
      "text/plain": [
       "array([4, 6, 5, 1, 2])"
      ]
     },
     "execution_count": 4,
     "metadata": {},
     "output_type": "execute_result"
    }
   ],
   "source": [
    "np.array(j)"
   ]
  },
  {
   "cell_type": "code",
   "execution_count": 5,
   "id": "f6b0763b-b260-473a-8786-d8c3497c2a27",
   "metadata": {},
   "outputs": [
    {
     "data": {
      "text/plain": [
       "(4, 6, 5, 1, 2)"
      ]
     },
     "execution_count": 5,
     "metadata": {},
     "output_type": "execute_result"
    }
   ],
   "source": [
    "tuple(j)"
   ]
  },
  {
   "cell_type": "code",
   "execution_count": 6,
   "id": "bbb3e214-7a62-4339-a717-96d4deb7e018",
   "metadata": {},
   "outputs": [
    {
     "data": {
      "text/plain": [
       "array([4, 6, 5, 1, 2])"
      ]
     },
     "execution_count": 6,
     "metadata": {},
     "output_type": "execute_result"
    }
   ],
   "source": [
    "d=np.array(j)\n",
    "d"
   ]
  },
  {
   "cell_type": "code",
   "execution_count": 7,
   "id": "28c1a9a6-c6ee-41ae-917d-8221b38f460a",
   "metadata": {},
   "outputs": [
    {
     "data": {
      "text/plain": [
       "numpy.ndarray"
      ]
     },
     "execution_count": 7,
     "metadata": {},
     "output_type": "execute_result"
    }
   ],
   "source": [
    "type(d)"
   ]
  },
  {
   "cell_type": "code",
   "execution_count": 8,
   "id": "6142cabe-8a92-4434-88e5-2556ce41f79c",
   "metadata": {},
   "outputs": [
    {
     "data": {
      "text/plain": [
       "array([4, 6, 5, 1, 2])"
      ]
     },
     "execution_count": 8,
     "metadata": {},
     "output_type": "execute_result"
    }
   ],
   "source": [
    "d"
   ]
  },
  {
   "cell_type": "code",
   "execution_count": 9,
   "id": "712ccb45-c88c-4a78-b522-305250e38d99",
   "metadata": {},
   "outputs": [
    {
     "data": {
      "text/plain": [
       "(5,)"
      ]
     },
     "execution_count": 9,
     "metadata": {},
     "output_type": "execute_result"
    }
   ],
   "source": [
    "d.shape"
   ]
  },
  {
   "cell_type": "code",
   "execution_count": 10,
   "id": "6a776700-1486-46ca-a31b-201fb8380534",
   "metadata": {},
   "outputs": [
    {
     "data": {
      "text/plain": [
       "[4, 6, 5, 1, 2]"
      ]
     },
     "execution_count": 10,
     "metadata": {},
     "output_type": "execute_result"
    }
   ],
   "source": [
    "j"
   ]
  },
  {
   "cell_type": "code",
   "execution_count": 11,
   "id": "46e6e519-c528-49b3-898c-4ec9f2b720ef",
   "metadata": {},
   "outputs": [
    {
     "data": {
      "text/plain": [
       "1"
      ]
     },
     "execution_count": 11,
     "metadata": {},
     "output_type": "execute_result"
    }
   ],
   "source": [
    "d.ndim"
   ]
  },
  {
   "cell_type": "code",
   "execution_count": 12,
   "id": "4e8abb84-6f11-475f-856b-5f6cce05a040",
   "metadata": {},
   "outputs": [
    {
     "data": {
      "text/plain": [
       "5"
      ]
     },
     "execution_count": 12,
     "metadata": {},
     "output_type": "execute_result"
    }
   ],
   "source": [
    "d.size"
   ]
  },
  {
   "cell_type": "code",
   "execution_count": null,
   "id": "ddde549c-0bd4-4305-a37b-1c5ab1474f39",
   "metadata": {},
   "outputs": [],
   "source": [
    "\n"
   ]
  },
  {
   "cell_type": "code",
   "execution_count": 13,
   "id": "5e9678b6-1aba-41a0-bc76-d1013a7aaaf3",
   "metadata": {},
   "outputs": [
    {
     "data": {
      "text/plain": [
       "[[4, 8, 90, 12],\n",
       " [56, 78, 54, 20],\n",
       " [67, 98, 80, 49],\n",
       " [77, 88, 22, 55],\n",
       " [90, 40, 70, 60]]"
      ]
     },
     "execution_count": 13,
     "metadata": {},
     "output_type": "execute_result"
    }
   ],
   "source": [
    "s=[[4,8,90,12],[56,78,54,20],[67,98,80,49],[77,88,22,55],[90,40,70,60]]\n",
    "s"
   ]
  },
  {
   "cell_type": "code",
   "execution_count": 14,
   "id": "67b7141f-7f1d-49cc-8e75-924616eaee77",
   "metadata": {},
   "outputs": [
    {
     "data": {
      "text/plain": [
       "list"
      ]
     },
     "execution_count": 14,
     "metadata": {},
     "output_type": "execute_result"
    }
   ],
   "source": [
    "type(s)"
   ]
  },
  {
   "cell_type": "code",
   "execution_count": 5,
   "id": "2e968c24-23d7-4596-a780-6fdcc7ca2114",
   "metadata": {},
   "outputs": [
    {
     "ename": "NameError",
     "evalue": "name 'np' is not defined",
     "output_type": "error",
     "traceback": [
      "\u001b[1;31m---------------------------------------------------------------------------\u001b[0m",
      "\u001b[1;31mNameError\u001b[0m                                 Traceback (most recent call last)",
      "Cell \u001b[1;32mIn[5], line 1\u001b[0m\n\u001b[1;32m----> 1\u001b[0m arr1\u001b[38;5;241m=\u001b[39mnp\u001b[38;5;241m.\u001b[39marray(s)\n\u001b[0;32m      2\u001b[0m arr1\n",
      "\u001b[1;31mNameError\u001b[0m: name 'np' is not defined"
     ]
    }
   ],
   "source": [
    "arr1=np.array(s)\n",
    "arr1"
   ]
  },
  {
   "cell_type": "code",
   "execution_count": 18,
   "id": "222e9442-77a3-4366-86c3-b93ebbd77471",
   "metadata": {},
   "outputs": [
    {
     "data": {
      "text/plain": [
       "(5, 4)"
      ]
     },
     "execution_count": 18,
     "metadata": {},
     "output_type": "execute_result"
    }
   ],
   "source": [
    "arr1.shape"
   ]
  },
  {
   "cell_type": "raw",
   "id": "73399ee0-8b93-4790-8f3f-89f40dcfbeca",
   "metadata": {},
   "source": [
    "arr1.size"
   ]
  },
  {
   "cell_type": "code",
   "execution_count": 19,
   "id": "f1fe5585-0edf-4576-8ef3-3c508fa8978c",
   "metadata": {},
   "outputs": [
    {
     "data": {
      "text/plain": [
       "20"
      ]
     },
     "execution_count": 19,
     "metadata": {},
     "output_type": "execute_result"
    }
   ],
   "source": [
    "arr1.size"
   ]
  },
  {
   "cell_type": "code",
   "execution_count": 20,
   "id": "91d0be9b-5863-4968-a575-cc5e4a36fd82",
   "metadata": {},
   "outputs": [
    {
     "data": {
      "text/plain": [
       "2"
      ]
     },
     "execution_count": 20,
     "metadata": {},
     "output_type": "execute_result"
    }
   ],
   "source": [
    "arr1.ndim"
   ]
  },
  {
   "cell_type": "code",
   "execution_count": 29,
   "id": "619ce8e6-c5fd-4ed8-b0ef-f94316d8b0ab",
   "metadata": {},
   "outputs": [
    {
     "data": {
      "text/plain": [
       "array([[ 4,  8, 90, 12],\n",
       "       [56, 78, 54, 20],\n",
       "       [67, 98, 80, 49],\n",
       "       [77, 88, 22, 55],\n",
       "       [90, 40, 70, 60]])"
      ]
     },
     "execution_count": 29,
     "metadata": {},
     "output_type": "execute_result"
    }
   ],
   "source": [
    "arr1.reshape(4,5)\n",
    "arr1"
   ]
  },
  {
   "cell_type": "code",
   "execution_count": 30,
   "id": "5a772ee0-e2ab-4e07-b5a4-d174f325176d",
   "metadata": {},
   "outputs": [
    {
     "data": {
      "text/plain": [
       "(5, 4)"
      ]
     },
     "execution_count": 30,
     "metadata": {},
     "output_type": "execute_result"
    }
   ],
   "source": [
    "arr1.shape"
   ]
  },
  {
   "cell_type": "code",
   "execution_count": 31,
   "id": "9e5088b2-11f8-42bc-bfc4-0158c8bd6c18",
   "metadata": {},
   "outputs": [
    {
     "data": {
      "text/plain": [
       "2"
      ]
     },
     "execution_count": 31,
     "metadata": {},
     "output_type": "execute_result"
    }
   ],
   "source": [
    "arr1.ndim\n"
   ]
  },
  {
   "cell_type": "code",
   "execution_count": 32,
   "id": "3fa2eb7c-d470-4374-9312-f25913e31bf3",
   "metadata": {},
   "outputs": [
    {
     "data": {
      "text/plain": [
       "array([[[ 4,  8, 90, 12, 56],\n",
       "        [78, 54, 20, 67, 98]],\n",
       "\n",
       "       [[80, 49, 77, 88, 22],\n",
       "        [55, 90, 40, 70, 60]]])"
      ]
     },
     "execution_count": 32,
     "metadata": {},
     "output_type": "execute_result"
    }
   ],
   "source": [
    "k=arr1.reshape(2,2,5)\n",
    "k"
   ]
  },
  {
   "cell_type": "code",
   "execution_count": 33,
   "id": "0c71f6b1-b1f0-403c-bfd8-4b042bfb4ad9",
   "metadata": {},
   "outputs": [
    {
     "data": {
      "text/plain": [
       "20"
      ]
     },
     "execution_count": 33,
     "metadata": {},
     "output_type": "execute_result"
    }
   ],
   "source": [
    "k.size"
   ]
  },
  {
   "cell_type": "code",
   "execution_count": 34,
   "id": "580b737f-fa51-4c9a-8ea2-8abc8bdccb04",
   "metadata": {},
   "outputs": [
    {
     "data": {
      "text/plain": [
       "3"
      ]
     },
     "execution_count": 34,
     "metadata": {},
     "output_type": "execute_result"
    }
   ],
   "source": [
    "k.ndim"
   ]
  },
  {
   "cell_type": "code",
   "execution_count": 35,
   "id": "7a7c693d-d1de-4111-adce-be212422fceb",
   "metadata": {},
   "outputs": [
    {
     "data": {
      "text/plain": [
       "(2, 2, 5)"
      ]
     },
     "execution_count": 35,
     "metadata": {},
     "output_type": "execute_result"
    }
   ],
   "source": [
    "k.shape"
   ]
  },
  {
   "cell_type": "code",
   "execution_count": 4,
   "id": "9b00a5fd-d413-486d-8ddf-8d58acd7fa1a",
   "metadata": {},
   "outputs": [
    {
     "ename": "NameError",
     "evalue": "name 'arr1' is not defined",
     "output_type": "error",
     "traceback": [
      "\u001b[1;31m---------------------------------------------------------------------------\u001b[0m",
      "\u001b[1;31mNameError\u001b[0m                                 Traceback (most recent call last)",
      "Cell \u001b[1;32mIn[4], line 1\u001b[0m\n\u001b[1;32m----> 1\u001b[0m arr1\n",
      "\u001b[1;31mNameError\u001b[0m: name 'arr1' is not defined"
     ]
    }
   ],
   "source": [
    "arr1"
   ]
  },
  {
   "cell_type": "code",
   "execution_count": 7,
   "id": "251a8df6-aeba-429b-aade-f81fdaaacfee",
   "metadata": {},
   "outputs": [
    {
     "data": {
      "text/plain": [
       "range(5, 20)"
      ]
     },
     "execution_count": 7,
     "metadata": {},
     "output_type": "execute_result"
    }
   ],
   "source": [
    "range(5,20)"
   ]
  },
  {
   "cell_type": "code",
   "execution_count": 8,
   "id": "6a9fdab4-b4be-4918-bf6f-e540271ba234",
   "metadata": {},
   "outputs": [
    {
     "data": {
      "text/plain": [
       "[3, 4, 5, 6, 7, 8, 9]"
      ]
     },
     "execution_count": 8,
     "metadata": {},
     "output_type": "execute_result"
    }
   ],
   "source": [
    "m=[3,4,5,6,7,8,9]\n",
    "m"
   ]
  },
  {
   "cell_type": "code",
   "execution_count": 9,
   "id": "deea8430-a557-43a7-afeb-0616ff0d9f94",
   "metadata": {},
   "outputs": [
    {
     "data": {
      "text/plain": [
       "[3,\n",
       " 4,\n",
       " 5,\n",
       " 6,\n",
       " 7,\n",
       " 8,\n",
       " 9,\n",
       " 10,\n",
       " 11,\n",
       " 12,\n",
       " 13,\n",
       " 14,\n",
       " 15,\n",
       " 16,\n",
       " 17,\n",
       " 18,\n",
       " 19,\n",
       " 20,\n",
       " 21,\n",
       " 22,\n",
       " 23,\n",
       " 24,\n",
       " 25,\n",
       " 26,\n",
       " 27,\n",
       " 28,\n",
       " 29,\n",
       " 30,\n",
       " 31,\n",
       " 32,\n",
       " 33,\n",
       " 34,\n",
       " 35,\n",
       " 36,\n",
       " 37,\n",
       " 38,\n",
       " 39,\n",
       " 40,\n",
       " 41,\n",
       " 42,\n",
       " 43,\n",
       " 44,\n",
       " 45,\n",
       " 46,\n",
       " 47,\n",
       " 48,\n",
       " 49,\n",
       " 50,\n",
       " 51,\n",
       " 52,\n",
       " 53,\n",
       " 54,\n",
       " 55,\n",
       " 56,\n",
       " 57,\n",
       " 58,\n",
       " 59,\n",
       " 60,\n",
       " 61,\n",
       " 62,\n",
       " 63,\n",
       " 64,\n",
       " 65,\n",
       " 66,\n",
       " 67,\n",
       " 68,\n",
       " 69,\n",
       " 70,\n",
       " 71,\n",
       " 72,\n",
       " 73,\n",
       " 74,\n",
       " 75,\n",
       " 76,\n",
       " 77,\n",
       " 78,\n",
       " 79,\n",
       " 80,\n",
       " 81,\n",
       " 82,\n",
       " 83,\n",
       " 84,\n",
       " 85,\n",
       " 86,\n",
       " 87,\n",
       " 88,\n",
       " 89,\n",
       " 90,\n",
       " 91,\n",
       " 92,\n",
       " 93,\n",
       " 94,\n",
       " 95,\n",
       " 96,\n",
       " 97,\n",
       " 98,\n",
       " 99,\n",
       " 100]"
      ]
     },
     "execution_count": 9,
     "metadata": {},
     "output_type": "execute_result"
    }
   ],
   "source": [
    "list(range(3,101))\n"
   ]
  },
  {
   "cell_type": "code",
   "execution_count": 11,
   "id": "f72c75cc-78e1-41a5-a095-4ccb9904d6a7",
   "metadata": {},
   "outputs": [
    {
     "data": {
      "text/plain": [
       "[3,\n",
       " 6,\n",
       " 9,\n",
       " 12,\n",
       " 15,\n",
       " 18,\n",
       " 21,\n",
       " 24,\n",
       " 27,\n",
       " 30,\n",
       " 33,\n",
       " 36,\n",
       " 39,\n",
       " 42,\n",
       " 45,\n",
       " 48,\n",
       " 51,\n",
       " 54,\n",
       " 57,\n",
       " 60,\n",
       " 63,\n",
       " 66,\n",
       " 69,\n",
       " 72,\n",
       " 75,\n",
       " 78,\n",
       " 81,\n",
       " 84,\n",
       " 87,\n",
       " 90,\n",
       " 93,\n",
       " 96,\n",
       " 99]"
      ]
     },
     "execution_count": 11,
     "metadata": {},
     "output_type": "execute_result"
    }
   ],
   "source": [
    "list(range(3,101,3))\n"
   ]
  },
  {
   "cell_type": "code",
   "execution_count": 12,
   "id": "939e1d1e-68cc-442b-9d6a-28338e42d146",
   "metadata": {},
   "outputs": [
    {
     "data": {
      "text/plain": [
       "[-10, -9, -8, -7, -6, -5, -4, -3, -2, -1, 0]"
      ]
     },
     "execution_count": 12,
     "metadata": {},
     "output_type": "execute_result"
    }
   ],
   "source": [
    "list(range(-10,1))"
   ]
  },
  {
   "cell_type": "code",
   "execution_count": 13,
   "id": "dc1cbfed-79ba-45b8-8fba-818b0a6467a7",
   "metadata": {},
   "outputs": [
    {
     "data": {
      "text/plain": [
       "[-1,\n",
       " -2,\n",
       " -3,\n",
       " -4,\n",
       " -5,\n",
       " -6,\n",
       " -7,\n",
       " -8,\n",
       " -9,\n",
       " -10,\n",
       " -11,\n",
       " -12,\n",
       " -13,\n",
       " -14,\n",
       " -15,\n",
       " -16,\n",
       " -17,\n",
       " -18]"
      ]
     },
     "execution_count": 13,
     "metadata": {},
     "output_type": "execute_result"
    }
   ],
   "source": [
    "list(range(-1,-19,-1))"
   ]
  },
  {
   "cell_type": "code",
   "execution_count": 15,
   "id": "b52aa80f-699d-4736-b101-8af30b1e2c27",
   "metadata": {},
   "outputs": [
    {
     "data": {
      "text/plain": [
       "[-1, -3, -5, -7, -9, -11, -13, -15, -17]"
      ]
     },
     "execution_count": 15,
     "metadata": {},
     "output_type": "execute_result"
    }
   ],
   "source": [
    "list(range(-1,-19,-2))"
   ]
  },
  {
   "cell_type": "code",
   "execution_count": 17,
   "id": "5d6b28c5-c298-423d-9dae-50fbacfc2c17",
   "metadata": {},
   "outputs": [
    {
     "ename": "NameError",
     "evalue": "name 'np' is not defined",
     "output_type": "error",
     "traceback": [
      "\u001b[1;31m---------------------------------------------------------------------------\u001b[0m",
      "\u001b[1;31mNameError\u001b[0m                                 Traceback (most recent call last)",
      "Cell \u001b[1;32mIn[17], line 1\u001b[0m\n\u001b[1;32m----> 1\u001b[0m np\u001b[38;5;241m.\u001b[39marange(\u001b[38;5;241m2.5\u001b[39m,\u001b[38;5;241m5\u001b[39m,\u001b[38;5;241m0.5\u001b[39m)\n",
      "\u001b[1;31mNameError\u001b[0m: name 'np' is not defined"
     ]
    }
   ],
   "source": [
    "np.arange(2.5,5,0.5)"
   ]
  },
  {
   "cell_type": "code",
   "execution_count": 18,
   "id": "1b8b491b-8125-4e04-9340-271a859209ce",
   "metadata": {},
   "outputs": [
    {
     "data": {
      "text/plain": [
       "range(5, 50, 5)"
      ]
     },
     "execution_count": 18,
     "metadata": {},
     "output_type": "execute_result"
    }
   ],
   "source": [
    "range(5,50,5)\n"
   ]
  },
  {
   "cell_type": "code",
   "execution_count": 20,
   "id": "a2d8b202-8c80-4b7a-a1ea-ac7f8eaaeeb6",
   "metadata": {},
   "outputs": [
    {
     "name": "stdout",
     "output_type": "stream",
     "text": [
      "Data 5\n",
      "Data 10\n",
      "Data 15\n",
      "Data 20\n",
      "Data 25\n",
      "Data 30\n",
      "Data 35\n",
      "Data 40\n",
      "Data 45\n"
     ]
    }
   ],
   "source": [
    "for i in range(5,50,5):\n",
    "    print('Data',i)"
   ]
  },
  {
   "cell_type": "code",
   "execution_count": 6,
   "id": "6229b143-4869-4b91-ad8c-816633fea6f5",
   "metadata": {},
   "outputs": [
    {
     "data": {
      "text/plain": [
       "[5, 87, 23, 46, 62, 84, 80, 45, 77, 33, 80]"
      ]
     },
     "execution_count": 6,
     "metadata": {},
     "output_type": "execute_result"
    }
   ],
   "source": [
    "j=[5,87,23,46,62,84,80,45,77,33,80]\n",
    "j"
   ]
  },
  {
   "cell_type": "code",
   "execution_count": 25,
   "id": "d5fa54c7-7119-407b-8533-70989569486d",
   "metadata": {},
   "outputs": [
    {
     "name": "stdout",
     "output_type": "stream",
     "text": [
      "Even  position Number: [0, 2, 4]\n",
      "Odd position Number: [1, 3]\n"
     ]
    }
   ],
   "source": [
    "even_pos = []\n",
    "odd_pos = []\n",
    "j = [1,2,3,4,5]\n",
    "for i in range(len(j)):\n",
    "    if i % 2 == 0:\n",
    "        even_pos.append(i)\n",
    "    else:\n",
    "        odd_pos.append(i)\n",
    "print(\"Even  position Number:\",even_pos)\n",
    "print(\"Odd position Number:\",odd_pos)\n"
   ]
  },
  {
   "cell_type": "markdown",
   "id": "f972542c-8f4b-467f-a77e-e627a36e962b",
   "metadata": {},
   "source": [
    "# Distribution|\n"
   ]
  },
  {
   "cell_type": "code",
   "execution_count": 7,
   "id": "53c46c05-2e06-4dee-9476-622adb95da6b",
   "metadata": {},
   "outputs": [
    {
     "data": {
      "text/plain": [
       "62.0"
      ]
     },
     "execution_count": 7,
     "metadata": {},
     "output_type": "execute_result"
    }
   ],
   "source": [
    "np.median(j)"
   ]
  },
  {
   "cell_type": "code",
   "execution_count": 10,
   "id": "ad00bafd-029d-4bf7-83f3-a1cac4a773a6",
   "metadata": {},
   "outputs": [],
   "source": [
    "import numpy as np"
   ]
  },
  {
   "cell_type": "code",
   "execution_count": 10,
   "id": "06d475ac-c5ad-44ed-8314-4843b3f3fafd",
   "metadata": {},
   "outputs": [
    {
     "data": {
      "text/plain": [
       "array([10, 40, 50, 30, 70])"
      ]
     },
     "execution_count": 10,
     "metadata": {},
     "output_type": "execute_result"
    }
   ],
   "source": [
    "d=np.array([10,40,50,30,70])\n",
    "d"
   ]
  },
  {
   "cell_type": "code",
   "execution_count": 11,
   "id": "bd82e1d5-0187-4a94-b865-c4e8758fd37c",
   "metadata": {},
   "outputs": [
    {
     "data": {
      "text/plain": [
       "40.0"
      ]
     },
     "execution_count": 11,
     "metadata": {},
     "output_type": "execute_result"
    }
   ],
   "source": [
    "np.mean(d)"
   ]
  },
  {
   "cell_type": "code",
   "execution_count": 12,
   "id": "660a6a4b-12d2-4e42-a06c-c8b94facccab",
   "metadata": {},
   "outputs": [
    {
     "data": {
      "text/plain": [
       "40.0"
      ]
     },
     "execution_count": 12,
     "metadata": {},
     "output_type": "execute_result"
    }
   ],
   "source": [
    "np.median(d)"
   ]
  },
  {
   "cell_type": "code",
   "execution_count": 14,
   "id": "b882c4ad-9630-41a5-a6b7-18f1dd80ca72",
   "metadata": {},
   "outputs": [
    {
     "data": {
      "text/plain": [
       "70"
      ]
     },
     "execution_count": 14,
     "metadata": {},
     "output_type": "execute_result"
    }
   ],
   "source": [
    "np.max(d)"
   ]
  },
  {
   "cell_type": "code",
   "execution_count": 15,
   "id": "663d1d23-1130-4663-957d-706047dc67c8",
   "metadata": {},
   "outputs": [
    {
     "data": {
      "text/plain": [
       "10"
      ]
     },
     "execution_count": 15,
     "metadata": {},
     "output_type": "execute_result"
    }
   ],
   "source": [
    "np.min(d)"
   ]
  },
  {
   "cell_type": "code",
   "execution_count": 16,
   "id": "77a95038-5b1e-4561-924e-b15e18027854",
   "metadata": {},
   "outputs": [
    {
     "data": {
      "text/plain": [
       "30.0"
      ]
     },
     "execution_count": 16,
     "metadata": {},
     "output_type": "execute_result"
    }
   ],
   "source": [
    "np.quantile(d,0.25)"
   ]
  },
  {
   "cell_type": "code",
   "execution_count": 18,
   "id": "e217b5ca-cb61-471f-93e8-17469c8e192b",
   "metadata": {},
   "outputs": [],
   "source": [
    "r=np.random.rand(10,5)"
   ]
  },
  {
   "cell_type": "code",
   "execution_count": 19,
   "id": "23961036-9511-4f73-b866-ac5049f2e4ca",
   "metadata": {},
   "outputs": [
    {
     "data": {
      "text/plain": [
       "array([0.53347472, 0.62434912, 0.92707904, 0.67148365, 0.90636583,\n",
       "       0.78415671, 0.80243643, 0.10411747, 0.85132756, 0.13932163,\n",
       "       0.06345347, 0.25861719, 0.38983066, 0.66356236, 0.36733223,\n",
       "       0.87999898, 0.99378306, 0.78628328, 0.3809913 , 0.57793028,\n",
       "       0.67078744, 0.80575655, 0.62559087, 0.77121264, 0.98767992,\n",
       "       0.61383787, 0.16357963, 0.55711932, 0.49185069, 0.9196626 ,\n",
       "       0.28406265, 0.13688747, 0.44455313, 0.12643682, 0.56151829,\n",
       "       0.17929608, 0.57666158, 0.83161078, 0.45223008, 0.28368498,\n",
       "       0.70317883, 0.75203964, 0.7102554 , 0.44596289, 0.1029511 ,\n",
       "       0.98809961, 0.48648537, 0.94992338, 0.02692679, 0.66501093,\n",
       "       0.71404551, 0.60307946, 0.60966848, 0.86332102, 0.10982391,\n",
       "       0.44124066, 0.97992493, 0.31054347, 0.25906301, 0.47202307,\n",
       "       0.09731799, 0.03297855, 0.69861748, 0.87567338, 0.38028042,\n",
       "       0.22266215, 0.0782236 , 0.34398804, 0.35207613, 0.80491206,\n",
       "       0.23933781, 0.85294354, 0.49052214, 0.52012868, 0.12916671,\n",
       "       0.54260019, 0.96036185, 0.85702707, 0.79492346, 0.67548127,\n",
       "       0.69662285, 0.98508787, 0.10266474, 0.64136094, 0.90408558,\n",
       "       0.5588498 , 0.67937388, 0.79952744, 0.70424028, 0.39081268,\n",
       "       0.73905733, 0.07281588, 0.70021486, 0.93521686, 0.82433071,\n",
       "       0.94426701, 0.59646834, 0.70156034, 0.67783554, 0.99095941])"
      ]
     },
     "execution_count": 19,
     "metadata": {},
     "output_type": "execute_result"
    }
   ],
   "source": [
    "\n",
    "np.random.rand(100)"
   ]
  },
  {
   "cell_type": "code",
   "execution_count": 20,
   "id": "d3566653-2a0d-4a9d-8098-8a753f1dade7",
   "metadata": {},
   "outputs": [
    {
     "data": {
      "text/plain": [
       "(10, 5)"
      ]
     },
     "execution_count": 20,
     "metadata": {},
     "output_type": "execute_result"
    }
   ],
   "source": [
    "r.shape"
   ]
  },
  {
   "cell_type": "code",
   "execution_count": 21,
   "id": "0f19b929-921d-4205-8fe8-b12831332b10",
   "metadata": {},
   "outputs": [
    {
     "data": {
      "text/plain": [
       "2"
      ]
     },
     "execution_count": 21,
     "metadata": {},
     "output_type": "execute_result"
    }
   ],
   "source": [
    "r.ndim"
   ]
  },
  {
   "cell_type": "code",
   "execution_count": 22,
   "id": "76a6b359-0648-4c48-b441-7936cb3186e8",
   "metadata": {},
   "outputs": [
    {
     "data": {
      "text/plain": [
       "50"
      ]
     },
     "execution_count": 22,
     "metadata": {},
     "output_type": "execute_result"
    }
   ],
   "source": [
    "r.size"
   ]
  },
  {
   "cell_type": "code",
   "execution_count": 24,
   "id": "7d967b7a-0bc3-4dc7-9209-ddfa557eff71",
   "metadata": {},
   "outputs": [
    {
     "data": {
      "text/plain": [
       "array([[-0.66754017,  1.00670536, -0.14817622,  0.06640884],\n",
       "       [ 1.00680028,  2.14776861, -0.49249617,  1.15973406],\n",
       "       [-0.68366868,  0.73589138, -2.46065079,  0.96878586],\n",
       "       [ 0.48345871,  1.06921066, -1.76592977,  1.17660859],\n",
       "       [-0.70965659,  0.32417862, -1.04772154,  0.36553318],\n",
       "       [ 0.64633073,  0.16732216, -0.76646188,  1.55163661],\n",
       "       [-0.53432359, -0.71184088, -1.09127139, -0.37620182],\n",
       "       [-0.39638394,  2.05640657, -1.79764305, -0.99718156],\n",
       "       [-0.24145777,  0.73226212,  0.63617364, -1.79154887],\n",
       "       [-1.79678964,  0.84981547, -0.03651313,  1.01649485]])"
      ]
     },
     "execution_count": 24,
     "metadata": {},
     "output_type": "execute_result"
    }
   ],
   "source": [
    "np.random.randn(10,4)"
   ]
  },
  {
   "cell_type": "code",
   "execution_count": 25,
   "id": "c2e0efb7-8fab-42c3-80e8-75b50404a4bc",
   "metadata": {},
   "outputs": [
    {
     "data": {
      "text/plain": [
       "array([[ 0.40183227],\n",
       "       [-0.46156589],\n",
       "       [ 0.57348107],\n",
       "       [ 0.71311403],\n",
       "       [ 0.21976413],\n",
       "       [-1.32958186],\n",
       "       [ 0.48977819],\n",
       "       [ 0.26883347],\n",
       "       [-0.08594325],\n",
       "       [-0.30998523],\n",
       "       [-0.81414488],\n",
       "       [ 1.55589674],\n",
       "       [-0.61113138],\n",
       "       [ 0.23214565],\n",
       "       [-0.84810448],\n",
       "       [-0.60830433],\n",
       "       [ 0.38684873],\n",
       "       [ 0.41478253],\n",
       "       [-0.30683251],\n",
       "       [ 1.18614532],\n",
       "       [-0.36506255],\n",
       "       [ 1.38768317],\n",
       "       [-0.51777145],\n",
       "       [ 1.27363773],\n",
       "       [ 0.15189973],\n",
       "       [-0.51989517],\n",
       "       [ 0.53167484],\n",
       "       [ 0.7272459 ],\n",
       "       [ 0.80142666],\n",
       "       [-0.00227117]])"
      ]
     },
     "execution_count": 25,
     "metadata": {},
     "output_type": "execute_result"
    }
   ],
   "source": [
    "np.random.randn(30,1)"
   ]
  },
  {
   "cell_type": "code",
   "execution_count": 26,
   "id": "e811e145-6a6a-4515-ae77-fa51c0a1bc10",
   "metadata": {},
   "outputs": [
    {
     "data": {
      "text/plain": [
       "array([[ 7.47169394, 11.4450046 ,  9.25093136,  8.0673772 , 10.40091595],\n",
       "       [10.21294017,  9.16513744, 12.94514757,  7.95503803,  8.3178834 ],\n",
       "       [12.42050297,  9.12211077,  9.36119928,  8.81923422,  4.40592208],\n",
       "       [ 6.21258363,  8.7680165 ,  8.49946781,  6.76251452,  5.28377386]])"
      ]
     },
     "execution_count": 26,
     "metadata": {},
     "output_type": "execute_result"
    }
   ],
   "source": [
    "np.random.normal(10,2,(4,5))"
   ]
  },
  {
   "cell_type": "code",
   "execution_count": 27,
   "id": "7bbe8ee7-91a3-487a-b472-509f54747dee",
   "metadata": {},
   "outputs": [
    {
     "data": {
      "text/plain": [
       "42.90104759482502"
      ]
     },
     "execution_count": 27,
     "metadata": {},
     "output_type": "execute_result"
    }
   ],
   "source": [
    "np.random.normal(40,5)"
   ]
  },
  {
   "cell_type": "code",
   "execution_count": 1,
   "id": "a197c64c-90a7-4d8a-ba2e-917dbae154dc",
   "metadata": {},
   "outputs": [
    {
     "ename": "NameError",
     "evalue": "name 'np' is not defined",
     "output_type": "error",
     "traceback": [
      "\u001b[1;31m---------------------------------------------------------------------------\u001b[0m",
      "\u001b[1;31mNameError\u001b[0m                                 Traceback (most recent call last)",
      "Cell \u001b[1;32mIn[1], line 1\u001b[0m\n\u001b[1;32m----> 1\u001b[0m np\u001b[38;5;241m.\u001b[39mrandom\u001b[38;5;241m.\u001b[39mrandint\n",
      "\u001b[1;31mNameError\u001b[0m: name 'np' is not defined"
     ]
    }
   ],
   "source": [
    "np.random.randint\n"
   ]
  },
  {
   "cell_type": "markdown",
   "id": "098bd806-7012-4328-b64e-5f8af803d883",
   "metadata": {},
   "source": [
    "# Day 10\n"
   ]
  },
  {
   "cell_type": "code",
   "execution_count": 1,
   "id": "382ddf96-0922-4c4c-9ee0-1233e6040e3d",
   "metadata": {},
   "outputs": [
    {
     "data": {
      "text/plain": [
       "[30, 20, 5, 8, 9]"
      ]
     },
     "execution_count": 1,
     "metadata": {},
     "output_type": "execute_result"
    }
   ],
   "source": [
    "h=[30,20,5,8,9]\n",
    "h"
   ]
  },
  {
   "cell_type": "code",
   "execution_count": 3,
   "id": "72ff6315-5fc5-4196-8715-57331cdbb1f9",
   "metadata": {},
   "outputs": [
    {
     "name": "stdout",
     "output_type": "stream",
     "text": [
      "Updated list:  [37, 27, 12, 15, 16]\n"
     ]
    }
   ],
   "source": [
    "updated=[]\n",
    "for i in h:\n",
    "    updated.append(7+i)\n",
    "print(\"Updated list: \",updated)"
   ]
  },
  {
   "cell_type": "code",
   "execution_count": 4,
   "id": "1177f7c8-11c7-406c-acbc-3acdfcbf1382",
   "metadata": {},
   "outputs": [
    {
     "data": {
      "text/plain": [
       "(6, 2, 3, 9, 7, 5, 8)"
      ]
     },
     "execution_count": 4,
     "metadata": {},
     "output_type": "execute_result"
    }
   ],
   "source": [
    "s=(6,2,3,9,7,5,8)\n",
    "s"
   ]
  },
  {
   "cell_type": "code",
   "execution_count": 6,
   "id": "d20fe596-8bb0-4780-b8f9-b422ebe55e9a",
   "metadata": {},
   "outputs": [
    {
     "name": "stdout",
     "output_type": "stream",
     "text": [
      "Squares of number in tuple: [36, 4, 9, 81, 49, 25, 64]\n"
     ]
    }
   ],
   "source": [
    "d=[]\n",
    "for i in s:\n",
    "    d.append(i*i)\n",
    "print(\"Squares of number in tuple:\",d)"
   ]
  },
  {
   "cell_type": "code",
   "execution_count": 7,
   "id": "d133757f-affd-4f09-ae50-6b0671bb0c78",
   "metadata": {},
   "outputs": [
    {
     "data": {
      "text/plain": [
       "(36, 4, 9, 81, 49, 25, 64)"
      ]
     },
     "execution_count": 7,
     "metadata": {},
     "output_type": "execute_result"
    }
   ],
   "source": [
    "e=tuple(d)\n",
    "e"
   ]
  },
  {
   "cell_type": "code",
   "execution_count": 11,
   "id": "32ddde02-3093-4431-b9ab-764b7eadf14d",
   "metadata": {},
   "outputs": [],
   "source": [
    "arr=np.array([20,50,30,70,80,40,36,54,23,98])"
   ]
  },
  {
   "cell_type": "code",
   "execution_count": 12,
   "id": "98373e5f-2ed4-4e73-9374-e43cf43ecb47",
   "metadata": {},
   "outputs": [
    {
     "data": {
      "text/plain": [
       "array([20, 50, 30, 70, 80, 40, 36, 54, 23, 98])"
      ]
     },
     "execution_count": 12,
     "metadata": {},
     "output_type": "execute_result"
    }
   ],
   "source": [
    "arr"
   ]
  },
  {
   "cell_type": "code",
   "execution_count": 14,
   "id": "7e5df735-a085-45a0-aae4-f222da1b6519",
   "metadata": {},
   "outputs": [
    {
     "data": {
      "text/plain": [
       "array([ 27,  57,  37,  77,  87,  47,  43,  61,  30, 105])"
      ]
     },
     "execution_count": 14,
     "metadata": {},
     "output_type": "execute_result"
    }
   ],
   "source": [
    "t=arr+7\n",
    "t"
   ]
  },
  {
   "cell_type": "code",
   "execution_count": 15,
   "id": "f0870b56-23a5-4f89-b28c-db5e556ae96e",
   "metadata": {},
   "outputs": [
    {
     "data": {
      "text/plain": [
       "array([100, 250, 150, 350, 400, 200, 180, 270, 115, 490])"
      ]
     },
     "execution_count": 15,
     "metadata": {},
     "output_type": "execute_result"
    }
   ],
   "source": [
    "arr*5"
   ]
  },
  {
   "cell_type": "code",
   "execution_count": 18,
   "id": "09a3370c-f05c-4185-885b-e2e1430d2004",
   "metadata": {},
   "outputs": [
    {
     "data": {
      "text/plain": [
       "array([False, False, False,  True,  True, False, False,  True, False,\n",
       "        True])"
      ]
     },
     "execution_count": 18,
     "metadata": {},
     "output_type": "execute_result"
    }
   ],
   "source": [
    "arr>50"
   ]
  },
  {
   "cell_type": "code",
   "execution_count": 19,
   "id": "0e75cc40-d98a-4d32-a50f-dc33d03b2842",
   "metadata": {},
   "outputs": [],
   "source": [
    "arr=np.array([20,50,30,70,80,40,36,54,23,98])"
   ]
  },
  {
   "cell_type": "code",
   "execution_count": 21,
   "id": "e8d5b10f-8e2a-4533-ada6-7b1bae1a7e34",
   "metadata": {},
   "outputs": [
    {
     "data": {
      "text/plain": [
       "array([20, 50, 30, 70, 80, 40, 36, 54, 23, 98])"
      ]
     },
     "execution_count": 21,
     "metadata": {},
     "output_type": "execute_result"
    }
   ],
   "source": [
    "k=arr\n",
    "k"
   ]
  },
  {
   "cell_type": "code",
   "execution_count": 22,
   "id": "84296bbd-a144-4d3a-b010-f2c7af1ed550",
   "metadata": {},
   "outputs": [
    {
     "data": {
      "text/plain": [
       "array([20, 50, 30, 70, 80, 40, 36, 54, 23, 98])"
      ]
     },
     "execution_count": 22,
     "metadata": {},
     "output_type": "execute_result"
    }
   ],
   "source": [
    "k"
   ]
  },
  {
   "cell_type": "code",
   "execution_count": 25,
   "id": "21f1b990-88c2-468a-be98-ed4bfe32c91a",
   "metadata": {},
   "outputs": [
    {
     "data": {
      "text/plain": [
       "[3, 4, 7, 9]"
      ]
     },
     "execution_count": 25,
     "metadata": {},
     "output_type": "execute_result"
    }
   ],
   "source": [
    "index=[]\n",
    "for i in range(len(k)):\n",
    "    if k[i]>50:\n",
    "        index.append(i)\n",
    "index"
   ]
  },
  {
   "cell_type": "raw",
   "id": "a0a14079-8a9a-423e-89db-1dbb01b3fb0d",
   "metadata": {},
   "source": [
    "np.where(arr>50)"
   ]
  },
  {
   "cell_type": "code",
   "execution_count": 1,
   "id": "a3989711-94c2-49c7-a59b-c78e0056b798",
   "metadata": {},
   "outputs": [
    {
     "ename": "NameError",
     "evalue": "name 'np' is not defined",
     "output_type": "error",
     "traceback": [
      "\u001b[1;31m---------------------------------------------------------------------------\u001b[0m",
      "\u001b[1;31mNameError\u001b[0m                                 Traceback (most recent call last)",
      "Cell \u001b[1;32mIn[1], line 1\u001b[0m\n\u001b[1;32m----> 1\u001b[0m np\u001b[38;5;241m.\u001b[39mwhere(arr\u001b[38;5;241m>\u001b[39m\u001b[38;5;241m50\u001b[39m)\n",
      "\u001b[1;31mNameError\u001b[0m: name 'np' is not defined"
     ]
    }
   ],
   "source": [
    "np.where(arr>50)\n"
   ]
  },
  {
   "cell_type": "code",
   "execution_count": 5,
   "id": "bb776d63-0e99-4d62-81ce-8a617c9a537a",
   "metadata": {},
   "outputs": [],
   "source": [
    "import pandas as pd\n",
    "import numpy as np"
   ]
  },
  {
   "cell_type": "code",
   "execution_count": 6,
   "id": "db434a69-be4e-47ba-a01e-2f21e44d0e88",
   "metadata": {},
   "outputs": [],
   "source": [
    "a=np.array([20,46,87,6,3,4,9,454,96,3])"
   ]
  },
  {
   "cell_type": "code",
   "execution_count": 7,
   "id": "b866ed34-1602-4770-8d1c-99719a4c9420",
   "metadata": {},
   "outputs": [
    {
     "data": {
      "text/plain": [
       "array([ 20,  46,  87,   6,   3,   4,   9, 454,  96,   3])"
      ]
     },
     "execution_count": 7,
     "metadata": {},
     "output_type": "execute_result"
    }
   ],
   "source": [
    "a"
   ]
  },
  {
   "cell_type": "raw",
   "id": "667c0f17-0367-4929-bde7-ecaabaff2e2c",
   "metadata": {},
   "source": [
    "a[-5:-12:-1]"
   ]
  },
  {
   "cell_type": "code",
   "execution_count": 8,
   "id": "619a68f0-3321-4897-af3f-1b0b6529f4aa",
   "metadata": {},
   "outputs": [
    {
     "data": {
      "text/plain": [
       "array([ 4,  3,  6, 87, 46, 20])"
      ]
     },
     "execution_count": 8,
     "metadata": {},
     "output_type": "execute_result"
    }
   ],
   "source": [
    "a[-5:-12:-1]"
   ]
  },
  {
   "cell_type": "code",
   "execution_count": 9,
   "id": "b86df04c-1b40-4a53-8292-7cec2e97c05f",
   "metadata": {},
   "outputs": [
    {
     "data": {
      "text/plain": [
       "1"
      ]
     },
     "execution_count": 9,
     "metadata": {},
     "output_type": "execute_result"
    }
   ],
   "source": [
    "a.ndim"
   ]
  },
  {
   "cell_type": "code",
   "execution_count": 14,
   "id": "736930ba-fa62-41ac-9bcd-06cb9863cc4a",
   "metadata": {},
   "outputs": [
    {
     "data": {
      "text/plain": [
       "array([[63, 45, 50, 48, 63, 67, 69, 64],\n",
       "       [51, 61, 53, 52, 61, 63, 68, 54],\n",
       "       [59, 46, 53, 55, 68, 45, 56, 69],\n",
       "       [69, 53, 48, 60, 58, 56, 51, 58],\n",
       "       [59, 47, 68, 60, 47, 66, 58, 45],\n",
       "       [59, 46, 45, 46, 52, 64, 62, 63],\n",
       "       [56, 49, 63, 65, 62, 53, 60, 55]])"
      ]
     },
     "execution_count": 14,
     "metadata": {},
     "output_type": "execute_result"
    }
   ],
   "source": [
    "np.random.seed(94)\n",
    "b=np.random.randint(45,70,(7,8))\n",
    "b"
   ]
  },
  {
   "cell_type": "code",
   "execution_count": 16,
   "id": "d0756f4e-33aa-4ef0-8934-1195528e7dab",
   "metadata": {},
   "outputs": [
    {
     "data": {
      "text/plain": [
       "array([59, 46, 53, 55, 68, 45, 56, 69])"
      ]
     },
     "execution_count": 16,
     "metadata": {},
     "output_type": "execute_result"
    }
   ],
   "source": [
    "b[2] # accessing 2nd row"
   ]
  },
  {
   "cell_type": "code",
   "execution_count": 17,
   "id": "a5d47fa8-798a-4704-a0a5-3dc1133d97fb",
   "metadata": {},
   "outputs": [
    {
     "data": {
      "text/plain": [
       "array([64, 54, 69, 58, 45, 63, 55])"
      ]
     },
     "execution_count": 17,
     "metadata": {},
     "output_type": "execute_result"
    }
   ],
   "source": [
    "b[:,7] #accessing the 7th coloumn\n"
   ]
  },
  {
   "cell_type": "code",
   "execution_count": 18,
   "id": "f4f5eed4-7797-4042-bd7f-6da1fd344436",
   "metadata": {},
   "outputs": [
    {
     "data": {
      "text/plain": [
       "array([69, 53, 48, 60, 58, 56, 51, 58])"
      ]
     },
     "execution_count": 18,
     "metadata": {},
     "output_type": "execute_result"
    }
   ],
   "source": [
    "b[-4] #accessing the 4th row"
   ]
  },
  {
   "cell_type": "code",
   "execution_count": 20,
   "id": "591b6960-5841-432d-97cd-d45867edc946",
   "metadata": {},
   "outputs": [
    {
     "data": {
      "text/plain": [
       "52"
      ]
     },
     "execution_count": 20,
     "metadata": {},
     "output_type": "execute_result"
    }
   ],
   "source": [
    "b[1,3]#accessing the  1st row and 3 column position"
   ]
  },
  {
   "cell_type": "code",
   "execution_count": 22,
   "id": "fe08f074-0629-4eaf-9ce5-4db7123c419a",
   "metadata": {},
   "outputs": [
    {
     "data": {
      "text/plain": [
       "62"
      ]
     },
     "execution_count": 22,
     "metadata": {},
     "output_type": "execute_result"
    }
   ],
   "source": [
    "b[5,6] #accessing the 5th row and 6th column position"
   ]
  },
  {
   "cell_type": "code",
   "execution_count": 23,
   "id": "0f9858f0-980e-4271-9e92-6f72a5d6999d",
   "metadata": {},
   "outputs": [
    {
     "data": {
      "text/plain": [
       "array([48, 52, 55, 60, 60, 46, 65])"
      ]
     },
     "execution_count": 23,
     "metadata": {},
     "output_type": "execute_result"
    }
   ],
   "source": [
    "b[:,3] # accessing the 3rd column"
   ]
  },
  {
   "cell_type": "code",
   "execution_count": 24,
   "id": "e4a4eee3-ed28-45ea-845d-36ce2df9219b",
   "metadata": {},
   "outputs": [
    {
     "data": {
      "text/plain": [
       "array([[63, 45, 50, 48, 63, 67, 69, 64],\n",
       "       [51, 61, 53, 52, 61, 63, 68, 54],\n",
       "       [59, 46, 53, 55, 68, 45, 56, 69],\n",
       "       [69, 53, 48, 60, 58, 56, 51, 58],\n",
       "       [59, 47, 68, 60, 47, 66, 58, 45],\n",
       "       [59, 46, 45, 46, 52, 64, 62, 63],\n",
       "       [56, 49, 63, 65, 62, 53, 60, 55]])"
      ]
     },
     "execution_count": 24,
     "metadata": {},
     "output_type": "execute_result"
    }
   ],
   "source": [
    "b"
   ]
  },
  {
   "cell_type": "code",
   "execution_count": 25,
   "id": "842948c3-2094-458f-9065-ff44454d8db6",
   "metadata": {},
   "outputs": [
    {
     "data": {
      "text/plain": [
       "array([59, 46, 53, 55, 68, 45, 56, 69])"
      ]
     },
     "execution_count": 25,
     "metadata": {},
     "output_type": "execute_result"
    }
   ],
   "source": [
    "b[2]"
   ]
  },
  {
   "cell_type": "code",
   "execution_count": 29,
   "id": "a08acb02-4eee-4fd9-9af4-c0d8c442b4d7",
   "metadata": {},
   "outputs": [
    {
     "data": {
      "text/plain": [
       "array([46, 53, 55, 68, 45])"
      ]
     },
     "execution_count": 29,
     "metadata": {},
     "output_type": "execute_result"
    }
   ],
   "source": [
    "b[2,1:6]"
   ]
  },
  {
   "cell_type": "code",
   "execution_count": 31,
   "id": "e00831ae-6346-43bf-b076-a90867d0d9d3",
   "metadata": {},
   "outputs": [
    {
     "ename": "NameError",
     "evalue": "name 'array' is not defined",
     "output_type": "error",
     "traceback": [
      "\u001b[1;31m---------------------------------------------------------------------------\u001b[0m",
      "\u001b[1;31mNameError\u001b[0m                                 Traceback (most recent call last)",
      "Cell \u001b[1;32mIn[31], line 1\u001b[0m\n\u001b[1;32m----> 1\u001b[0m array[row_start : row\u001b[38;5;241m-\u001b[39mend : row\u001b[38;5;241m-\u001b[39mstep]\n",
      "\u001b[1;31mNameError\u001b[0m: name 'array' is not defined"
     ]
    }
   ],
   "source": [
    "array[row_start : row-end : row-step]"
   ]
  },
  {
   "cell_type": "code",
   "execution_count": 32,
   "id": "50f72fe3-5892-44cb-935c-65773924464a",
   "metadata": {},
   "outputs": [
    {
     "data": {
      "text/plain": [
       "array([[63, 45, 50, 48, 63, 67, 69, 64],\n",
       "       [51, 61, 53, 52, 61, 63, 68, 54],\n",
       "       [59, 46, 53, 55, 68, 45, 56, 69],\n",
       "       [69, 53, 48, 60, 58, 56, 51, 58],\n",
       "       [59, 47, 68, 60, 47, 66, 58, 45],\n",
       "       [59, 46, 45, 46, 52, 64, 62, 63],\n",
       "       [56, 49, 63, 65, 62, 53, 60, 55]])"
      ]
     },
     "execution_count": 32,
     "metadata": {},
     "output_type": "execute_result"
    }
   ],
   "source": [
    "b"
   ]
  },
  {
   "cell_type": "code",
   "execution_count": 33,
   "id": "fc8d736c-1c19-4644-9eec-7ff168c0772c",
   "metadata": {},
   "outputs": [
    {
     "data": {
      "text/plain": [
       "array([[51, 61, 53, 52, 61, 63, 68, 54],\n",
       "       [59, 46, 53, 55, 68, 45, 56, 69],\n",
       "       [69, 53, 48, 60, 58, 56, 51, 58],\n",
       "       [59, 47, 68, 60, 47, 66, 58, 45],\n",
       "       [59, 46, 45, 46, 52, 64, 62, 63]])"
      ]
     },
     "execution_count": 33,
     "metadata": {},
     "output_type": "execute_result"
    }
   ],
   "source": [
    "b[1:6]"
   ]
  },
  {
   "cell_type": "code",
   "execution_count": 41,
   "id": "20469e01-3a91-45d1-8756-a82f069675ff",
   "metadata": {},
   "outputs": [
    {
     "data": {
      "text/plain": [
       "array([[59, 46, 53, 55, 68, 45, 56, 69],\n",
       "       [69, 53, 48, 60, 58, 56, 51, 58]])"
      ]
     },
     "execution_count": 41,
     "metadata": {},
     "output_type": "execute_result"
    }
   ],
   "source": [
    "b[2:4]"
   ]
  },
  {
   "cell_type": "code",
   "execution_count": 43,
   "id": "fca26fc1-5eb8-4a76-9853-a37d54f12efb",
   "metadata": {},
   "outputs": [
    {
     "data": {
      "text/plain": [
       "array([[61, 53, 52, 61, 63],\n",
       "       [53, 48, 60, 58, 56],\n",
       "       [46, 45, 46, 52, 64]])"
      ]
     },
     "execution_count": 43,
     "metadata": {},
     "output_type": "execute_result"
    }
   ],
   "source": [
    "b[1:6:2,1:6]"
   ]
  },
  {
   "cell_type": "code",
   "execution_count": 46,
   "id": "b0e94b00-788a-4e16-a7d3-7f988df4fb17",
   "metadata": {},
   "outputs": [
    {
     "data": {
      "text/plain": [
       "array([[53, 52, 61, 63],\n",
       "       [48, 60, 58, 56],\n",
       "       [45, 46, 52, 64]])"
      ]
     },
     "execution_count": 46,
     "metadata": {},
     "output_type": "execute_result"
    }
   ],
   "source": [
    "b[1:6:2,2:6]"
   ]
  },
  {
   "cell_type": "code",
   "execution_count": 47,
   "id": "9133192b-8b24-4f2f-bab4-6dacc5986d2e",
   "metadata": {},
   "outputs": [
    {
     "data": {
      "text/plain": [
       "array([[48, 60, 58, 56],\n",
       "       [68, 60, 47, 66],\n",
       "       [45, 46, 52, 64]])"
      ]
     },
     "execution_count": 47,
     "metadata": {},
     "output_type": "execute_result"
    }
   ],
   "source": [
    "b[3:6,2:6]"
   ]
  },
  {
   "cell_type": "code",
   "execution_count": 48,
   "id": "a4bec7db-d33d-43c9-ba80-35d2a6eb0ec5",
   "metadata": {},
   "outputs": [
    {
     "data": {
      "text/plain": [
       "array([[63, 45, 50, 48, 63, 67, 69, 64],\n",
       "       [51, 61, 53, 52, 61, 63, 68, 54],\n",
       "       [59, 46, 53, 55, 68, 45, 56, 69],\n",
       "       [69, 53, 48, 60, 58, 56, 51, 58],\n",
       "       [59, 47, 68, 60, 47, 66, 58, 45],\n",
       "       [59, 46, 45, 46, 52, 64, 62, 63],\n",
       "       [56, 49, 63, 65, 62, 53, 60, 55]])"
      ]
     },
     "execution_count": 48,
     "metadata": {},
     "output_type": "execute_result"
    }
   ],
   "source": [
    "b\n"
   ]
  },
  {
   "cell_type": "code",
   "execution_count": 49,
   "id": "56996b6f-b800-40a3-8360-c292ffd02111",
   "metadata": {},
   "outputs": [
    {
     "data": {
      "text/plain": [
       "array([[51, 61, 53, 52, 61, 63, 68, 54],\n",
       "       [69, 53, 48, 60, 58, 56, 51, 58],\n",
       "       [59, 46, 45, 46, 52, 64, 62, 63]])"
      ]
     },
     "execution_count": 49,
     "metadata": {},
     "output_type": "execute_result"
    }
   ],
   "source": [
    "b[1:6:2]"
   ]
  },
  {
   "cell_type": "code",
   "execution_count": 50,
   "id": "f2a27d14-3ee8-4b8f-8cc5-39c79af7f879",
   "metadata": {},
   "outputs": [
    {
     "data": {
      "text/plain": [
       "array([[61, 61, 54],\n",
       "       [53, 58, 58],\n",
       "       [46, 52, 63]])"
      ]
     },
     "execution_count": 50,
     "metadata": {},
     "output_type": "execute_result"
    }
   ],
   "source": [
    "b[1:6:2, 1:8:3]"
   ]
  },
  {
   "cell_type": "code",
   "execution_count": null,
   "id": "f125b948-0b34-4f20-9b1e-3830683c7361",
   "metadata": {},
   "outputs": [],
   "source": []
  }
 ],
 "metadata": {
  "kernelspec": {
   "display_name": "Python 3 (ipykernel)",
   "language": "python",
   "name": "python3"
  },
  "language_info": {
   "codemirror_mode": {
    "name": "ipython",
    "version": 3
   },
   "file_extension": ".py",
   "mimetype": "text/x-python",
   "name": "python",
   "nbconvert_exporter": "python",
   "pygments_lexer": "ipython3",
   "version": "3.12.7"
  }
 },
 "nbformat": 4,
 "nbformat_minor": 5
}
