{
 "cells": [
  {
   "cell_type": "code",
   "execution_count": 1,
   "id": "cc46d8a4-ece5-4cee-8845-3b4a31e55e87",
   "metadata": {},
   "outputs": [
    {
     "name": "stdout",
     "output_type": "stream",
     "text": [
      "81\n"
     ]
    }
   ],
   "source": [
    "a =3\n",
    "b = 4\n",
    "c = a**b\n",
    "print(c)"
   ]
  },
  {
   "cell_type": "code",
   "execution_count": null,
   "id": "8cbca0aa-4bd9-42e6-ba04-5b4d12e1d075",
   "metadata": {},
   "outputs": [],
   "source": []
  },
  {
   "cell_type": "markdown",
   "id": "6180eece-2bce-4b70-83aa-6669523347c2",
   "metadata": {},
   "source": [
    "# addition +\n",
    "# multiplication *\n",
    "# substraction -\n",
    "# division /\n",
    "# remainder %\n",
    "# power **\n",
    "# floor division //"
   ]
  },
  {
   "cell_type": "markdown",
   "id": "a0425e1a-a8ca-476c-bf4b-5863ef7ec284",
   "metadata": {},
   "source": [
    "a + b\n"
   ]
  },
  {
   "cell_type": "code",
   "execution_count": 4,
   "id": "75858069-c032-4f23-a79f-67caed7f0457",
   "metadata": {},
   "outputs": [
    {
     "name": "stdout",
     "output_type": "stream",
     "text": [
      "-1\n"
     ]
    }
   ],
   "source": [
    "r =  a - b\n",
    "print (r)"
   ]
  },
  {
   "cell_type": "code",
   "execution_count": 6,
   "id": "a44b1c71-5495-4fef-9c6a-cae6159f6697",
   "metadata": {},
   "outputs": [
    {
     "name": "stdout",
     "output_type": "stream",
     "text": [
      "3\n"
     ]
    }
   ],
   "source": [
    "z = a % b\n",
    "print(z)"
   ]
  },
  {
   "cell_type": "code",
   "execution_count": 7,
   "id": "ace906c0-9da8-4c86-b857-b2c38840e722",
   "metadata": {},
   "outputs": [
    {
     "data": {
      "text/plain": [
       "81"
      ]
     },
     "execution_count": 7,
     "metadata": {},
     "output_type": "execute_result"
    }
   ],
   "source": [
    "a ** b"
   ]
  },
  {
   "cell_type": "code",
   "execution_count": 8,
   "id": "335729d3-8e20-4fca-bf25-ed3f28c9c079",
   "metadata": {},
   "outputs": [
    {
     "data": {
      "text/plain": [
       "0"
      ]
     },
     "execution_count": 8,
     "metadata": {},
     "output_type": "execute_result"
    }
   ],
   "source": [
    "a // b\n"
   ]
  },
  {
   "cell_type": "code",
   "execution_count": 9,
   "id": "1c008e19-327b-4ee9-aaf1-1e68ed6bc6a6",
   "metadata": {},
   "outputs": [
    {
     "name": "stdout",
     "output_type": "stream",
     "text": [
      "19498772380737955855029406086015905908179064742141477879768789357285222141704467212293032116224\n"
     ]
    }
   ],
   "source": [
    " i = 52\n",
    " j = 56\n",
    "k = 64\n",
    "m = i ** j // k\n",
    "print(m)"
   ]
  },
  {
   "cell_type": "code",
   "execution_count": 10,
   "id": "9f8b6cba-bec2-4543-9efa-68a64d8dfc40",
   "metadata": {},
   "outputs": [
    {
     "data": {
      "text/plain": [
       "0"
      ]
     },
     "execution_count": 10,
     "metadata": {},
     "output_type": "execute_result"
    }
   ],
   "source": [
    "i // k * k"
   ]
  },
  {
   "cell_type": "code",
   "execution_count": 12,
   "id": "29760f89-37a2-45e4-a7ac-69d0927c3874",
   "metadata": {},
   "outputs": [
    {
     "name": "stdout",
     "output_type": "stream",
     "text": [
      "binnith reddy\n"
     ]
    }
   ],
   "source": [
    "a = \"binnith \"\n",
    "b = \"reddy\"\n",
    "c = a + b\n",
    "print(c) "
   ]
  },
  {
   "cell_type": "code",
   "execution_count": 13,
   "id": "9b63b748-7ef7-4f56-bb9b-8889fce03383",
   "metadata": {},
   "outputs": [
    {
     "data": {
      "text/plain": [
       "int"
      ]
     },
     "execution_count": 13,
     "metadata": {},
     "output_type": "execute_result"
    }
   ],
   "source": [
    "type(z)\n"
   ]
  },
  {
   "cell_type": "code",
   "execution_count": 18,
   "id": "9e9e6613-4ead-4f21-9006-cbb10d6a4d89",
   "metadata": {},
   "outputs": [
    {
     "name": "stdout",
     "output_type": "stream",
     "text": [
      "-1\n"
     ]
    }
   ],
   "source": [
    "m = (i-j)//\n",
    "print(m)"
   ]
  },
  {
   "cell_type": "code",
   "execution_count": 26,
   "id": "3b9e9929-1e32-4ef3-9664-fc080d41c5d4",
   "metadata": {},
   "outputs": [
    {
     "data": {
      "text/plain": [
       "False"
      ]
     },
     "execution_count": 26,
     "metadata": {},
     "output_type": "execute_result"
    }
   ],
   "source": [
    "a = 45\n",
    "b = 25\n",
    "a < b"
   ]
  },
  {
   "cell_type": "code",
   "execution_count": 27,
   "id": "41b4b6c2-1c23-487b-9b15-2919c50c7df0",
   "metadata": {},
   "outputs": [
    {
     "data": {
      "text/plain": [
       "True"
      ]
     },
     "execution_count": 27,
     "metadata": {},
     "output_type": "execute_result"
    }
   ],
   "source": [
    "a > b\n"
   ]
  },
  {
   "cell_type": "code",
   "execution_count": 28,
   "id": "48a99f00-2bf0-487c-a9a8-0c07c0871507",
   "metadata": {},
   "outputs": [
    {
     "data": {
      "text/plain": [
       "False"
      ]
     },
     "execution_count": 28,
     "metadata": {},
     "output_type": "execute_result"
    }
   ],
   "source": [
    "4 > 6"
   ]
  },
  {
   "cell_type": "code",
   "execution_count": 35,
   "id": "9ab18d85-9cdd-43fd-9388-403b02c2eefb",
   "metadata": {},
   "outputs": [
    {
     "name": "stdout",
     "output_type": "stream",
     "text": [
      "68\n"
     ]
    }
   ],
   "source": [
    "x = 34\n",
    "y = 34\n",
    "c = x + y\n",
    "print(c)"
   ]
  },
  {
   "cell_type": "code",
   "execution_count": 38,
   "id": "6c342f57-ef97-413e-9c95-37b1069cea25",
   "metadata": {},
   "outputs": [
    {
     "data": {
      "text/plain": [
       "False"
      ]
     },
     "execution_count": 38,
     "metadata": {},
     "output_type": "execute_result"
    }
   ],
   "source": [
    "x != y"
   ]
  },
  {
   "cell_type": "code",
   "execution_count": 39,
   "id": "3a123200-9069-48c3-befe-bbff4a4375e7",
   "metadata": {},
   "outputs": [
    {
     "data": {
      "text/plain": [
       "True"
      ]
     },
     "execution_count": 39,
     "metadata": {},
     "output_type": "execute_result"
    }
   ],
   "source": [
    "x == y"
   ]
  },
  {
   "cell_type": "code",
   "execution_count": 40,
   "id": "818755e6-8e49-4c1e-908d-93083d07c516",
   "metadata": {},
   "outputs": [],
   "source": [
    "x = y"
   ]
  },
  {
   "cell_type": "code",
   "execution_count": 41,
   "id": "469a677f-ee2c-496e-83cb-09204101f30c",
   "metadata": {},
   "outputs": [],
   "source": [
    "h = 56\n",
    "g = \"wet\"\n"
   ]
  },
  {
   "cell_type": "code",
   "execution_count": 42,
   "id": "c758057b-751f-49ad-afab-13eeba22a0e5",
   "metadata": {},
   "outputs": [
    {
     "data": {
      "text/plain": [
       "False"
      ]
     },
     "execution_count": 42,
     "metadata": {},
     "output_type": "execute_result"
    }
   ],
   "source": [
    "h == g"
   ]
  },
  {
   "cell_type": "code",
   "execution_count": 43,
   "id": "3572b461-e901-4836-a179-ddf27c7064e1",
   "metadata": {},
   "outputs": [
    {
     "data": {
      "text/plain": [
       "False"
      ]
     },
     "execution_count": 43,
     "metadata": {},
     "output_type": "execute_result"
    }
   ],
   "source": [
    " (a>b) and (b>a)"
   ]
  },
  {
   "cell_type": "code",
   "execution_count": 44,
   "id": "c380de74-675e-4b18-b71d-def85515fe5a",
   "metadata": {},
   "outputs": [
    {
     "data": {
      "text/plain": [
       "True"
      ]
     },
     "execution_count": 44,
     "metadata": {},
     "output_type": "execute_result"
    }
   ],
   "source": [
    "(a>b) or (b>a)"
   ]
  },
  {
   "cell_type": "code",
   "execution_count": null,
   "id": "d61cc5bc-a898-44f8-be34-4f19536a92ba",
   "metadata": {},
   "outputs": [],
   "source": [
    "t & t = t\n",
    "t & f = f\n",
    "f & t = f\n",
    "f & t = f"
   ]
  },
  {
   "cell_type": "code",
   "execution_count": null,
   "id": "a7604322-fbba-43f7-b391-675b2d6d7551",
   "metadata": {},
   "outputs": [],
   "source": [
    "t or t = t\n",
    "t or f = t\n",
    "f or t = t\n",
    "f or t = f"
   ]
  },
  {
   "cell_type": "code",
   "execution_count": null,
   "id": "6ebaed1c-6513-4f2a-a11f-85e059e96b67",
   "metadata": {},
   "outputs": [],
   "source": [
    "s\n"
   ]
  },
  {
   "cell_type": "code",
   "execution_count": 1,
   "id": "3f736291-6211-4490-89bf-7adfef6710b8",
   "metadata": {},
   "outputs": [
    {
     "data": {
      "text/plain": [
       "{40, 60, 70, 77, 80}"
      ]
     },
     "execution_count": 1,
     "metadata": {},
     "output_type": "execute_result"
    }
   ],
   "source": [
    "{40, 60, 70, 77, 80}"
   ]
  },
  {
   "cell_type": "code",
   "execution_count": 2,
   "id": "02bab938-6f75-42a3-bdd2-04182e2a0ff6",
   "metadata": {},
   "outputs": [
    {
     "ename": "NameError",
     "evalue": "name 's' is not defined",
     "output_type": "error",
     "traceback": [
      "\u001b[1;31m---------------------------------------------------------------------------\u001b[0m",
      "\u001b[1;31mNameError\u001b[0m                                 Traceback (most recent call last)",
      "Cell \u001b[1;32mIn[2], line 1\u001b[0m\n\u001b[1;32m----> 1\u001b[0m s\u001b[38;5;241m.\u001b[39mdifference(y)\n",
      "\u001b[1;31mNameError\u001b[0m: name 's' is not defined"
     ]
    }
   ],
   "source": [
    "s.difference(y)"
   ]
  },
  {
   "cell_type": "code",
   "execution_count": 3,
   "id": "021e3b29-9e8c-493c-8de7-e6cb510446e1",
   "metadata": {},
   "outputs": [],
   "source": [
    "s = {40, 60, 70, 77, 80}"
   ]
  },
  {
   "cell_type": "code",
   "execution_count": 4,
   "id": "ae620c96-2cb4-4bab-b578-ec1ac58a09ca",
   "metadata": {},
   "outputs": [
    {
     "ename": "NameError",
     "evalue": "name 'y' is not defined",
     "output_type": "error",
     "traceback": [
      "\u001b[1;31m---------------------------------------------------------------------------\u001b[0m",
      "\u001b[1;31mNameError\u001b[0m                                 Traceback (most recent call last)",
      "Cell \u001b[1;32mIn[4], line 1\u001b[0m\n\u001b[1;32m----> 1\u001b[0m s\u001b[38;5;241m.\u001b[39mdifference(y)\n",
      "\u001b[1;31mNameError\u001b[0m: name 'y' is not defined"
     ]
    }
   ],
   "source": [
    "s.difference(y)"
   ]
  },
  {
   "cell_type": "code",
   "execution_count": 5,
   "id": "c48d90f7-17fb-479f-929a-44466d478336",
   "metadata": {},
   "outputs": [],
   "source": [
    "y = {80, 60, 77, 70, 68}"
   ]
  },
  {
   "cell_type": "code",
   "execution_count": 6,
   "id": "38b5ed2c-93c6-440c-8e44-99ab49b03cb9",
   "metadata": {},
   "outputs": [
    {
     "data": {
      "text/plain": [
       "{40}"
      ]
     },
     "execution_count": 6,
     "metadata": {},
     "output_type": "execute_result"
    }
   ],
   "source": [
    "s.difference(y)"
   ]
  },
  {
   "cell_type": "code",
   "execution_count": 7,
   "id": "f8dbb688-abf4-4d23-978c-2ddab6b02a14",
   "metadata": {},
   "outputs": [
    {
     "data": {
      "text/plain": [
       "{60, 70, 77, 80}"
      ]
     },
     "execution_count": 7,
     "metadata": {},
     "output_type": "execute_result"
    }
   ],
   "source": [
    "y.intersection(s)"
   ]
  },
  {
   "cell_type": "code",
   "execution_count": 8,
   "id": "0bb77c06-d303-49f4-ae50-ca02f7116cbc",
   "metadata": {},
   "outputs": [
    {
     "data": {
      "text/plain": [
       "{40, 60, 68, 70, 77, 80}"
      ]
     },
     "execution_count": 8,
     "metadata": {},
     "output_type": "execute_result"
    }
   ],
   "source": [
    "s.union(y)"
   ]
  },
  {
   "cell_type": "code",
   "execution_count": 9,
   "id": "0773d4b4-8de2-4b18-b7b2-7d917e3b7019",
   "metadata": {},
   "outputs": [],
   "source": [
    "x = {54, 65, 78, 48}\n"
   ]
  },
  {
   "cell_type": "code",
   "execution_count": 10,
   "id": "65eec5bb-eb3b-46c3-93dd-33fffaba3b13",
   "metadata": {},
   "outputs": [
    {
     "data": {
      "text/plain": [
       "{40, 48, 54, 60, 65, 70, 77, 78, 80}"
      ]
     },
     "execution_count": 10,
     "metadata": {},
     "output_type": "execute_result"
    }
   ],
   "source": [
    "s.union(x)"
   ]
  },
  {
   "cell_type": "code",
   "execution_count": 19,
   "id": "a9bd64a2-4075-4230-b5bc-5e0a2846a00a",
   "metadata": {},
   "outputs": [
    {
     "name": "stdout",
     "output_type": "stream",
     "text": [
      "gradeA\n"
     ]
    }
   ],
   "source": [
    "x=90\n",
    "if x>=90:\n",
    "    print('gradeA')\n",
    "elif x>=80:\n",
    "    print(\"grade B\")"
   ]
  },
  {
   "cell_type": "code",
   "execution_count": 1,
   "id": "f970a130-7fd0-447b-b378-04fb015a2f68",
   "metadata": {},
   "outputs": [
    {
     "data": {
      "text/plain": [
       "{'a': 85, 'b': 7, 'c': 87}"
      ]
     },
     "execution_count": 1,
     "metadata": {},
     "output_type": "execute_result"
    }
   ],
   "source": [
    "d = {'a':85,'b':7,'c':87}\n",
    "d"
   ]
  },
  {
   "cell_type": "code",
   "execution_count": 3,
   "id": "0c13c325-2927-4153-82d9-78bc58208927",
   "metadata": {},
   "outputs": [
    {
     "ename": "SyntaxError",
     "evalue": "invalid syntax (2890821718.py, line 2)",
     "output_type": "error",
     "traceback": [
      "\u001b[1;36m  Cell \u001b[1;32mIn[3], line 2\u001b[1;36m\u001b[0m\n\u001b[1;33m    dictionary are mutuable objects\u001b[0m\n\u001b[1;37m               ^\u001b[0m\n\u001b[1;31mSyntaxError\u001b[0m\u001b[1;31m:\u001b[0m invalid syntax\n"
     ]
    }
   ],
   "source": [
    "type(d)\n",
    "dictionary are mutuable objects\n"
   ]
  },
  {
   "cell_type": "code",
   "execution_count": 5,
   "id": "64469dd8-41ae-4e18-87b5-36c0e937e036",
   "metadata": {},
   "outputs": [
    {
     "data": {
      "text/plain": [
       "85"
      ]
     },
     "execution_count": 5,
     "metadata": {},
     "output_type": "execute_result"
    }
   ],
   "source": [
    "d['a']"
   ]
  },
  {
   "cell_type": "code",
   "execution_count": 10,
   "id": "fa16cf1b-e56f-443b-b502-d491fc1c1555",
   "metadata": {},
   "outputs": [],
   "source": [
    "d = {'104':9,'105':1,'106':5}"
   ]
  },
  {
   "cell_type": "code",
   "execution_count": 14,
   "id": "5397ed5e-ace1-405e-8c9c-923aa5fa65ec",
   "metadata": {},
   "outputs": [],
   "source": [
    "d.update({10:8})"
   ]
  },
  {
   "cell_type": "code",
   "execution_count": 15,
   "id": "4ff99369-adea-46e5-a8a3-287ad416af50",
   "metadata": {},
   "outputs": [
    {
     "data": {
      "text/plain": [
       "{'104': 9, '105': 1, '106': 5, 10: 8}"
      ]
     },
     "execution_count": 15,
     "metadata": {},
     "output_type": "execute_result"
    }
   ],
   "source": [
    "d"
   ]
  },
  {
   "cell_type": "code",
   "execution_count": 22,
   "id": "64fbbee3-a96e-4331-892a-d558179a21d4",
   "metadata": {},
   "outputs": [
    {
     "ename": "SyntaxError",
     "evalue": "invalid syntax. Perhaps you forgot a comma? (3926429651.py, line 1)",
     "output_type": "error",
     "traceback": [
      "\u001b[1;36m  Cell \u001b[1;32mIn[22], line 1\u001b[1;36m\u001b[0m\n\u001b[1;33m    del d[('104'9)]\u001b[0m\n\u001b[1;37m           ^\u001b[0m\n\u001b[1;31mSyntaxError\u001b[0m\u001b[1;31m:\u001b[0m invalid syntax. Perhaps you forgot a comma?\n"
     ]
    }
   ],
   "source": [
    "del d[('104'9)]"
   ]
  },
  {
   "cell_type": "code",
   "execution_count": 23,
   "id": "14a63d7a-49b3-422e-9e97-72055ff31085",
   "metadata": {},
   "outputs": [],
   "source": [
    "d.update({'104': 5000})"
   ]
  },
  {
   "cell_type": "code",
   "execution_count": 24,
   "id": "726ab29c-0fcc-4296-b964-48f81f641d64",
   "metadata": {},
   "outputs": [
    {
     "data": {
      "text/plain": [
       "{'105': 1, '106': 5, 10: 8, '104': 5000}"
      ]
     },
     "execution_count": 24,
     "metadata": {},
     "output_type": "execute_result"
    }
   ],
   "source": [
    "d"
   ]
  },
  {
   "cell_type": "code",
   "execution_count": 28,
   "id": "bf1b1926-2963-43d8-a564-7c5a81759d8b",
   "metadata": {},
   "outputs": [
    {
     "ename": "KeyError",
     "evalue": "'105'",
     "output_type": "error",
     "traceback": [
      "\u001b[1;31m---------------------------------------------------------------------------\u001b[0m",
      "\u001b[1;31mKeyError\u001b[0m                                  Traceback (most recent call last)",
      "Cell \u001b[1;32mIn[28], line 1\u001b[0m\n\u001b[1;32m----> 1\u001b[0m \u001b[38;5;28;01mdel\u001b[39;00m d[\u001b[38;5;124m'\u001b[39m\u001b[38;5;124m105\u001b[39m\u001b[38;5;124m'\u001b[39m]\n",
      "\u001b[1;31mKeyError\u001b[0m: '105'"
     ]
    }
   ],
   "source": [
    "del d['105']"
   ]
  },
  {
   "cell_type": "code",
   "execution_count": 29,
   "id": "5773aeff-b64a-4aa4-9edf-c6bf9bb10593",
   "metadata": {},
   "outputs": [],
   "source": [
    "d.get(105)"
   ]
  },
  {
   "cell_type": "code",
   "execution_count": 31,
   "id": "265e9602-854b-4634-aeaa-fd669a8f03c4",
   "metadata": {},
   "outputs": [
    {
     "data": {
      "text/plain": [
       "{'106': 5, 10: 8, '104': 5000}"
      ]
     },
     "execution_count": 31,
     "metadata": {},
     "output_type": "execute_result"
    }
   ],
   "source": [
    "d"
   ]
  },
  {
   "cell_type": "code",
   "execution_count": 32,
   "id": "f8731135-916c-4b9e-be08-10dc60d55c9e",
   "metadata": {},
   "outputs": [
    {
     "data": {
      "text/plain": [
       "{'106': 5, 10: 8, '104': 5000}"
      ]
     },
     "execution_count": 32,
     "metadata": {},
     "output_type": "execute_result"
    }
   ],
   "source": [
    "d"
   ]
  },
  {
   "cell_type": "code",
   "execution_count": 33,
   "id": "35c20366-5797-4b13-b9fc-32e7e237cb31",
   "metadata": {},
   "outputs": [],
   "source": [
    "d ={'101':7,'102':8,'103':9}\n"
   ]
  },
  {
   "cell_type": "code",
   "execution_count": 34,
   "id": "c6248cc1-ba60-4be3-be5f-01ee76150121",
   "metadata": {},
   "outputs": [
    {
     "data": {
      "text/plain": [
       "dict"
      ]
     },
     "execution_count": 34,
     "metadata": {},
     "output_type": "execute_result"
    }
   ],
   "source": [
    "type(d)"
   ]
  },
  {
   "cell_type": "code",
   "execution_count": 38,
   "id": "166b8da0-4be7-42a5-9cef-5f226f9a17e9",
   "metadata": {},
   "outputs": [],
   "source": [
    "d.update({'101': 80})"
   ]
  },
  {
   "cell_type": "code",
   "execution_count": 39,
   "id": "673413f5-b751-4124-9294-22b1ed60ed95",
   "metadata": {},
   "outputs": [
    {
     "data": {
      "text/plain": [
       "{'101': 80, '102': 8, '103': 9, 101: 80}"
      ]
     },
     "execution_count": 39,
     "metadata": {},
     "output_type": "execute_result"
    }
   ],
   "source": [
    "d"
   ]
  },
  {
   "cell_type": "code",
   "execution_count": 40,
   "id": "a5642d6d-902e-4cc4-b265-9e22ccbc322d",
   "metadata": {},
   "outputs": [
    {
     "data": {
      "text/plain": [
       "80"
      ]
     },
     "execution_count": 40,
     "metadata": {},
     "output_type": "execute_result"
    }
   ],
   "source": [
    "d.get('101')"
   ]
  },
  {
   "cell_type": "code",
   "execution_count": 41,
   "id": "17255fa8-1978-43c4-b3d6-d1bf2c2722ac",
   "metadata": {},
   "outputs": [],
   "source": [
    "del d['101']"
   ]
  },
  {
   "cell_type": "code",
   "execution_count": 42,
   "id": "2d807b62-1a69-47f4-9590-dfc7ebdbfbb1",
   "metadata": {},
   "outputs": [
    {
     "data": {
      "text/plain": [
       "{'102': 8, '103': 9, 101: 80}"
      ]
     },
     "execution_count": 42,
     "metadata": {},
     "output_type": "execute_result"
    }
   ],
   "source": [
    "d"
   ]
  },
  {
   "cell_type": "code",
   "execution_count": 43,
   "id": "a9f75549-c593-4558-9249-21578d0175c4",
   "metadata": {},
   "outputs": [],
   "source": [
    "d[103] = [1000,2000,6000]"
   ]
  },
  {
   "cell_type": "code",
   "execution_count": 44,
   "id": "428fcbb0-aadb-40c6-b78b-fc71b526d90c",
   "metadata": {},
   "outputs": [
    {
     "data": {
      "text/plain": [
       "{'102': 8, '103': 9, 101: 80, 103: [1000, 2000, 6000]}"
      ]
     },
     "execution_count": 44,
     "metadata": {},
     "output_type": "execute_result"
    }
   ],
   "source": [
    "d"
   ]
  },
  {
   "cell_type": "code",
   "execution_count": 49,
   "id": "792e18f7-f084-47b1-a9ed-d86f9fd60c3d",
   "metadata": {},
   "outputs": [
    {
     "data": {
      "text/plain": [
       "[1000, 2000, 6000]"
      ]
     },
     "execution_count": 49,
     "metadata": {},
     "output_type": "execute_result"
    }
   ],
   "source": [
    "d.get(103)"
   ]
  },
  {
   "cell_type": "code",
   "execution_count": 6,
   "id": "8466ce1a-c6e4-4b40-b92b-9ce112ed6550",
   "metadata": {},
   "outputs": [
    {
     "ename": "NameError",
     "evalue": "name 'd' is not defined",
     "output_type": "error",
     "traceback": [
      "\u001b[1;31m---------------------------------------------------------------------------\u001b[0m",
      "\u001b[1;31mNameError\u001b[0m                                 Traceback (most recent call last)",
      "Cell \u001b[1;32mIn[6], line 1\u001b[0m\n\u001b[1;32m----> 1\u001b[0m d[\u001b[38;5;241m103\u001b[39m][\u001b[38;5;241m0\u001b[39m]\n",
      "\u001b[1;31mNameError\u001b[0m: name 'd' is not defined"
     ]
    }
   ],
   "source": [
    "d[103][0]"
   ]
  },
  {
   "cell_type": "code",
   "execution_count": 5,
   "id": "faeec2bb-1cfb-4c25-8dc4-d80832d8eb90",
   "metadata": {},
   "outputs": [
    {
     "ename": "NameError",
     "evalue": "name 'd' is not defined",
     "output_type": "error",
     "traceback": [
      "\u001b[1;31m---------------------------------------------------------------------------\u001b[0m",
      "\u001b[1;31mNameError\u001b[0m                                 Traceback (most recent call last)",
      "Cell \u001b[1;32mIn[5], line 1\u001b[0m\n\u001b[1;32m----> 1\u001b[0m d[\u001b[38;5;241m103\u001b[39m][\u001b[38;5;241m1\u001b[39m]\n",
      "\u001b[1;31mNameError\u001b[0m: name 'd' is not defined"
     ]
    }
   ],
   "source": [
    "d[103][1]"
   ]
  },
  {
   "cell_type": "code",
   "execution_count": 8,
   "id": "e9b163de-30b2-48a9-b79f-b6b0d64f7663",
   "metadata": {},
   "outputs": [
    {
     "ename": "NameError",
     "evalue": "name 'd' is not defined",
     "output_type": "error",
     "traceback": [
      "\u001b[1;31m---------------------------------------------------------------------------\u001b[0m",
      "\u001b[1;31mNameError\u001b[0m                                 Traceback (most recent call last)",
      "Cell \u001b[1;32mIn[8], line 1\u001b[0m\n\u001b[1;32m----> 1\u001b[0m d[\u001b[38;5;241m103\u001b[39m][\u001b[38;5;241m0\u001b[39m:\u001b[38;5;241m3\u001b[39m]\n",
      "\u001b[1;31mNameError\u001b[0m: name 'd' is not defined"
     ]
    }
   ],
   "source": [
    "d[103][0:3]"
   ]
  },
  {
   "cell_type": "code",
   "execution_count": 10,
   "id": "a1baa78a-1d70-4703-931a-da0dbacc434e",
   "metadata": {},
   "outputs": [
    {
     "ename": "NameError",
     "evalue": "name 'd' is not defined",
     "output_type": "error",
     "traceback": [
      "\u001b[1;31m---------------------------------------------------------------------------\u001b[0m",
      "\u001b[1;31mNameError\u001b[0m                                 Traceback (most recent call last)",
      "Cell \u001b[1;32mIn[10], line 1\u001b[0m\n\u001b[1;32m----> 1\u001b[0m d\u001b[38;5;241m.\u001b[39mupdate({\u001b[38;5;241m104\u001b[39m:[\u001b[38;5;241m7000\u001b[39m,\u001b[38;5;241m8000\u001b[39m,\u001b[38;5;241m9000\u001b[39m]})\n",
      "\u001b[1;31mNameError\u001b[0m: name 'd' is not defined"
     ]
    }
   ],
   "source": [
    "d.update({104:[7000,8000,9000]})"
   ]
  },
  {
   "cell_type": "code",
   "execution_count": 11,
   "id": "35bc09bc-b69c-4078-8b97-a098b64b01b4",
   "metadata": {},
   "outputs": [
    {
     "ename": "NameError",
     "evalue": "name 'd' is not defined",
     "output_type": "error",
     "traceback": [
      "\u001b[1;31m---------------------------------------------------------------------------\u001b[0m",
      "\u001b[1;31mNameError\u001b[0m                                 Traceback (most recent call last)",
      "Cell \u001b[1;32mIn[11], line 1\u001b[0m\n\u001b[1;32m----> 1\u001b[0m d\n",
      "\u001b[1;31mNameError\u001b[0m: name 'd' is not defined"
     ]
    }
   ],
   "source": [
    "d"
   ]
  },
  {
   "cell_type": "code",
   "execution_count": 12,
   "id": "889f2de0-def2-41ed-8e0f-1dbf06cd634d",
   "metadata": {},
   "outputs": [],
   "source": [
    "d = {'105': 1, '106': 5, 10: 8, '104': 5000}\n"
   ]
  },
  {
   "cell_type": "code",
   "execution_count": 15,
   "id": "45bbcf3b-3b33-423a-bf1a-5c93604b95c2",
   "metadata": {},
   "outputs": [],
   "source": [
    "d.update({'104':[7000,8000,9000]})"
   ]
  },
  {
   "cell_type": "code",
   "execution_count": 16,
   "id": "825e407d-b73a-4219-a251-4dba657a2b5d",
   "metadata": {},
   "outputs": [
    {
     "data": {
      "text/plain": [
       "{'105': 1, '106': 5, 10: 8, '104': [7000, 8000, 9000], 104: [7000, 8000, 9000]}"
      ]
     },
     "execution_count": 16,
     "metadata": {},
     "output_type": "execute_result"
    }
   ],
   "source": [
    "d"
   ]
  },
  {
   "cell_type": "code",
   "execution_count": 19,
   "id": "25912671-f804-4896-bde5-b7dfdd84e1aa",
   "metadata": {},
   "outputs": [],
   "source": [
    "d[101]={50:[7,8,9,10],'apple':(20,10,70,[90,180,270])}"
   ]
  },
  {
   "cell_type": "code",
   "execution_count": 20,
   "id": "ccf4f52d-0075-4130-b0ea-21d1323f6e80",
   "metadata": {},
   "outputs": [
    {
     "data": {
      "text/plain": [
       "{'105': 1,\n",
       " '106': 5,\n",
       " 10: 8,\n",
       " '104': [7000, 8000, 9000],\n",
       " 104: [7000, 8000, 9000],\n",
       " 101: {50: [7, 8, 9, 10], 'apple': (20, 10, 70, [90, 180, 270])}}"
      ]
     },
     "execution_count": 20,
     "metadata": {},
     "output_type": "execute_result"
    }
   ],
   "source": [
    "d"
   ]
  },
  {
   "cell_type": "code",
   "execution_count": 21,
   "id": "fa68c884-637a-44b7-b1e9-a568a3adc3f1",
   "metadata": {},
   "outputs": [],
   "source": [
    "d[105]={'a':{30,50,70},'b':(1000,5000,7000,9000),'c':['k',{'L':[11,22],'M':(77,88)},'N']}"
   ]
  },
  {
   "cell_type": "code",
   "execution_count": 22,
   "id": "9511c438-bbf6-4ddf-921b-fe12c1ecaea5",
   "metadata": {},
   "outputs": [
    {
     "data": {
      "text/plain": [
       "{'105': 1,\n",
       " '106': 5,\n",
       " 10: 8,\n",
       " '104': [7000, 8000, 9000],\n",
       " 104: [7000, 8000, 9000],\n",
       " 101: {50: [7, 8, 9, 10], 'apple': (20, 10, 70, [90, 180, 270])},\n",
       " 105: {'a': {30, 50, 70},\n",
       "  'b': (1000, 5000, 7000, 9000),\n",
       "  'c': ['k', {'L': [11, 22], 'M': (77, 88)}, 'N']}}"
      ]
     },
     "execution_count": 22,
     "metadata": {},
     "output_type": "execute_result"
    }
   ],
   "source": [
    "d"
   ]
  },
  {
   "cell_type": "code",
   "execution_count": 31,
   "id": "09c46776-a23f-449f-a72e-ab31fb66f7f2",
   "metadata": {},
   "outputs": [
    {
     "data": {
      "text/plain": [
       "90"
      ]
     },
     "execution_count": 31,
     "metadata": {},
     "output_type": "execute_result"
    }
   ],
   "source": [
    "d[101]['apple'][3][0]"
   ]
  },
  {
   "cell_type": "code",
   "execution_count": null,
   "id": "e1d30a56-d4dc-4914-9cc8-e591b3cb37e5",
   "metadata": {},
   "outputs": [],
   "source": [
    "d[101]"
   ]
  },
  {
   "cell_type": "code",
   "execution_count": null,
   "id": "77c57017-7d50-4fab-8281-9765d3e30ab8",
   "metadata": {},
   "outputs": [],
   "source": [
    "if condition:\n",
    "    task1 block of code \n",
    "elif condition2:\n",
    "    task2 block of code\n",
    "elif condition3:\n",
    "    task3 block of code\n",
    "else:\n",
    "    task4 block of code\n",
    "    "
   ]
  },
  {
   "cell_type": "code",
   "execution_count": 1,
   "id": "1f9e52ed-e3cf-4a7e-a464-c6876b5d62f8",
   "metadata": {},
   "outputs": [
    {
     "name": "stdout",
     "output_type": "stream",
     "text": [
      "odd\n"
     ]
    }
   ],
   "source": [
    "x=9\n",
    "if x%2==0:\n",
    "    print(\"even\")\n",
    "else:\n",
    "    print(\"odd\")"
   ]
  },
  {
   "cell_type": "code",
   "execution_count": 8,
   "id": "19cac487-c4a9-4369-afe3-1d1667014117",
   "metadata": {},
   "outputs": [
    {
     "data": {
      "text/plain": [
       "'india'"
      ]
     },
     "execution_count": 8,
     "metadata": {},
     "output_type": "execute_result"
    }
   ],
   "source": [
    "y= 'india'\n",
    "y"
   ]
  },
  {
   "cell_type": "code",
   "execution_count": 9,
   "id": "faad8f1f-1517-46a5-afc0-c3331ab31905",
   "metadata": {},
   "outputs": [
    {
     "data": {
      "text/plain": [
       "False"
      ]
     },
     "execution_count": 9,
     "metadata": {},
     "output_type": "execute_result"
    }
   ],
   "source": [
    "y.isdigit()"
   ]
  },
  {
   "cell_type": "code",
   "execution_count": 7,
   "id": "1bddf8ed-0cd8-4cf2-8a7c-0bc345d7e832",
   "metadata": {},
   "outputs": [
    {
     "data": {
      "text/plain": [
       "True"
      ]
     },
     "execution_count": 7,
     "metadata": {},
     "output_type": "execute_result"
    }
   ],
   "source": [
    "y.isalpha()"
   ]
  },
  {
   "cell_type": "code",
   "execution_count": 16,
   "id": "ec5f7852-3514-4818-9b4b-63208ceb64ff",
   "metadata": {},
   "outputs": [],
   "source": [
    "name='reddy'"
   ]
  },
  {
   "cell_type": "code",
   "execution_count": 20,
   "id": "3fbfe0d6-93fa-4fcf-8406-2241872e1c71",
   "metadata": {},
   "outputs": [
    {
     "name": "stdout",
     "output_type": "stream",
     "text": [
      "Accept\n"
     ]
    }
   ],
   "source": [
    "if name.isalpha()==True:\n",
    "    print('Accept')\n",
    "else:\n",
    "    print('name should not contain digits and symbols')"
   ]
  },
  {
   "cell_type": "code",
   "execution_count": 22,
   "id": "55e8210d-5694-40ca-98f4-109747df8f5c",
   "metadata": {},
   "outputs": [
    {
     "data": {
      "text/plain": [
       "True"
      ]
     },
     "execution_count": 22,
     "metadata": {},
     "output_type": "execute_result"
    }
   ],
   "source": [
    "name.isalpha()"
   ]
  },
  {
   "cell_type": "code",
   "execution_count": 23,
   "id": "3973238d-8b9f-4764-8b7d-83c4c047ff72",
   "metadata": {},
   "outputs": [
    {
     "data": {
      "text/plain": [
       "'reddy'"
      ]
     },
     "execution_count": 23,
     "metadata": {},
     "output_type": "execute_result"
    }
   ],
   "source": [
    "name.lower()\n"
   ]
  },
  {
   "cell_type": "code",
   "execution_count": 41,
   "id": "f57370e5-3f10-4e3c-93b0-723e46c8cb60",
   "metadata": {},
   "outputs": [
    {
     "name": "stdout",
     "output_type": "stream",
     "text": [
      "Yes\n"
     ]
    }
   ],
   "source": [
    "x='Telangana'\n",
    "if x[0]=='T':\n",
    "    print('Yes')\n",
    "else:\n",
    "    print('No')"
   ]
  },
  {
   "cell_type": "code",
   "execution_count": 43,
   "id": "cb94fab6-a458-4fcf-86ca-d11a3ecbfc1c",
   "metadata": {},
   "outputs": [
    {
     "data": {
      "text/plain": [
       "'Telangana'"
      ]
     },
     "execution_count": 43,
     "metadata": {},
     "output_type": "execute_result"
    }
   ],
   "source": [
    "x"
   ]
  },
  {
   "cell_type": "code",
   "execution_count": 44,
   "id": "a13c4c90-18d1-4250-9ff3-beee4587a642",
   "metadata": {},
   "outputs": [
    {
     "data": {
      "text/plain": [
       "True"
      ]
     },
     "execution_count": 44,
     "metadata": {},
     "output_type": "execute_result"
    }
   ],
   "source": [
    "x[0].lower()=='t'"
   ]
  },
  {
   "cell_type": "code",
   "execution_count": 50,
   "id": "831f02a8-a09c-46bf-a9a9-d2d9965748aa",
   "metadata": {},
   "outputs": [
    {
     "name": "stdin",
     "output_type": "stream",
     "text": [
      "enter any word lion\n"
     ]
    },
    {
     "name": "stdout",
     "output_type": "stream",
     "text": [
      "False\n"
     ]
    }
   ],
   "source": [
    "x = input(\"enter any word\")\n",
    "if x[0].lower() == 't' or x[0].lower()=='s' or x[0].lower()=='h':\n",
    "    print(\"True\")\n",
    "else:\n",
    "    print(\"False\")\n",
    "    "
   ]
  },
  {
   "cell_type": "code",
   "execution_count": 1,
   "id": "32ddf9d8-e112-4641-8c67-6bbec771da18",
   "metadata": {},
   "outputs": [
    {
     "ename": "SyntaxError",
     "evalue": "incomplete input (3368511227.py, line 4)",
     "output_type": "error",
     "traceback": [
      "\u001b[1;36m  Cell \u001b[1;32mIn[1], line 4\u001b[1;36m\u001b[0m\n\u001b[1;33m    print('no'\u001b[0m\n\u001b[1;37m              ^\u001b[0m\n\u001b[1;31mSyntaxError\u001b[0m\u001b[1;31m:\u001b[0m incomplete input\n"
     ]
    }
   ],
   "source": [
    "if x[0].lower() in ('s','h','m'):\n",
    "    print('yes')\n",
    "else: \n",
    "    print('no'"
   ]
  },
  {
   "cell_type": "code",
   "execution_count": null,
   "id": "cdc008ec-0af7-4bf0-90d4-7ff9e6cc3ebb",
   "metadata": {},
   "outputs": [],
   "source": [
    "x=5\n",
    "while x<35:\n",
    "    print('yes')\n",
    "    "
   ]
  },
  {
   "cell_type": "code",
   "execution_count": null,
   "id": "43d296b5-058d-4858-b610-4a5dd4a3b65f",
   "metadata": {},
   "outputs": [],
   "source": [
    "x=3\n",
    "while x<10:\n",
    "    print('yes',x)\n",
    "    x=x-5"
   ]
  },
  {
   "cell_type": "code",
   "execution_count": 2,
   "id": "4af9be89-cf54-448f-8bc3-8c5ce009ee04",
   "metadata": {},
   "outputs": [
    {
     "name": "stdout",
     "output_type": "stream",
     "text": [
      "yes 35\n",
      "yes 30\n",
      "yes 25\n",
      "yes 20\n",
      "yes 15\n"
     ]
    }
   ],
   "source": [
    "x=35\n",
    "while x>10:\n",
    "    print('yes',x)\n",
    "    x=x-5"
   ]
  },
  {
   "cell_type": "code",
   "execution_count": 3,
   "id": "fd66e7a8-4b80-4c50-9285-0c8e91f463ac",
   "metadata": {},
   "outputs": [
    {
     "name": "stdout",
     "output_type": "stream",
     "text": [
      "yes 40\n",
      "yes 41\n",
      "yes 42\n",
      "yes 43\n",
      "yes 44\n",
      "yes 45\n"
     ]
    }
   ],
   "source": [
    "x=40\n",
    "while x<46:\n",
    "    print('yes',x)\n",
    "    x=x+1"
   ]
  },
  {
   "cell_type": "code",
   "execution_count": 4,
   "id": "f05ef8b8-9825-43f5-87ec-483b3dfb720b",
   "metadata": {},
   "outputs": [
    {
     "data": {
      "text/plain": [
       "[40, 20, 80, 50, 30, 60, 90]"
      ]
     },
     "execution_count": 4,
     "metadata": {},
     "output_type": "execute_result"
    }
   ],
   "source": [
    "y=[40,20,80,50,30,60,90]\n",
    "y"
   ]
  },
  {
   "cell_type": "code",
   "execution_count": 5,
   "id": "852a25d6-612f-4af0-b387-3d1c7ecc85c0",
   "metadata": {},
   "outputs": [
    {
     "data": {
      "text/plain": [
       "55"
      ]
     },
     "execution_count": 5,
     "metadata": {},
     "output_type": "execute_result"
    }
   ],
   "source": [
    "50+5\n"
   ]
  },
  {
   "cell_type": "markdown",
   "id": "5fca4a6d-b53d-4132-af02-468acc529e2c",
   "metadata": {},
   "source": [
    "# day 8"
   ]
  },
  {
   "cell_type": "code",
   "execution_count": 3,
   "id": "8a49e01e-67dd-43d5-9649-d4e69e28fdc7",
   "metadata": {},
   "outputs": [],
   "source": [
    "def function(parameter):\n",
    "    #block of code\n",
    "    return output"
   ]
  },
  {
   "cell_type": "code",
   "execution_count": 4,
   "id": "7cd38740-f2e6-4605-9667-7e028741d3c4",
   "metadata": {},
   "outputs": [],
   "source": [
    "def calArea(r):\n",
    "    a=3.14*r*r\n",
    "    return a"
   ]
  },
  {
   "cell_type": "code",
   "execution_count": 5,
   "id": "dee018fb-fda9-4028-9cf7-1be1cb51f10b",
   "metadata": {},
   "outputs": [
    {
     "data": {
      "text/plain": [
       "314.0"
      ]
     },
     "execution_count": 5,
     "metadata": {},
     "output_type": "execute_result"
    }
   ],
   "source": [
    "calArea(r=10)"
   ]
  },
  {
   "cell_type": "code",
   "execution_count": 7,
   "id": "e858ae6a-b1bc-4da1-9d69-01195a8fa8d8",
   "metadata": {},
   "outputs": [
    {
     "data": {
      "text/plain": [
       "314.0"
      ]
     },
     "execution_count": 7,
     "metadata": {},
     "output_type": "execute_result"
    }
   ],
   "source": [
    "w=calArea(r=10)\n",
    "w"
   ]
  },
  {
   "cell_type": "code",
   "execution_count": 8,
   "id": "b031ad4c-b502-4046-97a5-fb7b34967893",
   "metadata": {},
   "outputs": [
    {
     "data": {
      "text/plain": [
       "float"
      ]
     },
     "execution_count": 8,
     "metadata": {},
     "output_type": "execute_result"
    }
   ],
   "source": [
    "type(w)"
   ]
  },
  {
   "cell_type": "code",
   "execution_count": 21,
   "id": "7d6c394a-8c4f-4e41-a5a8-dcc79ceafc26",
   "metadata": {},
   "outputs": [],
   "source": [
    "def d_to_inr(x):\n",
    "    return(x*85)"
   ]
  },
  {
   "cell_type": "code",
   "execution_count": 22,
   "id": "1bfb318a-9b57-40f2-ad92-e03ff35557b0",
   "metadata": {},
   "outputs": [
    {
     "data": {
      "text/plain": [
       "1275"
      ]
     },
     "execution_count": 22,
     "metadata": {},
     "output_type": "execute_result"
    }
   ],
   "source": [
    "a=d_to_inr(15)\n",
    "a"
   ]
  },
  {
   "cell_type": "code",
   "execution_count": 23,
   "id": "7aca290b-b50a-4c73-b424-18c599308e02",
   "metadata": {},
   "outputs": [
    {
     "data": {
      "text/plain": [
       "1700"
      ]
     },
     "execution_count": 23,
     "metadata": {},
     "output_type": "execute_result"
    }
   ],
   "source": [
    "b=d_to_inr(20)\n",
    "b"
   ]
  },
  {
   "cell_type": "code",
   "execution_count": 24,
   "id": "73e4f137-014a-4d71-aa83-6493fe076ce1",
   "metadata": {},
   "outputs": [
    {
     "data": {
      "text/plain": [
       "2975"
      ]
     },
     "execution_count": 24,
     "metadata": {},
     "output_type": "execute_result"
    }
   ],
   "source": [
    "b+a"
   ]
  },
  {
   "cell_type": "code",
   "execution_count": 25,
   "id": "2ce9fa74-8624-4191-8fe9-e3b5c6e38ae0",
   "metadata": {},
   "outputs": [
    {
     "data": {
      "text/plain": [
       "int"
      ]
     },
     "execution_count": 25,
     "metadata": {},
     "output_type": "execute_result"
    }
   ],
   "source": [
    "type(b)"
   ]
  },
  {
   "cell_type": "code",
   "execution_count": 32,
   "id": "cf0c64c8-9a58-4d37-a394-0c3c7713a9ea",
   "metadata": {},
   "outputs": [],
   "source": [
    "def aor(l,w):\n",
    "    area=l*w\n",
    "    return area"
   ]
  },
  {
   "cell_type": "raw",
   "id": "8b868b16-4c5e-4818-bb67-2f1e63d793b4",
   "metadata": {},
   "source": [
    "aor(20,15)"
   ]
  },
  {
   "cell_type": "raw",
   "id": "8d97d271-9ba1-428e-8559-2cdd2a833279",
   "metadata": {},
   "source": []
  },
  {
   "cell_type": "code",
   "execution_count": 43,
   "id": "1f8d2ce0-a1ec-463e-9d06-0b065e41210f",
   "metadata": {},
   "outputs": [],
   "source": [
    "def area(radius,length,width):\n",
    "    aoc=3.14*radius*radius\n",
    "    aor= length*width\n",
    "    return aor,aoc"
   ]
  },
  {
   "cell_type": "code",
   "execution_count": 45,
   "id": "aa42a70c-0d00-4bab-a678-84cf6d144fda",
   "metadata": {},
   "outputs": [],
   "source": [
    "d=area(radius=10,length=20,width=5)"
   ]
  },
  {
   "cell_type": "code",
   "execution_count": 46,
   "id": "52e45769-02c9-485d-bd28-1b1824a62e98",
   "metadata": {},
   "outputs": [
    {
     "name": "stdout",
     "output_type": "stream",
     "text": [
      "(100, 314.0)\n"
     ]
    }
   ],
   "source": [
    "print(d)"
   ]
  },
  {
   "cell_type": "code",
   "execution_count": 47,
   "id": "c22c7abe-451a-4155-9622-eb28f71bf045",
   "metadata": {},
   "outputs": [
    {
     "data": {
      "text/plain": [
       "tuple"
      ]
     },
     "execution_count": 47,
     "metadata": {},
     "output_type": "execute_result"
    }
   ],
   "source": [
    "type(d)"
   ]
  },
  {
   "cell_type": "code",
   "execution_count": 48,
   "id": "6d821c37-6f64-4242-a9a2-ee6f59e85a93",
   "metadata": {},
   "outputs": [
    {
     "data": {
      "text/plain": [
       "314.0"
      ]
     },
     "execution_count": 48,
     "metadata": {},
     "output_type": "execute_result"
    }
   ],
   "source": [
    "d[1]"
   ]
  },
  {
   "cell_type": "code",
   "execution_count": 49,
   "id": "959eda74-6629-4fb2-9042-582e8b4b37f1",
   "metadata": {},
   "outputs": [
    {
     "data": {
      "text/plain": [
       "tuple"
      ]
     },
     "execution_count": 49,
     "metadata": {},
     "output_type": "execute_result"
    }
   ],
   "source": [
    "s=area(radius=10,length=20,width=5)\n",
    "type(s)"
   ]
  },
  {
   "cell_type": "code",
   "execution_count": 50,
   "id": "309d631a-fc05-4efa-bad5-2b80c9ef5d53",
   "metadata": {},
   "outputs": [
    {
     "data": {
      "text/plain": [
       "'HyderabAAd 500008 Telangana'"
      ]
     },
     "execution_count": 50,
     "metadata": {},
     "output_type": "execute_result"
    }
   ],
   "source": [
    "t='HyderabAAd 500008 Telangana'\n",
    "t"
   ]
  },
  {
   "cell_type": "code",
   "execution_count": 58,
   "id": "9dc52c2a-da7d-411e-8211-91a1f9b3084a",
   "metadata": {},
   "outputs": [
    {
     "ename": "AttributeError",
     "evalue": "'str' object has no attribute 'isaplha'",
     "output_type": "error",
     "traceback": [
      "\u001b[1;31m---------------------------------------------------------------------------\u001b[0m",
      "\u001b[1;31mAttributeError\u001b[0m                            Traceback (most recent call last)",
      "Cell \u001b[1;32mIn[58], line 1\u001b[0m\n\u001b[1;32m----> 1\u001b[0m alpha_count \u001b[38;5;241m=\u001b[39m \u001b[38;5;28msum\u001b[39m(c\u001b[38;5;241m.\u001b[39misaplha() \u001b[38;5;28;01mfor\u001b[39;00m c \u001b[38;5;129;01min\u001b[39;00m t)\n\u001b[0;32m      2\u001b[0m digit_count \u001b[38;5;241m=\u001b[39m \u001b[38;5;28msum\u001b[39m(c\u001b[38;5;241m.\u001b[39misdigit() \u001b[38;5;28;01mfor\u001b[39;00m c \u001b[38;5;129;01min\u001b[39;00m t)\n\u001b[0;32m      3\u001b[0m \u001b[38;5;28mprint\u001b[39m(\u001b[38;5;124mf\u001b[39m\u001b[38;5;124m\"\u001b[39m\u001b[38;5;124mAlphabetic characters: \u001b[39m\u001b[38;5;132;01m{\u001b[39;00malpha_count\u001b[38;5;132;01m}\u001b[39;00m\u001b[38;5;124m\"\u001b[39m)\n",
      "Cell \u001b[1;32mIn[58], line 1\u001b[0m, in \u001b[0;36m<genexpr>\u001b[1;34m(.0)\u001b[0m\n\u001b[1;32m----> 1\u001b[0m alpha_count \u001b[38;5;241m=\u001b[39m \u001b[38;5;28msum\u001b[39m(c\u001b[38;5;241m.\u001b[39misaplha() \u001b[38;5;28;01mfor\u001b[39;00m c \u001b[38;5;129;01min\u001b[39;00m t)\n\u001b[0;32m      2\u001b[0m digit_count \u001b[38;5;241m=\u001b[39m \u001b[38;5;28msum\u001b[39m(c\u001b[38;5;241m.\u001b[39misdigit() \u001b[38;5;28;01mfor\u001b[39;00m c \u001b[38;5;129;01min\u001b[39;00m t)\n\u001b[0;32m      3\u001b[0m \u001b[38;5;28mprint\u001b[39m(\u001b[38;5;124mf\u001b[39m\u001b[38;5;124m\"\u001b[39m\u001b[38;5;124mAlphabetic characters: \u001b[39m\u001b[38;5;132;01m{\u001b[39;00malpha_count\u001b[38;5;132;01m}\u001b[39;00m\u001b[38;5;124m\"\u001b[39m)\n",
      "\u001b[1;31mAttributeError\u001b[0m: 'str' object has no attribute 'isaplha'"
     ]
    }
   ],
   "source": [
    "alpha_count = sum(c.isaplha() for c in t)\n",
    "digit_count = sum(c.isdigit() for c in t)\n",
    "print(f\"Alphabetic characters: {alpha_count}\")\n",
    "print(f\"Numeric characters: {digit_count}\")"
   ]
  },
  {
   "cell_type": "code",
   "execution_count": 53,
   "id": "ecf584e2-5a05-4fe7-bb59-969bbc5d39a3",
   "metadata": {},
   "outputs": [],
   "source": [
    "def count_num_alpha(x):\n",
    "    c=0\n",
    "    d=0\n",
    "    for i in x:\n",
    "        if i.isalpha():\n",
    "            c+=1\n",
    "        elif i.isnumeric():\n",
    "            d+=1\n",
    "    return {'Number of alphabets':c,'Number of digits':d}"
   ]
  },
  {
   "cell_type": "code",
   "execution_count": 57,
   "id": "41370063-5ae3-4ca3-9d89-bba345a7a706",
   "metadata": {},
   "outputs": [
    {
     "data": {
      "text/plain": [
       "{'Number of alphabets': 19, 'Number of digits': 6}"
      ]
     },
     "execution_count": 57,
     "metadata": {},
     "output_type": "execute_result"
    }
   ],
   "source": [
    "count_num_alpha(t)"
   ]
  },
  {
   "cell_type": "code",
   "execution_count": 62,
   "id": "37699ed2-b404-4d01-8ec8-22ebfbc276af",
   "metadata": {},
   "outputs": [],
   "source": [
    "x='Hyderabad 500008 telangana '\n",
    "def remove_num(x):\n",
    "\n",
    "    y=''\n",
    "    for i in x:\n",
    "        if i.isdigit()==False:\n",
    "            y+=i\n",
    "        return y"
   ]
  },
  {
   "cell_type": "code",
   "execution_count": null,
   "id": "27236f89-a7a6-4f10-932c-1ba4e08cfa3d",
   "metadata": {},
   "outputs": [],
   "source": []
  },
  {
   "cell_type": "code",
   "execution_count": 63,
   "id": "c06393e3-7be9-4aba-8763-3d6d84a7ec3b",
   "metadata": {},
   "outputs": [
    {
     "data": {
      "text/plain": [
       "'H'"
      ]
     },
     "execution_count": 63,
     "metadata": {},
     "output_type": "execute_result"
    }
   ],
   "source": [
    "remove_num(t)"
   ]
  },
  {
   "cell_type": "markdown",
   "id": "eb185ce6-7018-416b-b285-3bcef3cec164",
   "metadata": {},
   "source": [
    "# Day 9 "
   ]
  },
  {
   "cell_type": "code",
   "execution_count": 4,
   "id": "1933bc15-1f5b-483d-8e9d-5335e10db44e",
   "metadata": {},
   "outputs": [
    {
     "data": {
      "text/plain": [
       "list"
      ]
     },
     "execution_count": 4,
     "metadata": {},
     "output_type": "execute_result"
    }
   ],
   "source": [
    "import numpy as np\n",
    "j=[4,6,5,1,2]\n",
    "type(j)\n"
   ]
  },
  {
   "cell_type": "markdown",
   "id": "68bc7ce3-5208-4b0b-8e50-b9ed08abfc8f",
   "metadata": {},
   "source": [
    "numpy is used for array operations \n",
    "pandas is used for Data manipulation and analysis\n",
    "matplotlib and Seaborn are used in Graphical Analysis\n",
    "sklearn is used in machine learning algorithms and techniques\n",
    "stat models is used in  statistical analysis\n",
    "scipy  is used in statistical analysis"
   ]
  },
  {
   "cell_type": "code",
   "execution_count": 4,
   "id": "5d5e913d-e178-466b-b7fd-c7a69421647d",
   "metadata": {},
   "outputs": [
    {
     "data": {
      "text/plain": [
       "array([4, 6, 5, 1, 2])"
      ]
     },
     "execution_count": 4,
     "metadata": {},
     "output_type": "execute_result"
    }
   ],
   "source": [
    "np.array(j)"
   ]
  },
  {
   "cell_type": "code",
   "execution_count": 5,
   "id": "f6b0763b-b260-473a-8786-d8c3497c2a27",
   "metadata": {},
   "outputs": [
    {
     "data": {
      "text/plain": [
       "(4, 6, 5, 1, 2)"
      ]
     },
     "execution_count": 5,
     "metadata": {},
     "output_type": "execute_result"
    }
   ],
   "source": [
    "tuple(j)"
   ]
  },
  {
   "cell_type": "code",
   "execution_count": 6,
   "id": "bbb3e214-7a62-4339-a717-96d4deb7e018",
   "metadata": {},
   "outputs": [
    {
     "data": {
      "text/plain": [
       "array([4, 6, 5, 1, 2])"
      ]
     },
     "execution_count": 6,
     "metadata": {},
     "output_type": "execute_result"
    }
   ],
   "source": [
    "d=np.array(j)\n",
    "d"
   ]
  },
  {
   "cell_type": "code",
   "execution_count": 7,
   "id": "28c1a9a6-c6ee-41ae-917d-8221b38f460a",
   "metadata": {},
   "outputs": [
    {
     "data": {
      "text/plain": [
       "numpy.ndarray"
      ]
     },
     "execution_count": 7,
     "metadata": {},
     "output_type": "execute_result"
    }
   ],
   "source": [
    "type(d)"
   ]
  },
  {
   "cell_type": "code",
   "execution_count": 8,
   "id": "6142cabe-8a92-4434-88e5-2556ce41f79c",
   "metadata": {},
   "outputs": [
    {
     "data": {
      "text/plain": [
       "array([4, 6, 5, 1, 2])"
      ]
     },
     "execution_count": 8,
     "metadata": {},
     "output_type": "execute_result"
    }
   ],
   "source": [
    "d"
   ]
  },
  {
   "cell_type": "code",
   "execution_count": 9,
   "id": "712ccb45-c88c-4a78-b522-305250e38d99",
   "metadata": {},
   "outputs": [
    {
     "data": {
      "text/plain": [
       "(5,)"
      ]
     },
     "execution_count": 9,
     "metadata": {},
     "output_type": "execute_result"
    }
   ],
   "source": [
    "d.shape"
   ]
  },
  {
   "cell_type": "code",
   "execution_count": 10,
   "id": "6a776700-1486-46ca-a31b-201fb8380534",
   "metadata": {},
   "outputs": [
    {
     "data": {
      "text/plain": [
       "[4, 6, 5, 1, 2]"
      ]
     },
     "execution_count": 10,
     "metadata": {},
     "output_type": "execute_result"
    }
   ],
   "source": [
    "j"
   ]
  },
  {
   "cell_type": "code",
   "execution_count": 11,
   "id": "46e6e519-c528-49b3-898c-4ec9f2b720ef",
   "metadata": {},
   "outputs": [
    {
     "data": {
      "text/plain": [
       "1"
      ]
     },
     "execution_count": 11,
     "metadata": {},
     "output_type": "execute_result"
    }
   ],
   "source": [
    "d.ndim"
   ]
  },
  {
   "cell_type": "code",
   "execution_count": 12,
   "id": "4e8abb84-6f11-475f-856b-5f6cce05a040",
   "metadata": {},
   "outputs": [
    {
     "data": {
      "text/plain": [
       "5"
      ]
     },
     "execution_count": 12,
     "metadata": {},
     "output_type": "execute_result"
    }
   ],
   "source": [
    "d.size"
   ]
  },
  {
   "cell_type": "code",
   "execution_count": null,
   "id": "ddde549c-0bd4-4305-a37b-1c5ab1474f39",
   "metadata": {},
   "outputs": [],
   "source": [
    "\n"
   ]
  },
  {
   "cell_type": "code",
   "execution_count": 13,
   "id": "5e9678b6-1aba-41a0-bc76-d1013a7aaaf3",
   "metadata": {},
   "outputs": [
    {
     "data": {
      "text/plain": [
       "[[4, 8, 90, 12],\n",
       " [56, 78, 54, 20],\n",
       " [67, 98, 80, 49],\n",
       " [77, 88, 22, 55],\n",
       " [90, 40, 70, 60]]"
      ]
     },
     "execution_count": 13,
     "metadata": {},
     "output_type": "execute_result"
    }
   ],
   "source": [
    "s=[[4,8,90,12],[56,78,54,20],[67,98,80,49],[77,88,22,55],[90,40,70,60]]\n",
    "s"
   ]
  },
  {
   "cell_type": "code",
   "execution_count": 14,
   "id": "67b7141f-7f1d-49cc-8e75-924616eaee77",
   "metadata": {},
   "outputs": [
    {
     "data": {
      "text/plain": [
       "list"
      ]
     },
     "execution_count": 14,
     "metadata": {},
     "output_type": "execute_result"
    }
   ],
   "source": [
    "type(s)"
   ]
  },
  {
   "cell_type": "code",
   "execution_count": 5,
   "id": "2e968c24-23d7-4596-a780-6fdcc7ca2114",
   "metadata": {},
   "outputs": [
    {
     "ename": "NameError",
     "evalue": "name 'np' is not defined",
     "output_type": "error",
     "traceback": [
      "\u001b[1;31m---------------------------------------------------------------------------\u001b[0m",
      "\u001b[1;31mNameError\u001b[0m                                 Traceback (most recent call last)",
      "Cell \u001b[1;32mIn[5], line 1\u001b[0m\n\u001b[1;32m----> 1\u001b[0m arr1\u001b[38;5;241m=\u001b[39mnp\u001b[38;5;241m.\u001b[39marray(s)\n\u001b[0;32m      2\u001b[0m arr1\n",
      "\u001b[1;31mNameError\u001b[0m: name 'np' is not defined"
     ]
    }
   ],
   "source": [
    "arr1=np.array(s)\n",
    "arr1"
   ]
  },
  {
   "cell_type": "code",
   "execution_count": 18,
   "id": "222e9442-77a3-4366-86c3-b93ebbd77471",
   "metadata": {},
   "outputs": [
    {
     "data": {
      "text/plain": [
       "(5, 4)"
      ]
     },
     "execution_count": 18,
     "metadata": {},
     "output_type": "execute_result"
    }
   ],
   "source": [
    "arr1.shape"
   ]
  },
  {
   "cell_type": "raw",
   "id": "73399ee0-8b93-4790-8f3f-89f40dcfbeca",
   "metadata": {},
   "source": [
    "arr1.size"
   ]
  },
  {
   "cell_type": "code",
   "execution_count": 19,
   "id": "f1fe5585-0edf-4576-8ef3-3c508fa8978c",
   "metadata": {},
   "outputs": [
    {
     "data": {
      "text/plain": [
       "20"
      ]
     },
     "execution_count": 19,
     "metadata": {},
     "output_type": "execute_result"
    }
   ],
   "source": [
    "arr1.size"
   ]
  },
  {
   "cell_type": "code",
   "execution_count": 20,
   "id": "91d0be9b-5863-4968-a575-cc5e4a36fd82",
   "metadata": {},
   "outputs": [
    {
     "data": {
      "text/plain": [
       "2"
      ]
     },
     "execution_count": 20,
     "metadata": {},
     "output_type": "execute_result"
    }
   ],
   "source": [
    "arr1.ndim"
   ]
  },
  {
   "cell_type": "code",
   "execution_count": 29,
   "id": "619ce8e6-c5fd-4ed8-b0ef-f94316d8b0ab",
   "metadata": {},
   "outputs": [
    {
     "data": {
      "text/plain": [
       "array([[ 4,  8, 90, 12],\n",
       "       [56, 78, 54, 20],\n",
       "       [67, 98, 80, 49],\n",
       "       [77, 88, 22, 55],\n",
       "       [90, 40, 70, 60]])"
      ]
     },
     "execution_count": 29,
     "metadata": {},
     "output_type": "execute_result"
    }
   ],
   "source": [
    "arr1.reshape(4,5)\n",
    "arr1"
   ]
  },
  {
   "cell_type": "code",
   "execution_count": 30,
   "id": "5a772ee0-e2ab-4e07-b5a4-d174f325176d",
   "metadata": {},
   "outputs": [
    {
     "data": {
      "text/plain": [
       "(5, 4)"
      ]
     },
     "execution_count": 30,
     "metadata": {},
     "output_type": "execute_result"
    }
   ],
   "source": [
    "arr1.shape"
   ]
  },
  {
   "cell_type": "code",
   "execution_count": 31,
   "id": "9e5088b2-11f8-42bc-bfc4-0158c8bd6c18",
   "metadata": {},
   "outputs": [
    {
     "data": {
      "text/plain": [
       "2"
      ]
     },
     "execution_count": 31,
     "metadata": {},
     "output_type": "execute_result"
    }
   ],
   "source": [
    "arr1.ndim\n"
   ]
  },
  {
   "cell_type": "code",
   "execution_count": 32,
   "id": "3fa2eb7c-d470-4374-9312-f25913e31bf3",
   "metadata": {},
   "outputs": [
    {
     "data": {
      "text/plain": [
       "array([[[ 4,  8, 90, 12, 56],\n",
       "        [78, 54, 20, 67, 98]],\n",
       "\n",
       "       [[80, 49, 77, 88, 22],\n",
       "        [55, 90, 40, 70, 60]]])"
      ]
     },
     "execution_count": 32,
     "metadata": {},
     "output_type": "execute_result"
    }
   ],
   "source": [
    "k=arr1.reshape(2,2,5)\n",
    "k"
   ]
  },
  {
   "cell_type": "code",
   "execution_count": 33,
   "id": "0c71f6b1-b1f0-403c-bfd8-4b042bfb4ad9",
   "metadata": {},
   "outputs": [
    {
     "data": {
      "text/plain": [
       "20"
      ]
     },
     "execution_count": 33,
     "metadata": {},
     "output_type": "execute_result"
    }
   ],
   "source": [
    "k.size"
   ]
  },
  {
   "cell_type": "code",
   "execution_count": 34,
   "id": "580b737f-fa51-4c9a-8ea2-8abc8bdccb04",
   "metadata": {},
   "outputs": [
    {
     "data": {
      "text/plain": [
       "3"
      ]
     },
     "execution_count": 34,
     "metadata": {},
     "output_type": "execute_result"
    }
   ],
   "source": [
    "k.ndim"
   ]
  },
  {
   "cell_type": "code",
   "execution_count": 35,
   "id": "7a7c693d-d1de-4111-adce-be212422fceb",
   "metadata": {},
   "outputs": [
    {
     "data": {
      "text/plain": [
       "(2, 2, 5)"
      ]
     },
     "execution_count": 35,
     "metadata": {},
     "output_type": "execute_result"
    }
   ],
   "source": [
    "k.shape"
   ]
  },
  {
   "cell_type": "code",
   "execution_count": 4,
   "id": "9b00a5fd-d413-486d-8ddf-8d58acd7fa1a",
   "metadata": {},
   "outputs": [
    {
     "ename": "NameError",
     "evalue": "name 'arr1' is not defined",
     "output_type": "error",
     "traceback": [
      "\u001b[1;31m---------------------------------------------------------------------------\u001b[0m",
      "\u001b[1;31mNameError\u001b[0m                                 Traceback (most recent call last)",
      "Cell \u001b[1;32mIn[4], line 1\u001b[0m\n\u001b[1;32m----> 1\u001b[0m arr1\n",
      "\u001b[1;31mNameError\u001b[0m: name 'arr1' is not defined"
     ]
    }
   ],
   "source": [
    "arr1"
   ]
  },
  {
   "cell_type": "code",
   "execution_count": 7,
   "id": "251a8df6-aeba-429b-aade-f81fdaaacfee",
   "metadata": {},
   "outputs": [
    {
     "data": {
      "text/plain": [
       "range(5, 20)"
      ]
     },
     "execution_count": 7,
     "metadata": {},
     "output_type": "execute_result"
    }
   ],
   "source": [
    "range(5,20)"
   ]
  },
  {
   "cell_type": "code",
   "execution_count": 8,
   "id": "6a9fdab4-b4be-4918-bf6f-e540271ba234",
   "metadata": {},
   "outputs": [
    {
     "data": {
      "text/plain": [
       "[3, 4, 5, 6, 7, 8, 9]"
      ]
     },
     "execution_count": 8,
     "metadata": {},
     "output_type": "execute_result"
    }
   ],
   "source": [
    "m=[3,4,5,6,7,8,9]\n",
    "m"
   ]
  },
  {
   "cell_type": "code",
   "execution_count": 9,
   "id": "deea8430-a557-43a7-afeb-0616ff0d9f94",
   "metadata": {},
   "outputs": [
    {
     "data": {
      "text/plain": [
       "[3,\n",
       " 4,\n",
       " 5,\n",
       " 6,\n",
       " 7,\n",
       " 8,\n",
       " 9,\n",
       " 10,\n",
       " 11,\n",
       " 12,\n",
       " 13,\n",
       " 14,\n",
       " 15,\n",
       " 16,\n",
       " 17,\n",
       " 18,\n",
       " 19,\n",
       " 20,\n",
       " 21,\n",
       " 22,\n",
       " 23,\n",
       " 24,\n",
       " 25,\n",
       " 26,\n",
       " 27,\n",
       " 28,\n",
       " 29,\n",
       " 30,\n",
       " 31,\n",
       " 32,\n",
       " 33,\n",
       " 34,\n",
       " 35,\n",
       " 36,\n",
       " 37,\n",
       " 38,\n",
       " 39,\n",
       " 40,\n",
       " 41,\n",
       " 42,\n",
       " 43,\n",
       " 44,\n",
       " 45,\n",
       " 46,\n",
       " 47,\n",
       " 48,\n",
       " 49,\n",
       " 50,\n",
       " 51,\n",
       " 52,\n",
       " 53,\n",
       " 54,\n",
       " 55,\n",
       " 56,\n",
       " 57,\n",
       " 58,\n",
       " 59,\n",
       " 60,\n",
       " 61,\n",
       " 62,\n",
       " 63,\n",
       " 64,\n",
       " 65,\n",
       " 66,\n",
       " 67,\n",
       " 68,\n",
       " 69,\n",
       " 70,\n",
       " 71,\n",
       " 72,\n",
       " 73,\n",
       " 74,\n",
       " 75,\n",
       " 76,\n",
       " 77,\n",
       " 78,\n",
       " 79,\n",
       " 80,\n",
       " 81,\n",
       " 82,\n",
       " 83,\n",
       " 84,\n",
       " 85,\n",
       " 86,\n",
       " 87,\n",
       " 88,\n",
       " 89,\n",
       " 90,\n",
       " 91,\n",
       " 92,\n",
       " 93,\n",
       " 94,\n",
       " 95,\n",
       " 96,\n",
       " 97,\n",
       " 98,\n",
       " 99,\n",
       " 100]"
      ]
     },
     "execution_count": 9,
     "metadata": {},
     "output_type": "execute_result"
    }
   ],
   "source": [
    "list(range(3,101))\n"
   ]
  },
  {
   "cell_type": "code",
   "execution_count": 11,
   "id": "f72c75cc-78e1-41a5-a095-4ccb9904d6a7",
   "metadata": {},
   "outputs": [
    {
     "data": {
      "text/plain": [
       "[3,\n",
       " 6,\n",
       " 9,\n",
       " 12,\n",
       " 15,\n",
       " 18,\n",
       " 21,\n",
       " 24,\n",
       " 27,\n",
       " 30,\n",
       " 33,\n",
       " 36,\n",
       " 39,\n",
       " 42,\n",
       " 45,\n",
       " 48,\n",
       " 51,\n",
       " 54,\n",
       " 57,\n",
       " 60,\n",
       " 63,\n",
       " 66,\n",
       " 69,\n",
       " 72,\n",
       " 75,\n",
       " 78,\n",
       " 81,\n",
       " 84,\n",
       " 87,\n",
       " 90,\n",
       " 93,\n",
       " 96,\n",
       " 99]"
      ]
     },
     "execution_count": 11,
     "metadata": {},
     "output_type": "execute_result"
    }
   ],
   "source": [
    "list(range(3,101,3))\n"
   ]
  },
  {
   "cell_type": "code",
   "execution_count": 12,
   "id": "939e1d1e-68cc-442b-9d6a-28338e42d146",
   "metadata": {},
   "outputs": [
    {
     "data": {
      "text/plain": [
       "[-10, -9, -8, -7, -6, -5, -4, -3, -2, -1, 0]"
      ]
     },
     "execution_count": 12,
     "metadata": {},
     "output_type": "execute_result"
    }
   ],
   "source": [
    "list(range(-10,1))"
   ]
  },
  {
   "cell_type": "code",
   "execution_count": 13,
   "id": "dc1cbfed-79ba-45b8-8fba-818b0a6467a7",
   "metadata": {},
   "outputs": [
    {
     "data": {
      "text/plain": [
       "[-1,\n",
       " -2,\n",
       " -3,\n",
       " -4,\n",
       " -5,\n",
       " -6,\n",
       " -7,\n",
       " -8,\n",
       " -9,\n",
       " -10,\n",
       " -11,\n",
       " -12,\n",
       " -13,\n",
       " -14,\n",
       " -15,\n",
       " -16,\n",
       " -17,\n",
       " -18]"
      ]
     },
     "execution_count": 13,
     "metadata": {},
     "output_type": "execute_result"
    }
   ],
   "source": [
    "list(range(-1,-19,-1))"
   ]
  },
  {
   "cell_type": "code",
   "execution_count": 15,
   "id": "b52aa80f-699d-4736-b101-8af30b1e2c27",
   "metadata": {},
   "outputs": [
    {
     "data": {
      "text/plain": [
       "[-1, -3, -5, -7, -9, -11, -13, -15, -17]"
      ]
     },
     "execution_count": 15,
     "metadata": {},
     "output_type": "execute_result"
    }
   ],
   "source": [
    "list(range(-1,-19,-2))"
   ]
  },
  {
   "cell_type": "code",
   "execution_count": 17,
   "id": "5d6b28c5-c298-423d-9dae-50fbacfc2c17",
   "metadata": {},
   "outputs": [
    {
     "ename": "NameError",
     "evalue": "name 'np' is not defined",
     "output_type": "error",
     "traceback": [
      "\u001b[1;31m---------------------------------------------------------------------------\u001b[0m",
      "\u001b[1;31mNameError\u001b[0m                                 Traceback (most recent call last)",
      "Cell \u001b[1;32mIn[17], line 1\u001b[0m\n\u001b[1;32m----> 1\u001b[0m np\u001b[38;5;241m.\u001b[39marange(\u001b[38;5;241m2.5\u001b[39m,\u001b[38;5;241m5\u001b[39m,\u001b[38;5;241m0.5\u001b[39m)\n",
      "\u001b[1;31mNameError\u001b[0m: name 'np' is not defined"
     ]
    }
   ],
   "source": [
    "np.arange(2.5,5,0.5)"
   ]
  },
  {
   "cell_type": "code",
   "execution_count": 18,
   "id": "1b8b491b-8125-4e04-9340-271a859209ce",
   "metadata": {},
   "outputs": [
    {
     "data": {
      "text/plain": [
       "range(5, 50, 5)"
      ]
     },
     "execution_count": 18,
     "metadata": {},
     "output_type": "execute_result"
    }
   ],
   "source": [
    "range(5,50,5)\n"
   ]
  },
  {
   "cell_type": "code",
   "execution_count": 20,
   "id": "a2d8b202-8c80-4b7a-a1ea-ac7f8eaaeeb6",
   "metadata": {},
   "outputs": [
    {
     "name": "stdout",
     "output_type": "stream",
     "text": [
      "Data 5\n",
      "Data 10\n",
      "Data 15\n",
      "Data 20\n",
      "Data 25\n",
      "Data 30\n",
      "Data 35\n",
      "Data 40\n",
      "Data 45\n"
     ]
    }
   ],
   "source": [
    "for i in range(5,50,5):\n",
    "    print('Data',i)"
   ]
  },
  {
   "cell_type": "code",
   "execution_count": 6,
   "id": "6229b143-4869-4b91-ad8c-816633fea6f5",
   "metadata": {},
   "outputs": [
    {
     "data": {
      "text/plain": [
       "[5, 87, 23, 46, 62, 84, 80, 45, 77, 33, 80]"
      ]
     },
     "execution_count": 6,
     "metadata": {},
     "output_type": "execute_result"
    }
   ],
   "source": [
    "j=[5,87,23,46,62,84,80,45,77,33,80]\n",
    "j"
   ]
  },
  {
   "cell_type": "code",
   "execution_count": 25,
   "id": "d5fa54c7-7119-407b-8533-70989569486d",
   "metadata": {},
   "outputs": [
    {
     "name": "stdout",
     "output_type": "stream",
     "text": [
      "Even  position Number: [0, 2, 4]\n",
      "Odd position Number: [1, 3]\n"
     ]
    }
   ],
   "source": [
    "even_pos = []\n",
    "odd_pos = []\n",
    "j = [1,2,3,4,5]\n",
    "for i in range(len(j)):\n",
    "    if i % 2 == 0:\n",
    "        even_pos.append(i)\n",
    "    else:\n",
    "        odd_pos.append(i)\n",
    "print(\"Even  position Number:\",even_pos)\n",
    "print(\"Odd position Number:\",odd_pos)\n"
   ]
  },
  {
   "cell_type": "markdown",
   "id": "f972542c-8f4b-467f-a77e-e627a36e962b",
   "metadata": {},
   "source": [
    "# Distribution|\n"
   ]
  },
  {
   "cell_type": "code",
   "execution_count": 7,
   "id": "53c46c05-2e06-4dee-9476-622adb95da6b",
   "metadata": {},
   "outputs": [
    {
     "data": {
      "text/plain": [
       "62.0"
      ]
     },
     "execution_count": 7,
     "metadata": {},
     "output_type": "execute_result"
    }
   ],
   "source": [
    "np.median(j)"
   ]
  },
  {
   "cell_type": "code",
   "execution_count": 10,
   "id": "ad00bafd-029d-4bf7-83f3-a1cac4a773a6",
   "metadata": {},
   "outputs": [],
   "source": [
    "import numpy as np"
   ]
  },
  {
   "cell_type": "code",
   "execution_count": 10,
   "id": "06d475ac-c5ad-44ed-8314-4843b3f3fafd",
   "metadata": {},
   "outputs": [
    {
     "data": {
      "text/plain": [
       "array([10, 40, 50, 30, 70])"
      ]
     },
     "execution_count": 10,
     "metadata": {},
     "output_type": "execute_result"
    }
   ],
   "source": [
    "d=np.array([10,40,50,30,70])\n",
    "d"
   ]
  },
  {
   "cell_type": "code",
   "execution_count": 11,
   "id": "bd82e1d5-0187-4a94-b865-c4e8758fd37c",
   "metadata": {},
   "outputs": [
    {
     "data": {
      "text/plain": [
       "40.0"
      ]
     },
     "execution_count": 11,
     "metadata": {},
     "output_type": "execute_result"
    }
   ],
   "source": [
    "np.mean(d)"
   ]
  },
  {
   "cell_type": "code",
   "execution_count": 12,
   "id": "660a6a4b-12d2-4e42-a06c-c8b94facccab",
   "metadata": {},
   "outputs": [
    {
     "data": {
      "text/plain": [
       "40.0"
      ]
     },
     "execution_count": 12,
     "metadata": {},
     "output_type": "execute_result"
    }
   ],
   "source": [
    "np.median(d)"
   ]
  },
  {
   "cell_type": "code",
   "execution_count": 14,
   "id": "b882c4ad-9630-41a5-a6b7-18f1dd80ca72",
   "metadata": {},
   "outputs": [
    {
     "data": {
      "text/plain": [
       "70"
      ]
     },
     "execution_count": 14,
     "metadata": {},
     "output_type": "execute_result"
    }
   ],
   "source": [
    "np.max(d)"
   ]
  },
  {
   "cell_type": "code",
   "execution_count": 15,
   "id": "663d1d23-1130-4663-957d-706047dc67c8",
   "metadata": {},
   "outputs": [
    {
     "data": {
      "text/plain": [
       "10"
      ]
     },
     "execution_count": 15,
     "metadata": {},
     "output_type": "execute_result"
    }
   ],
   "source": [
    "np.min(d)"
   ]
  },
  {
   "cell_type": "code",
   "execution_count": 16,
   "id": "77a95038-5b1e-4561-924e-b15e18027854",
   "metadata": {},
   "outputs": [
    {
     "data": {
      "text/plain": [
       "30.0"
      ]
     },
     "execution_count": 16,
     "metadata": {},
     "output_type": "execute_result"
    }
   ],
   "source": [
    "np.quantile(d,0.25)"
   ]
  },
  {
   "cell_type": "code",
   "execution_count": 18,
   "id": "e217b5ca-cb61-471f-93e8-17469c8e192b",
   "metadata": {},
   "outputs": [],
   "source": [
    "r=np.random.rand(10,5)"
   ]
  },
  {
   "cell_type": "code",
   "execution_count": 19,
   "id": "23961036-9511-4f73-b866-ac5049f2e4ca",
   "metadata": {},
   "outputs": [
    {
     "data": {
      "text/plain": [
       "array([0.53347472, 0.62434912, 0.92707904, 0.67148365, 0.90636583,\n",
       "       0.78415671, 0.80243643, 0.10411747, 0.85132756, 0.13932163,\n",
       "       0.06345347, 0.25861719, 0.38983066, 0.66356236, 0.36733223,\n",
       "       0.87999898, 0.99378306, 0.78628328, 0.3809913 , 0.57793028,\n",
       "       0.67078744, 0.80575655, 0.62559087, 0.77121264, 0.98767992,\n",
       "       0.61383787, 0.16357963, 0.55711932, 0.49185069, 0.9196626 ,\n",
       "       0.28406265, 0.13688747, 0.44455313, 0.12643682, 0.56151829,\n",
       "       0.17929608, 0.57666158, 0.83161078, 0.45223008, 0.28368498,\n",
       "       0.70317883, 0.75203964, 0.7102554 , 0.44596289, 0.1029511 ,\n",
       "       0.98809961, 0.48648537, 0.94992338, 0.02692679, 0.66501093,\n",
       "       0.71404551, 0.60307946, 0.60966848, 0.86332102, 0.10982391,\n",
       "       0.44124066, 0.97992493, 0.31054347, 0.25906301, 0.47202307,\n",
       "       0.09731799, 0.03297855, 0.69861748, 0.87567338, 0.38028042,\n",
       "       0.22266215, 0.0782236 , 0.34398804, 0.35207613, 0.80491206,\n",
       "       0.23933781, 0.85294354, 0.49052214, 0.52012868, 0.12916671,\n",
       "       0.54260019, 0.96036185, 0.85702707, 0.79492346, 0.67548127,\n",
       "       0.69662285, 0.98508787, 0.10266474, 0.64136094, 0.90408558,\n",
       "       0.5588498 , 0.67937388, 0.79952744, 0.70424028, 0.39081268,\n",
       "       0.73905733, 0.07281588, 0.70021486, 0.93521686, 0.82433071,\n",
       "       0.94426701, 0.59646834, 0.70156034, 0.67783554, 0.99095941])"
      ]
     },
     "execution_count": 19,
     "metadata": {},
     "output_type": "execute_result"
    }
   ],
   "source": [
    "\n",
    "np.random.rand(100)"
   ]
  },
  {
   "cell_type": "code",
   "execution_count": 20,
   "id": "d3566653-2a0d-4a9d-8098-8a753f1dade7",
   "metadata": {},
   "outputs": [
    {
     "data": {
      "text/plain": [
       "(10, 5)"
      ]
     },
     "execution_count": 20,
     "metadata": {},
     "output_type": "execute_result"
    }
   ],
   "source": [
    "r.shape"
   ]
  },
  {
   "cell_type": "code",
   "execution_count": 21,
   "id": "0f19b929-921d-4205-8fe8-b12831332b10",
   "metadata": {},
   "outputs": [
    {
     "data": {
      "text/plain": [
       "2"
      ]
     },
     "execution_count": 21,
     "metadata": {},
     "output_type": "execute_result"
    }
   ],
   "source": [
    "r.ndim"
   ]
  },
  {
   "cell_type": "code",
   "execution_count": 22,
   "id": "76a6b359-0648-4c48-b441-7936cb3186e8",
   "metadata": {},
   "outputs": [
    {
     "data": {
      "text/plain": [
       "50"
      ]
     },
     "execution_count": 22,
     "metadata": {},
     "output_type": "execute_result"
    }
   ],
   "source": [
    "r.size"
   ]
  },
  {
   "cell_type": "code",
   "execution_count": 24,
   "id": "7d967b7a-0bc3-4dc7-9209-ddfa557eff71",
   "metadata": {},
   "outputs": [
    {
     "data": {
      "text/plain": [
       "array([[-0.66754017,  1.00670536, -0.14817622,  0.06640884],\n",
       "       [ 1.00680028,  2.14776861, -0.49249617,  1.15973406],\n",
       "       [-0.68366868,  0.73589138, -2.46065079,  0.96878586],\n",
       "       [ 0.48345871,  1.06921066, -1.76592977,  1.17660859],\n",
       "       [-0.70965659,  0.32417862, -1.04772154,  0.36553318],\n",
       "       [ 0.64633073,  0.16732216, -0.76646188,  1.55163661],\n",
       "       [-0.53432359, -0.71184088, -1.09127139, -0.37620182],\n",
       "       [-0.39638394,  2.05640657, -1.79764305, -0.99718156],\n",
       "       [-0.24145777,  0.73226212,  0.63617364, -1.79154887],\n",
       "       [-1.79678964,  0.84981547, -0.03651313,  1.01649485]])"
      ]
     },
     "execution_count": 24,
     "metadata": {},
     "output_type": "execute_result"
    }
   ],
   "source": [
    "np.random.randn(10,4)"
   ]
  },
  {
   "cell_type": "code",
   "execution_count": 25,
   "id": "c2e0efb7-8fab-42c3-80e8-75b50404a4bc",
   "metadata": {},
   "outputs": [
    {
     "data": {
      "text/plain": [
       "array([[ 0.40183227],\n",
       "       [-0.46156589],\n",
       "       [ 0.57348107],\n",
       "       [ 0.71311403],\n",
       "       [ 0.21976413],\n",
       "       [-1.32958186],\n",
       "       [ 0.48977819],\n",
       "       [ 0.26883347],\n",
       "       [-0.08594325],\n",
       "       [-0.30998523],\n",
       "       [-0.81414488],\n",
       "       [ 1.55589674],\n",
       "       [-0.61113138],\n",
       "       [ 0.23214565],\n",
       "       [-0.84810448],\n",
       "       [-0.60830433],\n",
       "       [ 0.38684873],\n",
       "       [ 0.41478253],\n",
       "       [-0.30683251],\n",
       "       [ 1.18614532],\n",
       "       [-0.36506255],\n",
       "       [ 1.38768317],\n",
       "       [-0.51777145],\n",
       "       [ 1.27363773],\n",
       "       [ 0.15189973],\n",
       "       [-0.51989517],\n",
       "       [ 0.53167484],\n",
       "       [ 0.7272459 ],\n",
       "       [ 0.80142666],\n",
       "       [-0.00227117]])"
      ]
     },
     "execution_count": 25,
     "metadata": {},
     "output_type": "execute_result"
    }
   ],
   "source": [
    "np.random.randn(30,1)"
   ]
  },
  {
   "cell_type": "code",
   "execution_count": 26,
   "id": "e811e145-6a6a-4515-ae77-fa51c0a1bc10",
   "metadata": {},
   "outputs": [
    {
     "data": {
      "text/plain": [
       "array([[ 7.47169394, 11.4450046 ,  9.25093136,  8.0673772 , 10.40091595],\n",
       "       [10.21294017,  9.16513744, 12.94514757,  7.95503803,  8.3178834 ],\n",
       "       [12.42050297,  9.12211077,  9.36119928,  8.81923422,  4.40592208],\n",
       "       [ 6.21258363,  8.7680165 ,  8.49946781,  6.76251452,  5.28377386]])"
      ]
     },
     "execution_count": 26,
     "metadata": {},
     "output_type": "execute_result"
    }
   ],
   "source": [
    "np.random.normal(10,2,(4,5))"
   ]
  },
  {
   "cell_type": "code",
   "execution_count": 27,
   "id": "7bbe8ee7-91a3-487a-b472-509f54747dee",
   "metadata": {},
   "outputs": [
    {
     "data": {
      "text/plain": [
       "42.90104759482502"
      ]
     },
     "execution_count": 27,
     "metadata": {},
     "output_type": "execute_result"
    }
   ],
   "source": [
    "np.random.normal(40,5)"
   ]
  },
  {
   "cell_type": "code",
   "execution_count": 1,
   "id": "a197c64c-90a7-4d8a-ba2e-917dbae154dc",
   "metadata": {},
   "outputs": [
    {
     "ename": "NameError",
     "evalue": "name 'np' is not defined",
     "output_type": "error",
     "traceback": [
      "\u001b[1;31m---------------------------------------------------------------------------\u001b[0m",
      "\u001b[1;31mNameError\u001b[0m                                 Traceback (most recent call last)",
      "Cell \u001b[1;32mIn[1], line 1\u001b[0m\n\u001b[1;32m----> 1\u001b[0m np\u001b[38;5;241m.\u001b[39mrandom\u001b[38;5;241m.\u001b[39mrandint\n",
      "\u001b[1;31mNameError\u001b[0m: name 'np' is not defined"
     ]
    }
   ],
   "source": [
    "np.random.randint\n"
   ]
  },
  {
   "cell_type": "markdown",
   "id": "098bd806-7012-4328-b64e-5f8af803d883",
   "metadata": {},
   "source": [
    "# Day 10\n"
   ]
  },
  {
   "cell_type": "code",
   "execution_count": 1,
   "id": "382ddf96-0922-4c4c-9ee0-1233e6040e3d",
   "metadata": {},
   "outputs": [
    {
     "data": {
      "text/plain": [
       "[30, 20, 5, 8, 9]"
      ]
     },
     "execution_count": 1,
     "metadata": {},
     "output_type": "execute_result"
    }
   ],
   "source": [
    "h=[30,20,5,8,9]\n",
    "h"
   ]
  },
  {
   "cell_type": "code",
   "execution_count": 3,
   "id": "72ff6315-5fc5-4196-8715-57331cdbb1f9",
   "metadata": {},
   "outputs": [
    {
     "name": "stdout",
     "output_type": "stream",
     "text": [
      "Updated list:  [37, 27, 12, 15, 16]\n"
     ]
    }
   ],
   "source": [
    "updated=[]\n",
    "for i in h:\n",
    "    updated.append(7+i)\n",
    "print(\"Updated list: \",updated)"
   ]
  },
  {
   "cell_type": "code",
   "execution_count": 4,
   "id": "1177f7c8-11c7-406c-acbc-3acdfcbf1382",
   "metadata": {},
   "outputs": [
    {
     "data": {
      "text/plain": [
       "(6, 2, 3, 9, 7, 5, 8)"
      ]
     },
     "execution_count": 4,
     "metadata": {},
     "output_type": "execute_result"
    }
   ],
   "source": [
    "s=(6,2,3,9,7,5,8)\n",
    "s"
   ]
  },
  {
   "cell_type": "code",
   "execution_count": 6,
   "id": "d20fe596-8bb0-4780-b8f9-b422ebe55e9a",
   "metadata": {},
   "outputs": [
    {
     "name": "stdout",
     "output_type": "stream",
     "text": [
      "Squares of number in tuple: [36, 4, 9, 81, 49, 25, 64]\n"
     ]
    }
   ],
   "source": [
    "d=[]\n",
    "for i in s:\n",
    "    d.append(i*i)\n",
    "print(\"Squares of number in tuple:\",d)"
   ]
  },
  {
   "cell_type": "code",
   "execution_count": 7,
   "id": "d133757f-affd-4f09-ae50-6b0671bb0c78",
   "metadata": {},
   "outputs": [
    {
     "data": {
      "text/plain": [
       "(36, 4, 9, 81, 49, 25, 64)"
      ]
     },
     "execution_count": 7,
     "metadata": {},
     "output_type": "execute_result"
    }
   ],
   "source": [
    "e=tuple(d)\n",
    "e"
   ]
  },
  {
   "cell_type": "code",
   "execution_count": 11,
   "id": "32ddde02-3093-4431-b9ab-764b7eadf14d",
   "metadata": {},
   "outputs": [],
   "source": [
    "arr=np.array([20,50,30,70,80,40,36,54,23,98])"
   ]
  },
  {
   "cell_type": "code",
   "execution_count": 12,
   "id": "98373e5f-2ed4-4e73-9374-e43cf43ecb47",
   "metadata": {},
   "outputs": [
    {
     "data": {
      "text/plain": [
       "array([20, 50, 30, 70, 80, 40, 36, 54, 23, 98])"
      ]
     },
     "execution_count": 12,
     "metadata": {},
     "output_type": "execute_result"
    }
   ],
   "source": [
    "arr"
   ]
  },
  {
   "cell_type": "code",
   "execution_count": 14,
   "id": "7e5df735-a085-45a0-aae4-f222da1b6519",
   "metadata": {},
   "outputs": [
    {
     "data": {
      "text/plain": [
       "array([ 27,  57,  37,  77,  87,  47,  43,  61,  30, 105])"
      ]
     },
     "execution_count": 14,
     "metadata": {},
     "output_type": "execute_result"
    }
   ],
   "source": [
    "t=arr+7\n",
    "t"
   ]
  },
  {
   "cell_type": "code",
   "execution_count": 15,
   "id": "f0870b56-23a5-4f89-b28c-db5e556ae96e",
   "metadata": {},
   "outputs": [
    {
     "data": {
      "text/plain": [
       "array([100, 250, 150, 350, 400, 200, 180, 270, 115, 490])"
      ]
     },
     "execution_count": 15,
     "metadata": {},
     "output_type": "execute_result"
    }
   ],
   "source": [
    "arr*5"
   ]
  },
  {
   "cell_type": "code",
   "execution_count": 18,
   "id": "09a3370c-f05c-4185-885b-e2e1430d2004",
   "metadata": {},
   "outputs": [
    {
     "data": {
      "text/plain": [
       "array([False, False, False,  True,  True, False, False,  True, False,\n",
       "        True])"
      ]
     },
     "execution_count": 18,
     "metadata": {},
     "output_type": "execute_result"
    }
   ],
   "source": [
    "arr>50"
   ]
  },
  {
   "cell_type": "code",
   "execution_count": 19,
   "id": "0e75cc40-d98a-4d32-a50f-dc33d03b2842",
   "metadata": {},
   "outputs": [],
   "source": [
    "arr=np.array([20,50,30,70,80,40,36,54,23,98])"
   ]
  },
  {
   "cell_type": "code",
   "execution_count": 21,
   "id": "e8d5b10f-8e2a-4533-ada6-7b1bae1a7e34",
   "metadata": {},
   "outputs": [
    {
     "data": {
      "text/plain": [
       "array([20, 50, 30, 70, 80, 40, 36, 54, 23, 98])"
      ]
     },
     "execution_count": 21,
     "metadata": {},
     "output_type": "execute_result"
    }
   ],
   "source": [
    "k=arr\n",
    "k"
   ]
  },
  {
   "cell_type": "code",
   "execution_count": 22,
   "id": "84296bbd-a144-4d3a-b010-f2c7af1ed550",
   "metadata": {},
   "outputs": [
    {
     "data": {
      "text/plain": [
       "array([20, 50, 30, 70, 80, 40, 36, 54, 23, 98])"
      ]
     },
     "execution_count": 22,
     "metadata": {},
     "output_type": "execute_result"
    }
   ],
   "source": [
    "k"
   ]
  },
  {
   "cell_type": "code",
   "execution_count": 25,
   "id": "21f1b990-88c2-468a-be98-ed4bfe32c91a",
   "metadata": {},
   "outputs": [
    {
     "data": {
      "text/plain": [
       "[3, 4, 7, 9]"
      ]
     },
     "execution_count": 25,
     "metadata": {},
     "output_type": "execute_result"
    }
   ],
   "source": [
    "index=[]\n",
    "for i in range(len(k)):\n",
    "    if k[i]>50:\n",
    "        index.append(i)\n",
    "index"
   ]
  },
  {
   "cell_type": "raw",
   "id": "a0a14079-8a9a-423e-89db-1dbb01b3fb0d",
   "metadata": {},
   "source": [
    "np.where(arr>50)"
   ]
  },
  {
   "cell_type": "code",
   "execution_count": 1,
   "id": "a3989711-94c2-49c7-a59b-c78e0056b798",
   "metadata": {},
   "outputs": [
    {
     "ename": "NameError",
     "evalue": "name 'np' is not defined",
     "output_type": "error",
     "traceback": [
      "\u001b[1;31m---------------------------------------------------------------------------\u001b[0m",
      "\u001b[1;31mNameError\u001b[0m                                 Traceback (most recent call last)",
      "Cell \u001b[1;32mIn[1], line 1\u001b[0m\n\u001b[1;32m----> 1\u001b[0m np\u001b[38;5;241m.\u001b[39mwhere(arr\u001b[38;5;241m>\u001b[39m\u001b[38;5;241m50\u001b[39m)\n",
      "\u001b[1;31mNameError\u001b[0m: name 'np' is not defined"
     ]
    }
   ],
   "source": [
    "np.where(arr>50)\n"
   ]
  },
  {
   "cell_type": "code",
   "execution_count": 5,
   "id": "bb776d63-0e99-4d62-81ce-8a617c9a537a",
   "metadata": {},
   "outputs": [],
   "source": [
    "import pandas as pd\n",
    "import numpy as np"
   ]
  },
  {
   "cell_type": "code",
   "execution_count": 6,
   "id": "db434a69-be4e-47ba-a01e-2f21e44d0e88",
   "metadata": {},
   "outputs": [],
   "source": [
    "a=np.array([20,46,87,6,3,4,9,454,96,3])"
   ]
  },
  {
   "cell_type": "code",
   "execution_count": 7,
   "id": "b866ed34-1602-4770-8d1c-99719a4c9420",
   "metadata": {},
   "outputs": [
    {
     "data": {
      "text/plain": [
       "array([ 20,  46,  87,   6,   3,   4,   9, 454,  96,   3])"
      ]
     },
     "execution_count": 7,
     "metadata": {},
     "output_type": "execute_result"
    }
   ],
   "source": [
    "a"
   ]
  },
  {
   "cell_type": "raw",
   "id": "667c0f17-0367-4929-bde7-ecaabaff2e2c",
   "metadata": {},
   "source": [
    "a[-5:-12:-1]"
   ]
  },
  {
   "cell_type": "code",
   "execution_count": 8,
   "id": "619a68f0-3321-4897-af3f-1b0b6529f4aa",
   "metadata": {},
   "outputs": [
    {
     "data": {
      "text/plain": [
       "array([ 4,  3,  6, 87, 46, 20])"
      ]
     },
     "execution_count": 8,
     "metadata": {},
     "output_type": "execute_result"
    }
   ],
   "source": [
    "a[-5:-12:-1]"
   ]
  },
  {
   "cell_type": "code",
   "execution_count": 9,
   "id": "b86df04c-1b40-4a53-8292-7cec2e97c05f",
   "metadata": {},
   "outputs": [
    {
     "data": {
      "text/plain": [
       "1"
      ]
     },
     "execution_count": 9,
     "metadata": {},
     "output_type": "execute_result"
    }
   ],
   "source": [
    "a.ndim"
   ]
  },
  {
   "cell_type": "code",
   "execution_count": 14,
   "id": "736930ba-fa62-41ac-9bcd-06cb9863cc4a",
   "metadata": {},
   "outputs": [
    {
     "data": {
      "text/plain": [
       "array([[63, 45, 50, 48, 63, 67, 69, 64],\n",
       "       [51, 61, 53, 52, 61, 63, 68, 54],\n",
       "       [59, 46, 53, 55, 68, 45, 56, 69],\n",
       "       [69, 53, 48, 60, 58, 56, 51, 58],\n",
       "       [59, 47, 68, 60, 47, 66, 58, 45],\n",
       "       [59, 46, 45, 46, 52, 64, 62, 63],\n",
       "       [56, 49, 63, 65, 62, 53, 60, 55]])"
      ]
     },
     "execution_count": 14,
     "metadata": {},
     "output_type": "execute_result"
    }
   ],
   "source": [
    "np.random.seed(94)\n",
    "b=np.random.randint(45,70,(7,8))\n",
    "b"
   ]
  },
  {
   "cell_type": "code",
   "execution_count": 16,
   "id": "d0756f4e-33aa-4ef0-8934-1195528e7dab",
   "metadata": {},
   "outputs": [
    {
     "data": {
      "text/plain": [
       "array([59, 46, 53, 55, 68, 45, 56, 69])"
      ]
     },
     "execution_count": 16,
     "metadata": {},
     "output_type": "execute_result"
    }
   ],
   "source": [
    "b[2] # accessing 2nd row"
   ]
  },
  {
   "cell_type": "code",
   "execution_count": 17,
   "id": "a5d47fa8-798a-4704-a0a5-3dc1133d97fb",
   "metadata": {},
   "outputs": [
    {
     "data": {
      "text/plain": [
       "array([64, 54, 69, 58, 45, 63, 55])"
      ]
     },
     "execution_count": 17,
     "metadata": {},
     "output_type": "execute_result"
    }
   ],
   "source": [
    "b[:,7] #accessing the 7th coloumn\n"
   ]
  },
  {
   "cell_type": "code",
   "execution_count": 18,
   "id": "f4f5eed4-7797-4042-bd7f-6da1fd344436",
   "metadata": {},
   "outputs": [
    {
     "data": {
      "text/plain": [
       "array([69, 53, 48, 60, 58, 56, 51, 58])"
      ]
     },
     "execution_count": 18,
     "metadata": {},
     "output_type": "execute_result"
    }
   ],
   "source": [
    "b[-4] #accessing the 4th row"
   ]
  },
  {
   "cell_type": "code",
   "execution_count": 20,
   "id": "591b6960-5841-432d-97cd-d45867edc946",
   "metadata": {},
   "outputs": [
    {
     "data": {
      "text/plain": [
       "52"
      ]
     },
     "execution_count": 20,
     "metadata": {},
     "output_type": "execute_result"
    }
   ],
   "source": [
    "b[1,3]#accessing the  1st row and 3 column position"
   ]
  },
  {
   "cell_type": "code",
   "execution_count": 22,
   "id": "fe08f074-0629-4eaf-9ce5-4db7123c419a",
   "metadata": {},
   "outputs": [
    {
     "data": {
      "text/plain": [
       "62"
      ]
     },
     "execution_count": 22,
     "metadata": {},
     "output_type": "execute_result"
    }
   ],
   "source": [
    "b[5,6] #accessing the 5th row and 6th column position"
   ]
  },
  {
   "cell_type": "code",
   "execution_count": 23,
   "id": "0f9858f0-980e-4271-9e92-6f72a5d6999d",
   "metadata": {},
   "outputs": [
    {
     "data": {
      "text/plain": [
       "array([48, 52, 55, 60, 60, 46, 65])"
      ]
     },
     "execution_count": 23,
     "metadata": {},
     "output_type": "execute_result"
    }
   ],
   "source": [
    "b[:,3] # accessing the 3rd column"
   ]
  },
  {
   "cell_type": "code",
   "execution_count": 24,
   "id": "e4a4eee3-ed28-45ea-845d-36ce2df9219b",
   "metadata": {},
   "outputs": [
    {
     "data": {
      "text/plain": [
       "array([[63, 45, 50, 48, 63, 67, 69, 64],\n",
       "       [51, 61, 53, 52, 61, 63, 68, 54],\n",
       "       [59, 46, 53, 55, 68, 45, 56, 69],\n",
       "       [69, 53, 48, 60, 58, 56, 51, 58],\n",
       "       [59, 47, 68, 60, 47, 66, 58, 45],\n",
       "       [59, 46, 45, 46, 52, 64, 62, 63],\n",
       "       [56, 49, 63, 65, 62, 53, 60, 55]])"
      ]
     },
     "execution_count": 24,
     "metadata": {},
     "output_type": "execute_result"
    }
   ],
   "source": [
    "b"
   ]
  },
  {
   "cell_type": "code",
   "execution_count": 25,
   "id": "842948c3-2094-458f-9065-ff44454d8db6",
   "metadata": {},
   "outputs": [
    {
     "data": {
      "text/plain": [
       "array([59, 46, 53, 55, 68, 45, 56, 69])"
      ]
     },
     "execution_count": 25,
     "metadata": {},
     "output_type": "execute_result"
    }
   ],
   "source": [
    "b[2]"
   ]
  },
  {
   "cell_type": "code",
   "execution_count": 29,
   "id": "a08acb02-4eee-4fd9-9af4-c0d8c442b4d7",
   "metadata": {},
   "outputs": [
    {
     "data": {
      "text/plain": [
       "array([46, 53, 55, 68, 45])"
      ]
     },
     "execution_count": 29,
     "metadata": {},
     "output_type": "execute_result"
    }
   ],
   "source": [
    "b[2,1:6]"
   ]
  },
  {
   "cell_type": "code",
   "execution_count": 31,
   "id": "e00831ae-6346-43bf-b076-a90867d0d9d3",
   "metadata": {},
   "outputs": [
    {
     "ename": "NameError",
     "evalue": "name 'array' is not defined",
     "output_type": "error",
     "traceback": [
      "\u001b[1;31m---------------------------------------------------------------------------\u001b[0m",
      "\u001b[1;31mNameError\u001b[0m                                 Traceback (most recent call last)",
      "Cell \u001b[1;32mIn[31], line 1\u001b[0m\n\u001b[1;32m----> 1\u001b[0m array[row_start : row\u001b[38;5;241m-\u001b[39mend : row\u001b[38;5;241m-\u001b[39mstep]\n",
      "\u001b[1;31mNameError\u001b[0m: name 'array' is not defined"
     ]
    }
   ],
   "source": [
    "array[row_start : row-end : row-step]"
   ]
  },
  {
   "cell_type": "code",
   "execution_count": 32,
   "id": "50f72fe3-5892-44cb-935c-65773924464a",
   "metadata": {},
   "outputs": [
    {
     "data": {
      "text/plain": [
       "array([[63, 45, 50, 48, 63, 67, 69, 64],\n",
       "       [51, 61, 53, 52, 61, 63, 68, 54],\n",
       "       [59, 46, 53, 55, 68, 45, 56, 69],\n",
       "       [69, 53, 48, 60, 58, 56, 51, 58],\n",
       "       [59, 47, 68, 60, 47, 66, 58, 45],\n",
       "       [59, 46, 45, 46, 52, 64, 62, 63],\n",
       "       [56, 49, 63, 65, 62, 53, 60, 55]])"
      ]
     },
     "execution_count": 32,
     "metadata": {},
     "output_type": "execute_result"
    }
   ],
   "source": [
    "b"
   ]
  },
  {
   "cell_type": "code",
   "execution_count": 33,
   "id": "fc8d736c-1c19-4644-9eec-7ff168c0772c",
   "metadata": {},
   "outputs": [
    {
     "data": {
      "text/plain": [
       "array([[51, 61, 53, 52, 61, 63, 68, 54],\n",
       "       [59, 46, 53, 55, 68, 45, 56, 69],\n",
       "       [69, 53, 48, 60, 58, 56, 51, 58],\n",
       "       [59, 47, 68, 60, 47, 66, 58, 45],\n",
       "       [59, 46, 45, 46, 52, 64, 62, 63]])"
      ]
     },
     "execution_count": 33,
     "metadata": {},
     "output_type": "execute_result"
    }
   ],
   "source": [
    "b[1:6]"
   ]
  },
  {
   "cell_type": "code",
   "execution_count": 41,
   "id": "20469e01-3a91-45d1-8756-a82f069675ff",
   "metadata": {},
   "outputs": [
    {
     "data": {
      "text/plain": [
       "array([[59, 46, 53, 55, 68, 45, 56, 69],\n",
       "       [69, 53, 48, 60, 58, 56, 51, 58]])"
      ]
     },
     "execution_count": 41,
     "metadata": {},
     "output_type": "execute_result"
    }
   ],
   "source": [
    "b[2:4]"
   ]
  },
  {
   "cell_type": "code",
   "execution_count": 43,
   "id": "fca26fc1-5eb8-4a76-9853-a37d54f12efb",
   "metadata": {},
   "outputs": [
    {
     "data": {
      "text/plain": [
       "array([[61, 53, 52, 61, 63],\n",
       "       [53, 48, 60, 58, 56],\n",
       "       [46, 45, 46, 52, 64]])"
      ]
     },
     "execution_count": 43,
     "metadata": {},
     "output_type": "execute_result"
    }
   ],
   "source": [
    "b[1:6:2,1:6]"
   ]
  },
  {
   "cell_type": "code",
   "execution_count": 46,
   "id": "b0e94b00-788a-4e16-a7d3-7f988df4fb17",
   "metadata": {},
   "outputs": [
    {
     "data": {
      "text/plain": [
       "array([[53, 52, 61, 63],\n",
       "       [48, 60, 58, 56],\n",
       "       [45, 46, 52, 64]])"
      ]
     },
     "execution_count": 46,
     "metadata": {},
     "output_type": "execute_result"
    }
   ],
   "source": [
    "b[1:6:2,2:6]"
   ]
  },
  {
   "cell_type": "code",
   "execution_count": 47,
   "id": "9133192b-8b24-4f2f-bab4-6dacc5986d2e",
   "metadata": {},
   "outputs": [
    {
     "data": {
      "text/plain": [
       "array([[48, 60, 58, 56],\n",
       "       [68, 60, 47, 66],\n",
       "       [45, 46, 52, 64]])"
      ]
     },
     "execution_count": 47,
     "metadata": {},
     "output_type": "execute_result"
    }
   ],
   "source": [
    "b[3:6,2:6]"
   ]
  },
  {
   "cell_type": "code",
   "execution_count": 48,
   "id": "a4bec7db-d33d-43c9-ba80-35d2a6eb0ec5",
   "metadata": {},
   "outputs": [
    {
     "data": {
      "text/plain": [
       "array([[63, 45, 50, 48, 63, 67, 69, 64],\n",
       "       [51, 61, 53, 52, 61, 63, 68, 54],\n",
       "       [59, 46, 53, 55, 68, 45, 56, 69],\n",
       "       [69, 53, 48, 60, 58, 56, 51, 58],\n",
       "       [59, 47, 68, 60, 47, 66, 58, 45],\n",
       "       [59, 46, 45, 46, 52, 64, 62, 63],\n",
       "       [56, 49, 63, 65, 62, 53, 60, 55]])"
      ]
     },
     "execution_count": 48,
     "metadata": {},
     "output_type": "execute_result"
    }
   ],
   "source": [
    "b\n"
   ]
  },
  {
   "cell_type": "code",
   "execution_count": 49,
   "id": "56996b6f-b800-40a3-8360-c292ffd02111",
   "metadata": {},
   "outputs": [
    {
     "data": {
      "text/plain": [
       "array([[51, 61, 53, 52, 61, 63, 68, 54],\n",
       "       [69, 53, 48, 60, 58, 56, 51, 58],\n",
       "       [59, 46, 45, 46, 52, 64, 62, 63]])"
      ]
     },
     "execution_count": 49,
     "metadata": {},
     "output_type": "execute_result"
    }
   ],
   "source": [
    "b[1:6:2]"
   ]
  },
  {
   "cell_type": "code",
   "execution_count": 50,
   "id": "f2a27d14-3ee8-4b8f-8cc5-39c79af7f879",
   "metadata": {},
   "outputs": [
    {
     "data": {
      "text/plain": [
       "array([[61, 61, 54],\n",
       "       [53, 58, 58],\n",
       "       [46, 52, 63]])"
      ]
     },
     "execution_count": 50,
     "metadata": {},
     "output_type": "execute_result"
    }
   ],
   "source": [
    "b[1:6:2, 1:8:3]"
   ]
  },
  {
   "cell_type": "markdown",
   "id": "c0519455-7dbb-4700-b253-e06bfdbe7ec1",
   "metadata": {},
   "source": [
    "# day 12"
   ]
  },
  {
   "cell_type": "code",
   "execution_count": 6,
   "id": "ed6952b3-b459-4984-b495-3068509822af",
   "metadata": {},
   "outputs": [],
   "source": [
    "import numpy as np\n",
    "import pandas as pd\n",
    "import seaborn as sns"
   ]
  },
  {
   "cell_type": "code",
   "execution_count": 7,
   "id": "b5c25a9d-0f96-4315-a448-691a9c10e6c4",
   "metadata": {},
   "outputs": [
    {
     "data": {
      "text/plain": [
       "['anagrams',\n",
       " 'anscombe',\n",
       " 'attention',\n",
       " 'brain_networks',\n",
       " 'car_crashes',\n",
       " 'diamonds',\n",
       " 'dots',\n",
       " 'dowjones',\n",
       " 'exercise',\n",
       " 'flights',\n",
       " 'fmri',\n",
       " 'geyser',\n",
       " 'glue',\n",
       " 'healthexp',\n",
       " 'iris',\n",
       " 'mpg',\n",
       " 'penguins',\n",
       " 'planets',\n",
       " 'seaice',\n",
       " 'taxis',\n",
       " 'tips',\n",
       " 'titanic']"
      ]
     },
     "execution_count": 7,
     "metadata": {},
     "output_type": "execute_result"
    }
   ],
   "source": [
    "sns.get_dataset_names()"
   ]
  },
  {
   "cell_type": "code",
   "execution_count": 34,
   "id": "0934c9fe-57d4-4a59-9220-1ad702293784",
   "metadata": {},
   "outputs": [
    {
     "data": {
      "text/html": [
       "<div>\n",
       "<style scoped>\n",
       "    .dataframe tbody tr th:only-of-type {\n",
       "        vertical-align: middle;\n",
       "    }\n",
       "\n",
       "    .dataframe tbody tr th {\n",
       "        vertical-align: top;\n",
       "    }\n",
       "\n",
       "    .dataframe thead th {\n",
       "        text-align: right;\n",
       "    }\n",
       "</style>\n",
       "<table border=\"1\" class=\"dataframe\">\n",
       "  <thead>\n",
       "    <tr style=\"text-align: right;\">\n",
       "      <th></th>\n",
       "      <th>year</th>\n",
       "      <th>month</th>\n",
       "      <th>passengers</th>\n",
       "    </tr>\n",
       "  </thead>\n",
       "  <tbody>\n",
       "    <tr>\n",
       "      <th>0</th>\n",
       "      <td>1949</td>\n",
       "      <td>Jan</td>\n",
       "      <td>112</td>\n",
       "    </tr>\n",
       "    <tr>\n",
       "      <th>1</th>\n",
       "      <td>1949</td>\n",
       "      <td>Feb</td>\n",
       "      <td>118</td>\n",
       "    </tr>\n",
       "    <tr>\n",
       "      <th>2</th>\n",
       "      <td>1949</td>\n",
       "      <td>Mar</td>\n",
       "      <td>132</td>\n",
       "    </tr>\n",
       "    <tr>\n",
       "      <th>3</th>\n",
       "      <td>1949</td>\n",
       "      <td>Apr</td>\n",
       "      <td>129</td>\n",
       "    </tr>\n",
       "    <tr>\n",
       "      <th>4</th>\n",
       "      <td>1949</td>\n",
       "      <td>May</td>\n",
       "      <td>121</td>\n",
       "    </tr>\n",
       "    <tr>\n",
       "      <th>...</th>\n",
       "      <td>...</td>\n",
       "      <td>...</td>\n",
       "      <td>...</td>\n",
       "    </tr>\n",
       "    <tr>\n",
       "      <th>139</th>\n",
       "      <td>1960</td>\n",
       "      <td>Aug</td>\n",
       "      <td>606</td>\n",
       "    </tr>\n",
       "    <tr>\n",
       "      <th>140</th>\n",
       "      <td>1960</td>\n",
       "      <td>Sep</td>\n",
       "      <td>508</td>\n",
       "    </tr>\n",
       "    <tr>\n",
       "      <th>141</th>\n",
       "      <td>1960</td>\n",
       "      <td>Oct</td>\n",
       "      <td>461</td>\n",
       "    </tr>\n",
       "    <tr>\n",
       "      <th>142</th>\n",
       "      <td>1960</td>\n",
       "      <td>Nov</td>\n",
       "      <td>390</td>\n",
       "    </tr>\n",
       "    <tr>\n",
       "      <th>143</th>\n",
       "      <td>1960</td>\n",
       "      <td>Dec</td>\n",
       "      <td>432</td>\n",
       "    </tr>\n",
       "  </tbody>\n",
       "</table>\n",
       "<p>144 rows × 3 columns</p>\n",
       "</div>"
      ],
      "text/plain": [
       "     year month  passengers\n",
       "0    1949   Jan         112\n",
       "1    1949   Feb         118\n",
       "2    1949   Mar         132\n",
       "3    1949   Apr         129\n",
       "4    1949   May         121\n",
       "..    ...   ...         ...\n",
       "139  1960   Aug         606\n",
       "140  1960   Sep         508\n",
       "141  1960   Oct         461\n",
       "142  1960   Nov         390\n",
       "143  1960   Dec         432\n",
       "\n",
       "[144 rows x 3 columns]"
      ]
     },
     "execution_count": 34,
     "metadata": {},
     "output_type": "execute_result"
    }
   ],
   "source": [
    "df=sns.load_dataset('flights')\n",
    "df"
   ]
  },
  {
   "cell_type": "code",
   "execution_count": 4,
   "id": "24548ad8-c3a6-47fe-be14-efaf89677ef4",
   "metadata": {},
   "outputs": [
    {
     "data": {
      "text/html": [
       "<div>\n",
       "<style scoped>\n",
       "    .dataframe tbody tr th:only-of-type {\n",
       "        vertical-align: middle;\n",
       "    }\n",
       "\n",
       "    .dataframe tbody tr th {\n",
       "        vertical-align: top;\n",
       "    }\n",
       "\n",
       "    .dataframe thead th {\n",
       "        text-align: right;\n",
       "    }\n",
       "</style>\n",
       "<table border=\"1\" class=\"dataframe\">\n",
       "  <thead>\n",
       "    <tr style=\"text-align: right;\">\n",
       "      <th></th>\n",
       "      <th>pickup</th>\n",
       "      <th>dropoff</th>\n",
       "      <th>passengers</th>\n",
       "      <th>distance</th>\n",
       "      <th>fare</th>\n",
       "      <th>tip</th>\n",
       "      <th>tolls</th>\n",
       "      <th>total</th>\n",
       "      <th>color</th>\n",
       "      <th>payment</th>\n",
       "      <th>pickup_zone</th>\n",
       "      <th>dropoff_zone</th>\n",
       "      <th>pickup_borough</th>\n",
       "      <th>dropoff_borough</th>\n",
       "    </tr>\n",
       "  </thead>\n",
       "  <tbody>\n",
       "    <tr>\n",
       "      <th>0</th>\n",
       "      <td>2019-03-23 20:21:09</td>\n",
       "      <td>2019-03-23 20:27:24</td>\n",
       "      <td>1</td>\n",
       "      <td>1.60</td>\n",
       "      <td>7.0</td>\n",
       "      <td>2.15</td>\n",
       "      <td>0.0</td>\n",
       "      <td>12.95</td>\n",
       "      <td>yellow</td>\n",
       "      <td>credit card</td>\n",
       "      <td>Lenox Hill West</td>\n",
       "      <td>UN/Turtle Bay South</td>\n",
       "      <td>Manhattan</td>\n",
       "      <td>Manhattan</td>\n",
       "    </tr>\n",
       "    <tr>\n",
       "      <th>1</th>\n",
       "      <td>2019-03-04 16:11:55</td>\n",
       "      <td>2019-03-04 16:19:00</td>\n",
       "      <td>1</td>\n",
       "      <td>0.79</td>\n",
       "      <td>5.0</td>\n",
       "      <td>0.00</td>\n",
       "      <td>0.0</td>\n",
       "      <td>9.30</td>\n",
       "      <td>yellow</td>\n",
       "      <td>cash</td>\n",
       "      <td>Upper West Side South</td>\n",
       "      <td>Upper West Side South</td>\n",
       "      <td>Manhattan</td>\n",
       "      <td>Manhattan</td>\n",
       "    </tr>\n",
       "    <tr>\n",
       "      <th>2</th>\n",
       "      <td>2019-03-27 17:53:01</td>\n",
       "      <td>2019-03-27 18:00:25</td>\n",
       "      <td>1</td>\n",
       "      <td>1.37</td>\n",
       "      <td>7.5</td>\n",
       "      <td>2.36</td>\n",
       "      <td>0.0</td>\n",
       "      <td>14.16</td>\n",
       "      <td>yellow</td>\n",
       "      <td>credit card</td>\n",
       "      <td>Alphabet City</td>\n",
       "      <td>West Village</td>\n",
       "      <td>Manhattan</td>\n",
       "      <td>Manhattan</td>\n",
       "    </tr>\n",
       "    <tr>\n",
       "      <th>3</th>\n",
       "      <td>2019-03-10 01:23:59</td>\n",
       "      <td>2019-03-10 01:49:51</td>\n",
       "      <td>1</td>\n",
       "      <td>7.70</td>\n",
       "      <td>27.0</td>\n",
       "      <td>6.15</td>\n",
       "      <td>0.0</td>\n",
       "      <td>36.95</td>\n",
       "      <td>yellow</td>\n",
       "      <td>credit card</td>\n",
       "      <td>Hudson Sq</td>\n",
       "      <td>Yorkville West</td>\n",
       "      <td>Manhattan</td>\n",
       "      <td>Manhattan</td>\n",
       "    </tr>\n",
       "    <tr>\n",
       "      <th>4</th>\n",
       "      <td>2019-03-30 13:27:42</td>\n",
       "      <td>2019-03-30 13:37:14</td>\n",
       "      <td>3</td>\n",
       "      <td>2.16</td>\n",
       "      <td>9.0</td>\n",
       "      <td>1.10</td>\n",
       "      <td>0.0</td>\n",
       "      <td>13.40</td>\n",
       "      <td>yellow</td>\n",
       "      <td>credit card</td>\n",
       "      <td>Midtown East</td>\n",
       "      <td>Yorkville West</td>\n",
       "      <td>Manhattan</td>\n",
       "      <td>Manhattan</td>\n",
       "    </tr>\n",
       "    <tr>\n",
       "      <th>...</th>\n",
       "      <td>...</td>\n",
       "      <td>...</td>\n",
       "      <td>...</td>\n",
       "      <td>...</td>\n",
       "      <td>...</td>\n",
       "      <td>...</td>\n",
       "      <td>...</td>\n",
       "      <td>...</td>\n",
       "      <td>...</td>\n",
       "      <td>...</td>\n",
       "      <td>...</td>\n",
       "      <td>...</td>\n",
       "      <td>...</td>\n",
       "      <td>...</td>\n",
       "    </tr>\n",
       "    <tr>\n",
       "      <th>6428</th>\n",
       "      <td>2019-03-31 09:51:53</td>\n",
       "      <td>2019-03-31 09:55:27</td>\n",
       "      <td>1</td>\n",
       "      <td>0.75</td>\n",
       "      <td>4.5</td>\n",
       "      <td>1.06</td>\n",
       "      <td>0.0</td>\n",
       "      <td>6.36</td>\n",
       "      <td>green</td>\n",
       "      <td>credit card</td>\n",
       "      <td>East Harlem North</td>\n",
       "      <td>Central Harlem North</td>\n",
       "      <td>Manhattan</td>\n",
       "      <td>Manhattan</td>\n",
       "    </tr>\n",
       "    <tr>\n",
       "      <th>6429</th>\n",
       "      <td>2019-03-31 17:38:00</td>\n",
       "      <td>2019-03-31 18:34:23</td>\n",
       "      <td>1</td>\n",
       "      <td>18.74</td>\n",
       "      <td>58.0</td>\n",
       "      <td>0.00</td>\n",
       "      <td>0.0</td>\n",
       "      <td>58.80</td>\n",
       "      <td>green</td>\n",
       "      <td>credit card</td>\n",
       "      <td>Jamaica</td>\n",
       "      <td>East Concourse/Concourse Village</td>\n",
       "      <td>Queens</td>\n",
       "      <td>Bronx</td>\n",
       "    </tr>\n",
       "    <tr>\n",
       "      <th>6430</th>\n",
       "      <td>2019-03-23 22:55:18</td>\n",
       "      <td>2019-03-23 23:14:25</td>\n",
       "      <td>1</td>\n",
       "      <td>4.14</td>\n",
       "      <td>16.0</td>\n",
       "      <td>0.00</td>\n",
       "      <td>0.0</td>\n",
       "      <td>17.30</td>\n",
       "      <td>green</td>\n",
       "      <td>cash</td>\n",
       "      <td>Crown Heights North</td>\n",
       "      <td>Bushwick North</td>\n",
       "      <td>Brooklyn</td>\n",
       "      <td>Brooklyn</td>\n",
       "    </tr>\n",
       "    <tr>\n",
       "      <th>6431</th>\n",
       "      <td>2019-03-04 10:09:25</td>\n",
       "      <td>2019-03-04 10:14:29</td>\n",
       "      <td>1</td>\n",
       "      <td>1.12</td>\n",
       "      <td>6.0</td>\n",
       "      <td>0.00</td>\n",
       "      <td>0.0</td>\n",
       "      <td>6.80</td>\n",
       "      <td>green</td>\n",
       "      <td>credit card</td>\n",
       "      <td>East New York</td>\n",
       "      <td>East Flatbush/Remsen Village</td>\n",
       "      <td>Brooklyn</td>\n",
       "      <td>Brooklyn</td>\n",
       "    </tr>\n",
       "    <tr>\n",
       "      <th>6432</th>\n",
       "      <td>2019-03-13 19:31:22</td>\n",
       "      <td>2019-03-13 19:48:02</td>\n",
       "      <td>1</td>\n",
       "      <td>3.85</td>\n",
       "      <td>15.0</td>\n",
       "      <td>3.36</td>\n",
       "      <td>0.0</td>\n",
       "      <td>20.16</td>\n",
       "      <td>green</td>\n",
       "      <td>credit card</td>\n",
       "      <td>Boerum Hill</td>\n",
       "      <td>Windsor Terrace</td>\n",
       "      <td>Brooklyn</td>\n",
       "      <td>Brooklyn</td>\n",
       "    </tr>\n",
       "  </tbody>\n",
       "</table>\n",
       "<p>6433 rows × 14 columns</p>\n",
       "</div>"
      ],
      "text/plain": [
       "                  pickup             dropoff  passengers  distance  fare  \\\n",
       "0    2019-03-23 20:21:09 2019-03-23 20:27:24           1      1.60   7.0   \n",
       "1    2019-03-04 16:11:55 2019-03-04 16:19:00           1      0.79   5.0   \n",
       "2    2019-03-27 17:53:01 2019-03-27 18:00:25           1      1.37   7.5   \n",
       "3    2019-03-10 01:23:59 2019-03-10 01:49:51           1      7.70  27.0   \n",
       "4    2019-03-30 13:27:42 2019-03-30 13:37:14           3      2.16   9.0   \n",
       "...                  ...                 ...         ...       ...   ...   \n",
       "6428 2019-03-31 09:51:53 2019-03-31 09:55:27           1      0.75   4.5   \n",
       "6429 2019-03-31 17:38:00 2019-03-31 18:34:23           1     18.74  58.0   \n",
       "6430 2019-03-23 22:55:18 2019-03-23 23:14:25           1      4.14  16.0   \n",
       "6431 2019-03-04 10:09:25 2019-03-04 10:14:29           1      1.12   6.0   \n",
       "6432 2019-03-13 19:31:22 2019-03-13 19:48:02           1      3.85  15.0   \n",
       "\n",
       "       tip  tolls  total   color      payment            pickup_zone  \\\n",
       "0     2.15    0.0  12.95  yellow  credit card        Lenox Hill West   \n",
       "1     0.00    0.0   9.30  yellow         cash  Upper West Side South   \n",
       "2     2.36    0.0  14.16  yellow  credit card          Alphabet City   \n",
       "3     6.15    0.0  36.95  yellow  credit card              Hudson Sq   \n",
       "4     1.10    0.0  13.40  yellow  credit card           Midtown East   \n",
       "...    ...    ...    ...     ...          ...                    ...   \n",
       "6428  1.06    0.0   6.36   green  credit card      East Harlem North   \n",
       "6429  0.00    0.0  58.80   green  credit card                Jamaica   \n",
       "6430  0.00    0.0  17.30   green         cash    Crown Heights North   \n",
       "6431  0.00    0.0   6.80   green  credit card          East New York   \n",
       "6432  3.36    0.0  20.16   green  credit card            Boerum Hill   \n",
       "\n",
       "                          dropoff_zone pickup_borough dropoff_borough  \n",
       "0                  UN/Turtle Bay South      Manhattan       Manhattan  \n",
       "1                Upper West Side South      Manhattan       Manhattan  \n",
       "2                         West Village      Manhattan       Manhattan  \n",
       "3                       Yorkville West      Manhattan       Manhattan  \n",
       "4                       Yorkville West      Manhattan       Manhattan  \n",
       "...                                ...            ...             ...  \n",
       "6428              Central Harlem North      Manhattan       Manhattan  \n",
       "6429  East Concourse/Concourse Village         Queens           Bronx  \n",
       "6430                    Bushwick North       Brooklyn        Brooklyn  \n",
       "6431      East Flatbush/Remsen Village       Brooklyn        Brooklyn  \n",
       "6432                   Windsor Terrace       Brooklyn        Brooklyn  \n",
       "\n",
       "[6433 rows x 14 columns]"
      ]
     },
     "execution_count": 4,
     "metadata": {},
     "output_type": "execute_result"
    }
   ],
   "source": [
    "df=sns.load_dataset('taxis')\n",
    "df"
   ]
  },
  {
   "cell_type": "code",
   "execution_count": 38,
   "id": "2a7b4da7-959e-48cc-870c-6d142c49f9cc",
   "metadata": {},
   "outputs": [
    {
     "data": {
      "text/plain": [
       "pandas.core.frame.DataFrame"
      ]
     },
     "execution_count": 38,
     "metadata": {},
     "output_type": "execute_result"
    }
   ],
   "source": [
    "type(df)"
   ]
  },
  {
   "cell_type": "code",
   "execution_count": 39,
   "id": "ef760fd9-9efa-410f-9346-126ea25f2cc9",
   "metadata": {},
   "outputs": [
    {
     "data": {
      "text/plain": [
       "(6433, 14)"
      ]
     },
     "execution_count": 39,
     "metadata": {},
     "output_type": "execute_result"
    }
   ],
   "source": [
    "df.shape"
   ]
  },
  {
   "cell_type": "code",
   "execution_count": null,
   "id": "9323c8ea-26cf-4ef8-bdc7-b2481a31ead3",
   "metadata": {},
   "outputs": [],
   "source": []
  },
  {
   "cell_type": "code",
   "execution_count": 9,
   "id": "ef70780f-58cc-45b5-a3d2-91d71005082e",
   "metadata": {},
   "outputs": [],
   "source": [
    "k=[45,85,96,78,21,644,78,0,10,20]"
   ]
  },
  {
   "cell_type": "code",
   "execution_count": 11,
   "id": "554bb021-1b62-429a-b519-030bd07d5fde",
   "metadata": {},
   "outputs": [
    {
     "data": {
      "text/plain": [
       "0     45\n",
       "1     85\n",
       "2     96\n",
       "3     78\n",
       "4     21\n",
       "5    644\n",
       "6     78\n",
       "7      0\n",
       "8     10\n",
       "9     20\n",
       "dtype: int64"
      ]
     },
     "execution_count": 11,
     "metadata": {},
     "output_type": "execute_result"
    }
   ],
   "source": [
    "pd.Series(k)"
   ]
  },
  {
   "cell_type": "code",
   "execution_count": 24,
   "id": "f862bcf9-119e-4b2f-b0f0-53fcb35a2bb9",
   "metadata": {},
   "outputs": [
    {
     "data": {
      "text/plain": [
       "array([[32, 45, 47, 33, 35],\n",
       "       [45, 32, 28, 43, 38],\n",
       "       [48, 33, 27, 42, 43],\n",
       "       [34, 42, 31, 28, 31]])"
      ]
     },
     "execution_count": 24,
     "metadata": {},
     "output_type": "execute_result"
    }
   ],
   "source": [
    "a=np.random.randint(20,50,(4,5))\n",
    "a"
   ]
  },
  {
   "cell_type": "code",
   "execution_count": 25,
   "id": "3d1e95ff-ae34-4f73-b01e-914397726aaa",
   "metadata": {},
   "outputs": [
    {
     "data": {
      "text/plain": [
       "array([[32, 45, 47, 33, 35],\n",
       "       [45, 32, 28, 43, 38],\n",
       "       [48, 33, 27, 42, 43],\n",
       "       [34, 42, 31, 28, 31]])"
      ]
     },
     "execution_count": 25,
     "metadata": {},
     "output_type": "execute_result"
    }
   ],
   "source": [
    "a"
   ]
  },
  {
   "cell_type": "code",
   "execution_count": 26,
   "id": "58333d80-59b1-4162-9425-994a46a510ff",
   "metadata": {},
   "outputs": [
    {
     "data": {
      "text/plain": [
       "2"
      ]
     },
     "execution_count": 26,
     "metadata": {},
     "output_type": "execute_result"
    }
   ],
   "source": [
    "a.ndim"
   ]
  },
  {
   "cell_type": "code",
   "execution_count": 27,
   "id": "88acca25-ecb2-4720-b4bf-27ca7c5ddb02",
   "metadata": {},
   "outputs": [
    {
     "data": {
      "text/html": [
       "<div>\n",
       "<style scoped>\n",
       "    .dataframe tbody tr th:only-of-type {\n",
       "        vertical-align: middle;\n",
       "    }\n",
       "\n",
       "    .dataframe tbody tr th {\n",
       "        vertical-align: top;\n",
       "    }\n",
       "\n",
       "    .dataframe thead th {\n",
       "        text-align: right;\n",
       "    }\n",
       "</style>\n",
       "<table border=\"1\" class=\"dataframe\">\n",
       "  <thead>\n",
       "    <tr style=\"text-align: right;\">\n",
       "      <th></th>\n",
       "      <th>0</th>\n",
       "      <th>1</th>\n",
       "      <th>2</th>\n",
       "      <th>3</th>\n",
       "      <th>4</th>\n",
       "    </tr>\n",
       "  </thead>\n",
       "  <tbody>\n",
       "    <tr>\n",
       "      <th>0</th>\n",
       "      <td>32</td>\n",
       "      <td>45</td>\n",
       "      <td>47</td>\n",
       "      <td>33</td>\n",
       "      <td>35</td>\n",
       "    </tr>\n",
       "    <tr>\n",
       "      <th>1</th>\n",
       "      <td>45</td>\n",
       "      <td>32</td>\n",
       "      <td>28</td>\n",
       "      <td>43</td>\n",
       "      <td>38</td>\n",
       "    </tr>\n",
       "    <tr>\n",
       "      <th>2</th>\n",
       "      <td>48</td>\n",
       "      <td>33</td>\n",
       "      <td>27</td>\n",
       "      <td>42</td>\n",
       "      <td>43</td>\n",
       "    </tr>\n",
       "    <tr>\n",
       "      <th>3</th>\n",
       "      <td>34</td>\n",
       "      <td>42</td>\n",
       "      <td>31</td>\n",
       "      <td>28</td>\n",
       "      <td>31</td>\n",
       "    </tr>\n",
       "  </tbody>\n",
       "</table>\n",
       "</div>"
      ],
      "text/plain": [
       "    0   1   2   3   4\n",
       "0  32  45  47  33  35\n",
       "1  45  32  28  43  38\n",
       "2  48  33  27  42  43\n",
       "3  34  42  31  28  31"
      ]
     },
     "execution_count": 27,
     "metadata": {},
     "output_type": "execute_result"
    }
   ],
   "source": [
    "pd.DataFrame(a)"
   ]
  },
  {
   "cell_type": "code",
   "execution_count": 31,
   "id": "3c72aa89-ad89-4986-a8df-ac8370e1b291",
   "metadata": {},
   "outputs": [
    {
     "ename": "ValueError",
     "evalue": "Shape of passed values is (4, 5), indices imply (5, 5)",
     "output_type": "error",
     "traceback": [
      "\u001b[1;31m---------------------------------------------------------------------------\u001b[0m",
      "\u001b[1;31mValueError\u001b[0m                                Traceback (most recent call last)",
      "Cell \u001b[1;32mIn[31], line 1\u001b[0m\n\u001b[1;32m----> 1\u001b[0m df1 \u001b[38;5;241m=\u001b[39mpd\u001b[38;5;241m.\u001b[39mDataFrame(a,columns\u001b[38;5;241m=\u001b[39m[\u001b[38;5;124m'\u001b[39m\u001b[38;5;124mroll no\u001b[39m\u001b[38;5;124m'\u001b[39m,\u001b[38;5;124m'\u001b[39m\u001b[38;5;124mage\u001b[39m\u001b[38;5;124m'\u001b[39m,\u001b[38;5;124m'\u001b[39m\u001b[38;5;124mmarks\u001b[39m\u001b[38;5;124m'\u001b[39m,\u001b[38;5;124m'\u001b[39m\u001b[38;5;124mheight\u001b[39m\u001b[38;5;124m'\u001b[39m,\u001b[38;5;124m'\u001b[39m\u001b[38;5;124mname\u001b[39m\u001b[38;5;124m'\u001b[39m],index\u001b[38;5;241m=\u001b[39m[\u001b[38;5;241m392\u001b[39m,\u001b[38;5;241m393\u001b[39m,\u001b[38;5;241m394\u001b[39m,\u001b[38;5;241m395\u001b[39m,\u001b[38;5;241m395\u001b[39m])\n\u001b[0;32m      2\u001b[0m df1\n",
      "File \u001b[1;32m~\\anaconda3\\Lib\\site-packages\\pandas\\core\\frame.py:827\u001b[0m, in \u001b[0;36mDataFrame.__init__\u001b[1;34m(self, data, index, columns, dtype, copy)\u001b[0m\n\u001b[0;32m    816\u001b[0m         mgr \u001b[38;5;241m=\u001b[39m dict_to_mgr(\n\u001b[0;32m    817\u001b[0m             \u001b[38;5;66;03m# error: Item \"ndarray\" of \"Union[ndarray, Series, Index]\" has no\u001b[39;00m\n\u001b[0;32m    818\u001b[0m             \u001b[38;5;66;03m# attribute \"name\"\u001b[39;00m\n\u001b[1;32m   (...)\u001b[0m\n\u001b[0;32m    824\u001b[0m             copy\u001b[38;5;241m=\u001b[39m_copy,\n\u001b[0;32m    825\u001b[0m         )\n\u001b[0;32m    826\u001b[0m     \u001b[38;5;28;01melse\u001b[39;00m:\n\u001b[1;32m--> 827\u001b[0m         mgr \u001b[38;5;241m=\u001b[39m ndarray_to_mgr(\n\u001b[0;32m    828\u001b[0m             data,\n\u001b[0;32m    829\u001b[0m             index,\n\u001b[0;32m    830\u001b[0m             columns,\n\u001b[0;32m    831\u001b[0m             dtype\u001b[38;5;241m=\u001b[39mdtype,\n\u001b[0;32m    832\u001b[0m             copy\u001b[38;5;241m=\u001b[39mcopy,\n\u001b[0;32m    833\u001b[0m             typ\u001b[38;5;241m=\u001b[39mmanager,\n\u001b[0;32m    834\u001b[0m         )\n\u001b[0;32m    836\u001b[0m \u001b[38;5;66;03m# For data is list-like, or Iterable (will consume into list)\u001b[39;00m\n\u001b[0;32m    837\u001b[0m \u001b[38;5;28;01melif\u001b[39;00m is_list_like(data):\n",
      "File \u001b[1;32m~\\anaconda3\\Lib\\site-packages\\pandas\\core\\internals\\construction.py:336\u001b[0m, in \u001b[0;36mndarray_to_mgr\u001b[1;34m(values, index, columns, dtype, copy, typ)\u001b[0m\n\u001b[0;32m    331\u001b[0m \u001b[38;5;66;03m# _prep_ndarraylike ensures that values.ndim == 2 at this point\u001b[39;00m\n\u001b[0;32m    332\u001b[0m index, columns \u001b[38;5;241m=\u001b[39m _get_axes(\n\u001b[0;32m    333\u001b[0m     values\u001b[38;5;241m.\u001b[39mshape[\u001b[38;5;241m0\u001b[39m], values\u001b[38;5;241m.\u001b[39mshape[\u001b[38;5;241m1\u001b[39m], index\u001b[38;5;241m=\u001b[39mindex, columns\u001b[38;5;241m=\u001b[39mcolumns\n\u001b[0;32m    334\u001b[0m )\n\u001b[1;32m--> 336\u001b[0m _check_values_indices_shape_match(values, index, columns)\n\u001b[0;32m    338\u001b[0m \u001b[38;5;28;01mif\u001b[39;00m typ \u001b[38;5;241m==\u001b[39m \u001b[38;5;124m\"\u001b[39m\u001b[38;5;124marray\u001b[39m\u001b[38;5;124m\"\u001b[39m:\n\u001b[0;32m    339\u001b[0m     \u001b[38;5;28;01mif\u001b[39;00m \u001b[38;5;28missubclass\u001b[39m(values\u001b[38;5;241m.\u001b[39mdtype\u001b[38;5;241m.\u001b[39mtype, \u001b[38;5;28mstr\u001b[39m):\n",
      "File \u001b[1;32m~\\anaconda3\\Lib\\site-packages\\pandas\\core\\internals\\construction.py:420\u001b[0m, in \u001b[0;36m_check_values_indices_shape_match\u001b[1;34m(values, index, columns)\u001b[0m\n\u001b[0;32m    418\u001b[0m passed \u001b[38;5;241m=\u001b[39m values\u001b[38;5;241m.\u001b[39mshape\n\u001b[0;32m    419\u001b[0m implied \u001b[38;5;241m=\u001b[39m (\u001b[38;5;28mlen\u001b[39m(index), \u001b[38;5;28mlen\u001b[39m(columns))\n\u001b[1;32m--> 420\u001b[0m \u001b[38;5;28;01mraise\u001b[39;00m \u001b[38;5;167;01mValueError\u001b[39;00m(\u001b[38;5;124mf\u001b[39m\u001b[38;5;124m\"\u001b[39m\u001b[38;5;124mShape of passed values is \u001b[39m\u001b[38;5;132;01m{\u001b[39;00mpassed\u001b[38;5;132;01m}\u001b[39;00m\u001b[38;5;124m, indices imply \u001b[39m\u001b[38;5;132;01m{\u001b[39;00mimplied\u001b[38;5;132;01m}\u001b[39;00m\u001b[38;5;124m\"\u001b[39m)\n",
      "\u001b[1;31mValueError\u001b[0m: Shape of passed values is (4, 5), indices imply (5, 5)"
     ]
    }
   ],
   "source": [
    "df1 =pd.DataFrame(a,columns=['roll no','age','marks','height','name'],index=[392,393,394,395,395])\n",
    "\\"
   ]
  },
  {
   "cell_type": "code",
   "execution_count": 42,
   "id": "46630788-aba4-44f8-a4a4-b6d75740fdd7",
   "metadata": {},
   "outputs": [
    {
     "name": "stdout",
     "output_type": "stream",
     "text": [
      "<class 'pandas.core.frame.DataFrame'>\n",
      "RangeIndex: 6433 entries, 0 to 6432\n",
      "Data columns (total 14 columns):\n",
      " #   Column           Non-Null Count  Dtype         \n",
      "---  ------           --------------  -----         \n",
      " 0   pickup           6433 non-null   datetime64[ns]\n",
      " 1   dropoff          6433 non-null   datetime64[ns]\n",
      " 2   passengers       6433 non-null   int64         \n",
      " 3   distance         6433 non-null   float64       \n",
      " 4   fare             6433 non-null   float64       \n",
      " 5   tip              6433 non-null   float64       \n",
      " 6   tolls            6433 non-null   float64       \n",
      " 7   total            6433 non-null   float64       \n",
      " 8   color            6433 non-null   object        \n",
      " 9   payment          6389 non-null   object        \n",
      " 10  pickup_zone      6407 non-null   object        \n",
      " 11  dropoff_zone     6388 non-null   object        \n",
      " 12  pickup_borough   6407 non-null   object        \n",
      " 13  dropoff_borough  6388 non-null   object        \n",
      "dtypes: datetime64[ns](2), float64(5), int64(1), object(6)\n",
      "memory usage: 703.7+ KB\n"
     ]
    }
   ],
   "source": [
    "c=df.info()\n",
    "c"
   ]
  },
  {
   "cell_type": "code",
   "execution_count": 43,
   "id": "8d5f0056-df1d-4d90-93be-71145664f2ee",
   "metadata": {},
   "outputs": [
    {
     "data": {
      "text/plain": [
       "array(['yellow', 'green'], dtype=object)"
      ]
     },
     "execution_count": 43,
     "metadata": {},
     "output_type": "execute_result"
    }
   ],
   "source": [
    "df['color'].unique()"
   ]
  },
  {
   "cell_type": "code",
   "execution_count": 44,
   "id": "12c278cd-f45c-469d-8174-79cdd5bd144c",
   "metadata": {},
   "outputs": [
    {
     "data": {
      "text/plain": [
       "<bound method IndexOpsMixin.value_counts of 0       yellow\n",
       "1       yellow\n",
       "2       yellow\n",
       "3       yellow\n",
       "4       yellow\n",
       "         ...  \n",
       "6428     green\n",
       "6429     green\n",
       "6430     green\n",
       "6431     green\n",
       "6432     green\n",
       "Name: color, Length: 6433, dtype: object>"
      ]
     },
     "execution_count": 44,
     "metadata": {},
     "output_type": "execute_result"
    }
   ],
   "source": [
    "df['color'].value_counts "
   ]
  },
  {
   "cell_type": "code",
   "execution_count": 45,
   "id": "c8d3f847-8776-41ac-8296-f9d333ad405e",
   "metadata": {},
   "outputs": [
    {
     "data": {
      "text/plain": [
       "array(['credit card', 'cash', nan], dtype=object)"
      ]
     },
     "execution_count": 45,
     "metadata": {},
     "output_type": "execute_result"
    }
   ],
   "source": [
    "df['payment'].unique()"
   ]
  },
  {
   "cell_type": "code",
   "execution_count": 47,
   "id": "1da95f2e-66f7-4302-91ad-dd732b980f8a",
   "metadata": {},
   "outputs": [
    {
     "data": {
      "text/plain": [
       "payment\n",
       "credit card    4577\n",
       "cash           1812\n",
       "Name: count, dtype: int64"
      ]
     },
     "execution_count": 47,
     "metadata": {},
     "output_type": "execute_result"
    }
   ],
   "source": [
    "df['payment'].value_counts()"
   ]
  },
  {
   "cell_type": "code",
   "execution_count": 48,
   "id": "d9dc2509-1170-4c09-a761-7159e740b7e3",
   "metadata": {},
   "outputs": [
    {
     "data": {
      "text/plain": [
       "0    7.5\n",
       "Name: fare, dtype: float64"
      ]
     },
     "execution_count": 48,
     "metadata": {},
     "output_type": "execute_result"
    }
   ],
   "source": [
    "df['fare'].mode()"
   ]
  },
  {
   "cell_type": "code",
   "execution_count": 49,
   "id": "5c397cc2-d7f5-4df6-a2c9-dd0b4655a521",
   "metadata": {},
   "outputs": [
    {
     "data": {
      "text/plain": [
       "9.5"
      ]
     },
     "execution_count": 49,
     "metadata": {},
     "output_type": "execute_result"
    }
   ],
   "source": [
    "df['fare'].median()"
   ]
  },
  {
   "cell_type": "code",
   "execution_count": 1,
   "id": "76dc7600-8840-4e1d-99df-092ca75833b4",
   "metadata": {},
   "outputs": [
    {
     "ename": "NameError",
     "evalue": "name 'df' is not defined",
     "output_type": "error",
     "traceback": [
      "\u001b[1;31m---------------------------------------------------------------------------\u001b[0m",
      "\u001b[1;31mNameError\u001b[0m                                 Traceback (most recent call last)",
      "Cell \u001b[1;32mIn[1], line 1\u001b[0m\n\u001b[1;32m----> 1\u001b[0m df[\u001b[38;5;124m'\u001b[39m\u001b[38;5;124mfare\u001b[39m\u001b[38;5;124m'\u001b[39m]\u001b[38;5;241m.\u001b[39mmedian()\n",
      "\u001b[1;31mNameError\u001b[0m: name 'df' is not defined"
     ]
    }
   ],
   "source": [
    "df['fare'].median()\n"
   ]
  },
  {
   "cell_type": "markdown",
   "id": "0fa04b8f-edc3-4d3b-93ed-7e57d9d09526",
   "metadata": {},
   "source": [
    "# Day 13\n"
   ]
  },
  {
   "cell_type": "code",
   "execution_count": null,
   "id": "ce6e1c88-4d28-4701-b0df-7e9ae8b8db96",
   "metadata": {},
   "outputs": [],
   "source": [
    "import pandas as pd\n",
    "import numpy as np\n",
    "import seaborn as sns\n"
   ]
  },
  {
   "cell_type": "code",
   "execution_count": 6,
   "id": "f4e9f851-1363-4970-afbe-cab7bec2dd3c",
   "metadata": {},
   "outputs": [
    {
     "data": {
      "text/html": [
       "<div>\n",
       "<style scoped>\n",
       "    .dataframe tbody tr th:only-of-type {\n",
       "        vertical-align: middle;\n",
       "    }\n",
       "\n",
       "    .dataframe tbody tr th {\n",
       "        vertical-align: top;\n",
       "    }\n",
       "\n",
       "    .dataframe thead th {\n",
       "        text-align: right;\n",
       "    }\n",
       "</style>\n",
       "<table border=\"1\" class=\"dataframe\">\n",
       "  <thead>\n",
       "    <tr style=\"text-align: right;\">\n",
       "      <th></th>\n",
       "      <th>carat</th>\n",
       "      <th>cut</th>\n",
       "      <th>color</th>\n",
       "      <th>clarity</th>\n",
       "      <th>depth</th>\n",
       "      <th>table</th>\n",
       "      <th>price</th>\n",
       "      <th>x</th>\n",
       "      <th>y</th>\n",
       "      <th>z</th>\n",
       "    </tr>\n",
       "  </thead>\n",
       "  <tbody>\n",
       "    <tr>\n",
       "      <th>0</th>\n",
       "      <td>0.23</td>\n",
       "      <td>Ideal</td>\n",
       "      <td>E</td>\n",
       "      <td>SI2</td>\n",
       "      <td>61.5</td>\n",
       "      <td>55.0</td>\n",
       "      <td>326</td>\n",
       "      <td>3.95</td>\n",
       "      <td>3.98</td>\n",
       "      <td>2.43</td>\n",
       "    </tr>\n",
       "    <tr>\n",
       "      <th>1</th>\n",
       "      <td>0.21</td>\n",
       "      <td>Premium</td>\n",
       "      <td>E</td>\n",
       "      <td>SI1</td>\n",
       "      <td>59.8</td>\n",
       "      <td>61.0</td>\n",
       "      <td>326</td>\n",
       "      <td>3.89</td>\n",
       "      <td>3.84</td>\n",
       "      <td>2.31</td>\n",
       "    </tr>\n",
       "    <tr>\n",
       "      <th>2</th>\n",
       "      <td>0.23</td>\n",
       "      <td>Good</td>\n",
       "      <td>E</td>\n",
       "      <td>VS1</td>\n",
       "      <td>56.9</td>\n",
       "      <td>65.0</td>\n",
       "      <td>327</td>\n",
       "      <td>4.05</td>\n",
       "      <td>4.07</td>\n",
       "      <td>2.31</td>\n",
       "    </tr>\n",
       "    <tr>\n",
       "      <th>3</th>\n",
       "      <td>0.29</td>\n",
       "      <td>Premium</td>\n",
       "      <td>I</td>\n",
       "      <td>VS2</td>\n",
       "      <td>62.4</td>\n",
       "      <td>58.0</td>\n",
       "      <td>334</td>\n",
       "      <td>4.20</td>\n",
       "      <td>4.23</td>\n",
       "      <td>2.63</td>\n",
       "    </tr>\n",
       "    <tr>\n",
       "      <th>4</th>\n",
       "      <td>0.31</td>\n",
       "      <td>Good</td>\n",
       "      <td>J</td>\n",
       "      <td>SI2</td>\n",
       "      <td>63.3</td>\n",
       "      <td>58.0</td>\n",
       "      <td>335</td>\n",
       "      <td>4.34</td>\n",
       "      <td>4.35</td>\n",
       "      <td>2.75</td>\n",
       "    </tr>\n",
       "    <tr>\n",
       "      <th>...</th>\n",
       "      <td>...</td>\n",
       "      <td>...</td>\n",
       "      <td>...</td>\n",
       "      <td>...</td>\n",
       "      <td>...</td>\n",
       "      <td>...</td>\n",
       "      <td>...</td>\n",
       "      <td>...</td>\n",
       "      <td>...</td>\n",
       "      <td>...</td>\n",
       "    </tr>\n",
       "    <tr>\n",
       "      <th>53935</th>\n",
       "      <td>0.72</td>\n",
       "      <td>Ideal</td>\n",
       "      <td>D</td>\n",
       "      <td>SI1</td>\n",
       "      <td>60.8</td>\n",
       "      <td>57.0</td>\n",
       "      <td>2757</td>\n",
       "      <td>5.75</td>\n",
       "      <td>5.76</td>\n",
       "      <td>3.50</td>\n",
       "    </tr>\n",
       "    <tr>\n",
       "      <th>53936</th>\n",
       "      <td>0.72</td>\n",
       "      <td>Good</td>\n",
       "      <td>D</td>\n",
       "      <td>SI1</td>\n",
       "      <td>63.1</td>\n",
       "      <td>55.0</td>\n",
       "      <td>2757</td>\n",
       "      <td>5.69</td>\n",
       "      <td>5.75</td>\n",
       "      <td>3.61</td>\n",
       "    </tr>\n",
       "    <tr>\n",
       "      <th>53937</th>\n",
       "      <td>0.70</td>\n",
       "      <td>Very Good</td>\n",
       "      <td>D</td>\n",
       "      <td>SI1</td>\n",
       "      <td>62.8</td>\n",
       "      <td>60.0</td>\n",
       "      <td>2757</td>\n",
       "      <td>5.66</td>\n",
       "      <td>5.68</td>\n",
       "      <td>3.56</td>\n",
       "    </tr>\n",
       "    <tr>\n",
       "      <th>53938</th>\n",
       "      <td>0.86</td>\n",
       "      <td>Premium</td>\n",
       "      <td>H</td>\n",
       "      <td>SI2</td>\n",
       "      <td>61.0</td>\n",
       "      <td>58.0</td>\n",
       "      <td>2757</td>\n",
       "      <td>6.15</td>\n",
       "      <td>6.12</td>\n",
       "      <td>3.74</td>\n",
       "    </tr>\n",
       "    <tr>\n",
       "      <th>53939</th>\n",
       "      <td>0.75</td>\n",
       "      <td>Ideal</td>\n",
       "      <td>D</td>\n",
       "      <td>SI2</td>\n",
       "      <td>62.2</td>\n",
       "      <td>55.0</td>\n",
       "      <td>2757</td>\n",
       "      <td>5.83</td>\n",
       "      <td>5.87</td>\n",
       "      <td>3.64</td>\n",
       "    </tr>\n",
       "  </tbody>\n",
       "</table>\n",
       "<p>53940 rows × 10 columns</p>\n",
       "</div>"
      ],
      "text/plain": [
       "       carat        cut color clarity  depth  table  price     x     y     z\n",
       "0       0.23      Ideal     E     SI2   61.5   55.0    326  3.95  3.98  2.43\n",
       "1       0.21    Premium     E     SI1   59.8   61.0    326  3.89  3.84  2.31\n",
       "2       0.23       Good     E     VS1   56.9   65.0    327  4.05  4.07  2.31\n",
       "3       0.29    Premium     I     VS2   62.4   58.0    334  4.20  4.23  2.63\n",
       "4       0.31       Good     J     SI2   63.3   58.0    335  4.34  4.35  2.75\n",
       "...      ...        ...   ...     ...    ...    ...    ...   ...   ...   ...\n",
       "53935   0.72      Ideal     D     SI1   60.8   57.0   2757  5.75  5.76  3.50\n",
       "53936   0.72       Good     D     SI1   63.1   55.0   2757  5.69  5.75  3.61\n",
       "53937   0.70  Very Good     D     SI1   62.8   60.0   2757  5.66  5.68  3.56\n",
       "53938   0.86    Premium     H     SI2   61.0   58.0   2757  6.15  6.12  3.74\n",
       "53939   0.75      Ideal     D     SI2   62.2   55.0   2757  5.83  5.87  3.64\n",
       "\n",
       "[53940 rows x 10 columns]"
      ]
     },
     "execution_count": 6,
     "metadata": {},
     "output_type": "execute_result"
    }
   ],
   "source": [
    "df=sns.load_dataset(\"diamonds\")\n",
    "df"
   ]
  },
  {
   "cell_type": "code",
   "execution_count": 7,
   "id": "7ac8b9ca-4de8-4ccb-a8ed-f011ee813136",
   "metadata": {},
   "outputs": [
    {
     "data": {
      "text/html": [
       "<div>\n",
       "<style scoped>\n",
       "    .dataframe tbody tr th:only-of-type {\n",
       "        vertical-align: middle;\n",
       "    }\n",
       "\n",
       "    .dataframe tbody tr th {\n",
       "        vertical-align: top;\n",
       "    }\n",
       "\n",
       "    .dataframe thead th {\n",
       "        text-align: right;\n",
       "    }\n",
       "</style>\n",
       "<table border=\"1\" class=\"dataframe\">\n",
       "  <thead>\n",
       "    <tr style=\"text-align: right;\">\n",
       "      <th></th>\n",
       "      <th>carat</th>\n",
       "      <th>cut</th>\n",
       "      <th>color</th>\n",
       "      <th>clarity</th>\n",
       "      <th>depth</th>\n",
       "      <th>table</th>\n",
       "      <th>price</th>\n",
       "      <th>x</th>\n",
       "      <th>y</th>\n",
       "      <th>z</th>\n",
       "    </tr>\n",
       "  </thead>\n",
       "  <tbody>\n",
       "    <tr>\n",
       "      <th>11332</th>\n",
       "      <td>1.01</td>\n",
       "      <td>Premium</td>\n",
       "      <td>F</td>\n",
       "      <td>SI1</td>\n",
       "      <td>59.1</td>\n",
       "      <td>59.0</td>\n",
       "      <td>4989</td>\n",
       "      <td>6.56</td>\n",
       "      <td>6.50</td>\n",
       "      <td>3.86</td>\n",
       "    </tr>\n",
       "    <tr>\n",
       "      <th>12981</th>\n",
       "      <td>1.11</td>\n",
       "      <td>Premium</td>\n",
       "      <td>H</td>\n",
       "      <td>VS2</td>\n",
       "      <td>60.9</td>\n",
       "      <td>57.0</td>\n",
       "      <td>5395</td>\n",
       "      <td>6.77</td>\n",
       "      <td>6.69</td>\n",
       "      <td>4.10</td>\n",
       "    </tr>\n",
       "    <tr>\n",
       "      <th>6456</th>\n",
       "      <td>0.91</td>\n",
       "      <td>Premium</td>\n",
       "      <td>D</td>\n",
       "      <td>SI2</td>\n",
       "      <td>62.2</td>\n",
       "      <td>59.0</td>\n",
       "      <td>4051</td>\n",
       "      <td>6.23</td>\n",
       "      <td>6.19</td>\n",
       "      <td>3.86</td>\n",
       "    </tr>\n",
       "    <tr>\n",
       "      <th>27496</th>\n",
       "      <td>2.30</td>\n",
       "      <td>Ideal</td>\n",
       "      <td>I</td>\n",
       "      <td>VS2</td>\n",
       "      <td>62.6</td>\n",
       "      <td>56.0</td>\n",
       "      <td>18190</td>\n",
       "      <td>8.45</td>\n",
       "      <td>8.40</td>\n",
       "      <td>5.27</td>\n",
       "    </tr>\n",
       "    <tr>\n",
       "      <th>20840</th>\n",
       "      <td>1.51</td>\n",
       "      <td>Good</td>\n",
       "      <td>I</td>\n",
       "      <td>SI1</td>\n",
       "      <td>63.9</td>\n",
       "      <td>59.0</td>\n",
       "      <td>9069</td>\n",
       "      <td>7.18</td>\n",
       "      <td>7.26</td>\n",
       "      <td>4.61</td>\n",
       "    </tr>\n",
       "    <tr>\n",
       "      <th>2118</th>\n",
       "      <td>1.02</td>\n",
       "      <td>Fair</td>\n",
       "      <td>J</td>\n",
       "      <td>SI2</td>\n",
       "      <td>65.0</td>\n",
       "      <td>59.0</td>\n",
       "      <td>3119</td>\n",
       "      <td>6.34</td>\n",
       "      <td>6.24</td>\n",
       "      <td>4.08</td>\n",
       "    </tr>\n",
       "    <tr>\n",
       "      <th>11194</th>\n",
       "      <td>1.00</td>\n",
       "      <td>Ideal</td>\n",
       "      <td>G</td>\n",
       "      <td>SI1</td>\n",
       "      <td>62.2</td>\n",
       "      <td>57.0</td>\n",
       "      <td>4956</td>\n",
       "      <td>6.45</td>\n",
       "      <td>6.38</td>\n",
       "      <td>3.99</td>\n",
       "    </tr>\n",
       "    <tr>\n",
       "      <th>35943</th>\n",
       "      <td>0.30</td>\n",
       "      <td>Ideal</td>\n",
       "      <td>F</td>\n",
       "      <td>SI1</td>\n",
       "      <td>61.9</td>\n",
       "      <td>56.0</td>\n",
       "      <td>475</td>\n",
       "      <td>4.30</td>\n",
       "      <td>4.32</td>\n",
       "      <td>2.67</td>\n",
       "    </tr>\n",
       "    <tr>\n",
       "      <th>41736</th>\n",
       "      <td>0.41</td>\n",
       "      <td>Ideal</td>\n",
       "      <td>E</td>\n",
       "      <td>VVS2</td>\n",
       "      <td>62.3</td>\n",
       "      <td>56.0</td>\n",
       "      <td>1243</td>\n",
       "      <td>4.78</td>\n",
       "      <td>4.75</td>\n",
       "      <td>2.97</td>\n",
       "    </tr>\n",
       "    <tr>\n",
       "      <th>755</th>\n",
       "      <td>0.72</td>\n",
       "      <td>Ideal</td>\n",
       "      <td>E</td>\n",
       "      <td>SI1</td>\n",
       "      <td>62.3</td>\n",
       "      <td>57.0</td>\n",
       "      <td>2857</td>\n",
       "      <td>5.76</td>\n",
       "      <td>5.70</td>\n",
       "      <td>3.57</td>\n",
       "    </tr>\n",
       "  </tbody>\n",
       "</table>\n",
       "</div>"
      ],
      "text/plain": [
       "       carat      cut color clarity  depth  table  price     x     y     z\n",
       "11332   1.01  Premium     F     SI1   59.1   59.0   4989  6.56  6.50  3.86\n",
       "12981   1.11  Premium     H     VS2   60.9   57.0   5395  6.77  6.69  4.10\n",
       "6456    0.91  Premium     D     SI2   62.2   59.0   4051  6.23  6.19  3.86\n",
       "27496   2.30    Ideal     I     VS2   62.6   56.0  18190  8.45  8.40  5.27\n",
       "20840   1.51     Good     I     SI1   63.9   59.0   9069  7.18  7.26  4.61\n",
       "2118    1.02     Fair     J     SI2   65.0   59.0   3119  6.34  6.24  4.08\n",
       "11194   1.00    Ideal     G     SI1   62.2   57.0   4956  6.45  6.38  3.99\n",
       "35943   0.30    Ideal     F     SI1   61.9   56.0    475  4.30  4.32  2.67\n",
       "41736   0.41    Ideal     E    VVS2   62.3   56.0   1243  4.78  4.75  2.97\n",
       "755     0.72    Ideal     E     SI1   62.3   57.0   2857  5.76  5.70  3.57"
      ]
     },
     "execution_count": 7,
     "metadata": {},
     "output_type": "execute_result"
    }
   ],
   "source": [
    "df.sample(10)"
   ]
  },
  {
   "cell_type": "code",
   "execution_count": 8,
   "id": "3da5f2b0-22b9-4084-b738-911495996b27",
   "metadata": {},
   "outputs": [
    {
     "data": {
      "text/html": [
       "<div>\n",
       "<style scoped>\n",
       "    .dataframe tbody tr th:only-of-type {\n",
       "        vertical-align: middle;\n",
       "    }\n",
       "\n",
       "    .dataframe tbody tr th {\n",
       "        vertical-align: top;\n",
       "    }\n",
       "\n",
       "    .dataframe thead th {\n",
       "        text-align: right;\n",
       "    }\n",
       "</style>\n",
       "<table border=\"1\" class=\"dataframe\">\n",
       "  <thead>\n",
       "    <tr style=\"text-align: right;\">\n",
       "      <th></th>\n",
       "      <th>carat</th>\n",
       "      <th>cut</th>\n",
       "      <th>color</th>\n",
       "      <th>clarity</th>\n",
       "      <th>depth</th>\n",
       "      <th>table</th>\n",
       "      <th>price</th>\n",
       "      <th>x</th>\n",
       "      <th>y</th>\n",
       "      <th>z</th>\n",
       "    </tr>\n",
       "  </thead>\n",
       "  <tbody>\n",
       "    <tr>\n",
       "      <th>22689</th>\n",
       "      <td>0.30</td>\n",
       "      <td>Very Good</td>\n",
       "      <td>G</td>\n",
       "      <td>VS1</td>\n",
       "      <td>62.5</td>\n",
       "      <td>59.0</td>\n",
       "      <td>629</td>\n",
       "      <td>4.32</td>\n",
       "      <td>4.25</td>\n",
       "      <td>2.68</td>\n",
       "    </tr>\n",
       "    <tr>\n",
       "      <th>39702</th>\n",
       "      <td>0.40</td>\n",
       "      <td>Ideal</td>\n",
       "      <td>H</td>\n",
       "      <td>VVS1</td>\n",
       "      <td>62.0</td>\n",
       "      <td>54.0</td>\n",
       "      <td>1088</td>\n",
       "      <td>4.76</td>\n",
       "      <td>4.72</td>\n",
       "      <td>2.94</td>\n",
       "    </tr>\n",
       "    <tr>\n",
       "      <th>33973</th>\n",
       "      <td>0.31</td>\n",
       "      <td>Good</td>\n",
       "      <td>F</td>\n",
       "      <td>VVS2</td>\n",
       "      <td>63.6</td>\n",
       "      <td>55.0</td>\n",
       "      <td>846</td>\n",
       "      <td>4.33</td>\n",
       "      <td>4.29</td>\n",
       "      <td>2.74</td>\n",
       "    </tr>\n",
       "    <tr>\n",
       "      <th>11960</th>\n",
       "      <td>1.04</td>\n",
       "      <td>Very Good</td>\n",
       "      <td>F</td>\n",
       "      <td>SI1</td>\n",
       "      <td>63.4</td>\n",
       "      <td>59.0</td>\n",
       "      <td>5137</td>\n",
       "      <td>6.44</td>\n",
       "      <td>6.40</td>\n",
       "      <td>4.07</td>\n",
       "    </tr>\n",
       "    <tr>\n",
       "      <th>6166</th>\n",
       "      <td>1.01</td>\n",
       "      <td>Ideal</td>\n",
       "      <td>I</td>\n",
       "      <td>VS1</td>\n",
       "      <td>62.8</td>\n",
       "      <td>57.0</td>\n",
       "      <td>3991</td>\n",
       "      <td>6.42</td>\n",
       "      <td>6.38</td>\n",
       "      <td>4.02</td>\n",
       "    </tr>\n",
       "  </tbody>\n",
       "</table>\n",
       "</div>"
      ],
      "text/plain": [
       "       carat        cut color clarity  depth  table  price     x     y     z\n",
       "22689   0.30  Very Good     G     VS1   62.5   59.0    629  4.32  4.25  2.68\n",
       "39702   0.40      Ideal     H    VVS1   62.0   54.0   1088  4.76  4.72  2.94\n",
       "33973   0.31       Good     F    VVS2   63.6   55.0    846  4.33  4.29  2.74\n",
       "11960   1.04  Very Good     F     SI1   63.4   59.0   5137  6.44  6.40  4.07\n",
       "6166    1.01      Ideal     I     VS1   62.8   57.0   3991  6.42  6.38  4.02"
      ]
     },
     "execution_count": 8,
     "metadata": {},
     "output_type": "execute_result"
    }
   ],
   "source": [
    "df.sample(5)"
   ]
  },
  {
   "cell_type": "code",
   "execution_count": 13,
   "id": "8a749ecc-76d4-4f94-bdb3-74b722c0d3a2",
   "metadata": {},
   "outputs": [
    {
     "data": {
      "text/plain": [
       "0"
      ]
     },
     "execution_count": 13,
     "metadata": {},
     "output_type": "execute_result"
    }
   ],
   "source": [
    "df['color'].isnull().sum()"
   ]
  },
  {
   "cell_type": "code",
   "execution_count": 11,
   "id": "e1552d8e-b7db-4fa5-89f2-4c084d879f95",
   "metadata": {},
   "outputs": [
    {
     "data": {
      "text/plain": [
       "0        E\n",
       "1        E\n",
       "2        E\n",
       "3        I\n",
       "4        J\n",
       "        ..\n",
       "53935    D\n",
       "53936    D\n",
       "53937    D\n",
       "53938    H\n",
       "53939    D\n",
       "Name: color, Length: 53940, dtype: category\n",
       "Categories (7, object): ['D', 'E', 'F', 'G', 'H', 'I', 'J']"
      ]
     },
     "execution_count": 11,
     "metadata": {},
     "output_type": "execute_result"
    }
   ],
   "source": [
    "df['color']"
   ]
  },
  {
   "cell_type": "code",
   "execution_count": 18,
   "id": "c82f16ce-02cf-4dad-a434-35a0c41b3b93",
   "metadata": {},
   "outputs": [
    {
     "data": {
      "text/plain": [
       "carat      0\n",
       "cut        0\n",
       "color      0\n",
       "clarity    0\n",
       "depth      0\n",
       "table      0\n",
       "price      0\n",
       "x          0\n",
       "y          0\n",
       "z          0\n",
       "dtype: int64"
      ]
     },
     "execution_count": 18,
     "metadata": {},
     "output_type": "execute_result"
    }
   ],
   "source": [
    "df.isnull().sum()"
   ]
  },
  {
   "cell_type": "code",
   "execution_count": 54,
   "id": "74095c6c-462d-4694-901a-bc203d88ffe1",
   "metadata": {},
   "outputs": [
    {
     "data": {
      "text/html": [
       "<div>\n",
       "<style scoped>\n",
       "    .dataframe tbody tr th:only-of-type {\n",
       "        vertical-align: middle;\n",
       "    }\n",
       "\n",
       "    .dataframe tbody tr th {\n",
       "        vertical-align: top;\n",
       "    }\n",
       "\n",
       "    .dataframe thead th {\n",
       "        text-align: right;\n",
       "    }\n",
       "</style>\n",
       "<table border=\"1\" class=\"dataframe\">\n",
       "  <thead>\n",
       "    <tr style=\"text-align: right;\">\n",
       "      <th></th>\n",
       "      <th>pickup</th>\n",
       "      <th>dropoff</th>\n",
       "      <th>passengers</th>\n",
       "      <th>distance</th>\n",
       "      <th>fare</th>\n",
       "      <th>tip</th>\n",
       "      <th>tolls</th>\n",
       "      <th>total</th>\n",
       "      <th>color</th>\n",
       "      <th>payment</th>\n",
       "      <th>pickup_zone</th>\n",
       "      <th>dropoff_zone</th>\n",
       "      <th>pickup_borough</th>\n",
       "      <th>dropoff_borough</th>\n",
       "    </tr>\n",
       "  </thead>\n",
       "  <tbody>\n",
       "    <tr>\n",
       "      <th>0</th>\n",
       "      <td>2019-03-23 20:21:09</td>\n",
       "      <td>2019-03-23 20:27:24</td>\n",
       "      <td>1</td>\n",
       "      <td>1.60</td>\n",
       "      <td>7.0</td>\n",
       "      <td>2.15</td>\n",
       "      <td>0.0</td>\n",
       "      <td>12.95</td>\n",
       "      <td>yellow</td>\n",
       "      <td>credit card</td>\n",
       "      <td>Lenox Hill West</td>\n",
       "      <td>UN/Turtle Bay South</td>\n",
       "      <td>Manhattan</td>\n",
       "      <td>Manhattan</td>\n",
       "    </tr>\n",
       "    <tr>\n",
       "      <th>1</th>\n",
       "      <td>2019-03-04 16:11:55</td>\n",
       "      <td>2019-03-04 16:19:00</td>\n",
       "      <td>1</td>\n",
       "      <td>0.79</td>\n",
       "      <td>5.0</td>\n",
       "      <td>0.00</td>\n",
       "      <td>0.0</td>\n",
       "      <td>9.30</td>\n",
       "      <td>yellow</td>\n",
       "      <td>cash</td>\n",
       "      <td>Upper West Side South</td>\n",
       "      <td>Upper West Side South</td>\n",
       "      <td>Manhattan</td>\n",
       "      <td>Manhattan</td>\n",
       "    </tr>\n",
       "    <tr>\n",
       "      <th>2</th>\n",
       "      <td>2019-03-27 17:53:01</td>\n",
       "      <td>2019-03-27 18:00:25</td>\n",
       "      <td>1</td>\n",
       "      <td>1.37</td>\n",
       "      <td>7.5</td>\n",
       "      <td>2.36</td>\n",
       "      <td>0.0</td>\n",
       "      <td>14.16</td>\n",
       "      <td>yellow</td>\n",
       "      <td>credit card</td>\n",
       "      <td>Alphabet City</td>\n",
       "      <td>West Village</td>\n",
       "      <td>Manhattan</td>\n",
       "      <td>Manhattan</td>\n",
       "    </tr>\n",
       "    <tr>\n",
       "      <th>3</th>\n",
       "      <td>2019-03-10 01:23:59</td>\n",
       "      <td>2019-03-10 01:49:51</td>\n",
       "      <td>1</td>\n",
       "      <td>7.70</td>\n",
       "      <td>27.0</td>\n",
       "      <td>6.15</td>\n",
       "      <td>0.0</td>\n",
       "      <td>36.95</td>\n",
       "      <td>yellow</td>\n",
       "      <td>credit card</td>\n",
       "      <td>Hudson Sq</td>\n",
       "      <td>Yorkville West</td>\n",
       "      <td>Manhattan</td>\n",
       "      <td>Manhattan</td>\n",
       "    </tr>\n",
       "    <tr>\n",
       "      <th>4</th>\n",
       "      <td>2019-03-30 13:27:42</td>\n",
       "      <td>2019-03-30 13:37:14</td>\n",
       "      <td>3</td>\n",
       "      <td>2.16</td>\n",
       "      <td>9.0</td>\n",
       "      <td>1.10</td>\n",
       "      <td>0.0</td>\n",
       "      <td>13.40</td>\n",
       "      <td>yellow</td>\n",
       "      <td>credit card</td>\n",
       "      <td>Midtown East</td>\n",
       "      <td>Yorkville West</td>\n",
       "      <td>Manhattan</td>\n",
       "      <td>Manhattan</td>\n",
       "    </tr>\n",
       "    <tr>\n",
       "      <th>...</th>\n",
       "      <td>...</td>\n",
       "      <td>...</td>\n",
       "      <td>...</td>\n",
       "      <td>...</td>\n",
       "      <td>...</td>\n",
       "      <td>...</td>\n",
       "      <td>...</td>\n",
       "      <td>...</td>\n",
       "      <td>...</td>\n",
       "      <td>...</td>\n",
       "      <td>...</td>\n",
       "      <td>...</td>\n",
       "      <td>...</td>\n",
       "      <td>...</td>\n",
       "    </tr>\n",
       "    <tr>\n",
       "      <th>6428</th>\n",
       "      <td>2019-03-31 09:51:53</td>\n",
       "      <td>2019-03-31 09:55:27</td>\n",
       "      <td>1</td>\n",
       "      <td>0.75</td>\n",
       "      <td>4.5</td>\n",
       "      <td>1.06</td>\n",
       "      <td>0.0</td>\n",
       "      <td>6.36</td>\n",
       "      <td>green</td>\n",
       "      <td>credit card</td>\n",
       "      <td>East Harlem North</td>\n",
       "      <td>Central Harlem North</td>\n",
       "      <td>Manhattan</td>\n",
       "      <td>Manhattan</td>\n",
       "    </tr>\n",
       "    <tr>\n",
       "      <th>6429</th>\n",
       "      <td>2019-03-31 17:38:00</td>\n",
       "      <td>2019-03-31 18:34:23</td>\n",
       "      <td>1</td>\n",
       "      <td>18.74</td>\n",
       "      <td>58.0</td>\n",
       "      <td>0.00</td>\n",
       "      <td>0.0</td>\n",
       "      <td>58.80</td>\n",
       "      <td>green</td>\n",
       "      <td>credit card</td>\n",
       "      <td>Jamaica</td>\n",
       "      <td>East Concourse/Concourse Village</td>\n",
       "      <td>Queens</td>\n",
       "      <td>Bronx</td>\n",
       "    </tr>\n",
       "    <tr>\n",
       "      <th>6430</th>\n",
       "      <td>2019-03-23 22:55:18</td>\n",
       "      <td>2019-03-23 23:14:25</td>\n",
       "      <td>1</td>\n",
       "      <td>4.14</td>\n",
       "      <td>16.0</td>\n",
       "      <td>0.00</td>\n",
       "      <td>0.0</td>\n",
       "      <td>17.30</td>\n",
       "      <td>green</td>\n",
       "      <td>cash</td>\n",
       "      <td>Crown Heights North</td>\n",
       "      <td>Bushwick North</td>\n",
       "      <td>Brooklyn</td>\n",
       "      <td>Brooklyn</td>\n",
       "    </tr>\n",
       "    <tr>\n",
       "      <th>6431</th>\n",
       "      <td>2019-03-04 10:09:25</td>\n",
       "      <td>2019-03-04 10:14:29</td>\n",
       "      <td>1</td>\n",
       "      <td>1.12</td>\n",
       "      <td>6.0</td>\n",
       "      <td>0.00</td>\n",
       "      <td>0.0</td>\n",
       "      <td>6.80</td>\n",
       "      <td>green</td>\n",
       "      <td>credit card</td>\n",
       "      <td>East New York</td>\n",
       "      <td>East Flatbush/Remsen Village</td>\n",
       "      <td>Brooklyn</td>\n",
       "      <td>Brooklyn</td>\n",
       "    </tr>\n",
       "    <tr>\n",
       "      <th>6432</th>\n",
       "      <td>2019-03-13 19:31:22</td>\n",
       "      <td>2019-03-13 19:48:02</td>\n",
       "      <td>1</td>\n",
       "      <td>3.85</td>\n",
       "      <td>15.0</td>\n",
       "      <td>3.36</td>\n",
       "      <td>0.0</td>\n",
       "      <td>20.16</td>\n",
       "      <td>green</td>\n",
       "      <td>credit card</td>\n",
       "      <td>Boerum Hill</td>\n",
       "      <td>Windsor Terrace</td>\n",
       "      <td>Brooklyn</td>\n",
       "      <td>Brooklyn</td>\n",
       "    </tr>\n",
       "  </tbody>\n",
       "</table>\n",
       "<p>6433 rows × 14 columns</p>\n",
       "</div>"
      ],
      "text/plain": [
       "                  pickup             dropoff  passengers  distance  fare  \\\n",
       "0    2019-03-23 20:21:09 2019-03-23 20:27:24           1      1.60   7.0   \n",
       "1    2019-03-04 16:11:55 2019-03-04 16:19:00           1      0.79   5.0   \n",
       "2    2019-03-27 17:53:01 2019-03-27 18:00:25           1      1.37   7.5   \n",
       "3    2019-03-10 01:23:59 2019-03-10 01:49:51           1      7.70  27.0   \n",
       "4    2019-03-30 13:27:42 2019-03-30 13:37:14           3      2.16   9.0   \n",
       "...                  ...                 ...         ...       ...   ...   \n",
       "6428 2019-03-31 09:51:53 2019-03-31 09:55:27           1      0.75   4.5   \n",
       "6429 2019-03-31 17:38:00 2019-03-31 18:34:23           1     18.74  58.0   \n",
       "6430 2019-03-23 22:55:18 2019-03-23 23:14:25           1      4.14  16.0   \n",
       "6431 2019-03-04 10:09:25 2019-03-04 10:14:29           1      1.12   6.0   \n",
       "6432 2019-03-13 19:31:22 2019-03-13 19:48:02           1      3.85  15.0   \n",
       "\n",
       "       tip  tolls  total   color      payment            pickup_zone  \\\n",
       "0     2.15    0.0  12.95  yellow  credit card        Lenox Hill West   \n",
       "1     0.00    0.0   9.30  yellow         cash  Upper West Side South   \n",
       "2     2.36    0.0  14.16  yellow  credit card          Alphabet City   \n",
       "3     6.15    0.0  36.95  yellow  credit card              Hudson Sq   \n",
       "4     1.10    0.0  13.40  yellow  credit card           Midtown East   \n",
       "...    ...    ...    ...     ...          ...                    ...   \n",
       "6428  1.06    0.0   6.36   green  credit card      East Harlem North   \n",
       "6429  0.00    0.0  58.80   green  credit card                Jamaica   \n",
       "6430  0.00    0.0  17.30   green         cash    Crown Heights North   \n",
       "6431  0.00    0.0   6.80   green  credit card          East New York   \n",
       "6432  3.36    0.0  20.16   green  credit card            Boerum Hill   \n",
       "\n",
       "                          dropoff_zone pickup_borough dropoff_borough  \n",
       "0                  UN/Turtle Bay South      Manhattan       Manhattan  \n",
       "1                Upper West Side South      Manhattan       Manhattan  \n",
       "2                         West Village      Manhattan       Manhattan  \n",
       "3                       Yorkville West      Manhattan       Manhattan  \n",
       "4                       Yorkville West      Manhattan       Manhattan  \n",
       "...                                ...            ...             ...  \n",
       "6428              Central Harlem North      Manhattan       Manhattan  \n",
       "6429  East Concourse/Concourse Village         Queens           Bronx  \n",
       "6430                    Bushwick North       Brooklyn        Brooklyn  \n",
       "6431      East Flatbush/Remsen Village       Brooklyn        Brooklyn  \n",
       "6432                   Windsor Terrace       Brooklyn        Brooklyn  \n",
       "\n",
       "[6433 rows x 14 columns]"
      ]
     },
     "execution_count": 54,
     "metadata": {},
     "output_type": "execute_result"
    }
   ],
   "source": [
    "df = sns.load_dataset('taxis')\n",
    "df"
   ]
  },
  {
   "cell_type": "code",
   "execution_count": 55,
   "id": "819f5df4-1132-4eea-8f15-ea7b176a97ad",
   "metadata": {},
   "outputs": [
    {
     "data": {
      "text/plain": [
       "44"
      ]
     },
     "execution_count": 55,
     "metadata": {},
     "output_type": "execute_result"
    }
   ],
   "source": [
    "df['payment'].isnull().sum()"
   ]
  },
  {
   "cell_type": "code",
   "execution_count": 56,
   "id": "96d6d5bf-b537-43a2-b7e0-4af9b44adb6d",
   "metadata": {},
   "outputs": [
    {
     "data": {
      "text/plain": [
       "pickup              0\n",
       "dropoff             0\n",
       "passengers          0\n",
       "distance            0\n",
       "fare                0\n",
       "tip                 0\n",
       "tolls               0\n",
       "total               0\n",
       "color               0\n",
       "payment            44\n",
       "pickup_zone        26\n",
       "dropoff_zone       45\n",
       "pickup_borough     26\n",
       "dropoff_borough    45\n",
       "dtype: int64"
      ]
     },
     "execution_count": 56,
     "metadata": {},
     "output_type": "execute_result"
    }
   ],
   "source": [
    "df.isnull().sum()"
   ]
  },
  {
   "cell_type": "code",
   "execution_count": 57,
   "id": "c959193e-9201-4716-a99e-49420b7f48f8",
   "metadata": {},
   "outputs": [
    {
     "data": {
      "text/plain": [
       "0.6839732628633608"
      ]
     },
     "execution_count": 57,
     "metadata": {},
     "output_type": "execute_result"
    }
   ],
   "source": [
    "(44/6433)*100\n"
   ]
  },
  {
   "cell_type": "code",
   "execution_count": 58,
   "id": "54b96816-faae-4fc1-ab90-d42d1e287cf4",
   "metadata": {},
   "outputs": [
    {
     "data": {
      "text/plain": [
       "6433"
      ]
     },
     "execution_count": 58,
     "metadata": {},
     "output_type": "execute_result"
    }
   ],
   "source": [
    "df.shape[0]"
   ]
  },
  {
   "cell_type": "code",
   "execution_count": 59,
   "id": "4d4842e5-ef80-440b-9e50-ff01cf5099f9",
   "metadata": {},
   "outputs": [
    {
     "data": {
      "text/plain": [
       "pickup             0.000000\n",
       "dropoff            0.000000\n",
       "passengers         0.000000\n",
       "distance           0.000000\n",
       "fare               0.000000\n",
       "tip                0.000000\n",
       "tolls              0.000000\n",
       "total              0.000000\n",
       "color              0.000000\n",
       "payment            0.683973\n",
       "pickup_zone        0.404166\n",
       "dropoff_zone       0.699518\n",
       "pickup_borough     0.404166\n",
       "dropoff_borough    0.699518\n",
       "dtype: float64"
      ]
     },
     "execution_count": 59,
     "metadata": {},
     "output_type": "execute_result"
    }
   ],
   "source": [
    "(df.isnull().sum()/df.shape[0])*100"
   ]
  },
  {
   "cell_type": "code",
   "execution_count": 49,
   "id": "0cf25652-3a11-4f5e-9565-8c26ca3d7af4",
   "metadata": {},
   "outputs": [
    {
     "ename": "KeyError",
     "evalue": "\"['pickup_zone'] not found in axis\"",
     "output_type": "error",
     "traceback": [
      "\u001b[1;31m---------------------------------------------------------------------------\u001b[0m",
      "\u001b[1;31mKeyError\u001b[0m                                  Traceback (most recent call last)",
      "Cell \u001b[1;32mIn[49], line 1\u001b[0m\n\u001b[1;32m----> 1\u001b[0m df\u001b[38;5;241m.\u001b[39mdrop(\u001b[38;5;124m'\u001b[39m\u001b[38;5;124mpickup_zone\u001b[39m\u001b[38;5;124m'\u001b[39m,axis\u001b[38;5;241m=\u001b[39m\u001b[38;5;241m1\u001b[39m,inplace\u001b[38;5;241m=\u001b[39m\u001b[38;5;28;01mTrue\u001b[39;00m)\n",
      "File \u001b[1;32m~\\anaconda3\\Lib\\site-packages\\pandas\\core\\frame.py:5581\u001b[0m, in \u001b[0;36mDataFrame.drop\u001b[1;34m(self, labels, axis, index, columns, level, inplace, errors)\u001b[0m\n\u001b[0;32m   5433\u001b[0m \u001b[38;5;28;01mdef\u001b[39;00m \u001b[38;5;21mdrop\u001b[39m(\n\u001b[0;32m   5434\u001b[0m     \u001b[38;5;28mself\u001b[39m,\n\u001b[0;32m   5435\u001b[0m     labels: IndexLabel \u001b[38;5;241m|\u001b[39m \u001b[38;5;28;01mNone\u001b[39;00m \u001b[38;5;241m=\u001b[39m \u001b[38;5;28;01mNone\u001b[39;00m,\n\u001b[1;32m   (...)\u001b[0m\n\u001b[0;32m   5442\u001b[0m     errors: IgnoreRaise \u001b[38;5;241m=\u001b[39m \u001b[38;5;124m\"\u001b[39m\u001b[38;5;124mraise\u001b[39m\u001b[38;5;124m\"\u001b[39m,\n\u001b[0;32m   5443\u001b[0m ) \u001b[38;5;241m-\u001b[39m\u001b[38;5;241m>\u001b[39m DataFrame \u001b[38;5;241m|\u001b[39m \u001b[38;5;28;01mNone\u001b[39;00m:\n\u001b[0;32m   5444\u001b[0m \u001b[38;5;250m    \u001b[39m\u001b[38;5;124;03m\"\"\"\u001b[39;00m\n\u001b[0;32m   5445\u001b[0m \u001b[38;5;124;03m    Drop specified labels from rows or columns.\u001b[39;00m\n\u001b[0;32m   5446\u001b[0m \n\u001b[1;32m   (...)\u001b[0m\n\u001b[0;32m   5579\u001b[0m \u001b[38;5;124;03m            weight  1.0     0.8\u001b[39;00m\n\u001b[0;32m   5580\u001b[0m \u001b[38;5;124;03m    \"\"\"\u001b[39;00m\n\u001b[1;32m-> 5581\u001b[0m     \u001b[38;5;28;01mreturn\u001b[39;00m \u001b[38;5;28msuper\u001b[39m()\u001b[38;5;241m.\u001b[39mdrop(\n\u001b[0;32m   5582\u001b[0m         labels\u001b[38;5;241m=\u001b[39mlabels,\n\u001b[0;32m   5583\u001b[0m         axis\u001b[38;5;241m=\u001b[39maxis,\n\u001b[0;32m   5584\u001b[0m         index\u001b[38;5;241m=\u001b[39mindex,\n\u001b[0;32m   5585\u001b[0m         columns\u001b[38;5;241m=\u001b[39mcolumns,\n\u001b[0;32m   5586\u001b[0m         level\u001b[38;5;241m=\u001b[39mlevel,\n\u001b[0;32m   5587\u001b[0m         inplace\u001b[38;5;241m=\u001b[39minplace,\n\u001b[0;32m   5588\u001b[0m         errors\u001b[38;5;241m=\u001b[39merrors,\n\u001b[0;32m   5589\u001b[0m     )\n",
      "File \u001b[1;32m~\\anaconda3\\Lib\\site-packages\\pandas\\core\\generic.py:4788\u001b[0m, in \u001b[0;36mNDFrame.drop\u001b[1;34m(self, labels, axis, index, columns, level, inplace, errors)\u001b[0m\n\u001b[0;32m   4786\u001b[0m \u001b[38;5;28;01mfor\u001b[39;00m axis, labels \u001b[38;5;129;01min\u001b[39;00m axes\u001b[38;5;241m.\u001b[39mitems():\n\u001b[0;32m   4787\u001b[0m     \u001b[38;5;28;01mif\u001b[39;00m labels \u001b[38;5;129;01mis\u001b[39;00m \u001b[38;5;129;01mnot\u001b[39;00m \u001b[38;5;28;01mNone\u001b[39;00m:\n\u001b[1;32m-> 4788\u001b[0m         obj \u001b[38;5;241m=\u001b[39m obj\u001b[38;5;241m.\u001b[39m_drop_axis(labels, axis, level\u001b[38;5;241m=\u001b[39mlevel, errors\u001b[38;5;241m=\u001b[39merrors)\n\u001b[0;32m   4790\u001b[0m \u001b[38;5;28;01mif\u001b[39;00m inplace:\n\u001b[0;32m   4791\u001b[0m     \u001b[38;5;28mself\u001b[39m\u001b[38;5;241m.\u001b[39m_update_inplace(obj)\n",
      "File \u001b[1;32m~\\anaconda3\\Lib\\site-packages\\pandas\\core\\generic.py:4830\u001b[0m, in \u001b[0;36mNDFrame._drop_axis\u001b[1;34m(self, labels, axis, level, errors, only_slice)\u001b[0m\n\u001b[0;32m   4828\u001b[0m         new_axis \u001b[38;5;241m=\u001b[39m axis\u001b[38;5;241m.\u001b[39mdrop(labels, level\u001b[38;5;241m=\u001b[39mlevel, errors\u001b[38;5;241m=\u001b[39merrors)\n\u001b[0;32m   4829\u001b[0m     \u001b[38;5;28;01melse\u001b[39;00m:\n\u001b[1;32m-> 4830\u001b[0m         new_axis \u001b[38;5;241m=\u001b[39m axis\u001b[38;5;241m.\u001b[39mdrop(labels, errors\u001b[38;5;241m=\u001b[39merrors)\n\u001b[0;32m   4831\u001b[0m     indexer \u001b[38;5;241m=\u001b[39m axis\u001b[38;5;241m.\u001b[39mget_indexer(new_axis)\n\u001b[0;32m   4833\u001b[0m \u001b[38;5;66;03m# Case for non-unique axis\u001b[39;00m\n\u001b[0;32m   4834\u001b[0m \u001b[38;5;28;01melse\u001b[39;00m:\n",
      "File \u001b[1;32m~\\anaconda3\\Lib\\site-packages\\pandas\\core\\indexes\\base.py:7070\u001b[0m, in \u001b[0;36mIndex.drop\u001b[1;34m(self, labels, errors)\u001b[0m\n\u001b[0;32m   7068\u001b[0m \u001b[38;5;28;01mif\u001b[39;00m mask\u001b[38;5;241m.\u001b[39many():\n\u001b[0;32m   7069\u001b[0m     \u001b[38;5;28;01mif\u001b[39;00m errors \u001b[38;5;241m!=\u001b[39m \u001b[38;5;124m\"\u001b[39m\u001b[38;5;124mignore\u001b[39m\u001b[38;5;124m\"\u001b[39m:\n\u001b[1;32m-> 7070\u001b[0m         \u001b[38;5;28;01mraise\u001b[39;00m \u001b[38;5;167;01mKeyError\u001b[39;00m(\u001b[38;5;124mf\u001b[39m\u001b[38;5;124m\"\u001b[39m\u001b[38;5;132;01m{\u001b[39;00mlabels[mask]\u001b[38;5;241m.\u001b[39mtolist()\u001b[38;5;132;01m}\u001b[39;00m\u001b[38;5;124m not found in axis\u001b[39m\u001b[38;5;124m\"\u001b[39m)\n\u001b[0;32m   7071\u001b[0m     indexer \u001b[38;5;241m=\u001b[39m indexer[\u001b[38;5;241m~\u001b[39mmask]\n\u001b[0;32m   7072\u001b[0m \u001b[38;5;28;01mreturn\u001b[39;00m \u001b[38;5;28mself\u001b[39m\u001b[38;5;241m.\u001b[39mdelete(indexer)\n",
      "\u001b[1;31mKeyError\u001b[0m: \"['pickup_zone'] not found in axis\""
     ]
    }
   ],
   "source": [
    "df.drop('pickup_zone',axis=1,inplace=True)"
   ]
  },
  {
   "cell_type": "code",
   "execution_count": 60,
   "id": "c218a158-4dfd-4563-9a89-99c8572ae632",
   "metadata": {},
   "outputs": [
    {
     "data": {
      "text/html": [
       "<div>\n",
       "<style scoped>\n",
       "    .dataframe tbody tr th:only-of-type {\n",
       "        vertical-align: middle;\n",
       "    }\n",
       "\n",
       "    .dataframe tbody tr th {\n",
       "        vertical-align: top;\n",
       "    }\n",
       "\n",
       "    .dataframe thead th {\n",
       "        text-align: right;\n",
       "    }\n",
       "</style>\n",
       "<table border=\"1\" class=\"dataframe\">\n",
       "  <thead>\n",
       "    <tr style=\"text-align: right;\">\n",
       "      <th></th>\n",
       "      <th>dropoff</th>\n",
       "      <th>passengers</th>\n",
       "      <th>distance</th>\n",
       "      <th>fare</th>\n",
       "      <th>tip</th>\n",
       "      <th>tolls</th>\n",
       "      <th>pickup_zone</th>\n",
       "      <th>dropoff_zone</th>\n",
       "      <th>pickup_borough</th>\n",
       "      <th>dropoff_borough</th>\n",
       "    </tr>\n",
       "  </thead>\n",
       "  <tbody>\n",
       "    <tr>\n",
       "      <th>0</th>\n",
       "      <td>2019-03-23 20:27:24</td>\n",
       "      <td>1</td>\n",
       "      <td>1.60</td>\n",
       "      <td>7.0</td>\n",
       "      <td>2.15</td>\n",
       "      <td>0.0</td>\n",
       "      <td>Lenox Hill West</td>\n",
       "      <td>UN/Turtle Bay South</td>\n",
       "      <td>Manhattan</td>\n",
       "      <td>Manhattan</td>\n",
       "    </tr>\n",
       "    <tr>\n",
       "      <th>1</th>\n",
       "      <td>2019-03-04 16:19:00</td>\n",
       "      <td>1</td>\n",
       "      <td>0.79</td>\n",
       "      <td>5.0</td>\n",
       "      <td>0.00</td>\n",
       "      <td>0.0</td>\n",
       "      <td>Upper West Side South</td>\n",
       "      <td>Upper West Side South</td>\n",
       "      <td>Manhattan</td>\n",
       "      <td>Manhattan</td>\n",
       "    </tr>\n",
       "    <tr>\n",
       "      <th>2</th>\n",
       "      <td>2019-03-27 18:00:25</td>\n",
       "      <td>1</td>\n",
       "      <td>1.37</td>\n",
       "      <td>7.5</td>\n",
       "      <td>2.36</td>\n",
       "      <td>0.0</td>\n",
       "      <td>Alphabet City</td>\n",
       "      <td>West Village</td>\n",
       "      <td>Manhattan</td>\n",
       "      <td>Manhattan</td>\n",
       "    </tr>\n",
       "    <tr>\n",
       "      <th>3</th>\n",
       "      <td>2019-03-10 01:49:51</td>\n",
       "      <td>1</td>\n",
       "      <td>7.70</td>\n",
       "      <td>27.0</td>\n",
       "      <td>6.15</td>\n",
       "      <td>0.0</td>\n",
       "      <td>Hudson Sq</td>\n",
       "      <td>Yorkville West</td>\n",
       "      <td>Manhattan</td>\n",
       "      <td>Manhattan</td>\n",
       "    </tr>\n",
       "    <tr>\n",
       "      <th>4</th>\n",
       "      <td>2019-03-30 13:37:14</td>\n",
       "      <td>3</td>\n",
       "      <td>2.16</td>\n",
       "      <td>9.0</td>\n",
       "      <td>1.10</td>\n",
       "      <td>0.0</td>\n",
       "      <td>Midtown East</td>\n",
       "      <td>Yorkville West</td>\n",
       "      <td>Manhattan</td>\n",
       "      <td>Manhattan</td>\n",
       "    </tr>\n",
       "    <tr>\n",
       "      <th>...</th>\n",
       "      <td>...</td>\n",
       "      <td>...</td>\n",
       "      <td>...</td>\n",
       "      <td>...</td>\n",
       "      <td>...</td>\n",
       "      <td>...</td>\n",
       "      <td>...</td>\n",
       "      <td>...</td>\n",
       "      <td>...</td>\n",
       "      <td>...</td>\n",
       "    </tr>\n",
       "    <tr>\n",
       "      <th>6428</th>\n",
       "      <td>2019-03-31 09:55:27</td>\n",
       "      <td>1</td>\n",
       "      <td>0.75</td>\n",
       "      <td>4.5</td>\n",
       "      <td>1.06</td>\n",
       "      <td>0.0</td>\n",
       "      <td>East Harlem North</td>\n",
       "      <td>Central Harlem North</td>\n",
       "      <td>Manhattan</td>\n",
       "      <td>Manhattan</td>\n",
       "    </tr>\n",
       "    <tr>\n",
       "      <th>6429</th>\n",
       "      <td>2019-03-31 18:34:23</td>\n",
       "      <td>1</td>\n",
       "      <td>18.74</td>\n",
       "      <td>58.0</td>\n",
       "      <td>0.00</td>\n",
       "      <td>0.0</td>\n",
       "      <td>Jamaica</td>\n",
       "      <td>East Concourse/Concourse Village</td>\n",
       "      <td>Queens</td>\n",
       "      <td>Bronx</td>\n",
       "    </tr>\n",
       "    <tr>\n",
       "      <th>6430</th>\n",
       "      <td>2019-03-23 23:14:25</td>\n",
       "      <td>1</td>\n",
       "      <td>4.14</td>\n",
       "      <td>16.0</td>\n",
       "      <td>0.00</td>\n",
       "      <td>0.0</td>\n",
       "      <td>Crown Heights North</td>\n",
       "      <td>Bushwick North</td>\n",
       "      <td>Brooklyn</td>\n",
       "      <td>Brooklyn</td>\n",
       "    </tr>\n",
       "    <tr>\n",
       "      <th>6431</th>\n",
       "      <td>2019-03-04 10:14:29</td>\n",
       "      <td>1</td>\n",
       "      <td>1.12</td>\n",
       "      <td>6.0</td>\n",
       "      <td>0.00</td>\n",
       "      <td>0.0</td>\n",
       "      <td>East New York</td>\n",
       "      <td>East Flatbush/Remsen Village</td>\n",
       "      <td>Brooklyn</td>\n",
       "      <td>Brooklyn</td>\n",
       "    </tr>\n",
       "    <tr>\n",
       "      <th>6432</th>\n",
       "      <td>2019-03-13 19:48:02</td>\n",
       "      <td>1</td>\n",
       "      <td>3.85</td>\n",
       "      <td>15.0</td>\n",
       "      <td>3.36</td>\n",
       "      <td>0.0</td>\n",
       "      <td>Boerum Hill</td>\n",
       "      <td>Windsor Terrace</td>\n",
       "      <td>Brooklyn</td>\n",
       "      <td>Brooklyn</td>\n",
       "    </tr>\n",
       "  </tbody>\n",
       "</table>\n",
       "<p>6433 rows × 10 columns</p>\n",
       "</div>"
      ],
      "text/plain": [
       "                 dropoff  passengers  distance  fare   tip  tolls  \\\n",
       "0    2019-03-23 20:27:24           1      1.60   7.0  2.15    0.0   \n",
       "1    2019-03-04 16:19:00           1      0.79   5.0  0.00    0.0   \n",
       "2    2019-03-27 18:00:25           1      1.37   7.5  2.36    0.0   \n",
       "3    2019-03-10 01:49:51           1      7.70  27.0  6.15    0.0   \n",
       "4    2019-03-30 13:37:14           3      2.16   9.0  1.10    0.0   \n",
       "...                  ...         ...       ...   ...   ...    ...   \n",
       "6428 2019-03-31 09:55:27           1      0.75   4.5  1.06    0.0   \n",
       "6429 2019-03-31 18:34:23           1     18.74  58.0  0.00    0.0   \n",
       "6430 2019-03-23 23:14:25           1      4.14  16.0  0.00    0.0   \n",
       "6431 2019-03-04 10:14:29           1      1.12   6.0  0.00    0.0   \n",
       "6432 2019-03-13 19:48:02           1      3.85  15.0  3.36    0.0   \n",
       "\n",
       "                pickup_zone                      dropoff_zone pickup_borough  \\\n",
       "0           Lenox Hill West               UN/Turtle Bay South      Manhattan   \n",
       "1     Upper West Side South             Upper West Side South      Manhattan   \n",
       "2             Alphabet City                      West Village      Manhattan   \n",
       "3                 Hudson Sq                    Yorkville West      Manhattan   \n",
       "4              Midtown East                    Yorkville West      Manhattan   \n",
       "...                     ...                               ...            ...   \n",
       "6428      East Harlem North              Central Harlem North      Manhattan   \n",
       "6429                Jamaica  East Concourse/Concourse Village         Queens   \n",
       "6430    Crown Heights North                    Bushwick North       Brooklyn   \n",
       "6431          East New York      East Flatbush/Remsen Village       Brooklyn   \n",
       "6432            Boerum Hill                   Windsor Terrace       Brooklyn   \n",
       "\n",
       "     dropoff_borough  \n",
       "0          Manhattan  \n",
       "1          Manhattan  \n",
       "2          Manhattan  \n",
       "3          Manhattan  \n",
       "4          Manhattan  \n",
       "...              ...  \n",
       "6428       Manhattan  \n",
       "6429           Bronx  \n",
       "6430        Brooklyn  \n",
       "6431        Brooklyn  \n",
       "6432        Brooklyn  \n",
       "\n",
       "[6433 rows x 10 columns]"
      ]
     },
     "execution_count": 60,
     "metadata": {},
     "output_type": "execute_result"
    }
   ],
   "source": [
    "df.drop(['pickup','color','payment','total'],axis=1)"
   ]
  },
  {
   "cell_type": "code",
   "execution_count": 61,
   "id": "79ae89d5-1f05-4792-9f10-a69703db9908",
   "metadata": {},
   "outputs": [],
   "source": [
    "df.drop(['pickup','dropoff'],axis=1,inplace=True)"
   ]
  },
  {
   "cell_type": "code",
   "execution_count": 62,
   "id": "5483e594-a536-43dd-8117-670b707c9ab1",
   "metadata": {},
   "outputs": [
    {
     "data": {
      "text/html": [
       "<div>\n",
       "<style scoped>\n",
       "    .dataframe tbody tr th:only-of-type {\n",
       "        vertical-align: middle;\n",
       "    }\n",
       "\n",
       "    .dataframe tbody tr th {\n",
       "        vertical-align: top;\n",
       "    }\n",
       "\n",
       "    .dataframe thead th {\n",
       "        text-align: right;\n",
       "    }\n",
       "</style>\n",
       "<table border=\"1\" class=\"dataframe\">\n",
       "  <thead>\n",
       "    <tr style=\"text-align: right;\">\n",
       "      <th></th>\n",
       "      <th>passengers</th>\n",
       "      <th>distance</th>\n",
       "      <th>fare</th>\n",
       "      <th>tip</th>\n",
       "      <th>tolls</th>\n",
       "      <th>total</th>\n",
       "      <th>color</th>\n",
       "      <th>payment</th>\n",
       "      <th>pickup_zone</th>\n",
       "      <th>dropoff_zone</th>\n",
       "      <th>pickup_borough</th>\n",
       "      <th>dropoff_borough</th>\n",
       "    </tr>\n",
       "  </thead>\n",
       "  <tbody>\n",
       "    <tr>\n",
       "      <th>0</th>\n",
       "      <td>1</td>\n",
       "      <td>1.60</td>\n",
       "      <td>7.0</td>\n",
       "      <td>2.15</td>\n",
       "      <td>0.0</td>\n",
       "      <td>12.95</td>\n",
       "      <td>yellow</td>\n",
       "      <td>credit card</td>\n",
       "      <td>Lenox Hill West</td>\n",
       "      <td>UN/Turtle Bay South</td>\n",
       "      <td>Manhattan</td>\n",
       "      <td>Manhattan</td>\n",
       "    </tr>\n",
       "    <tr>\n",
       "      <th>1</th>\n",
       "      <td>1</td>\n",
       "      <td>0.79</td>\n",
       "      <td>5.0</td>\n",
       "      <td>0.00</td>\n",
       "      <td>0.0</td>\n",
       "      <td>9.30</td>\n",
       "      <td>yellow</td>\n",
       "      <td>cash</td>\n",
       "      <td>Upper West Side South</td>\n",
       "      <td>Upper West Side South</td>\n",
       "      <td>Manhattan</td>\n",
       "      <td>Manhattan</td>\n",
       "    </tr>\n",
       "    <tr>\n",
       "      <th>2</th>\n",
       "      <td>1</td>\n",
       "      <td>1.37</td>\n",
       "      <td>7.5</td>\n",
       "      <td>2.36</td>\n",
       "      <td>0.0</td>\n",
       "      <td>14.16</td>\n",
       "      <td>yellow</td>\n",
       "      <td>credit card</td>\n",
       "      <td>Alphabet City</td>\n",
       "      <td>West Village</td>\n",
       "      <td>Manhattan</td>\n",
       "      <td>Manhattan</td>\n",
       "    </tr>\n",
       "    <tr>\n",
       "      <th>3</th>\n",
       "      <td>1</td>\n",
       "      <td>7.70</td>\n",
       "      <td>27.0</td>\n",
       "      <td>6.15</td>\n",
       "      <td>0.0</td>\n",
       "      <td>36.95</td>\n",
       "      <td>yellow</td>\n",
       "      <td>credit card</td>\n",
       "      <td>Hudson Sq</td>\n",
       "      <td>Yorkville West</td>\n",
       "      <td>Manhattan</td>\n",
       "      <td>Manhattan</td>\n",
       "    </tr>\n",
       "    <tr>\n",
       "      <th>4</th>\n",
       "      <td>3</td>\n",
       "      <td>2.16</td>\n",
       "      <td>9.0</td>\n",
       "      <td>1.10</td>\n",
       "      <td>0.0</td>\n",
       "      <td>13.40</td>\n",
       "      <td>yellow</td>\n",
       "      <td>credit card</td>\n",
       "      <td>Midtown East</td>\n",
       "      <td>Yorkville West</td>\n",
       "      <td>Manhattan</td>\n",
       "      <td>Manhattan</td>\n",
       "    </tr>\n",
       "    <tr>\n",
       "      <th>...</th>\n",
       "      <td>...</td>\n",
       "      <td>...</td>\n",
       "      <td>...</td>\n",
       "      <td>...</td>\n",
       "      <td>...</td>\n",
       "      <td>...</td>\n",
       "      <td>...</td>\n",
       "      <td>...</td>\n",
       "      <td>...</td>\n",
       "      <td>...</td>\n",
       "      <td>...</td>\n",
       "      <td>...</td>\n",
       "    </tr>\n",
       "    <tr>\n",
       "      <th>6428</th>\n",
       "      <td>1</td>\n",
       "      <td>0.75</td>\n",
       "      <td>4.5</td>\n",
       "      <td>1.06</td>\n",
       "      <td>0.0</td>\n",
       "      <td>6.36</td>\n",
       "      <td>green</td>\n",
       "      <td>credit card</td>\n",
       "      <td>East Harlem North</td>\n",
       "      <td>Central Harlem North</td>\n",
       "      <td>Manhattan</td>\n",
       "      <td>Manhattan</td>\n",
       "    </tr>\n",
       "    <tr>\n",
       "      <th>6429</th>\n",
       "      <td>1</td>\n",
       "      <td>18.74</td>\n",
       "      <td>58.0</td>\n",
       "      <td>0.00</td>\n",
       "      <td>0.0</td>\n",
       "      <td>58.80</td>\n",
       "      <td>green</td>\n",
       "      <td>credit card</td>\n",
       "      <td>Jamaica</td>\n",
       "      <td>East Concourse/Concourse Village</td>\n",
       "      <td>Queens</td>\n",
       "      <td>Bronx</td>\n",
       "    </tr>\n",
       "    <tr>\n",
       "      <th>6430</th>\n",
       "      <td>1</td>\n",
       "      <td>4.14</td>\n",
       "      <td>16.0</td>\n",
       "      <td>0.00</td>\n",
       "      <td>0.0</td>\n",
       "      <td>17.30</td>\n",
       "      <td>green</td>\n",
       "      <td>cash</td>\n",
       "      <td>Crown Heights North</td>\n",
       "      <td>Bushwick North</td>\n",
       "      <td>Brooklyn</td>\n",
       "      <td>Brooklyn</td>\n",
       "    </tr>\n",
       "    <tr>\n",
       "      <th>6431</th>\n",
       "      <td>1</td>\n",
       "      <td>1.12</td>\n",
       "      <td>6.0</td>\n",
       "      <td>0.00</td>\n",
       "      <td>0.0</td>\n",
       "      <td>6.80</td>\n",
       "      <td>green</td>\n",
       "      <td>credit card</td>\n",
       "      <td>East New York</td>\n",
       "      <td>East Flatbush/Remsen Village</td>\n",
       "      <td>Brooklyn</td>\n",
       "      <td>Brooklyn</td>\n",
       "    </tr>\n",
       "    <tr>\n",
       "      <th>6432</th>\n",
       "      <td>1</td>\n",
       "      <td>3.85</td>\n",
       "      <td>15.0</td>\n",
       "      <td>3.36</td>\n",
       "      <td>0.0</td>\n",
       "      <td>20.16</td>\n",
       "      <td>green</td>\n",
       "      <td>credit card</td>\n",
       "      <td>Boerum Hill</td>\n",
       "      <td>Windsor Terrace</td>\n",
       "      <td>Brooklyn</td>\n",
       "      <td>Brooklyn</td>\n",
       "    </tr>\n",
       "  </tbody>\n",
       "</table>\n",
       "<p>6433 rows × 12 columns</p>\n",
       "</div>"
      ],
      "text/plain": [
       "      passengers  distance  fare   tip  tolls  total   color      payment  \\\n",
       "0              1      1.60   7.0  2.15    0.0  12.95  yellow  credit card   \n",
       "1              1      0.79   5.0  0.00    0.0   9.30  yellow         cash   \n",
       "2              1      1.37   7.5  2.36    0.0  14.16  yellow  credit card   \n",
       "3              1      7.70  27.0  6.15    0.0  36.95  yellow  credit card   \n",
       "4              3      2.16   9.0  1.10    0.0  13.40  yellow  credit card   \n",
       "...          ...       ...   ...   ...    ...    ...     ...          ...   \n",
       "6428           1      0.75   4.5  1.06    0.0   6.36   green  credit card   \n",
       "6429           1     18.74  58.0  0.00    0.0  58.80   green  credit card   \n",
       "6430           1      4.14  16.0  0.00    0.0  17.30   green         cash   \n",
       "6431           1      1.12   6.0  0.00    0.0   6.80   green  credit card   \n",
       "6432           1      3.85  15.0  3.36    0.0  20.16   green  credit card   \n",
       "\n",
       "                pickup_zone                      dropoff_zone pickup_borough  \\\n",
       "0           Lenox Hill West               UN/Turtle Bay South      Manhattan   \n",
       "1     Upper West Side South             Upper West Side South      Manhattan   \n",
       "2             Alphabet City                      West Village      Manhattan   \n",
       "3                 Hudson Sq                    Yorkville West      Manhattan   \n",
       "4              Midtown East                    Yorkville West      Manhattan   \n",
       "...                     ...                               ...            ...   \n",
       "6428      East Harlem North              Central Harlem North      Manhattan   \n",
       "6429                Jamaica  East Concourse/Concourse Village         Queens   \n",
       "6430    Crown Heights North                    Bushwick North       Brooklyn   \n",
       "6431          East New York      East Flatbush/Remsen Village       Brooklyn   \n",
       "6432            Boerum Hill                   Windsor Terrace       Brooklyn   \n",
       "\n",
       "     dropoff_borough  \n",
       "0          Manhattan  \n",
       "1          Manhattan  \n",
       "2          Manhattan  \n",
       "3          Manhattan  \n",
       "4          Manhattan  \n",
       "...              ...  \n",
       "6428       Manhattan  \n",
       "6429           Bronx  \n",
       "6430        Brooklyn  \n",
       "6431        Brooklyn  \n",
       "6432        Brooklyn  \n",
       "\n",
       "[6433 rows x 12 columns]"
      ]
     },
     "execution_count": 62,
     "metadata": {},
     "output_type": "execute_result"
    }
   ],
   "source": [
    "\n",
    "df"
   ]
  },
  {
   "cell_type": "code",
   "execution_count": 63,
   "id": "2cad2157-e0ee-4d17-a70f-12076479831b",
   "metadata": {},
   "outputs": [
    {
     "data": {
      "text/html": [
       "<div>\n",
       "<style scoped>\n",
       "    .dataframe tbody tr th:only-of-type {\n",
       "        vertical-align: middle;\n",
       "    }\n",
       "\n",
       "    .dataframe tbody tr th {\n",
       "        vertical-align: top;\n",
       "    }\n",
       "\n",
       "    .dataframe thead th {\n",
       "        text-align: right;\n",
       "    }\n",
       "</style>\n",
       "<table border=\"1\" class=\"dataframe\">\n",
       "  <thead>\n",
       "    <tr style=\"text-align: right;\">\n",
       "      <th></th>\n",
       "      <th>passengers</th>\n",
       "      <th>distance</th>\n",
       "      <th>fare</th>\n",
       "      <th>tip</th>\n",
       "      <th>tolls</th>\n",
       "      <th>total</th>\n",
       "      <th>color</th>\n",
       "      <th>payment</th>\n",
       "      <th>pickup_zone</th>\n",
       "      <th>dropoff_zone</th>\n",
       "      <th>pickup_borough</th>\n",
       "      <th>dropoff_borough</th>\n",
       "    </tr>\n",
       "  </thead>\n",
       "  <tbody>\n",
       "    <tr>\n",
       "      <th>0</th>\n",
       "      <td>1</td>\n",
       "      <td>1.60</td>\n",
       "      <td>7.0</td>\n",
       "      <td>2.15</td>\n",
       "      <td>0.0</td>\n",
       "      <td>12.95</td>\n",
       "      <td>yellow</td>\n",
       "      <td>credit card</td>\n",
       "      <td>Lenox Hill West</td>\n",
       "      <td>UN/Turtle Bay South</td>\n",
       "      <td>Manhattan</td>\n",
       "      <td>Manhattan</td>\n",
       "    </tr>\n",
       "    <tr>\n",
       "      <th>1</th>\n",
       "      <td>1</td>\n",
       "      <td>0.79</td>\n",
       "      <td>5.0</td>\n",
       "      <td>0.00</td>\n",
       "      <td>0.0</td>\n",
       "      <td>9.30</td>\n",
       "      <td>yellow</td>\n",
       "      <td>cash</td>\n",
       "      <td>Upper West Side South</td>\n",
       "      <td>Upper West Side South</td>\n",
       "      <td>Manhattan</td>\n",
       "      <td>Manhattan</td>\n",
       "    </tr>\n",
       "    <tr>\n",
       "      <th>4</th>\n",
       "      <td>3</td>\n",
       "      <td>2.16</td>\n",
       "      <td>9.0</td>\n",
       "      <td>1.10</td>\n",
       "      <td>0.0</td>\n",
       "      <td>13.40</td>\n",
       "      <td>yellow</td>\n",
       "      <td>credit card</td>\n",
       "      <td>Midtown East</td>\n",
       "      <td>Yorkville West</td>\n",
       "      <td>Manhattan</td>\n",
       "      <td>Manhattan</td>\n",
       "    </tr>\n",
       "    <tr>\n",
       "      <th>5</th>\n",
       "      <td>1</td>\n",
       "      <td>0.49</td>\n",
       "      <td>7.5</td>\n",
       "      <td>2.16</td>\n",
       "      <td>0.0</td>\n",
       "      <td>12.96</td>\n",
       "      <td>yellow</td>\n",
       "      <td>credit card</td>\n",
       "      <td>Times Sq/Theatre District</td>\n",
       "      <td>Midtown East</td>\n",
       "      <td>Manhattan</td>\n",
       "      <td>Manhattan</td>\n",
       "    </tr>\n",
       "    <tr>\n",
       "      <th>6</th>\n",
       "      <td>1</td>\n",
       "      <td>3.65</td>\n",
       "      <td>13.0</td>\n",
       "      <td>2.00</td>\n",
       "      <td>0.0</td>\n",
       "      <td>18.80</td>\n",
       "      <td>yellow</td>\n",
       "      <td>credit card</td>\n",
       "      <td>Battery Park City</td>\n",
       "      <td>Two Bridges/Seward Park</td>\n",
       "      <td>Manhattan</td>\n",
       "      <td>Manhattan</td>\n",
       "    </tr>\n",
       "    <tr>\n",
       "      <th>...</th>\n",
       "      <td>...</td>\n",
       "      <td>...</td>\n",
       "      <td>...</td>\n",
       "      <td>...</td>\n",
       "      <td>...</td>\n",
       "      <td>...</td>\n",
       "      <td>...</td>\n",
       "      <td>...</td>\n",
       "      <td>...</td>\n",
       "      <td>...</td>\n",
       "      <td>...</td>\n",
       "      <td>...</td>\n",
       "    </tr>\n",
       "    <tr>\n",
       "      <th>6426</th>\n",
       "      <td>1</td>\n",
       "      <td>0.71</td>\n",
       "      <td>4.5</td>\n",
       "      <td>0.50</td>\n",
       "      <td>0.0</td>\n",
       "      <td>5.80</td>\n",
       "      <td>green</td>\n",
       "      <td>credit card</td>\n",
       "      <td>Central Park</td>\n",
       "      <td>Upper West Side North</td>\n",
       "      <td>Manhattan</td>\n",
       "      <td>Manhattan</td>\n",
       "    </tr>\n",
       "    <tr>\n",
       "      <th>6427</th>\n",
       "      <td>1</td>\n",
       "      <td>7.07</td>\n",
       "      <td>20.0</td>\n",
       "      <td>0.00</td>\n",
       "      <td>0.0</td>\n",
       "      <td>20.00</td>\n",
       "      <td>green</td>\n",
       "      <td>cash</td>\n",
       "      <td>Parkchester</td>\n",
       "      <td>East Harlem South</td>\n",
       "      <td>Bronx</td>\n",
       "      <td>Manhattan</td>\n",
       "    </tr>\n",
       "    <tr>\n",
       "      <th>6428</th>\n",
       "      <td>1</td>\n",
       "      <td>0.75</td>\n",
       "      <td>4.5</td>\n",
       "      <td>1.06</td>\n",
       "      <td>0.0</td>\n",
       "      <td>6.36</td>\n",
       "      <td>green</td>\n",
       "      <td>credit card</td>\n",
       "      <td>East Harlem North</td>\n",
       "      <td>Central Harlem North</td>\n",
       "      <td>Manhattan</td>\n",
       "      <td>Manhattan</td>\n",
       "    </tr>\n",
       "    <tr>\n",
       "      <th>6429</th>\n",
       "      <td>1</td>\n",
       "      <td>18.74</td>\n",
       "      <td>58.0</td>\n",
       "      <td>0.00</td>\n",
       "      <td>0.0</td>\n",
       "      <td>58.80</td>\n",
       "      <td>green</td>\n",
       "      <td>credit card</td>\n",
       "      <td>Jamaica</td>\n",
       "      <td>East Concourse/Concourse Village</td>\n",
       "      <td>Queens</td>\n",
       "      <td>Bronx</td>\n",
       "    </tr>\n",
       "    <tr>\n",
       "      <th>6431</th>\n",
       "      <td>1</td>\n",
       "      <td>1.12</td>\n",
       "      <td>6.0</td>\n",
       "      <td>0.00</td>\n",
       "      <td>0.0</td>\n",
       "      <td>6.80</td>\n",
       "      <td>green</td>\n",
       "      <td>credit card</td>\n",
       "      <td>East New York</td>\n",
       "      <td>East Flatbush/Remsen Village</td>\n",
       "      <td>Brooklyn</td>\n",
       "      <td>Brooklyn</td>\n",
       "    </tr>\n",
       "  </tbody>\n",
       "</table>\n",
       "<p>6429 rows × 12 columns</p>\n",
       "</div>"
      ],
      "text/plain": [
       "      passengers  distance  fare   tip  tolls  total   color      payment  \\\n",
       "0              1      1.60   7.0  2.15    0.0  12.95  yellow  credit card   \n",
       "1              1      0.79   5.0  0.00    0.0   9.30  yellow         cash   \n",
       "4              3      2.16   9.0  1.10    0.0  13.40  yellow  credit card   \n",
       "5              1      0.49   7.5  2.16    0.0  12.96  yellow  credit card   \n",
       "6              1      3.65  13.0  2.00    0.0  18.80  yellow  credit card   \n",
       "...          ...       ...   ...   ...    ...    ...     ...          ...   \n",
       "6426           1      0.71   4.5  0.50    0.0   5.80   green  credit card   \n",
       "6427           1      7.07  20.0  0.00    0.0  20.00   green         cash   \n",
       "6428           1      0.75   4.5  1.06    0.0   6.36   green  credit card   \n",
       "6429           1     18.74  58.0  0.00    0.0  58.80   green  credit card   \n",
       "6431           1      1.12   6.0  0.00    0.0   6.80   green  credit card   \n",
       "\n",
       "                    pickup_zone                      dropoff_zone  \\\n",
       "0               Lenox Hill West               UN/Turtle Bay South   \n",
       "1         Upper West Side South             Upper West Side South   \n",
       "4                  Midtown East                    Yorkville West   \n",
       "5     Times Sq/Theatre District                      Midtown East   \n",
       "6             Battery Park City           Two Bridges/Seward Park   \n",
       "...                         ...                               ...   \n",
       "6426               Central Park             Upper West Side North   \n",
       "6427                Parkchester                 East Harlem South   \n",
       "6428          East Harlem North              Central Harlem North   \n",
       "6429                    Jamaica  East Concourse/Concourse Village   \n",
       "6431              East New York      East Flatbush/Remsen Village   \n",
       "\n",
       "     pickup_borough dropoff_borough  \n",
       "0         Manhattan       Manhattan  \n",
       "1         Manhattan       Manhattan  \n",
       "4         Manhattan       Manhattan  \n",
       "5         Manhattan       Manhattan  \n",
       "6         Manhattan       Manhattan  \n",
       "...             ...             ...  \n",
       "6426      Manhattan       Manhattan  \n",
       "6427          Bronx       Manhattan  \n",
       "6428      Manhattan       Manhattan  \n",
       "6429         Queens           Bronx  \n",
       "6431       Brooklyn        Brooklyn  \n",
       "\n",
       "[6429 rows x 12 columns]"
      ]
     },
     "execution_count": 63,
     "metadata": {},
     "output_type": "execute_result"
    }
   ],
   "source": [
    "df.drop([2,3,6430,6432],axis=0)"
   ]
  },
  {
   "cell_type": "markdown",
   "id": "77c72769-be99-424b-a83b-e331e014cf24",
   "metadata": {},
   "source": [
    "# day 14"
   ]
  },
  {
   "cell_type": "code",
   "execution_count": 7,
   "id": "1575fd4d-f4d0-433d-9529-11f7516a28a6",
   "metadata": {},
   "outputs": [],
   "source": [
    "import matplotlib.pyplot as plt\n",
    "import pandas as pd\n",
    "import seaborn as sns\n",
    "import warnings\n",
    "warnings.filterwarnings('ignore') \n"
   ]
  },
  {
   "cell_type": "code",
   "execution_count": 10,
   "id": "0b166106-4d05-432e-906e-9a92d8336ac8",
   "metadata": {},
   "outputs": [
    {
     "data": {
      "text/html": [
       "<div>\n",
       "<style scoped>\n",
       "    .dataframe tbody tr th:only-of-type {\n",
       "        vertical-align: middle;\n",
       "    }\n",
       "\n",
       "    .dataframe tbody tr th {\n",
       "        vertical-align: top;\n",
       "    }\n",
       "\n",
       "    .dataframe thead th {\n",
       "        text-align: right;\n",
       "    }\n",
       "</style>\n",
       "<table border=\"1\" class=\"dataframe\">\n",
       "  <thead>\n",
       "    <tr style=\"text-align: right;\">\n",
       "      <th></th>\n",
       "      <th>CASENUM</th>\n",
       "      <th>ATTORNEY</th>\n",
       "      <th>CLMSEX</th>\n",
       "      <th>CLMINSUR</th>\n",
       "      <th>SEATBELT</th>\n",
       "      <th>CLMAGE</th>\n",
       "      <th>LOSS</th>\n",
       "    </tr>\n",
       "  </thead>\n",
       "  <tbody>\n",
       "    <tr>\n",
       "      <th>0</th>\n",
       "      <td>5</td>\n",
       "      <td>0</td>\n",
       "      <td>0.0</td>\n",
       "      <td>1.0</td>\n",
       "      <td>0.0</td>\n",
       "      <td>50.0</td>\n",
       "      <td>34.940</td>\n",
       "    </tr>\n",
       "    <tr>\n",
       "      <th>1</th>\n",
       "      <td>3</td>\n",
       "      <td>1</td>\n",
       "      <td>1.0</td>\n",
       "      <td>0.0</td>\n",
       "      <td>0.0</td>\n",
       "      <td>18.0</td>\n",
       "      <td>0.891</td>\n",
       "    </tr>\n",
       "    <tr>\n",
       "      <th>2</th>\n",
       "      <td>66</td>\n",
       "      <td>1</td>\n",
       "      <td>0.0</td>\n",
       "      <td>1.0</td>\n",
       "      <td>0.0</td>\n",
       "      <td>5.0</td>\n",
       "      <td>0.330</td>\n",
       "    </tr>\n",
       "    <tr>\n",
       "      <th>3</th>\n",
       "      <td>70</td>\n",
       "      <td>0</td>\n",
       "      <td>0.0</td>\n",
       "      <td>1.0</td>\n",
       "      <td>1.0</td>\n",
       "      <td>31.0</td>\n",
       "      <td>0.037</td>\n",
       "    </tr>\n",
       "    <tr>\n",
       "      <th>4</th>\n",
       "      <td>96</td>\n",
       "      <td>1</td>\n",
       "      <td>0.0</td>\n",
       "      <td>1.0</td>\n",
       "      <td>0.0</td>\n",
       "      <td>30.0</td>\n",
       "      <td>0.038</td>\n",
       "    </tr>\n",
       "    <tr>\n",
       "      <th>...</th>\n",
       "      <td>...</td>\n",
       "      <td>...</td>\n",
       "      <td>...</td>\n",
       "      <td>...</td>\n",
       "      <td>...</td>\n",
       "      <td>...</td>\n",
       "      <td>...</td>\n",
       "    </tr>\n",
       "    <tr>\n",
       "      <th>1335</th>\n",
       "      <td>34100</td>\n",
       "      <td>1</td>\n",
       "      <td>0.0</td>\n",
       "      <td>1.0</td>\n",
       "      <td>0.0</td>\n",
       "      <td>NaN</td>\n",
       "      <td>0.576</td>\n",
       "    </tr>\n",
       "    <tr>\n",
       "      <th>1336</th>\n",
       "      <td>34110</td>\n",
       "      <td>0</td>\n",
       "      <td>1.0</td>\n",
       "      <td>1.0</td>\n",
       "      <td>0.0</td>\n",
       "      <td>46.0</td>\n",
       "      <td>3.705</td>\n",
       "    </tr>\n",
       "    <tr>\n",
       "      <th>1337</th>\n",
       "      <td>34113</td>\n",
       "      <td>1</td>\n",
       "      <td>1.0</td>\n",
       "      <td>1.0</td>\n",
       "      <td>0.0</td>\n",
       "      <td>39.0</td>\n",
       "      <td>0.099</td>\n",
       "    </tr>\n",
       "    <tr>\n",
       "      <th>1338</th>\n",
       "      <td>34145</td>\n",
       "      <td>0</td>\n",
       "      <td>1.0</td>\n",
       "      <td>0.0</td>\n",
       "      <td>0.0</td>\n",
       "      <td>8.0</td>\n",
       "      <td>3.177</td>\n",
       "    </tr>\n",
       "    <tr>\n",
       "      <th>1339</th>\n",
       "      <td>34153</td>\n",
       "      <td>1</td>\n",
       "      <td>1.0</td>\n",
       "      <td>1.0</td>\n",
       "      <td>0.0</td>\n",
       "      <td>30.0</td>\n",
       "      <td>0.688</td>\n",
       "    </tr>\n",
       "  </tbody>\n",
       "</table>\n",
       "<p>1340 rows × 7 columns</p>\n",
       "</div>"
      ],
      "text/plain": [
       "      CASENUM  ATTORNEY  CLMSEX  CLMINSUR  SEATBELT  CLMAGE    LOSS\n",
       "0           5         0     0.0       1.0       0.0    50.0  34.940\n",
       "1           3         1     1.0       0.0       0.0    18.0   0.891\n",
       "2          66         1     0.0       1.0       0.0     5.0   0.330\n",
       "3          70         0     0.0       1.0       1.0    31.0   0.037\n",
       "4          96         1     0.0       1.0       0.0    30.0   0.038\n",
       "...       ...       ...     ...       ...       ...     ...     ...\n",
       "1335    34100         1     0.0       1.0       0.0     NaN   0.576\n",
       "1336    34110         0     1.0       1.0       0.0    46.0   3.705\n",
       "1337    34113         1     1.0       1.0       0.0    39.0   0.099\n",
       "1338    34145         0     1.0       0.0       0.0     8.0   3.177\n",
       "1339    34153         1     1.0       1.0       0.0    30.0   0.688\n",
       "\n",
       "[1340 rows x 7 columns]"
      ]
     },
     "execution_count": 10,
     "metadata": {},
     "output_type": "execute_result"
    }
   ],
   "source": [
    "claim_data=pd.read_csv(r\"C:\\Users\\P.BINNITH REDDY\\Downloads\\claimants.csv\")\n",
    "claim_data"
   ]
  },
  {
   "cell_type": "code",
   "execution_count": 15,
   "id": "03684af9-3540-407e-9958-e65e48c9468a",
   "metadata": {},
   "outputs": [
    {
     "ename": "ValueError",
     "evalue": "Excel file format cannot be determined, you must specify an engine manually.",
     "output_type": "error",
     "traceback": [
      "\u001b[1;31m---------------------------------------------------------------------------\u001b[0m",
      "\u001b[1;31mValueError\u001b[0m                                Traceback (most recent call last)",
      "Cell \u001b[1;32mIn[15], line 1\u001b[0m\n\u001b[1;32m----> 1\u001b[0m pd\u001b[38;5;241m.\u001b[39mread_excel(\u001b[38;5;124mr\u001b[39m\u001b[38;5;124m\"\u001b[39m\u001b[38;5;124mC:\u001b[39m\u001b[38;5;124m\\\u001b[39m\u001b[38;5;124mUsers\u001b[39m\u001b[38;5;124m\\\u001b[39m\u001b[38;5;124mP.BINNITH REDDY\u001b[39m\u001b[38;5;124m\\\u001b[39m\u001b[38;5;124mDownloads\u001b[39m\u001b[38;5;124m\\\u001b[39m\u001b[38;5;124mclaimants.csv\u001b[39m\u001b[38;5;124m\"\u001b[39m)\n",
      "File \u001b[1;32m~\\anaconda3\\Lib\\site-packages\\pandas\\io\\excel\\_base.py:495\u001b[0m, in \u001b[0;36mread_excel\u001b[1;34m(io, sheet_name, header, names, index_col, usecols, dtype, engine, converters, true_values, false_values, skiprows, nrows, na_values, keep_default_na, na_filter, verbose, parse_dates, date_parser, date_format, thousands, decimal, comment, skipfooter, storage_options, dtype_backend, engine_kwargs)\u001b[0m\n\u001b[0;32m    493\u001b[0m \u001b[38;5;28;01mif\u001b[39;00m \u001b[38;5;129;01mnot\u001b[39;00m \u001b[38;5;28misinstance\u001b[39m(io, ExcelFile):\n\u001b[0;32m    494\u001b[0m     should_close \u001b[38;5;241m=\u001b[39m \u001b[38;5;28;01mTrue\u001b[39;00m\n\u001b[1;32m--> 495\u001b[0m     io \u001b[38;5;241m=\u001b[39m ExcelFile(\n\u001b[0;32m    496\u001b[0m         io,\n\u001b[0;32m    497\u001b[0m         storage_options\u001b[38;5;241m=\u001b[39mstorage_options,\n\u001b[0;32m    498\u001b[0m         engine\u001b[38;5;241m=\u001b[39mengine,\n\u001b[0;32m    499\u001b[0m         engine_kwargs\u001b[38;5;241m=\u001b[39mengine_kwargs,\n\u001b[0;32m    500\u001b[0m     )\n\u001b[0;32m    501\u001b[0m \u001b[38;5;28;01melif\u001b[39;00m engine \u001b[38;5;129;01mand\u001b[39;00m engine \u001b[38;5;241m!=\u001b[39m io\u001b[38;5;241m.\u001b[39mengine:\n\u001b[0;32m    502\u001b[0m     \u001b[38;5;28;01mraise\u001b[39;00m \u001b[38;5;167;01mValueError\u001b[39;00m(\n\u001b[0;32m    503\u001b[0m         \u001b[38;5;124m\"\u001b[39m\u001b[38;5;124mEngine should not be specified when passing \u001b[39m\u001b[38;5;124m\"\u001b[39m\n\u001b[0;32m    504\u001b[0m         \u001b[38;5;124m\"\u001b[39m\u001b[38;5;124man ExcelFile - ExcelFile already has the engine set\u001b[39m\u001b[38;5;124m\"\u001b[39m\n\u001b[0;32m    505\u001b[0m     )\n",
      "File \u001b[1;32m~\\anaconda3\\Lib\\site-packages\\pandas\\io\\excel\\_base.py:1554\u001b[0m, in \u001b[0;36mExcelFile.__init__\u001b[1;34m(self, path_or_buffer, engine, storage_options, engine_kwargs)\u001b[0m\n\u001b[0;32m   1550\u001b[0m     ext \u001b[38;5;241m=\u001b[39m inspect_excel_format(\n\u001b[0;32m   1551\u001b[0m         content_or_path\u001b[38;5;241m=\u001b[39mpath_or_buffer, storage_options\u001b[38;5;241m=\u001b[39mstorage_options\n\u001b[0;32m   1552\u001b[0m     )\n\u001b[0;32m   1553\u001b[0m     \u001b[38;5;28;01mif\u001b[39;00m ext \u001b[38;5;129;01mis\u001b[39;00m \u001b[38;5;28;01mNone\u001b[39;00m:\n\u001b[1;32m-> 1554\u001b[0m         \u001b[38;5;28;01mraise\u001b[39;00m \u001b[38;5;167;01mValueError\u001b[39;00m(\n\u001b[0;32m   1555\u001b[0m             \u001b[38;5;124m\"\u001b[39m\u001b[38;5;124mExcel file format cannot be determined, you must specify \u001b[39m\u001b[38;5;124m\"\u001b[39m\n\u001b[0;32m   1556\u001b[0m             \u001b[38;5;124m\"\u001b[39m\u001b[38;5;124man engine manually.\u001b[39m\u001b[38;5;124m\"\u001b[39m\n\u001b[0;32m   1557\u001b[0m         )\n\u001b[0;32m   1559\u001b[0m engine \u001b[38;5;241m=\u001b[39m config\u001b[38;5;241m.\u001b[39mget_option(\u001b[38;5;124mf\u001b[39m\u001b[38;5;124m\"\u001b[39m\u001b[38;5;124mio.excel.\u001b[39m\u001b[38;5;132;01m{\u001b[39;00mext\u001b[38;5;132;01m}\u001b[39;00m\u001b[38;5;124m.reader\u001b[39m\u001b[38;5;124m\"\u001b[39m, silent\u001b[38;5;241m=\u001b[39m\u001b[38;5;28;01mTrue\u001b[39;00m)\n\u001b[0;32m   1560\u001b[0m \u001b[38;5;28;01mif\u001b[39;00m engine \u001b[38;5;241m==\u001b[39m \u001b[38;5;124m\"\u001b[39m\u001b[38;5;124mauto\u001b[39m\u001b[38;5;124m\"\u001b[39m:\n",
      "\u001b[1;31mValueError\u001b[0m: Excel file format cannot be determined, you must specify an engine manually."
     ]
    }
   ],
   "source": [
    "pd.read_excel(r\"C:\\Users\\P.BINNITH REDDY\\Downloads\\claimants.csv\")"
   ]
  },
  {
   "cell_type": "code",
   "execution_count": 12,
   "id": "082414fa-7b90-4894-a58c-b55e0a1cf806",
   "metadata": {},
   "outputs": [],
   "source": [
    "df=sns.load_dataset('taxis')"
   ]
  },
  {
   "cell_type": "code",
   "execution_count": 13,
   "id": "e0b71d22-328f-4fed-a7fd-571bb96078e7",
   "metadata": {},
   "outputs": [
    {
     "data": {
      "text/html": [
       "<div>\n",
       "<style scoped>\n",
       "    .dataframe tbody tr th:only-of-type {\n",
       "        vertical-align: middle;\n",
       "    }\n",
       "\n",
       "    .dataframe tbody tr th {\n",
       "        vertical-align: top;\n",
       "    }\n",
       "\n",
       "    .dataframe thead th {\n",
       "        text-align: right;\n",
       "    }\n",
       "</style>\n",
       "<table border=\"1\" class=\"dataframe\">\n",
       "  <thead>\n",
       "    <tr style=\"text-align: right;\">\n",
       "      <th></th>\n",
       "      <th>pickup</th>\n",
       "      <th>dropoff</th>\n",
       "      <th>passengers</th>\n",
       "      <th>distance</th>\n",
       "      <th>fare</th>\n",
       "      <th>tip</th>\n",
       "      <th>tolls</th>\n",
       "      <th>total</th>\n",
       "      <th>color</th>\n",
       "      <th>payment</th>\n",
       "      <th>pickup_zone</th>\n",
       "      <th>dropoff_zone</th>\n",
       "      <th>pickup_borough</th>\n",
       "      <th>dropoff_borough</th>\n",
       "    </tr>\n",
       "  </thead>\n",
       "  <tbody>\n",
       "    <tr>\n",
       "      <th>0</th>\n",
       "      <td>2019-03-23 20:21:09</td>\n",
       "      <td>2019-03-23 20:27:24</td>\n",
       "      <td>1</td>\n",
       "      <td>1.60</td>\n",
       "      <td>7.0</td>\n",
       "      <td>2.15</td>\n",
       "      <td>0.0</td>\n",
       "      <td>12.95</td>\n",
       "      <td>yellow</td>\n",
       "      <td>credit card</td>\n",
       "      <td>Lenox Hill West</td>\n",
       "      <td>UN/Turtle Bay South</td>\n",
       "      <td>Manhattan</td>\n",
       "      <td>Manhattan</td>\n",
       "    </tr>\n",
       "    <tr>\n",
       "      <th>1</th>\n",
       "      <td>2019-03-04 16:11:55</td>\n",
       "      <td>2019-03-04 16:19:00</td>\n",
       "      <td>1</td>\n",
       "      <td>0.79</td>\n",
       "      <td>5.0</td>\n",
       "      <td>0.00</td>\n",
       "      <td>0.0</td>\n",
       "      <td>9.30</td>\n",
       "      <td>yellow</td>\n",
       "      <td>cash</td>\n",
       "      <td>Upper West Side South</td>\n",
       "      <td>Upper West Side South</td>\n",
       "      <td>Manhattan</td>\n",
       "      <td>Manhattan</td>\n",
       "    </tr>\n",
       "    <tr>\n",
       "      <th>2</th>\n",
       "      <td>2019-03-27 17:53:01</td>\n",
       "      <td>2019-03-27 18:00:25</td>\n",
       "      <td>1</td>\n",
       "      <td>1.37</td>\n",
       "      <td>7.5</td>\n",
       "      <td>2.36</td>\n",
       "      <td>0.0</td>\n",
       "      <td>14.16</td>\n",
       "      <td>yellow</td>\n",
       "      <td>credit card</td>\n",
       "      <td>Alphabet City</td>\n",
       "      <td>West Village</td>\n",
       "      <td>Manhattan</td>\n",
       "      <td>Manhattan</td>\n",
       "    </tr>\n",
       "    <tr>\n",
       "      <th>3</th>\n",
       "      <td>2019-03-10 01:23:59</td>\n",
       "      <td>2019-03-10 01:49:51</td>\n",
       "      <td>1</td>\n",
       "      <td>7.70</td>\n",
       "      <td>27.0</td>\n",
       "      <td>6.15</td>\n",
       "      <td>0.0</td>\n",
       "      <td>36.95</td>\n",
       "      <td>yellow</td>\n",
       "      <td>credit card</td>\n",
       "      <td>Hudson Sq</td>\n",
       "      <td>Yorkville West</td>\n",
       "      <td>Manhattan</td>\n",
       "      <td>Manhattan</td>\n",
       "    </tr>\n",
       "    <tr>\n",
       "      <th>4</th>\n",
       "      <td>2019-03-30 13:27:42</td>\n",
       "      <td>2019-03-30 13:37:14</td>\n",
       "      <td>3</td>\n",
       "      <td>2.16</td>\n",
       "      <td>9.0</td>\n",
       "      <td>1.10</td>\n",
       "      <td>0.0</td>\n",
       "      <td>13.40</td>\n",
       "      <td>yellow</td>\n",
       "      <td>credit card</td>\n",
       "      <td>Midtown East</td>\n",
       "      <td>Yorkville West</td>\n",
       "      <td>Manhattan</td>\n",
       "      <td>Manhattan</td>\n",
       "    </tr>\n",
       "    <tr>\n",
       "      <th>...</th>\n",
       "      <td>...</td>\n",
       "      <td>...</td>\n",
       "      <td>...</td>\n",
       "      <td>...</td>\n",
       "      <td>...</td>\n",
       "      <td>...</td>\n",
       "      <td>...</td>\n",
       "      <td>...</td>\n",
       "      <td>...</td>\n",
       "      <td>...</td>\n",
       "      <td>...</td>\n",
       "      <td>...</td>\n",
       "      <td>...</td>\n",
       "      <td>...</td>\n",
       "    </tr>\n",
       "    <tr>\n",
       "      <th>6428</th>\n",
       "      <td>2019-03-31 09:51:53</td>\n",
       "      <td>2019-03-31 09:55:27</td>\n",
       "      <td>1</td>\n",
       "      <td>0.75</td>\n",
       "      <td>4.5</td>\n",
       "      <td>1.06</td>\n",
       "      <td>0.0</td>\n",
       "      <td>6.36</td>\n",
       "      <td>green</td>\n",
       "      <td>credit card</td>\n",
       "      <td>East Harlem North</td>\n",
       "      <td>Central Harlem North</td>\n",
       "      <td>Manhattan</td>\n",
       "      <td>Manhattan</td>\n",
       "    </tr>\n",
       "    <tr>\n",
       "      <th>6429</th>\n",
       "      <td>2019-03-31 17:38:00</td>\n",
       "      <td>2019-03-31 18:34:23</td>\n",
       "      <td>1</td>\n",
       "      <td>18.74</td>\n",
       "      <td>58.0</td>\n",
       "      <td>0.00</td>\n",
       "      <td>0.0</td>\n",
       "      <td>58.80</td>\n",
       "      <td>green</td>\n",
       "      <td>credit card</td>\n",
       "      <td>Jamaica</td>\n",
       "      <td>East Concourse/Concourse Village</td>\n",
       "      <td>Queens</td>\n",
       "      <td>Bronx</td>\n",
       "    </tr>\n",
       "    <tr>\n",
       "      <th>6430</th>\n",
       "      <td>2019-03-23 22:55:18</td>\n",
       "      <td>2019-03-23 23:14:25</td>\n",
       "      <td>1</td>\n",
       "      <td>4.14</td>\n",
       "      <td>16.0</td>\n",
       "      <td>0.00</td>\n",
       "      <td>0.0</td>\n",
       "      <td>17.30</td>\n",
       "      <td>green</td>\n",
       "      <td>cash</td>\n",
       "      <td>Crown Heights North</td>\n",
       "      <td>Bushwick North</td>\n",
       "      <td>Brooklyn</td>\n",
       "      <td>Brooklyn</td>\n",
       "    </tr>\n",
       "    <tr>\n",
       "      <th>6431</th>\n",
       "      <td>2019-03-04 10:09:25</td>\n",
       "      <td>2019-03-04 10:14:29</td>\n",
       "      <td>1</td>\n",
       "      <td>1.12</td>\n",
       "      <td>6.0</td>\n",
       "      <td>0.00</td>\n",
       "      <td>0.0</td>\n",
       "      <td>6.80</td>\n",
       "      <td>green</td>\n",
       "      <td>credit card</td>\n",
       "      <td>East New York</td>\n",
       "      <td>East Flatbush/Remsen Village</td>\n",
       "      <td>Brooklyn</td>\n",
       "      <td>Brooklyn</td>\n",
       "    </tr>\n",
       "    <tr>\n",
       "      <th>6432</th>\n",
       "      <td>2019-03-13 19:31:22</td>\n",
       "      <td>2019-03-13 19:48:02</td>\n",
       "      <td>1</td>\n",
       "      <td>3.85</td>\n",
       "      <td>15.0</td>\n",
       "      <td>3.36</td>\n",
       "      <td>0.0</td>\n",
       "      <td>20.16</td>\n",
       "      <td>green</td>\n",
       "      <td>credit card</td>\n",
       "      <td>Boerum Hill</td>\n",
       "      <td>Windsor Terrace</td>\n",
       "      <td>Brooklyn</td>\n",
       "      <td>Brooklyn</td>\n",
       "    </tr>\n",
       "  </tbody>\n",
       "</table>\n",
       "<p>6433 rows × 14 columns</p>\n",
       "</div>"
      ],
      "text/plain": [
       "                  pickup             dropoff  passengers  distance  fare  \\\n",
       "0    2019-03-23 20:21:09 2019-03-23 20:27:24           1      1.60   7.0   \n",
       "1    2019-03-04 16:11:55 2019-03-04 16:19:00           1      0.79   5.0   \n",
       "2    2019-03-27 17:53:01 2019-03-27 18:00:25           1      1.37   7.5   \n",
       "3    2019-03-10 01:23:59 2019-03-10 01:49:51           1      7.70  27.0   \n",
       "4    2019-03-30 13:27:42 2019-03-30 13:37:14           3      2.16   9.0   \n",
       "...                  ...                 ...         ...       ...   ...   \n",
       "6428 2019-03-31 09:51:53 2019-03-31 09:55:27           1      0.75   4.5   \n",
       "6429 2019-03-31 17:38:00 2019-03-31 18:34:23           1     18.74  58.0   \n",
       "6430 2019-03-23 22:55:18 2019-03-23 23:14:25           1      4.14  16.0   \n",
       "6431 2019-03-04 10:09:25 2019-03-04 10:14:29           1      1.12   6.0   \n",
       "6432 2019-03-13 19:31:22 2019-03-13 19:48:02           1      3.85  15.0   \n",
       "\n",
       "       tip  tolls  total   color      payment            pickup_zone  \\\n",
       "0     2.15    0.0  12.95  yellow  credit card        Lenox Hill West   \n",
       "1     0.00    0.0   9.30  yellow         cash  Upper West Side South   \n",
       "2     2.36    0.0  14.16  yellow  credit card          Alphabet City   \n",
       "3     6.15    0.0  36.95  yellow  credit card              Hudson Sq   \n",
       "4     1.10    0.0  13.40  yellow  credit card           Midtown East   \n",
       "...    ...    ...    ...     ...          ...                    ...   \n",
       "6428  1.06    0.0   6.36   green  credit card      East Harlem North   \n",
       "6429  0.00    0.0  58.80   green  credit card                Jamaica   \n",
       "6430  0.00    0.0  17.30   green         cash    Crown Heights North   \n",
       "6431  0.00    0.0   6.80   green  credit card          East New York   \n",
       "6432  3.36    0.0  20.16   green  credit card            Boerum Hill   \n",
       "\n",
       "                          dropoff_zone pickup_borough dropoff_borough  \n",
       "0                  UN/Turtle Bay South      Manhattan       Manhattan  \n",
       "1                Upper West Side South      Manhattan       Manhattan  \n",
       "2                         West Village      Manhattan       Manhattan  \n",
       "3                       Yorkville West      Manhattan       Manhattan  \n",
       "4                       Yorkville West      Manhattan       Manhattan  \n",
       "...                                ...            ...             ...  \n",
       "6428              Central Harlem North      Manhattan       Manhattan  \n",
       "6429  East Concourse/Concourse Village         Queens           Bronx  \n",
       "6430                    Bushwick North       Brooklyn        Brooklyn  \n",
       "6431      East Flatbush/Remsen Village       Brooklyn        Brooklyn  \n",
       "6432                   Windsor Terrace       Brooklyn        Brooklyn  \n",
       "\n",
       "[6433 rows x 14 columns]"
      ]
     },
     "execution_count": 13,
     "metadata": {},
     "output_type": "execute_result"
    }
   ],
   "source": [
    "df"
   ]
  },
  {
   "cell_type": "code",
   "execution_count": 23,
   "id": "5752b7cd-1421-46b8-b655-d3ffa405676f",
   "metadata": {},
   "outputs": [
    {
     "data": {
      "image/png": "[encoded data removed]",
      "text/plain": [
       "<Figure size 640x480 with 1 Axes>"
      ]
     },
     "metadata": {},
     "output_type": "display_data"
    },
    {
     "data": {
      "text/plain": [
       "<Figure size 640x480 with 0 Axes>"
      ]
     },
     "metadata": {},
     "output_type": "display_data"
    }
   ],
   "source": [
    "sns.barplot(x='color',y='total',data=df,color='red',estimator='sum')\n",
    "plt.show()\n",
    "plt.tight_layout()"
   ]
  },
  {
   "cell_type": "markdown",
   "id": "8e17c820-47a0-417f-9120-986adb10a4b9",
   "metadata": {},
   "source": []
  },
  {
   "cell_type": "code",
   "execution_count": 26,
   "id": "41c041eb-ee24-410f-955c-66990f4b3b96",
   "metadata": {},
   "outputs": [
    {
     "data": {
      "text/plain": [
       "<Axes: xlabel='fare', ylabel='Count'>"
      ]
     },
     "execution_count": 26,
     "metadata": {},
     "output_type": "execute_result"
    },
    {
     "data": {
      "image/png": "[encoded data removed]",
      "text/plain": [
       "<Figure size 640x480 with 1 Axes>"
      ]
     },
     "metadata": {},
     "output_type": "display_data"
    }
   ],
   "source": [
    "sns.histplot(x=df['fare'],color='pink')"
   ]
  },
  {
   "cell_type": "code",
   "execution_count": 27,
   "id": "34a5b018-b8e7-4b69-9233-7491ecb43719",
   "metadata": {},
   "outputs": [
    {
     "data": {
      "text/plain": [
       "<Axes: xlabel='fare', ylabel='Count'>"
      ]
     },
     "execution_count": 27,
     "metadata": {},
     "output_type": "execute_result"
    },
    {
     "data": {
      "image/png": "[encoded data removed]",
      "text/plain": [
       "<Figure size 640x480 with 1 Axes>"
      ]
     },
     "metadata": {},
     "output_type": "display_data"
    }
   ],
   "source": [
    "sns.histplot(x=df['fare'],color='blue')"
   ]
  },
  {
   "cell_type": "code",
   "execution_count": 29,
   "id": "fd92f2b1-8079-4011-adad-12cdfbd4bc67",
   "metadata": {},
   "outputs": [
    {
     "data": {
      "text/plain": [
       "<Axes: xlabel='fare', ylabel='Count'>"
      ]
     },
     "execution_count": 29,
     "metadata": {},
     "output_type": "execute_result"
    },
    {
     "data": {
      "image/png": "[encoded data removed]",
      "text/plain": [
       "<Figure size 640x480 with 1 Axes>"
      ]
     },
     "metadata": {},
     "output_type": "display_data"
    }
   ],
   "source": [
    "sns.histplot(x=df['fare'],color='pink',hue=df['payment'])"
   ]
  },
  {
   "cell_type": "code",
   "execution_count": 30,
   "id": "0a7b6d11-b80d-483c-9a52-ec8a0e50ac66",
   "metadata": {},
   "outputs": [
    {
     "data": {
      "text/plain": [
       "<Axes: xlabel='fare', ylabel='Count'>"
      ]
     },
     "execution_count": 30,
     "metadata": {},
     "output_type": "execute_result"
    },
    {
     "data": {
      "image/png": "[encoded data removed]",
      "text/plain": [
       "<Figure size 640x480 with 1 Axes>"
      ]
     },
     "metadata": {},
     "output_type": "display_data"
    }
   ],
   "source": [
    "sns.histplot(x=df['fare'],palette=['pink','green'],hue=df['payment'])"
   ]
  },
  {
   "cell_type": "code",
   "execution_count": 34,
   "id": "63d1256d-b95e-465e-b841-a513c23f5c08",
   "metadata": {},
   "outputs": [
    {
     "data": {
      "text/plain": [
       "<Axes: xlabel='fare', ylabel='payment'>"
      ]
     },
     "execution_count": 34,
     "metadata": {},
     "output_type": "execute_result"
    },
    {
     "data": {
      "image/png": "[encoded data removed]",
      "text/plain": [
       "<Figure size 640x480 with 1 Axes>"
      ]
     },
     "metadata": {},
     "output_type": "display_data"
    }
   ],
   "source": [
    "sns.violinplot(x=df['fare'],y=df['payment'],palette=['green','y'])"
   ]
  },
  {
   "cell_type": "code",
   "execution_count": 35,
   "id": "1d60e19a-81bc-4f83-8731-d27f2abaae45",
   "metadata": {},
   "outputs": [
    {
     "data": {
      "text/plain": [
       "<Axes: xlabel='fare'>"
      ]
     },
     "execution_count": 35,
     "metadata": {},
     "output_type": "execute_result"
    },
    {
     "data": {
      "image/png": "[encoded data removed]",
      "text/plain": [
       "<Figure size 640x480 with 1 Axes>"
      ]
     },
     "metadata": {},
     "output_type": "display_data"
    }
   ],
   "source": [
    "sns.boxplot(x=df['fare'])"
   ]
  },
  {
   "cell_type": "code",
   "execution_count": 40,
   "id": "768402a8-5110-4640-9e96-5375db312c88",
   "metadata": {},
   "outputs": [
    {
     "data": {
      "text/plain": [
       "<function matplotlib.pyplot.show(close=None, block=None)>"
      ]
     },
     "execution_count": 40,
     "metadata": {},
     "output_type": "execute_result"
    },
    {
     "data": {
      "image/png": "[encoded data removed]",
      "text/plain": [
       "<Figure size 640x480 with 1 Axes>"
      ]
     },
     "metadata": {},
     "output_type": "display_data"
    }
   ],
   "source": [
    "sns.boxplot(x=df['fare'],y=df['payment'],palette=['green','orange'],hue=df['payment'])\n",
    "plt.show"
   ]
  },
  {
   "cell_type": "code",
   "execution_count": 8,
   "id": "19f69bb9-8d2c-42f8-8439-4f44eabce13c",
   "metadata": {},
   "outputs": [
    {
     "ename": "AttributeError",
     "evalue": "module 'seaborn' has no attribute 'stirpplot'",
     "output_type": "error",
     "traceback": [
      "\u001b[1;31m---------------------------------------------------------------------------\u001b[0m",
      "\u001b[1;31mAttributeError\u001b[0m                            Traceback (most recent call last)",
      "Cell \u001b[1;32mIn[8], line 1\u001b[0m\n\u001b[1;32m----> 1\u001b[0m sns\u001b[38;5;241m.\u001b[39mstirpplot(x\u001b[38;5;241m=\u001b[39mdf[\u001b[38;5;124m'\u001b[39m\u001b[38;5;124mcolor\u001b[39m\u001b[38;5;124m'\u001b[39m],y\u001b[38;5;241m=\u001b[39mdf[\u001b[38;5;124m'\u001b[39m\u001b[38;5;124mfare\u001b[39m\u001b[38;5;124m'\u001b[39m],palette\u001b[38;5;241m=\u001b[39m[\u001b[38;5;124m'\u001b[39m\u001b[38;5;124myellow\u001b[39m\u001b[38;5;124m'\u001b[39m,\u001b[38;5;124m'\u001b[39m\u001b[38;5;124mred\u001b[39m\u001b[38;5;124m'\u001b[39m])\n\u001b[0;32m      2\u001b[0m plt\u001b[38;5;241m.\u001b[39mshow\n",
      "\u001b[1;31mAttributeError\u001b[0m: module 'seaborn' has no attribute 'stirpplot'"
     ]
    }
   ],
   "source": [
    "sns.stirpplot(x=df['color'],y=df['fare'],palette=['yellow','red'])\n",
    "plt.show"
   ]
  },
  {
   "cell_type": "markdown",
   "id": "bd20fead-54ca-4d61-9eaf-289a0853cc20",
   "metadata": {},
   "source": [
    "# Day 15"
   ]
  },
  {
   "cell_type": "code",
   "execution_count": 3,
   "id": "d9da0d3a-723f-4968-9fb5-fc16891b50d2",
   "metadata": {},
   "outputs": [],
   "source": [
    "import matplotlib.pyplot as plt\n",
    "import numpy as np\n",
    "import pandas as pd\n",
    "import seaborn as sns\n",
    "import warnings\n",
    "warnings.filterwarnings('ignore') "
   ]
  },
  {
   "cell_type": "code",
   "execution_count": 4,
   "id": "d2e478b1-b57b-4d37-a8f5-4a481b40f18c",
   "metadata": {},
   "outputs": [],
   "source": [
    "iris_data=sns.load_dataset('iris')\n",
    "df=sns.load_dataset('taxis')"
   ]
  },
  {
   "cell_type": "code",
   "execution_count": 5,
   "id": "6bfb1c41-7be4-45fd-95ec-6fb632178eff",
   "metadata": {},
   "outputs": [
    {
     "data": {
      "image/png": "[encoded data removed]",
      "text/plain": [
       "<Figure size 640x480 with 1 Axes>"
      ]
     },
     "metadata": {},
     "output_type": "display_data"
    }
   ],
   "source": [
    "sns.scatterplot(x=iris_data['sepal_length'],y=iris_data['petal_length'])\n",
    "plt.show()"
   ]
  },
  {
   "cell_type": "markdown",
   "id": "e4a1dc5f-cea4-4673-9a6c-dcadd42b3ce0",
   "metadata": {},
   "source": []
  },
  {
   "cell_type": "code",
   "execution_count": 6,
   "id": "4c89aabb-7a00-41c2-9cf6-fb34575f30d5",
   "metadata": {},
   "outputs": [
    {
     "data": {
      "image/png": "[encoded data removed]",
      "text/plain": [
       "<Figure size 640x480 with 1 Axes>"
      ]
     },
     "metadata": {},
     "output_type": "display_data"
    }
   ],
   "source": [
    "sns.scatterplot(x=iris_data['sepal_length'],y=iris_data['petal_length'],hue=iris_data['species'])\n",
    "plt.show()"
   ]
  },
  {
   "cell_type": "code",
   "execution_count": 7,
   "id": "f55333dd-60ca-483b-9b2b-96475317f3f4",
   "metadata": {},
   "outputs": [
    {
     "ename": "AttributeError",
     "evalue": "module 'seaborn' has no attribute 'stirpplot'",
     "output_type": "error",
     "traceback": [
      "\u001b[1;31m---------------------------------------------------------------------------\u001b[0m",
      "\u001b[1;31mAttributeError\u001b[0m                            Traceback (most recent call last)",
      "Cell \u001b[1;32mIn[7], line 1\u001b[0m\n\u001b[1;32m----> 1\u001b[0m sns\u001b[38;5;241m.\u001b[39mstirpplot(x\u001b[38;5;241m=\u001b[39mdf[\u001b[38;5;124m'\u001b[39m\u001b[38;5;124mpayment\u001b[39m\u001b[38;5;124m'\u001b[39m],y\u001b[38;5;241m=\u001b[39mdf[\u001b[38;5;124m'\u001b[39m\u001b[38;5;124mtip\u001b[39m\u001b[38;5;124m'\u001b[39m],palette\u001b[38;5;241m=\u001b[39m[\u001b[38;5;124m'\u001b[39m\u001b[38;5;124mr\u001b[39m\u001b[38;5;124m'\u001b[39m,\u001b[38;5;124m'\u001b[39m\u001b[38;5;124mg\u001b[39m\u001b[38;5;124m'\u001b[39m])\n\u001b[0;32m      2\u001b[0m plt\u001b[38;5;241m.\u001b[39mshow()\n",
      "\u001b[1;31mAttributeError\u001b[0m: module 'seaborn' has no attribute 'stirpplot'"
     ]
    }
   ],
   "source": [
    "sns.stirpplot(x=df['payment'],y=df['tip'],palette=['r','g'])\n",
    "plt.show()"
   ]
  },
  {
   "cell_type": "code",
   "execution_count": 36,
   "id": "2c1321ed-ef42-4bc7-a0a0-a48891118f7b",
   "metadata": {},
   "outputs": [
    {
     "data": {
      "image/png": "[encoded data removed]",
      "text/plain": [
       "<Figure size 640x480 with 1 Axes>"
      ]
     },
     "metadata": {},
     "output_type": "display_data"
    }
   ],
   "source": [
    "sns.lineplot(x=df['tip'],y=df['fare'],)\n",
    "plt.show()"
   ]
  },
  {
   "cell_type": "code",
   "execution_count": 37,
   "id": "13e1c319-cc7d-4526-b106-2b4fd533fc14",
   "metadata": {},
   "outputs": [
    {
     "data": {
      "image/png": "[encoded data removed]",
      "text/plain": [
       "<Figure size 640x480 with 1 Axes>"
      ]
     },
     "metadata": {},
     "output_type": "display_data"
    }
   ],
   "source": [
    "\n",
    "sns.lineplot(x=df['total'],y=df['fare'],)\n",
    "plt.show()"
   ]
  },
  {
   "cell_type": "code",
   "execution_count": 38,
   "id": "cc43d8d6-c6ab-4c80-b85e-e0421a72e19d",
   "metadata": {},
   "outputs": [
    {
     "data": {
      "image/png": "[encoded data removed]",
      "text/plain": [
       "<Figure size 640x480 with 1 Axes>"
      ]
     },
     "metadata": {},
     "output_type": "display_data"
    }
   ],
   "source": [
    "sns.lineplot(x=df['tip'],y=df['fare'],hue=df['payment'],palette=['red','orange'])\n",
    "plt.show()"
   ]
  },
  {
   "cell_type": "code",
   "execution_count": 40,
   "id": "6b9f9dd9-1ff1-4c58-92e1-f1bec2505be9",
   "metadata": {},
   "outputs": [
    {
     "data": {
      "image/png": "[encoded data removed]",
      "text/plain": [
       "<Figure size 640x480 with 1 Axes>"
      ]
     },
     "metadata": {},
     "output_type": "display_data"
    }
   ],
   "source": [
    "sns.lineplot(x=df['total'],y=df['fare'],hue=df['payment'],palette=['red','orange'])\n",
    "plt.show()"
   ]
  },
  {
   "cell_type": "code",
   "execution_count": 41,
   "id": "acfc794a-2f61-4fe2-b4c7-32f5376159c0",
   "metadata": {},
   "outputs": [
    {
     "data": {
      "text/html": [
       "<div>\n",
       "<style scoped>\n",
       "    .dataframe tbody tr th:only-of-type {\n",
       "        vertical-align: middle;\n",
       "    }\n",
       "\n",
       "    .dataframe tbody tr th {\n",
       "        vertical-align: top;\n",
       "    }\n",
       "\n",
       "    .dataframe thead th {\n",
       "        text-align: right;\n",
       "    }\n",
       "</style>\n",
       "<table border=\"1\" class=\"dataframe\">\n",
       "  <thead>\n",
       "    <tr style=\"text-align: right;\">\n",
       "      <th></th>\n",
       "      <th>pickup</th>\n",
       "      <th>dropoff</th>\n",
       "      <th>passengers</th>\n",
       "      <th>distance</th>\n",
       "      <th>fare</th>\n",
       "      <th>tip</th>\n",
       "      <th>tolls</th>\n",
       "      <th>total</th>\n",
       "      <th>color</th>\n",
       "      <th>payment</th>\n",
       "      <th>pickup_zone</th>\n",
       "      <th>dropoff_zone</th>\n",
       "      <th>pickup_borough</th>\n",
       "      <th>dropoff_borough</th>\n",
       "    </tr>\n",
       "  </thead>\n",
       "  <tbody>\n",
       "  </tbody>\n",
       "</table>\n",
       "</div>"
      ],
      "text/plain": [
       "Empty DataFrame\n",
       "Columns: [pickup, dropoff, passengers, distance, fare, tip, tolls, total, color, payment, pickup_zone, dropoff_zone, pickup_borough, dropoff_borough]\n",
       "Index: []"
      ]
     },
     "execution_count": 41,
     "metadata": {},
     "output_type": "execute_result"
    }
   ],
   "source": [
    "df[(df['payment']=='cash') & (df['tip']>0)]"
   ]
  },
  {
   "cell_type": "code",
   "execution_count": 42,
   "id": "3a1dda15-e162-44cc-b29d-682b05631a53",
   "metadata": {},
   "outputs": [
    {
     "data": {
      "image/png": "[encoded data removed]",
      "text/plain": [
       "<Figure size 640x480 with 1 Axes>"
      ]
     },
     "metadata": {},
     "output_type": "display_data"
    }
   ],
   "source": [
    "sns.lineplot(x=df['tip'],y=df['fare'],hue=df['payment'],palette=['red','orange'])\n",
    "plt.show()"
   ]
  },
  {
   "cell_type": "code",
   "execution_count": 43,
   "id": "bd5b51f2-7ae2-4384-bdd2-921291846bb6",
   "metadata": {},
   "outputs": [
    {
     "data": {
      "text/plain": [
       "payment      color \n",
       "credit card  yellow    4000\n",
       "cash         yellow    1412\n",
       "credit card  green      577\n",
       "cash         green      400\n",
       "Name: count, dtype: int64"
      ]
     },
     "execution_count": 43,
     "metadata": {},
     "output_type": "execute_result"
    }
   ],
   "source": [
    "df[['payment','color']].value_counts()"
   ]
  },
  {
   "cell_type": "code",
   "execution_count": 44,
   "id": "ab1fc180-5973-4a98-8634-0a006014d657",
   "metadata": {},
   "outputs": [
    {
     "data": {
      "text/plain": [
       "color\n",
       "yellow    5451\n",
       "green      982\n",
       "Name: count, dtype: int64"
      ]
     },
     "execution_count": 44,
     "metadata": {},
     "output_type": "execute_result"
    }
   ],
   "source": [
    "df['color'].value_counts()"
   ]
  },
  {
   "cell_type": "code",
   "execution_count": 45,
   "id": "d5696756-48c6-442d-8a3e-63c93604736a",
   "metadata": {},
   "outputs": [
    {
     "data": {
      "text/plain": [
       "payment\n",
       "credit card    4577\n",
       "cash           1812\n",
       "Name: count, dtype: int64"
      ]
     },
     "execution_count": 45,
     "metadata": {},
     "output_type": "execute_result"
    }
   ],
   "source": [
    "df['payment'].value_counts()"
   ]
  },
  {
   "cell_type": "code",
   "execution_count": 46,
   "id": "e650a9c9-3037-4900-bd9b-38037309d958",
   "metadata": {},
   "outputs": [
    {
     "data": {
      "text/plain": [
       "<Axes: xlabel='payment', ylabel='count'>"
      ]
     },
     "execution_count": 46,
     "metadata": {},
     "output_type": "execute_result"
    },
    {
     "data": {
      "image/png": "[encoded data removed]",
      "text/plain": [
       "<Figure size 640x480 with 1 Axes>"
      ]
     },
     "metadata": {},
     "output_type": "display_data"
    }
   ],
   "source": [
    "sns.countplot(x=df['payment'])"
   ]
  },
  {
   "cell_type": "code",
   "execution_count": 62,
   "id": "b2c0b83c-b435-4f32-9fd1-00c1161c0312",
   "metadata": {},
   "outputs": [
    {
     "data": {
      "image/png": "[encoded data removed]",
      "text/plain": [
       "<Figure size 1000x500 with 1 Axes>"
      ]
     },
     "metadata": {},
     "output_type": "display_data"
    }
   ],
   "source": [
    "plt.figure(figsize=(10,5))\n",
    "sns.countplot(x=df['payment'],hue=df['color'],palette=['lightgreen','violet'])\n",
    "plt.xlabel('Payment mode',fontsize=20,color='red')\n",
    "plt.ylabel('Ride counts for taxis',fontsize=20)\n",
    "plt.xticks(range(0,5000))\n",
    "plt.show()"
   ]
  },
  {
   "cell_type": "markdown",
   "id": "2e5b1e97-3623-4633-a05e-2a637b1cd556",
   "metadata": {},
   "source": [
    "# Day 16"
   ]
  },
  {
   "cell_type": "code",
   "execution_count": 1,
   "id": "f9a4cd97-16b2-48a6-8fbc-0677412ea20e",
   "metadata": {},
   "outputs": [],
   "source": [
    "import matplotlib.pyplot as plt\n",
    "import numpy as np\n",
    "import pandas as pd\n",
    "import seaborn as sns\n",
    "import warnings\n",
    "warnings.filterwarnings('ignore') "
   ]
  },
  {
   "cell_type": "code",
   "execution_count": 2,
   "id": "8dc4d5d4-6fb9-4e17-9975-8d1f7d336c01",
   "metadata": {},
   "outputs": [
    {
     "data": {
      "text/html": [
       "<div>\n",
       "<style scoped>\n",
       "    .dataframe tbody tr th:only-of-type {\n",
       "        vertical-align: middle;\n",
       "    }\n",
       "\n",
       "    .dataframe tbody tr th {\n",
       "        vertical-align: top;\n",
       "    }\n",
       "\n",
       "    .dataframe thead th {\n",
       "        text-align: right;\n",
       "    }\n",
       "</style>\n",
       "<table border=\"1\" class=\"dataframe\">\n",
       "  <thead>\n",
       "    <tr style=\"text-align: right;\">\n",
       "      <th></th>\n",
       "      <th>survived</th>\n",
       "      <th>pclass</th>\n",
       "      <th>sex</th>\n",
       "      <th>age</th>\n",
       "      <th>sibsp</th>\n",
       "      <th>parch</th>\n",
       "      <th>fare</th>\n",
       "      <th>embarked</th>\n",
       "      <th>class</th>\n",
       "      <th>who</th>\n",
       "      <th>adult_male</th>\n",
       "      <th>deck</th>\n",
       "      <th>embark_town</th>\n",
       "      <th>alive</th>\n",
       "      <th>alone</th>\n",
       "    </tr>\n",
       "  </thead>\n",
       "  <tbody>\n",
       "    <tr>\n",
       "      <th>0</th>\n",
       "      <td>0</td>\n",
       "      <td>3</td>\n",
       "      <td>male</td>\n",
       "      <td>22.0</td>\n",
       "      <td>1</td>\n",
       "      <td>0</td>\n",
       "      <td>7.2500</td>\n",
       "      <td>S</td>\n",
       "      <td>Third</td>\n",
       "      <td>man</td>\n",
       "      <td>True</td>\n",
       "      <td>NaN</td>\n",
       "      <td>Southampton</td>\n",
       "      <td>no</td>\n",
       "      <td>False</td>\n",
       "    </tr>\n",
       "    <tr>\n",
       "      <th>1</th>\n",
       "      <td>1</td>\n",
       "      <td>1</td>\n",
       "      <td>female</td>\n",
       "      <td>38.0</td>\n",
       "      <td>1</td>\n",
       "      <td>0</td>\n",
       "      <td>71.2833</td>\n",
       "      <td>C</td>\n",
       "      <td>First</td>\n",
       "      <td>woman</td>\n",
       "      <td>False</td>\n",
       "      <td>C</td>\n",
       "      <td>Cherbourg</td>\n",
       "      <td>yes</td>\n",
       "      <td>False</td>\n",
       "    </tr>\n",
       "    <tr>\n",
       "      <th>2</th>\n",
       "      <td>1</td>\n",
       "      <td>3</td>\n",
       "      <td>female</td>\n",
       "      <td>26.0</td>\n",
       "      <td>0</td>\n",
       "      <td>0</td>\n",
       "      <td>7.9250</td>\n",
       "      <td>S</td>\n",
       "      <td>Third</td>\n",
       "      <td>woman</td>\n",
       "      <td>False</td>\n",
       "      <td>NaN</td>\n",
       "      <td>Southampton</td>\n",
       "      <td>yes</td>\n",
       "      <td>True</td>\n",
       "    </tr>\n",
       "    <tr>\n",
       "      <th>3</th>\n",
       "      <td>1</td>\n",
       "      <td>1</td>\n",
       "      <td>female</td>\n",
       "      <td>35.0</td>\n",
       "      <td>1</td>\n",
       "      <td>0</td>\n",
       "      <td>53.1000</td>\n",
       "      <td>S</td>\n",
       "      <td>First</td>\n",
       "      <td>woman</td>\n",
       "      <td>False</td>\n",
       "      <td>C</td>\n",
       "      <td>Southampton</td>\n",
       "      <td>yes</td>\n",
       "      <td>False</td>\n",
       "    </tr>\n",
       "    <tr>\n",
       "      <th>4</th>\n",
       "      <td>0</td>\n",
       "      <td>3</td>\n",
       "      <td>male</td>\n",
       "      <td>35.0</td>\n",
       "      <td>0</td>\n",
       "      <td>0</td>\n",
       "      <td>8.0500</td>\n",
       "      <td>S</td>\n",
       "      <td>Third</td>\n",
       "      <td>man</td>\n",
       "      <td>True</td>\n",
       "      <td>NaN</td>\n",
       "      <td>Southampton</td>\n",
       "      <td>no</td>\n",
       "      <td>True</td>\n",
       "    </tr>\n",
       "    <tr>\n",
       "      <th>...</th>\n",
       "      <td>...</td>\n",
       "      <td>...</td>\n",
       "      <td>...</td>\n",
       "      <td>...</td>\n",
       "      <td>...</td>\n",
       "      <td>...</td>\n",
       "      <td>...</td>\n",
       "      <td>...</td>\n",
       "      <td>...</td>\n",
       "      <td>...</td>\n",
       "      <td>...</td>\n",
       "      <td>...</td>\n",
       "      <td>...</td>\n",
       "      <td>...</td>\n",
       "      <td>...</td>\n",
       "    </tr>\n",
       "    <tr>\n",
       "      <th>886</th>\n",
       "      <td>0</td>\n",
       "      <td>2</td>\n",
       "      <td>male</td>\n",
       "      <td>27.0</td>\n",
       "      <td>0</td>\n",
       "      <td>0</td>\n",
       "      <td>13.0000</td>\n",
       "      <td>S</td>\n",
       "      <td>Second</td>\n",
       "      <td>man</td>\n",
       "      <td>True</td>\n",
       "      <td>NaN</td>\n",
       "      <td>Southampton</td>\n",
       "      <td>no</td>\n",
       "      <td>True</td>\n",
       "    </tr>\n",
       "    <tr>\n",
       "      <th>887</th>\n",
       "      <td>1</td>\n",
       "      <td>1</td>\n",
       "      <td>female</td>\n",
       "      <td>19.0</td>\n",
       "      <td>0</td>\n",
       "      <td>0</td>\n",
       "      <td>30.0000</td>\n",
       "      <td>S</td>\n",
       "      <td>First</td>\n",
       "      <td>woman</td>\n",
       "      <td>False</td>\n",
       "      <td>B</td>\n",
       "      <td>Southampton</td>\n",
       "      <td>yes</td>\n",
       "      <td>True</td>\n",
       "    </tr>\n",
       "    <tr>\n",
       "      <th>888</th>\n",
       "      <td>0</td>\n",
       "      <td>3</td>\n",
       "      <td>female</td>\n",
       "      <td>NaN</td>\n",
       "      <td>1</td>\n",
       "      <td>2</td>\n",
       "      <td>23.4500</td>\n",
       "      <td>S</td>\n",
       "      <td>Third</td>\n",
       "      <td>woman</td>\n",
       "      <td>False</td>\n",
       "      <td>NaN</td>\n",
       "      <td>Southampton</td>\n",
       "      <td>no</td>\n",
       "      <td>False</td>\n",
       "    </tr>\n",
       "    <tr>\n",
       "      <th>889</th>\n",
       "      <td>1</td>\n",
       "      <td>1</td>\n",
       "      <td>male</td>\n",
       "      <td>26.0</td>\n",
       "      <td>0</td>\n",
       "      <td>0</td>\n",
       "      <td>30.0000</td>\n",
       "      <td>C</td>\n",
       "      <td>First</td>\n",
       "      <td>man</td>\n",
       "      <td>True</td>\n",
       "      <td>C</td>\n",
       "      <td>Cherbourg</td>\n",
       "      <td>yes</td>\n",
       "      <td>True</td>\n",
       "    </tr>\n",
       "    <tr>\n",
       "      <th>890</th>\n",
       "      <td>0</td>\n",
       "      <td>3</td>\n",
       "      <td>male</td>\n",
       "      <td>32.0</td>\n",
       "      <td>0</td>\n",
       "      <td>0</td>\n",
       "      <td>7.7500</td>\n",
       "      <td>Q</td>\n",
       "      <td>Third</td>\n",
       "      <td>man</td>\n",
       "      <td>True</td>\n",
       "      <td>NaN</td>\n",
       "      <td>Queenstown</td>\n",
       "      <td>no</td>\n",
       "      <td>True</td>\n",
       "    </tr>\n",
       "  </tbody>\n",
       "</table>\n",
       "<p>891 rows × 15 columns</p>\n",
       "</div>"
      ],
      "text/plain": [
       "     survived  pclass     sex   age  sibsp  parch     fare embarked   class  \\\n",
       "0           0       3    male  22.0      1      0   7.2500        S   Third   \n",
       "1           1       1  female  38.0      1      0  71.2833        C   First   \n",
       "2           1       3  female  26.0      0      0   7.9250        S   Third   \n",
       "3           1       1  female  35.0      1      0  53.1000        S   First   \n",
       "4           0       3    male  35.0      0      0   8.0500        S   Third   \n",
       "..        ...     ...     ...   ...    ...    ...      ...      ...     ...   \n",
       "886         0       2    male  27.0      0      0  13.0000        S  Second   \n",
       "887         1       1  female  19.0      0      0  30.0000        S   First   \n",
       "888         0       3  female   NaN      1      2  23.4500        S   Third   \n",
       "889         1       1    male  26.0      0      0  30.0000        C   First   \n",
       "890         0       3    male  32.0      0      0   7.7500        Q   Third   \n",
       "\n",
       "       who  adult_male deck  embark_town alive  alone  \n",
       "0      man        True  NaN  Southampton    no  False  \n",
       "1    woman       False    C    Cherbourg   yes  False  \n",
       "2    woman       False  NaN  Southampton   yes   True  \n",
       "3    woman       False    C  Southampton   yes  False  \n",
       "4      man        True  NaN  Southampton    no   True  \n",
       "..     ...         ...  ...          ...   ...    ...  \n",
       "886    man        True  NaN  Southampton    no   True  \n",
       "887  woman       False    B  Southampton   yes   True  \n",
       "888  woman       False  NaN  Southampton    no  False  \n",
       "889    man        True    C    Cherbourg   yes   True  \n",
       "890    man        True  NaN   Queenstown    no   True  \n",
       "\n",
       "[891 rows x 15 columns]"
      ]
     },
     "execution_count": 2,
     "metadata": {},
     "output_type": "execute_result"
    }
   ],
   "source": [
    "df=sns.load_dataset('titanic')\n",
    "df"
   ]
  },
  {
   "cell_type": "code",
   "execution_count": null,
   "id": "8faa2325-9fd3-4731-9503-c9e3486c96ca",
   "metadata": {},
   "outputs": [],
   "source": []
  }
 ],
 "metadata": {
  "kernelspec": {
   "display_name": "Python 3 (ipykernel)",
   "language": "python",
   "name": "python3"
  },
  "language_info": {
   "codemirror_mode": {
    "name": "ipython",
    "version": 3
   },
   "file_extension": ".py",
   "mimetype": "text/x-python",
   "name": "python",
   "nbconvert_exporter": "python",
   "pygments_lexer": "ipython3",
   "version": "3.12.7"
  }
 },
 "nbformat": 4,
 "nbformat_minor": 5
}
