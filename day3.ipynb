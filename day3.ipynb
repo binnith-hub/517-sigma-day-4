{
 "cells": [
  {
   "cell_type": "code",
   "execution_count": null,
   "id": "bfe0bb75-bffc-40c5-ba79-58bafcfc3e29",
   "metadata": {},
   "outputs": [],
   "source": []
  }
 ],
 "metadata": {
  "kernelspec": {
   "display_name": "",
   "name": ""
  },
  "language_info": {
   "name": ""
  }
 },
 "nbformat": 4,
 "nbformat_minor": 5
}
