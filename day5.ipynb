{
 "cells": [
  {
   "cell_type": "code",
   "execution_count": null,
   "id": "999d2300-dbeb-420e-926d-1bc4e4cf0118",
   "metadata": {},
   "outputs": [],
   "source": []
  }
 ],
 "metadata": {
  "kernelspec": {
   "display_name": "",
   "name": ""
  },
  "language_info": {
   "name": ""
  }
 },
 "nbformat": 4,
 "nbformat_minor": 5
}
